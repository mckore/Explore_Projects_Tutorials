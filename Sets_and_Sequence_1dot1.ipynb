{
  "nbformat": 4,
  "nbformat_minor": 0,
  "metadata": {
    "colab": {
      "name": "Sets_and_Sequence_1dot1.ipynb",
      "provenance": [],
      "collapsed_sections": [],
      "authorship_tag": "ABX9TyPg116DMCj4KyXA4BnRFvfy",
      "include_colab_link": true
    },
    "kernelspec": {
      "name": "python3",
      "display_name": "Python 3"
    }
  },
  "cells": [
    {
      "cell_type": "markdown",
      "metadata": {
        "id": "view-in-github",
        "colab_type": "text"
      },
      "source": [
        "<a href=\"https://colab.research.google.com/github/mckore/Explore_Projects_Tutorials/blob/master/Sets_and_Sequence_1dot1.ipynb\" target=\"_parent\"><img src=\"https://colab.research.google.com/assets/colab-badge.svg\" alt=\"Open In Colab\"/></a>"
      ]
    },
    {
      "cell_type": "code",
      "metadata": {
        "id": "Ej5nk43Ec0uQ"
      },
      "source": [
        "import pandas as pd\r\n",
        "import numpy as np"
      ],
      "execution_count": 1,
      "outputs": []
    },
    {
      "cell_type": "markdown",
      "metadata": {
        "id": "I4GyL1j3c1Nh"
      },
      "source": [
        "Question 1: How many integers are there between each set of numbers?"
      ]
    },
    {
      "cell_type": "code",
      "metadata": {
        "colab": {
          "base_uri": "https://localhost:8080/"
        },
        "id": "V0P0aONSdCOz",
        "outputId": "91f120de-a002-4765-9981-260d2c0da382"
      },
      "source": [
        "q1 = np.array([[1,20],[2,21],[2,20], [17,72],[-6,4],[0,40],[-10,-1], [-10**30,10**30],[10**29,10**30]])\r\n",
        "q1"
      ],
      "execution_count": 13,
      "outputs": [
        {
          "output_type": "execute_result",
          "data": {
            "text/plain": [
              "array([[1, 20],\n",
              "       [2, 21],\n",
              "       [2, 20],\n",
              "       [17, 72],\n",
              "       [-6, 4],\n",
              "       [0, 40],\n",
              "       [-10, -1],\n",
              "       [-1000000000000000000000000000000,\n",
              "        1000000000000000000000000000000],\n",
              "       [100000000000000000000000000000, 1000000000000000000000000000000]],\n",
              "      dtype=object)"
            ]
          },
          "metadata": {
            "tags": []
          },
          "execution_count": 13
        }
      ]
    },
    {
      "cell_type": "markdown",
      "metadata": {
        "id": "C3kOX7g7oufj"
      },
      "source": [
        "Creating dataframe object "
      ]
    },
    {
      "cell_type": "code",
      "metadata": {
        "id": "RxreRolrmwmA"
      },
      "source": [
        "data = {\r\n",
        "    \"m\":[1,2,2,17,-6,0,-10,-10**30,10**29],\r\n",
        "    \"n\":[20,21,20,72,4,40,-1,10**30,10**30]\r\n",
        "}\r\n",
        "\r\n",
        "df = pd.DataFrame(data)"
      ],
      "execution_count": 45,
      "outputs": []
    },
    {
      "cell_type": "code",
      "metadata": {
        "colab": {
          "base_uri": "https://localhost:8080/"
        },
        "id": "z7K8ek8inlvm",
        "outputId": "3c5d10e5-1320-412a-9774-ea4142b45d31"
      },
      "source": [
        "#Row location\r\n",
        "#df.loc\r\n",
        "for x in range(2,30,3):\r\n",
        "  print(x)"
      ],
      "execution_count": 64,
      "outputs": [
        {
          "output_type": "stream",
          "text": [
            "2\n",
            "5\n",
            "8\n",
            "11\n",
            "14\n",
            "17\n",
            "20\n",
            "23\n",
            "26\n",
            "29\n"
          ],
          "name": "stdout"
        }
      ]
    },
    {
      "cell_type": "code",
      "metadata": {
        "id": "hy_MqHN3rZQl"
      },
      "source": [
        "m =df.m\r\n",
        "n = df.n"
      ],
      "execution_count": 67,
      "outputs": []
    },
    {
      "cell_type": "code",
      "metadata": {
        "colab": {
          "base_uri": "https://localhost:8080/"
        },
        "id": "wVGalQjxrmFl",
        "outputId": "cb44f24c-fdc4-44dc-d777-628fff07d8d8"
      },
      "source": [
        "#Successful with problem 1 creating a series\r\n",
        "x = n-m+1\r\n",
        "print(x)"
      ],
      "execution_count": 78,
      "outputs": [
        {
          "output_type": "stream",
          "text": [
            "0                                 20\n",
            "1                                 20\n",
            "2                                 19\n",
            "3                                 56\n",
            "4                                 11\n",
            "5                                 41\n",
            "6                                 10\n",
            "7    2000000000000000000000000000001\n",
            "8     900000000000000000000000000001\n",
            "dtype: object\n"
          ],
          "name": "stdout"
        }
      ]
    },
    {
      "cell_type": "markdown",
      "metadata": {
        "id": "qa8vXK7ds3sf"
      },
      "source": [
        ""
      ]
    },
    {
      "cell_type": "code",
      "metadata": {
        "id": "VeRcwIpieQGW"
      },
      "source": [
        "def int_explore(m,n):\r\n",
        "  answer = n-m+1\r\n",
        "  return answer"
      ],
      "execution_count": 14,
      "outputs": []
    },
    {
      "cell_type": "code",
      "metadata": {
        "colab": {
          "base_uri": "https://localhost:8080/"
        },
        "id": "eO8y0IzgqoxG",
        "outputId": "f3182919-f6d8-412f-db1a-696ae9726f5c"
      },
      "source": [
        "fruits = [\"apple\", \"banana\", \"cherry\"]\r\n",
        "for x in fruits:\r\n",
        "  print(x)\r\n",
        "  if x == \"banana\":\r\n",
        "    continue\r\n",
        "    print(x)"
      ],
      "execution_count": 60,
      "outputs": [
        {
          "output_type": "stream",
          "text": [
            "apple\n",
            "banana\n",
            "cherry\n"
          ],
          "name": "stdout"
        }
      ]
    },
    {
      "cell_type": "code",
      "metadata": {
        "colab": {
          "base_uri": "https://localhost:8080/"
        },
        "id": "nHY5YbK6gPJ_",
        "outputId": "9d846acb-4228-43b3-956b-fcf578d93c28"
      },
      "source": [
        "q1[0][0]\r\n",
        "q1[0][1]"
      ],
      "execution_count": 18,
      "outputs": [
        {
          "output_type": "execute_result",
          "data": {
            "text/plain": [
              "20"
            ]
          },
          "metadata": {
            "tags": []
          },
          "execution_count": 18
        }
      ]
    },
    {
      "cell_type": "code",
      "metadata": {
        "colab": {
          "base_uri": "https://localhost:8080/"
        },
        "id": "Jz_nRt8agTpr",
        "outputId": "79816571-bd86-4a01-9e15-44adb5433ad8"
      },
      "source": [
        "int_explore(q1[3][0],q1[3][1])"
      ],
      "execution_count": 22,
      "outputs": [
        {
          "output_type": "execute_result",
          "data": {
            "text/plain": [
              "56"
            ]
          },
          "metadata": {
            "tags": []
          },
          "execution_count": 22
        }
      ]
    },
    {
      "cell_type": "code",
      "metadata": {
        "id": "pOb01ehkg1hx"
      },
      "source": [
        "capture = []\r\n",
        "for (idx,value) in enumerate(q1):\r\n",
        "  capture = int_explore(q1[idx][0],q1[idx][1])\r\n",
        "  break\r\n",
        "  print(capture)"
      ],
      "execution_count": 34,
      "outputs": []
    },
    {
      "cell_type": "code",
      "metadata": {
        "colab": {
          "base_uri": "https://localhost:8080/"
        },
        "id": "BVYteSRQhMOy",
        "outputId": "f4595e59-f42a-49f6-94a7-9a55661f03a8"
      },
      "source": [
        ""
      ],
      "execution_count": 40,
      "outputs": [
        {
          "output_type": "execute_result",
          "data": {
            "text/plain": [
              "9"
            ]
          },
          "metadata": {
            "tags": []
          },
          "execution_count": 40
        }
      ]
    },
    {
      "cell_type": "code",
      "metadata": {
        "id": "IkXSfJUrmlvw"
      },
      "source": [
        ""
      ],
      "execution_count": null,
      "outputs": []
    }
  ]
}