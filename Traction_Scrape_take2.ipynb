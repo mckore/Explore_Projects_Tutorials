{
  "nbformat": 4,
  "nbformat_minor": 0,
  "metadata": {
    "colab": {
      "name": "Traction_Scrape_take2",
      "provenance": [],
      "collapsed_sections": [],
      "mount_file_id": "1JV_QlYI8TlafITdkipiqRBQi8Ydbj4EJ",
      "authorship_tag": "ABX9TyN2oQJPfVxSNUVORHPoXP/V",
      "include_colab_link": true
    },
    "kernelspec": {
      "name": "python3",
      "display_name": "Python 3"
    }
  },
  "cells": [
    {
      "cell_type": "markdown",
      "metadata": {
        "id": "view-in-github",
        "colab_type": "text"
      },
      "source": [
        "<a href=\"https://colab.research.google.com/github/mckore/Explore_Projects_Tutorials/blob/master/Traction_Scrape_take2.ipynb\" target=\"_parent\"><img src=\"https://colab.research.google.com/assets/colab-badge.svg\" alt=\"Open In Colab\"/></a>"
      ]
    },
    {
      "cell_type": "code",
      "metadata": {
        "id": "_eDBsKPuDfH9"
      },
      "source": [
        "import urllib.request\n",
        "from urllib.request import urlopen\n",
        "from bs4 import BeautifulSoup\n",
        "import pandas as pd\n",
        "import numpy as np"
      ],
      "execution_count": 1,
      "outputs": []
    },
    {
      "cell_type": "code",
      "metadata": {
        "id": "0u6Ox3muEdjZ"
      },
      "source": [
        "url = 'https://www.lawnsite.com/threads/ztr-tire-recommendations-steep-slope.314574/'\n",
        "page = urlopen(url)"
      ],
      "execution_count": 2,
      "outputs": []
    },
    {
      "cell_type": "code",
      "metadata": {
        "id": "W1BLB3YZHgUJ"
      },
      "source": [
        "html_bytes = page.read()\n",
        "html = html_bytes.decode('utf-8')"
      ],
      "execution_count": 6,
      "outputs": []
    },
    {
      "cell_type": "code",
      "metadata": {
        "id": "oMtOcdsxIBp2"
      },
      "source": [
        "#Parse through HTML doc with BS4\n",
        "soup=BeautifulSoup(html, 'html.parser')"
      ],
      "execution_count": 7,
      "outputs": []
    },
    {
      "cell_type": "markdown",
      "metadata": {
        "id": "A-GTfHju0RAj"
      },
      "source": [
        "CREATING IDENTIFYING FEATURES FOR CORPUS DOCUMENTS"
      ]
    },
    {
      "cell_type": "markdown",
      "metadata": {
        "id": "9UjZYdA_0rlD"
      },
      "source": [
        "Review Objects"
      ]
    },
    {
      "cell_type": "code",
      "metadata": {
        "id": "PU8CtzRVqiFz",
        "outputId": "c3bcc3a9-8fa0-4f4e-9890-13e5986dadbd",
        "colab": {
          "base_uri": "https://localhost:8080/",
          "height": 267
        }
      },
      "source": [
        "#REVIEWS Isolating for Review objects\n",
        "soup_class=soup.find_all(class_=\"bbWrapper\")\n",
        "len(soup_class)\n",
        "#Explore contents\n",
        "text =soup_class[0]\n",
        "text.contents"
      ],
      "execution_count": 8,
      "outputs": [
        {
          "output_type": "execute_result",
          "data": {
            "text/plain": [
              "['I have an older (1994)  Bunton 60\" ZTR that I am using this year on my new property in VA.  I have some very steep grades, and my existing Carlisle turfmate tires don\\'t seem to get any traction to the point that I just start to slide down the hill.  I have a bad feeling about setting myself up for an accident, so thought I should look at replacing the tires with something with a more aggressive tread.',\n",
              " <br/>,\n",
              " '\\n',\n",
              " <br/>,\n",
              " \"\\r\\nI mow about 6 acres, and the grass is all on red VA clay.  Any suggestions for replacement tires?  I was looking at the Carlisle Multi-trac C/S or the Turf Trac RS but wasn't sure what made sense.  I also thought about ATV tires but don't know what would be best with the clay.  The Bunton has 23 x 10.5-12.   \",\n",
              " <br/>,\n",
              " '\\n',\n",
              " <br/>,\n",
              " '\\r\\nAny other suggestions for improving traction?   ',\n",
              " <br/>,\n",
              " '\\n',\n",
              " <br/>,\n",
              " '\\r\\nRobert']"
            ]
          },
          "metadata": {
            "tags": []
          },
          "execution_count": 8
        }
      ]
    },
    {
      "cell_type": "code",
      "metadata": {
        "id": "kja9WBnwHa3Y"
      },
      "source": [
        "# Function to convert   \n",
        "def listToString(s):  \n",
        "    # initialize an empty string \n",
        "    str1 = \" \" \n",
        "    # return string   \n",
        "    return (str1.join(s)) "
      ],
      "execution_count": 9,
      "outputs": []
    },
    {
      "cell_type": "code",
      "metadata": {
        "id": "gzduDj2OKhb_"
      },
      "source": [
        "#REVIEW Filtered for one review instance - strip strings \n",
        "def Review_Sub_1(list_list_reviews):\n",
        "  result=[]\n",
        "  for string in list_list_reviews.stripped_strings:\n",
        "        result.append(string)\n",
        "        return(result)"
      ],
      "execution_count": 10,
      "outputs": []
    },
    {
      "cell_type": "code",
      "metadata": {
        "id": "UvUJNYt_3ST6",
        "outputId": "48fb3e4a-1b97-44e7-aa9c-d394fcc0e5b3",
        "colab": {
          "base_uri": "https://localhost:8080/",
          "height": 54
        }
      },
      "source": [
        "Review_Sub_1(soup_class[0])"
      ],
      "execution_count": 11,
      "outputs": [
        {
          "output_type": "execute_result",
          "data": {
            "text/plain": [
              "['I have an older (1994)  Bunton 60\" ZTR that I am using this year on my new property in VA.  I have some very steep grades, and my existing Carlisle turfmate tires don\\'t seem to get any traction to the point that I just start to slide down the hill.  I have a bad feeling about setting myself up for an accident, so thought I should look at replacing the tires with something with a more aggressive tread.']"
            ]
          },
          "metadata": {
            "tags": []
          },
          "execution_count": 11
        }
      ]
    },
    {
      "cell_type": "code",
      "metadata": {
        "id": "nJQaVRWjsdNP"
      },
      "source": [
        "#REVIEW Function to capture all reviews on a page\n",
        "review_net=[]\n",
        "def Concat_Reviews(list_reviews):\n",
        "  for list_list_reviews in list_reviews:\n",
        "    wa = Review_Sub_1(list_list_reviews)\n",
        "    review_net.append(wa)\n",
        "  return(review_net)"
      ],
      "execution_count": 12,
      "outputs": []
    },
    {
      "cell_type": "code",
      "metadata": {
        "id": "-WSO_mQA3yV5",
        "outputId": "d4e9c11c-bb6c-48e2-906c-b885a6540e88",
        "colab": {
          "base_uri": "https://localhost:8080/",
          "height": 214
        }
      },
      "source": [
        "All_Reviews_PG1 = Concat_Reviews(soup_class)\n",
        "All_Reviews_PG1"
      ],
      "execution_count": 13,
      "outputs": [
        {
          "output_type": "execute_result",
          "data": {
            "text/plain": [
              "[['I have an older (1994)  Bunton 60\" ZTR that I am using this year on my new property in VA.  I have some very steep grades, and my existing Carlisle turfmate tires don\\'t seem to get any traction to the point that I just start to slide down the hill.  I have a bad feeling about setting myself up for an accident, so thought I should look at replacing the tires with something with a more aggressive tread.'],\n",
              " ['get a walkbehind mower.'],\n",
              " ['\"sliding down the hill\" is probably a bit of an exaggeration.  I lose traction and the machine skids sideways, and it takes a fair amount of maneuvering to get it back on the swath I am cutting.  Your point is well taken, however, about the grade being steep for a ZTR.'],\n",
              " ['Bad Boy offers a \"Field Trax\" tire option I was thinking about these tires regardless what ZTR I end up buying. Might have to be a little more on the ball to not tear up turf in the turns but the added traction for wet Oregon ground in the spring and fall will be helpful to me.'],\n",
              " [\"Carlisle AT101 CHEVRON. We've had good results with our Kubota outfront. We foam filled these tires to prevent sidewall deflection and lower the centre of gravity. They seriously weigh 70 pounds each loaded-up. You may have to go to TRUE POWER to get the right size for you\"],\n",
              " [\"I too would be interested in some feedback.  I bought an Exmark XS zero turn.  Came from factory with Carlisle Multi-trac C/S.  When going horizontally along a 45 degree hill, the heavy mower will slip down the hill.  The ZTR's front caster will turn downhill.  I'll try to slow down or reverse the wheel on the high side.  This does nothing but spin the wheel and the whole machine continues to turn sharply down the hill until it's off the slope.\"],\n",
              " [\"The game with slope running is that you use the lower wheel steering almost exclusively. In your case don't reverse the upper wheel to prevent a dive, it doesn't have enough traction. You should power forward with the lower wheel, the opposite to what you\"],\n",
              " [\"Thank you Heather for the quick reply.  I have tried your suggestion of accelerating the wheel lower on the hill.  This just decreases the arc but ultimately the result is still off track at the bottom.  What's weird is this happens right to left (i.e. right wheel higher).  When going from left to right, it's fine and I can control just as you've described.  I suspect the left wheel may be in worse condition.\"],\n",
              " [\"I like the design of the AT101 and know they are out there on the Dixie Choppers.    Unfortunately, they don't come in my 23x10.50-12 size.  Carlisle Tru Power looks like they would rip the lawn pretty badly on turns with their flat face, even though they carry the size.\"],\n",
              " ['23 x 10.5 -12 Carlisle ALL TRAIL']]"
            ]
          },
          "metadata": {
            "tags": []
          },
          "execution_count": 13
        }
      ]
    },
    {
      "cell_type": "code",
      "metadata": {
        "id": "GQNbLNg_qCrd",
        "outputId": "3c8ca8fb-e6c8-4160-eae4-8556a26c68b3",
        "colab": {
          "base_uri": "https://localhost:8080/",
          "height": 34
        }
      },
      "source": [
        "len(All_Reviews_PG1)"
      ],
      "execution_count": 14,
      "outputs": [
        {
          "output_type": "execute_result",
          "data": {
            "text/plain": [
              "10"
            ]
          },
          "metadata": {
            "tags": []
          },
          "execution_count": 14
        }
      ]
    },
    {
      "cell_type": "markdown",
      "metadata": {
        "id": "U03OjJJ84Aae"
      },
      "source": [
        "User Name"
      ]
    },
    {
      "cell_type": "code",
      "metadata": {
        "id": "241d4mqIuxYG",
        "outputId": "32ebcaeb-a8b7-4454-89cd-d53d8704cc33",
        "colab": {
          "base_uri": "https://localhost:8080/",
          "height": 35
        }
      },
      "source": [
        "#USERNAME Isolating for Username objects\n",
        "name_class = soup.find_all(class_=\"message-name\")\n",
        "#Sample\n",
        "name_class[3].get_text()"
      ],
      "execution_count": 15,
      "outputs": [
        {
          "output_type": "execute_result",
          "data": {
            "application/vnd.google.colaboratory.intrinsic+json": {
              "type": "string"
            },
            "text/plain": [
              "'Jaybo700R'"
            ]
          },
          "metadata": {
            "tags": []
          },
          "execution_count": 15
        }
      ]
    },
    {
      "cell_type": "code",
      "metadata": {
        "id": "Mg-mb2yYVeq1",
        "outputId": "469adbc9-7aca-4ab7-b4d2-fb343704a14e",
        "colab": {
          "base_uri": "https://localhost:8080/",
          "height": 34
        }
      },
      "source": [
        "for i in name_class[6].stripped_strings:\n",
        "  print(i)\n"
      ],
      "execution_count": 16,
      "outputs": [
        {
          "output_type": "stream",
          "text": [
            "heather lawn sp\n"
          ],
          "name": "stdout"
        }
      ]
    },
    {
      "cell_type": "code",
      "metadata": {
        "id": "WRr7VRvJnCxJ"
      },
      "source": [
        "#USERNAME Filtered for one username instance - strip strings \n",
        "def UN_Sub_1(list_list_un):\n",
        "  result_un=[]\n",
        "  for string in list_list_un.stripped_strings:\n",
        "        result_un.append(string)\n",
        "        return(result_un)"
      ],
      "execution_count": 17,
      "outputs": []
    },
    {
      "cell_type": "code",
      "metadata": {
        "id": "5uSXeOyToMvx"
      },
      "source": [
        "#USERNAME Function to capture all username on a page\n",
        "un_net=[]\n",
        "def Concat_User(list_un):\n",
        "  for list_list_un in list_un:\n",
        "    wa = UN_Sub_1(list_list_un)\n",
        "    un_net.append(wa)\n",
        "  return(un_net)"
      ],
      "execution_count": 18,
      "outputs": []
    },
    {
      "cell_type": "code",
      "metadata": {
        "id": "C8re3vuoWYkc"
      },
      "source": [
        "All_UN_PG1 = Concat_User(name_class)\n"
      ],
      "execution_count": 19,
      "outputs": []
    },
    {
      "cell_type": "code",
      "metadata": {
        "id": "yRCkV6UI8PdW",
        "outputId": "7af8357a-0421-4cd7-d53a-34b945a88a7f",
        "colab": {
          "base_uri": "https://localhost:8080/",
          "height": 194
        }
      },
      "source": [
        "All_UN_PG1"
      ],
      "execution_count": 20,
      "outputs": [
        {
          "output_type": "execute_result",
          "data": {
            "text/plain": [
              "[['ribertgropius'],\n",
              " ['bam'],\n",
              " ['ribertgropius'],\n",
              " ['Jaybo700R'],\n",
              " ['heather lawn sp'],\n",
              " ['JENHEN'],\n",
              " ['heather lawn sp'],\n",
              " ['JENHEN'],\n",
              " ['ribertgropius'],\n",
              " ['heather lawn sp']]"
            ]
          },
          "metadata": {
            "tags": []
          },
          "execution_count": 20
        }
      ]
    },
    {
      "cell_type": "markdown",
      "metadata": {
        "id": "obn8AYPK_nzD"
      },
      "source": [
        "Building the Dataframes"
      ]
    },
    {
      "cell_type": "code",
      "metadata": {
        "id": "xR9VhMineg02"
      },
      "source": [
        "df_review = pd.DataFrame(All_Reviews_PG1, columns= [\"Review\"])\n",
        "df_username = pd.DataFrame(All_UN_PG1, columns=[\"Username\"])\n"
      ],
      "execution_count": 21,
      "outputs": []
    },
    {
      "cell_type": "code",
      "metadata": {
        "id": "wPnnui23jIt-"
      },
      "source": [
        "df_build=pd.DataFrame()"
      ],
      "execution_count": null,
      "outputs": []
    },
    {
      "cell_type": "code",
      "metadata": {
        "id": "j4rMZVQHiZ5k",
        "outputId": "7adc0757-8594-4853-e174-2c7daf2709f6",
        "colab": {
          "base_uri": "https://localhost:8080/",
          "height": 347
        }
      },
      "source": [
        "df_build = pd.concat([df_build,df_review], axis=0)\n",
        "df_build"
      ],
      "execution_count": 23,
      "outputs": [
        {
          "output_type": "execute_result",
          "data": {
            "text/html": [
              "<div>\n",
              "<style scoped>\n",
              "    .dataframe tbody tr th:only-of-type {\n",
              "        vertical-align: middle;\n",
              "    }\n",
              "\n",
              "    .dataframe tbody tr th {\n",
              "        vertical-align: top;\n",
              "    }\n",
              "\n",
              "    .dataframe thead th {\n",
              "        text-align: right;\n",
              "    }\n",
              "</style>\n",
              "<table border=\"1\" class=\"dataframe\">\n",
              "  <thead>\n",
              "    <tr style=\"text-align: right;\">\n",
              "      <th></th>\n",
              "      <th>Review</th>\n",
              "    </tr>\n",
              "  </thead>\n",
              "  <tbody>\n",
              "    <tr>\n",
              "      <th>0</th>\n",
              "      <td>I have an older (1994)  Bunton 60\" ZTR that I ...</td>\n",
              "    </tr>\n",
              "    <tr>\n",
              "      <th>1</th>\n",
              "      <td>get a walkbehind mower.</td>\n",
              "    </tr>\n",
              "    <tr>\n",
              "      <th>2</th>\n",
              "      <td>\"sliding down the hill\" is probably a bit of a...</td>\n",
              "    </tr>\n",
              "    <tr>\n",
              "      <th>3</th>\n",
              "      <td>Bad Boy offers a \"Field Trax\" tire option I wa...</td>\n",
              "    </tr>\n",
              "    <tr>\n",
              "      <th>4</th>\n",
              "      <td>Carlisle AT101 CHEVRON. We've had good results...</td>\n",
              "    </tr>\n",
              "    <tr>\n",
              "      <th>5</th>\n",
              "      <td>I too would be interested in some feedback.  I...</td>\n",
              "    </tr>\n",
              "    <tr>\n",
              "      <th>6</th>\n",
              "      <td>The game with slope running is that you use th...</td>\n",
              "    </tr>\n",
              "    <tr>\n",
              "      <th>7</th>\n",
              "      <td>Thank you Heather for the quick reply.  I have...</td>\n",
              "    </tr>\n",
              "    <tr>\n",
              "      <th>8</th>\n",
              "      <td>I like the design of the AT101 and know they a...</td>\n",
              "    </tr>\n",
              "    <tr>\n",
              "      <th>9</th>\n",
              "      <td>23 x 10.5 -12 Carlisle ALL TRAIL</td>\n",
              "    </tr>\n",
              "  </tbody>\n",
              "</table>\n",
              "</div>"
            ],
            "text/plain": [
              "                                              Review\n",
              "0  I have an older (1994)  Bunton 60\" ZTR that I ...\n",
              "1                            get a walkbehind mower.\n",
              "2  \"sliding down the hill\" is probably a bit of a...\n",
              "3  Bad Boy offers a \"Field Trax\" tire option I wa...\n",
              "4  Carlisle AT101 CHEVRON. We've had good results...\n",
              "5  I too would be interested in some feedback.  I...\n",
              "6  The game with slope running is that you use th...\n",
              "7  Thank you Heather for the quick reply.  I have...\n",
              "8  I like the design of the AT101 and know they a...\n",
              "9                   23 x 10.5 -12 Carlisle ALL TRAIL"
            ]
          },
          "metadata": {
            "tags": []
          },
          "execution_count": 23
        }
      ]
    },
    {
      "cell_type": "code",
      "metadata": {
        "id": "-iRz8uKTA_eG",
        "outputId": "bf36b5f4-e2c5-4aa8-9950-aa23fdd3e0ba",
        "colab": {
          "base_uri": "https://localhost:8080/",
          "height": 347
        }
      },
      "source": [
        "#Concatenating two dataframes on axis 1\n",
        "df_all = pd.concat([df_username, df_review], axis=1, sort=False)\n",
        "df_all"
      ],
      "execution_count": null,
      "outputs": [
        {
          "output_type": "execute_result",
          "data": {
            "text/html": [
              "<div>\n",
              "<style scoped>\n",
              "    .dataframe tbody tr th:only-of-type {\n",
              "        vertical-align: middle;\n",
              "    }\n",
              "\n",
              "    .dataframe tbody tr th {\n",
              "        vertical-align: top;\n",
              "    }\n",
              "\n",
              "    .dataframe thead th {\n",
              "        text-align: right;\n",
              "    }\n",
              "</style>\n",
              "<table border=\"1\" class=\"dataframe\">\n",
              "  <thead>\n",
              "    <tr style=\"text-align: right;\">\n",
              "      <th></th>\n",
              "      <th>Username</th>\n",
              "      <th>Review</th>\n",
              "    </tr>\n",
              "  </thead>\n",
              "  <tbody>\n",
              "    <tr>\n",
              "      <th>0</th>\n",
              "      <td>ribertgropius</td>\n",
              "      <td>I have an older (1994)  Bunton 60\" ZTR that I ...</td>\n",
              "    </tr>\n",
              "    <tr>\n",
              "      <th>1</th>\n",
              "      <td>bam</td>\n",
              "      <td>get a walkbehind mower.</td>\n",
              "    </tr>\n",
              "    <tr>\n",
              "      <th>2</th>\n",
              "      <td>ribertgropius</td>\n",
              "      <td>\"sliding down the hill\" is probably a bit of a...</td>\n",
              "    </tr>\n",
              "    <tr>\n",
              "      <th>3</th>\n",
              "      <td>Jaybo700R</td>\n",
              "      <td>Bad Boy offers a \"Field Trax\" tire option I wa...</td>\n",
              "    </tr>\n",
              "    <tr>\n",
              "      <th>4</th>\n",
              "      <td>heather lawn sp</td>\n",
              "      <td>Carlisle AT101 CHEVRON. We've had good results...</td>\n",
              "    </tr>\n",
              "    <tr>\n",
              "      <th>5</th>\n",
              "      <td>JENHEN</td>\n",
              "      <td>I too would be interested in some feedback.  I...</td>\n",
              "    </tr>\n",
              "    <tr>\n",
              "      <th>6</th>\n",
              "      <td>heather lawn sp</td>\n",
              "      <td>The game with slope running is that you use th...</td>\n",
              "    </tr>\n",
              "    <tr>\n",
              "      <th>7</th>\n",
              "      <td>JENHEN</td>\n",
              "      <td>Thank you Heather for the quick reply.  I have...</td>\n",
              "    </tr>\n",
              "    <tr>\n",
              "      <th>8</th>\n",
              "      <td>ribertgropius</td>\n",
              "      <td>I like the design of the AT101 and know they a...</td>\n",
              "    </tr>\n",
              "    <tr>\n",
              "      <th>9</th>\n",
              "      <td>heather lawn sp</td>\n",
              "      <td>23 x 10.5 -12 Carlisle ALL TRAIL</td>\n",
              "    </tr>\n",
              "  </tbody>\n",
              "</table>\n",
              "</div>"
            ],
            "text/plain": [
              "          Username                                             Review\n",
              "0    ribertgropius  I have an older (1994)  Bunton 60\" ZTR that I ...\n",
              "1              bam                            get a walkbehind mower.\n",
              "2    ribertgropius  \"sliding down the hill\" is probably a bit of a...\n",
              "3        Jaybo700R  Bad Boy offers a \"Field Trax\" tire option I wa...\n",
              "4  heather lawn sp  Carlisle AT101 CHEVRON. We've had good results...\n",
              "5           JENHEN  I too would be interested in some feedback.  I...\n",
              "6  heather lawn sp  The game with slope running is that you use th...\n",
              "7           JENHEN  Thank you Heather for the quick reply.  I have...\n",
              "8    ribertgropius  I like the design of the AT101 and know they a...\n",
              "9  heather lawn sp                   23 x 10.5 -12 Carlisle ALL TRAIL"
            ]
          },
          "metadata": {
            "tags": []
          },
          "execution_count": 25
        }
      ]
    },
    {
      "cell_type": "code",
      "metadata": {
        "id": "h8yHKeJM75ST",
        "outputId": "667fe77e-6ee6-4b32-e4be-795be93dfd5d",
        "colab": {
          "base_uri": "https://localhost:8080/",
          "height": 347
        }
      },
      "source": [
        "#Dataframes adding columns from lists\n",
        "df = pd.DataFrame()\n",
        "df['Review']=All_Reviews_PG1\n",
        "df['Username']=All_UN_PG1\n",
        "df"
      ],
      "execution_count": null,
      "outputs": [
        {
          "output_type": "execute_result",
          "data": {
            "text/html": [
              "<div>\n",
              "<style scoped>\n",
              "    .dataframe tbody tr th:only-of-type {\n",
              "        vertical-align: middle;\n",
              "    }\n",
              "\n",
              "    .dataframe tbody tr th {\n",
              "        vertical-align: top;\n",
              "    }\n",
              "\n",
              "    .dataframe thead th {\n",
              "        text-align: right;\n",
              "    }\n",
              "</style>\n",
              "<table border=\"1\" class=\"dataframe\">\n",
              "  <thead>\n",
              "    <tr style=\"text-align: right;\">\n",
              "      <th></th>\n",
              "      <th>Review</th>\n",
              "      <th>Username</th>\n",
              "    </tr>\n",
              "  </thead>\n",
              "  <tbody>\n",
              "    <tr>\n",
              "      <th>0</th>\n",
              "      <td>[I have an older (1994)  Bunton 60\" ZTR that I...</td>\n",
              "      <td>[ribertgropius]</td>\n",
              "    </tr>\n",
              "    <tr>\n",
              "      <th>1</th>\n",
              "      <td>[get a walkbehind mower.]</td>\n",
              "      <td>[bam]</td>\n",
              "    </tr>\n",
              "    <tr>\n",
              "      <th>2</th>\n",
              "      <td>[\"sliding down the hill\" is probably a bit of ...</td>\n",
              "      <td>[ribertgropius]</td>\n",
              "    </tr>\n",
              "    <tr>\n",
              "      <th>3</th>\n",
              "      <td>[Bad Boy offers a \"Field Trax\" tire option I w...</td>\n",
              "      <td>[Jaybo700R]</td>\n",
              "    </tr>\n",
              "    <tr>\n",
              "      <th>4</th>\n",
              "      <td>[Carlisle AT101 CHEVRON. We've had good result...</td>\n",
              "      <td>[heather lawn sp]</td>\n",
              "    </tr>\n",
              "    <tr>\n",
              "      <th>5</th>\n",
              "      <td>[I too would be interested in some feedback.  ...</td>\n",
              "      <td>[JENHEN]</td>\n",
              "    </tr>\n",
              "    <tr>\n",
              "      <th>6</th>\n",
              "      <td>[The game with slope running is that you use t...</td>\n",
              "      <td>[heather lawn sp]</td>\n",
              "    </tr>\n",
              "    <tr>\n",
              "      <th>7</th>\n",
              "      <td>[Thank you Heather for the quick reply.  I hav...</td>\n",
              "      <td>[JENHEN]</td>\n",
              "    </tr>\n",
              "    <tr>\n",
              "      <th>8</th>\n",
              "      <td>[I like the design of the AT101 and know they ...</td>\n",
              "      <td>[ribertgropius]</td>\n",
              "    </tr>\n",
              "    <tr>\n",
              "      <th>9</th>\n",
              "      <td>[23 x 10.5 -12 Carlisle ALL TRAIL]</td>\n",
              "      <td>[heather lawn sp]</td>\n",
              "    </tr>\n",
              "  </tbody>\n",
              "</table>\n",
              "</div>"
            ],
            "text/plain": [
              "                                              Review           Username\n",
              "0  [I have an older (1994)  Bunton 60\" ZTR that I...    [ribertgropius]\n",
              "1                          [get a walkbehind mower.]              [bam]\n",
              "2  [\"sliding down the hill\" is probably a bit of ...    [ribertgropius]\n",
              "3  [Bad Boy offers a \"Field Trax\" tire option I w...        [Jaybo700R]\n",
              "4  [Carlisle AT101 CHEVRON. We've had good result...  [heather lawn sp]\n",
              "5  [I too would be interested in some feedback.  ...           [JENHEN]\n",
              "6  [The game with slope running is that you use t...  [heather lawn sp]\n",
              "7  [Thank you Heather for the quick reply.  I hav...           [JENHEN]\n",
              "8  [I like the design of the AT101 and know they ...    [ribertgropius]\n",
              "9                 [23 x 10.5 -12 Carlisle ALL TRAIL]  [heather lawn sp]"
            ]
          },
          "metadata": {
            "tags": []
          },
          "execution_count": 26
        }
      ]
    },
    {
      "cell_type": "code",
      "metadata": {
        "id": "KFjAuay8s565",
        "outputId": "432fdf1e-d60c-47e1-fb08-f55a33fdc644",
        "colab": {
          "base_uri": "https://localhost:8080/",
          "height": 347
        }
      },
      "source": [
        "#Dataframe from list to dictionary to df\n",
        "turtle = {'username': All_UN_PG1, 'review': All_Reviews_PG1}\n",
        "df_dict = pd.DataFrame(data =turtle)\n",
        "df_dict"
      ],
      "execution_count": null,
      "outputs": [
        {
          "output_type": "execute_result",
          "data": {
            "text/html": [
              "<div>\n",
              "<style scoped>\n",
              "    .dataframe tbody tr th:only-of-type {\n",
              "        vertical-align: middle;\n",
              "    }\n",
              "\n",
              "    .dataframe tbody tr th {\n",
              "        vertical-align: top;\n",
              "    }\n",
              "\n",
              "    .dataframe thead th {\n",
              "        text-align: right;\n",
              "    }\n",
              "</style>\n",
              "<table border=\"1\" class=\"dataframe\">\n",
              "  <thead>\n",
              "    <tr style=\"text-align: right;\">\n",
              "      <th></th>\n",
              "      <th>username</th>\n",
              "      <th>review</th>\n",
              "    </tr>\n",
              "  </thead>\n",
              "  <tbody>\n",
              "    <tr>\n",
              "      <th>0</th>\n",
              "      <td>[ribertgropius]</td>\n",
              "      <td>[I have an older (1994)  Bunton 60\" ZTR that I...</td>\n",
              "    </tr>\n",
              "    <tr>\n",
              "      <th>1</th>\n",
              "      <td>[bam]</td>\n",
              "      <td>[get a walkbehind mower.]</td>\n",
              "    </tr>\n",
              "    <tr>\n",
              "      <th>2</th>\n",
              "      <td>[ribertgropius]</td>\n",
              "      <td>[\"sliding down the hill\" is probably a bit of ...</td>\n",
              "    </tr>\n",
              "    <tr>\n",
              "      <th>3</th>\n",
              "      <td>[Jaybo700R]</td>\n",
              "      <td>[Bad Boy offers a \"Field Trax\" tire option I w...</td>\n",
              "    </tr>\n",
              "    <tr>\n",
              "      <th>4</th>\n",
              "      <td>[heather lawn sp]</td>\n",
              "      <td>[Carlisle AT101 CHEVRON. We've had good result...</td>\n",
              "    </tr>\n",
              "    <tr>\n",
              "      <th>5</th>\n",
              "      <td>[JENHEN]</td>\n",
              "      <td>[I too would be interested in some feedback.  ...</td>\n",
              "    </tr>\n",
              "    <tr>\n",
              "      <th>6</th>\n",
              "      <td>[heather lawn sp]</td>\n",
              "      <td>[The game with slope running is that you use t...</td>\n",
              "    </tr>\n",
              "    <tr>\n",
              "      <th>7</th>\n",
              "      <td>[JENHEN]</td>\n",
              "      <td>[Thank you Heather for the quick reply.  I hav...</td>\n",
              "    </tr>\n",
              "    <tr>\n",
              "      <th>8</th>\n",
              "      <td>[ribertgropius]</td>\n",
              "      <td>[I like the design of the AT101 and know they ...</td>\n",
              "    </tr>\n",
              "    <tr>\n",
              "      <th>9</th>\n",
              "      <td>[heather lawn sp]</td>\n",
              "      <td>[23 x 10.5 -12 Carlisle ALL TRAIL]</td>\n",
              "    </tr>\n",
              "  </tbody>\n",
              "</table>\n",
              "</div>"
            ],
            "text/plain": [
              "            username                                             review\n",
              "0    [ribertgropius]  [I have an older (1994)  Bunton 60\" ZTR that I...\n",
              "1              [bam]                          [get a walkbehind mower.]\n",
              "2    [ribertgropius]  [\"sliding down the hill\" is probably a bit of ...\n",
              "3        [Jaybo700R]  [Bad Boy offers a \"Field Trax\" tire option I w...\n",
              "4  [heather lawn sp]  [Carlisle AT101 CHEVRON. We've had good result...\n",
              "5           [JENHEN]  [I too would be interested in some feedback.  ...\n",
              "6  [heather lawn sp]  [The game with slope running is that you use t...\n",
              "7           [JENHEN]  [Thank you Heather for the quick reply.  I hav...\n",
              "8    [ribertgropius]  [I like the design of the AT101 and know they ...\n",
              "9  [heather lawn sp]                 [23 x 10.5 -12 Carlisle ALL TRAIL]"
            ]
          },
          "metadata": {
            "tags": []
          },
          "execution_count": 27
        }
      ]
    },
    {
      "cell_type": "markdown",
      "metadata": {
        "id": "NgToGLqZ5nNc"
      },
      "source": [
        "Workbook"
      ]
    },
    {
      "cell_type": "code",
      "metadata": {
        "id": "sXqrC3bAa1uT"
      },
      "source": [
        "Nav_page=soup.find(class_=\"pageNav-main\")"
      ],
      "execution_count": null,
      "outputs": []
    },
    {
      "cell_type": "code",
      "metadata": {
        "id": "Y6rNT8PWbPEz",
        "outputId": "448d8fd5-fa6b-4ebc-d993-45b18732bf66",
        "colab": {
          "base_uri": "https://localhost:8080/",
          "height": 52
        }
      },
      "source": [
        "for link in Nav_page.find_all('a'):\n",
        "  print(link.get('href'))"
      ],
      "execution_count": null,
      "outputs": [
        {
          "output_type": "stream",
          "text": [
            "/threads/ztr-tire-recommendations-steep-slope.314574/\n",
            "/threads/ztr-tire-recommendations-steep-slope.314574/page-2\n"
          ],
          "name": "stdout"
        }
      ]
    },
    {
      "cell_type": "code",
      "metadata": {
        "id": "S9EOPpH2bwfh"
      },
      "source": [
        "Lawnsite_str = \"https://www.lawnsite.com\"\n"
      ],
      "execution_count": null,
      "outputs": []
    },
    {
      "cell_type": "code",
      "metadata": {
        "id": "SPzh5dXqdgyr"
      },
      "source": [
        "spool =[]\n",
        "for link in Nav_page.find_all('a'):\n",
        "  spool.append(link.get('href'))"
      ],
      "execution_count": null,
      "outputs": []
    },
    {
      "cell_type": "code",
      "metadata": {
        "id": "f44uf94j6MQ4",
        "outputId": "9e637ad8-7051-432c-e408-06edb7a6951c",
        "colab": {
          "base_uri": "https://localhost:8080/",
          "height": 52
        }
      },
      "source": [
        "spool"
      ],
      "execution_count": null,
      "outputs": [
        {
          "output_type": "execute_result",
          "data": {
            "text/plain": [
              "['/threads/ztr-tire-recommendations-steep-slope.314574/',\n",
              " '/threads/ztr-tire-recommendations-steep-slope.314574/page-2']"
            ]
          },
          "metadata": {
            "tags": []
          },
          "execution_count": 32
        }
      ]
    },
    {
      "cell_type": "code",
      "metadata": {
        "id": "Rn2HvBab5u4b"
      },
      "source": [
        "spool_2=[]\n",
        "for i in spool:\n",
        "  x = Lawnsite_str + i\n",
        "  spool_2.append(x)"
      ],
      "execution_count": null,
      "outputs": []
    },
    {
      "cell_type": "code",
      "metadata": {
        "id": "9fmZpnGu7J0K",
        "outputId": "0d1c5ea8-6616-406f-b64d-e02daee1966a",
        "colab": {
          "base_uri": "https://localhost:8080/",
          "height": 52
        }
      },
      "source": [
        "spool_2"
      ],
      "execution_count": null,
      "outputs": [
        {
          "output_type": "execute_result",
          "data": {
            "text/plain": [
              "['https://www.lawnsite.com/threads/ztr-tire-recommendations-steep-slope.314574/',\n",
              " 'https://www.lawnsite.com/threads/ztr-tire-recommendations-steep-slope.314574/page-2']"
            ]
          },
          "metadata": {
            "tags": []
          },
          "execution_count": 34
        }
      ]
    },
    {
      "cell_type": "code",
      "metadata": {
        "id": "DxEobii97LOU"
      },
      "source": [
        "Lawn_site_url_list = ['https://www.lawnsite.com/threads/hustler-super-z-anti-scalp-wheels.499103/','https://www.lawnsite.com/threads/which-mower-scag-or-ferris.498936/','https://www.lawnsite.com/threads/stander-vs-awd-lawn-tractor-on-slopes.498803/#post-6282727',]"
      ],
      "execution_count": null,
      "outputs": []
    },
    {
      "cell_type": "code",
      "metadata": {
        "id": "TklgHv808CA1"
      },
      "source": [
        "file_name = '/content/drive/My Drive/tires.xlsx'"
      ],
      "execution_count": null,
      "outputs": []
    },
    {
      "cell_type": "code",
      "metadata": {
        "id": "ow-7CouZ95kB"
      },
      "source": [
        "dp = pd.read_excel(file_name)"
      ],
      "execution_count": null,
      "outputs": []
    },
    {
      "cell_type": "code",
      "metadata": {
        "id": "RpUPuDRN9-yh",
        "outputId": "5d3245a2-2c4f-4f19-b3e7-9f93e0353735",
        "colab": {
          "base_uri": "https://localhost:8080/",
          "height": 197
        }
      },
      "source": [
        "dp.head(5)"
      ],
      "execution_count": null,
      "outputs": [
        {
          "output_type": "execute_result",
          "data": {
            "text/html": [
              "<div>\n",
              "<style scoped>\n",
              "    .dataframe tbody tr th:only-of-type {\n",
              "        vertical-align: middle;\n",
              "    }\n",
              "\n",
              "    .dataframe tbody tr th {\n",
              "        vertical-align: top;\n",
              "    }\n",
              "\n",
              "    .dataframe thead th {\n",
              "        text-align: right;\n",
              "    }\n",
              "</style>\n",
              "<table border=\"1\" class=\"dataframe\">\n",
              "  <thead>\n",
              "    <tr style=\"text-align: right;\">\n",
              "      <th></th>\n",
              "      <th>Web</th>\n",
              "      <th>HTML</th>\n",
              "      <th>Title</th>\n",
              "      <th>Type</th>\n",
              "    </tr>\n",
              "  </thead>\n",
              "  <tbody>\n",
              "    <tr>\n",
              "      <th>0</th>\n",
              "      <td>Lawnsite</td>\n",
              "      <td>https://www.lawnsite.com/threads/hustler-super...</td>\n",
              "      <td>Hustler Super Z......anti scalp wheels</td>\n",
              "      <td>Anti-Scalp</td>\n",
              "    </tr>\n",
              "    <tr>\n",
              "      <th>1</th>\n",
              "      <td>Lawnsite</td>\n",
              "      <td>https://www.lawnsite.com/threads/anti-scalp-wh...</td>\n",
              "      <td>Anti scalp wheels problem</td>\n",
              "      <td>Anti-Scalp</td>\n",
              "    </tr>\n",
              "    <tr>\n",
              "      <th>2</th>\n",
              "      <td>Lawnsite</td>\n",
              "      <td>https://www.lawnsite.com/threads/wright-stande...</td>\n",
              "      <td>Wright Stander I 36 in cuts on even, I've trie...</td>\n",
              "      <td>Anti-Scalp</td>\n",
              "    </tr>\n",
              "    <tr>\n",
              "      <th>3</th>\n",
              "      <td>Lawnsite</td>\n",
              "      <td>https://www.lawnsite.com/threads/deck-is-way-t...</td>\n",
              "      <td>Deck is way too low!!!</td>\n",
              "      <td>Anti-Scalp</td>\n",
              "    </tr>\n",
              "    <tr>\n",
              "      <th>4</th>\n",
              "      <td>Lawnsite</td>\n",
              "      <td>https://www.lawnsite.com/threads/exmark-lazer-...</td>\n",
              "      <td>Exmark Lazer Z E-Series: These stripes drive m...</td>\n",
              "      <td>Anti-Scalp</td>\n",
              "    </tr>\n",
              "  </tbody>\n",
              "</table>\n",
              "</div>"
            ],
            "text/plain": [
              "        Web  ...        Type\n",
              "0  Lawnsite  ...  Anti-Scalp\n",
              "1  Lawnsite  ...  Anti-Scalp\n",
              "2  Lawnsite  ...  Anti-Scalp\n",
              "3  Lawnsite  ...  Anti-Scalp\n",
              "4  Lawnsite  ...  Anti-Scalp\n",
              "\n",
              "[5 rows x 4 columns]"
            ]
          },
          "metadata": {
            "tags": []
          },
          "execution_count": 43
        }
      ]
    },
    {
      "cell_type": "code",
      "metadata": {
        "id": "Y1Vz-R12FCJo"
      },
      "source": [
        "lawnSite = dp['Web']=='LawnSite'\n",
        "lawnsite = dp['Web'] =='Lawnsite'\n",
        "ls"
      ],
      "execution_count": null,
      "outputs": []
    },
    {
      "cell_type": "code",
      "metadata": {
        "id": "EOsKw4DgGFLd"
      },
      "source": [
        "ls_2"
      ],
      "execution_count": null,
      "outputs": []
    },
    {
      "cell_type": "code",
      "metadata": {
        "id": "GyGz4zqoGGKs",
        "outputId": "4b890d01-70ba-45d3-c83a-42af48f60d6a",
        "colab": {
          "base_uri": "https://localhost:8080/",
          "height": 34
        }
      },
      "source": [
        "dp.shape"
      ],
      "execution_count": null,
      "outputs": [
        {
          "output_type": "execute_result",
          "data": {
            "text/plain": [
              "(32, 4)"
            ]
          },
          "metadata": {
            "tags": []
          },
          "execution_count": 61
        }
      ]
    },
    {
      "cell_type": "code",
      "metadata": {
        "id": "_-uktYmsHy7d"
      },
      "source": [
        ""
      ],
      "execution_count": null,
      "outputs": []
    }
  ]
}