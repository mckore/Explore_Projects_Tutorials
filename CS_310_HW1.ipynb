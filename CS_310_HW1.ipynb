{
  "nbformat": 4,
  "nbformat_minor": 0,
  "metadata": {
    "colab": {
      "name": "CS_310_HW1.ipynb",
      "provenance": [],
      "collapsed_sections": [],
      "authorship_tag": "ABX9TyNOUXq7zugkXJe9kpd9aKh1",
      "include_colab_link": true
    },
    "kernelspec": {
      "name": "python3",
      "display_name": "Python 3"
    }
  },
  "cells": [
    {
      "cell_type": "markdown",
      "metadata": {
        "id": "view-in-github",
        "colab_type": "text"
      },
      "source": [
        "<a href=\"https://colab.research.google.com/github/mckore/Explore_Projects_Tutorials/blob/master/CS_310_HW1.ipynb\" target=\"_parent\"><img src=\"https://colab.research.google.com/assets/colab-badge.svg\" alt=\"Open In Colab\"/></a>"
      ]
    },
    {
      "cell_type": "code",
      "metadata": {
        "id": "BEQw2EABWUDX"
      },
      "source": [
        "import pandas as pd\r\n",
        "import numpy as np\r\n",
        "import math as ma"
      ],
      "execution_count": 32,
      "outputs": []
    },
    {
      "cell_type": "markdown",
      "metadata": {
        "id": "kClxRsFjYccD"
      },
      "source": [
        "HW Questions: Section 1.1 - 1,2,4,8,15,20 \r\n",
        "Class Problems: a) 12.3 b) -11.001001001 c) .15050505  d) 3.0939393939"
      ]
    },
    {
      "cell_type": "markdown",
      "metadata": {
        "id": "CJ8pV8xyY8WS"
      },
      "source": [
        "Question 1:"
      ]
    },
    {
      "cell_type": "code",
      "metadata": {
        "id": "ZEz7V7yPYZ3z"
      },
      "source": [
        "data = {\r\n",
        "    \"m\":[1,2,2,17,-6,0,-10,-10**30,10**29],\r\n",
        "    \"n\":[20,21,20,72,4,40,-1,10**30,10**30]\r\n",
        "}\r\n",
        "df = pd.DataFrame(data)"
      ],
      "execution_count": 9,
      "outputs": []
    },
    {
      "cell_type": "code",
      "metadata": {
        "id": "B6UYyzbmZ0CH"
      },
      "source": [
        "m=df.m\r\n",
        "n=df.n"
      ],
      "execution_count": 10,
      "outputs": []
    },
    {
      "cell_type": "code",
      "metadata": {
        "id": "6kT1EdPZZ5dK",
        "colab": {
          "base_uri": "https://localhost:8080/"
        },
        "outputId": "bdc532ec-8f69-4d74-d472-6f8d09ce57c5"
      },
      "source": [
        "#if definition of \"between\" m<= i <=n\r\n",
        "x=n-m+1\r\n",
        "print(x)"
      ],
      "execution_count": 11,
      "outputs": [
        {
          "output_type": "stream",
          "text": [
            "0                                 20\n",
            "1                                 20\n",
            "2                                 19\n",
            "3                                 56\n",
            "4                                 11\n",
            "5                                 41\n",
            "6                                 10\n",
            "7    2000000000000000000000000000001\n",
            "8     900000000000000000000000000001\n",
            "dtype: object\n"
          ],
          "name": "stdout"
        }
      ]
    },
    {
      "cell_type": "code",
      "metadata": {
        "colab": {
          "base_uri": "https://localhost:8080/"
        },
        "id": "_J9vSbPGmTuf",
        "outputId": "9c302ec3-50fa-4c47-9d85-043c64e9bc74"
      },
      "source": [
        "#if by \"between\" means m < i < n \r\n",
        "y = n-m-1\r\n",
        "print(y)"
      ],
      "execution_count": 12,
      "outputs": [
        {
          "output_type": "stream",
          "text": [
            "0                                 18\n",
            "1                                 18\n",
            "2                                 17\n",
            "3                                 54\n",
            "4                                  9\n",
            "5                                 39\n",
            "6                                  8\n",
            "7    1999999999999999999999999999999\n",
            "8     899999999999999999999999999999\n",
            "dtype: object\n"
          ],
          "name": "stdout"
        }
      ]
    },
    {
      "cell_type": "markdown",
      "metadata": {
        "id": "AxWBfIykb5Bf"
      },
      "source": [
        "Question 2:"
      ]
    },
    {
      "cell_type": "code",
      "metadata": {
        "id": "d0Oq6c5lbM9p"
      },
      "source": [
        "data2 = {\r\n",
        "    \"m\":[1000,99991,99990,99990],\r\n",
        "    \"n\":[9999,10001,10000,10000]\r\n",
        "}\r\n",
        "df = pd.DataFrame(data2)"
      ],
      "execution_count": null,
      "outputs": []
    },
    {
      "cell_type": "code",
      "metadata": {
        "colab": {
          "base_uri": "https://localhost:8080/"
        },
        "id": "qooBpCyVfVI_",
        "outputId": "bf0d7bed-8965-4bf3-fac3-e6671ba6b93a"
      },
      "source": [
        "#a How many 4 digit numbers are there\r\n",
        "9999-1000+1"
      ],
      "execution_count": null,
      "outputs": [
        {
          "output_type": "execute_result",
          "data": {
            "text/plain": [
              "9000"
            ]
          },
          "metadata": {
            "tags": []
          },
          "execution_count": 10
        }
      ]
    },
    {
      "cell_type": "code",
      "metadata": {
        "colab": {
          "base_uri": "https://localhost:8080/"
        },
        "id": "F1Qd92S_iTef",
        "outputId": "65e089fd-50f0-4c2d-b5fd-53810a34f191"
      },
      "source": [
        "#b How Many 5 digit numbers are there that end in 1\r\n",
        "9*10*10*10*1"
      ],
      "execution_count": null,
      "outputs": [
        {
          "output_type": "execute_result",
          "data": {
            "text/plain": [
              "9000"
            ]
          },
          "metadata": {
            "tags": []
          },
          "execution_count": 21
        }
      ]
    },
    {
      "cell_type": "code",
      "metadata": {
        "colab": {
          "base_uri": "https://localhost:8080/"
        },
        "id": "SHQNTAs3hqMl",
        "outputId": "616f2def-3577-4b50-f124-70c00f948f60"
      },
      "source": [
        "#Ending in 1 would be a multiple of 10 \r\n",
        "ma.floor(99999/10)-ma.floor((10000-1)/10)\r\n",
        "9*10*10*10*1"
      ],
      "execution_count": 33,
      "outputs": [
        {
          "output_type": "execute_result",
          "data": {
            "text/plain": [
              "9000"
            ]
          },
          "metadata": {
            "tags": []
          },
          "execution_count": 33
        }
      ]
    },
    {
      "cell_type": "code",
      "metadata": {
        "id": "b-F86OQaZkBQ",
        "colab": {
          "base_uri": "https://localhost:8080/"
        },
        "outputId": "7b26f1f6-e2f4-4162-87ce-7e2f28d99635"
      },
      "source": [
        "#c How Many 5 digit numbers ending in 0\r\n",
        "9*10*10*10*1"
      ],
      "execution_count": null,
      "outputs": [
        {
          "output_type": "execute_result",
          "data": {
            "text/plain": [
              "9000"
            ]
          },
          "metadata": {
            "tags": []
          },
          "execution_count": 19
        }
      ]
    },
    {
      "cell_type": "code",
      "metadata": {
        "colab": {
          "base_uri": "https://localhost:8080/"
        },
        "id": "mfocOuCyf5rK",
        "outputId": "dce9ea81-17d1-445a-bbca-e1d2af472d5d"
      },
      "source": [
        "fl = np.array([ma.floor(0.763), (2*ma.ceil(0.6))-ma.ceil(1.2), ma.ceil(1.1)+ma.ceil(3.3), ma.ceil(ma.sqrt(3))-ma.floor(ma.sqrt(3)),ma.ceil(-73)-ma.floor(-73)])\r\n",
        "fl"
      ],
      "execution_count": 35,
      "outputs": [
        {
          "output_type": "execute_result",
          "data": {
            "text/plain": [
              "array([0, 0, 6, 1, 0])"
            ]
          },
          "metadata": {
            "tags": []
          },
          "execution_count": 35
        }
      ]
    },
    {
      "cell_type": "code",
      "metadata": {
        "colab": {
          "base_uri": "https://localhost:8080/",
          "height": 166
        },
        "id": "TcJQToCiyntA",
        "outputId": "d5c368dc-6988-4042-f5ae-79cf99f94252"
      },
      "source": [
        "sqrt(9)"
      ],
      "execution_count": 30,
      "outputs": [
        {
          "output_type": "error",
          "ename": "NameError",
          "evalue": "ignored",
          "traceback": [
            "\u001b[0;31m---------------------------------------------------------------------------\u001b[0m",
            "\u001b[0;31mNameError\u001b[0m                                 Traceback (most recent call last)",
            "\u001b[0;32m<ipython-input-30-840f67a85afc>\u001b[0m in \u001b[0;36m<module>\u001b[0;34m()\u001b[0m\n\u001b[0;32m----> 1\u001b[0;31m \u001b[0msqrt\u001b[0m\u001b[0;34m(\u001b[0m\u001b[0;36m9\u001b[0m\u001b[0;34m)\u001b[0m\u001b[0;34m\u001b[0m\u001b[0;34m\u001b[0m\u001b[0m\n\u001b[0m",
            "\u001b[0;31mNameError\u001b[0m: name 'sqrt' is not defined"
          ]
        }
      ]
    },
    {
      "cell_type": "code",
      "metadata": {
        "colab": {
          "base_uri": "https://localhost:8080/"
        },
        "id": "Y0afH5sVrv3B",
        "outputId": "0ef00f1a-cd73-4888-d803-ee5f0c3ef1c7"
      },
      "source": [
        "for i in fl:\r\n",
        "  x = math.floor(i)\r\n",
        "  print(x)"
      ],
      "execution_count": 24,
      "outputs": [
        {
          "output_type": "stream",
          "text": [
            "1\n",
            "2\n",
            "3\n"
          ],
          "name": "stdout"
        }
      ]
    },
    {
      "cell_type": "markdown",
      "metadata": {
        "id": "otrYzTTcb7fS"
      },
      "source": [
        "Question 4:"
      ]
    },
    {
      "cell_type": "markdown",
      "metadata": {
        "id": "E37rQmJrb_2Q"
      },
      "source": [
        "Question 8:"
      ]
    },
    {
      "cell_type": "markdown",
      "metadata": {
        "id": "qAeeMMQhcTSB"
      },
      "source": [
        "Question 15:"
      ]
    },
    {
      "cell_type": "markdown",
      "metadata": {
        "id": "B0gupLwwcVQy"
      },
      "source": [
        "Question 20: "
      ]
    }
  ]
}