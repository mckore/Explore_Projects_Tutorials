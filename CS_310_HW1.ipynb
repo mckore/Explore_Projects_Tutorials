{
  "nbformat": 4,
  "nbformat_minor": 0,
  "metadata": {
    "colab": {
      "name": "CS_310_HW1.ipynb",
      "provenance": [],
      "collapsed_sections": [],
      "authorship_tag": "ABX9TyPuai1wT71PzeY422pr7NRo",
      "include_colab_link": true
    },
    "kernelspec": {
      "name": "python3",
      "display_name": "Python 3"
    }
  },
  "cells": [
    {
      "cell_type": "markdown",
      "metadata": {
        "id": "view-in-github",
        "colab_type": "text"
      },
      "source": [
        "<a href=\"https://colab.research.google.com/github/mckore/Explore_Projects_Tutorials/blob/master/CS_310_HW1.ipynb\" target=\"_parent\"><img src=\"https://colab.research.google.com/assets/colab-badge.svg\" alt=\"Open In Colab\"/></a>"
      ]
    },
    {
      "cell_type": "code",
      "metadata": {
        "id": "BEQw2EABWUDX"
      },
      "source": [
        "import pandas as pd\r\n",
        "import numpy as np\r\n",
        "import math as ma"
      ],
      "execution_count": 1,
      "outputs": []
    },
    {
      "cell_type": "markdown",
      "metadata": {
        "id": "kClxRsFjYccD"
      },
      "source": [
        "HW Questions: Section 1.1 - 1,2,4,8,15,20 \r\n",
        "Class Problems: a) 12.3 b) -11.001001001 c) .15050505  d) 3.0939393939"
      ]
    },
    {
      "cell_type": "markdown",
      "metadata": {
        "id": "CJ8pV8xyY8WS"
      },
      "source": [
        "Question 1:"
      ]
    },
    {
      "cell_type": "code",
      "metadata": {
        "id": "ZEz7V7yPYZ3z"
      },
      "source": [
        "data = {\r\n",
        "    \"m1\":[1,2,2,17,-6,0,-10,-10**30,10**29],\r\n",
        "    \"n1\":[20,21,20,72,4,40,-1,10**30,10**30]\r\n",
        "}\r\n",
        "df = pd.DataFrame(data)"
      ],
      "execution_count": 47,
      "outputs": []
    },
    {
      "cell_type": "code",
      "metadata": {
        "id": "B6UYyzbmZ0CH"
      },
      "source": [
        "m=df.m1\r\n",
        "n=df.n1"
      ],
      "execution_count": 10,
      "outputs": []
    },
    {
      "cell_type": "code",
      "metadata": {
        "id": "6kT1EdPZZ5dK",
        "colab": {
          "base_uri": "https://localhost:8080/"
        },
        "outputId": "bdc532ec-8f69-4d74-d472-6f8d09ce57c5"
      },
      "source": [
        "#if definition of \"between\" m<= i <=n\r\n",
        "x=n-m+1\r\n",
        "print(x)"
      ],
      "execution_count": 11,
      "outputs": [
        {
          "output_type": "stream",
          "text": [
            "0                                 20\n",
            "1                                 20\n",
            "2                                 19\n",
            "3                                 56\n",
            "4                                 11\n",
            "5                                 41\n",
            "6                                 10\n",
            "7    2000000000000000000000000000001\n",
            "8     900000000000000000000000000001\n",
            "dtype: object\n"
          ],
          "name": "stdout"
        }
      ]
    },
    {
      "cell_type": "code",
      "metadata": {
        "colab": {
          "base_uri": "https://localhost:8080/"
        },
        "id": "_J9vSbPGmTuf",
        "outputId": "9c302ec3-50fa-4c47-9d85-043c64e9bc74"
      },
      "source": [
        "#if by \"between\" means m < i < n \r\n",
        "y = n-m-1\r\n",
        "print(y)"
      ],
      "execution_count": 12,
      "outputs": [
        {
          "output_type": "stream",
          "text": [
            "0                                 18\n",
            "1                                 18\n",
            "2                                 17\n",
            "3                                 54\n",
            "4                                  9\n",
            "5                                 39\n",
            "6                                  8\n",
            "7    1999999999999999999999999999999\n",
            "8     899999999999999999999999999999\n",
            "dtype: object\n"
          ],
          "name": "stdout"
        }
      ]
    },
    {
      "cell_type": "markdown",
      "metadata": {
        "id": "AxWBfIykb5Bf"
      },
      "source": [
        "Question 2:"
      ]
    },
    {
      "cell_type": "code",
      "metadata": {
        "colab": {
          "base_uri": "https://localhost:8080/"
        },
        "id": "qooBpCyVfVI_",
        "outputId": "f068ed2f-d4f2-4243-f3b1-83b8fe99cd38"
      },
      "source": [
        "#a How many 4 digit numbers are there\r\n",
        "9999-1000+1"
      ],
      "execution_count": 40,
      "outputs": [
        {
          "output_type": "execute_result",
          "data": {
            "text/plain": [
              "9000"
            ]
          },
          "metadata": {
            "tags": []
          },
          "execution_count": 40
        }
      ]
    },
    {
      "cell_type": "code",
      "metadata": {
        "colab": {
          "base_uri": "https://localhost:8080/"
        },
        "id": "SHQNTAs3hqMl",
        "outputId": "15c442df-6f92-4dc6-b8f4-1dc5cd1dc552"
      },
      "source": [
        "#Question 2: b:d\r\n",
        "#Ending in 1 would be a multiple of 10...\r\n",
        "#answers are the same for ending in 0 , and multiples of 10 \r\n",
        "ma.floor(99999/10)-ma.floor((10000-1)/10)\r\n",
        "#or\r\n",
        "9*10*10*10*1"
      ],
      "execution_count": 42,
      "outputs": [
        {
          "output_type": "execute_result",
          "data": {
            "text/plain": [
              "9000"
            ]
          },
          "metadata": {
            "tags": []
          },
          "execution_count": 42
        }
      ]
    },
    {
      "cell_type": "markdown",
      "metadata": {
        "id": "otrYzTTcb7fS"
      },
      "source": [
        "Question 4:"
      ]
    },
    {
      "cell_type": "code",
      "metadata": {
        "colab": {
          "base_uri": "https://localhost:8080/"
        },
        "id": "mfocOuCyf5rK",
        "outputId": "9e7067ed-33de-46bb-8a6b-05d1b3a3c5df"
      },
      "source": [
        "#Question 4: a:e\r\n",
        "fl = np.array([ma.ceil(0.763), #a\r\n",
        "               (2*ma.ceil(0.6))-ma.ceil(1.2), #b\r\n",
        "               ma.ceil(1.1)+ma.ceil(3.3), #c\r\n",
        "               ma.ceil(ma.sqrt(3))-ma.floor(ma.sqrt(3)), #d\r\n",
        "               ma.ceil(-73)-ma.floor(-73)]) #e\r\n",
        "fl"
      ],
      "execution_count": 36,
      "outputs": [
        {
          "output_type": "execute_result",
          "data": {
            "text/plain": [
              "array([1, 0, 6, 1, 0])"
            ]
          },
          "metadata": {
            "tags": []
          },
          "execution_count": 36
        }
      ]
    },
    {
      "cell_type": "markdown",
      "metadata": {
        "id": "E37rQmJrb_2Q"
      },
      "source": [
        "Question 8:"
      ]
    },
    {
      "cell_type": "code",
      "metadata": {
        "id": "Vu7vmXeT2zYi"
      },
      "source": [
        "n8 = np.array([80,100,2967,34, 10**5, 3400])\r\n",
        "m8=np.array([1,0,9,-6,10**4,-600])"
      ],
      "execution_count": 2,
      "outputs": []
    },
    {
      "cell_type": "code",
      "metadata": {
        "colab": {
          "base_uri": "https://localhost:8080/"
        },
        "id": "mwt-5sPt97xc",
        "outputId": "99430cdc-68dc-4a70-a101-561645e6b8e5"
      },
      "source": [
        "np.array([3, 7]) - np.array([1, 2])"
      ],
      "execution_count": 3,
      "outputs": [
        {
          "output_type": "execute_result",
          "data": {
            "text/plain": [
              "array([2, 5])"
            ]
          },
          "metadata": {
            "tags": []
          },
          "execution_count": 3
        }
      ]
    },
    {
      "cell_type": "code",
      "metadata": {
        "id": "-YP6tVY--D7e"
      },
      "source": [
        "a = np.floor(n8/10)-np.floor((m8-1)/10)"
      ],
      "execution_count": 4,
      "outputs": []
    },
    {
      "cell_type": "code",
      "metadata": {
        "id": "8_CjGIlPXmha"
      },
      "source": [
        "np.set_printoptions(suppress=True)"
      ],
      "execution_count": 6,
      "outputs": []
    },
    {
      "cell_type": "code",
      "metadata": {
        "colab": {
          "base_uri": "https://localhost:8080/"
        },
        "id": "h-hKMDDeCsMH",
        "outputId": "8c61f18b-a4e0-4ce1-c8b6-2110896caec4"
      },
      "source": [
        "print(a)"
      ],
      "execution_count": 7,
      "outputs": [
        {
          "output_type": "stream",
          "text": [
            "[   8.   11.  296.    4. 9001.  401.]\n"
          ],
          "name": "stdout"
        }
      ]
    },
    {
      "cell_type": "markdown",
      "metadata": {
        "id": "qAeeMMQhcTSB"
      },
      "source": [
        "Question 15:"
      ]
    },
    {
      "cell_type": "markdown",
      "metadata": {
        "id": "B0gupLwwcVQy"
      },
      "source": [
        "Question 20: "
      ]
    }
  ]
}