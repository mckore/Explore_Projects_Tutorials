{
  "nbformat": 4,
  "nbformat_minor": 0,
  "metadata": {
    "colab": {
      "name": "Copy of Copy of CS_310_HW1.ipynb",
      "provenance": [],
      "collapsed_sections": [],
      "authorship_tag": "ABX9TyO2ESQ2jkUJviuLTKuX924K",
      "include_colab_link": true
    },
    "kernelspec": {
      "name": "python3",
      "display_name": "Python 3"
    }
  },
  "cells": [
    {
      "cell_type": "markdown",
      "metadata": {
        "id": "view-in-github",
        "colab_type": "text"
      },
      "source": [
        "<a href=\"https://colab.research.google.com/github/mckore/Explore_Projects_Tutorials/blob/master/CS_310_HW1.ipynb\" target=\"_parent\"><img src=\"https://colab.research.google.com/assets/colab-badge.svg\" alt=\"Open In Colab\"/></a>"
      ]
    },
    {
      "cell_type": "code",
      "metadata": {
        "id": "BEQw2EABWUDX"
      },
      "source": [
        "import pandas as pd\r\n",
        "import numpy as np"
      ],
      "execution_count": null,
      "outputs": []
    },
    {
      "cell_type": "markdown",
      "metadata": {
        "id": "kClxRsFjYccD"
      },
      "source": [
        "HW Questions: Section 1.1 - 1,2,4,8,15,20 \r\n",
        "Class Problems: a) 12.3 b) -11.001001001 c) .15050505  d) 3.0939393939"
      ]
    },
    {
      "cell_type": "markdown",
      "metadata": {
        "id": "CJ8pV8xyY8WS"
      },
      "source": [
        "Question 1:"
      ]
    },
    {
      "cell_type": "code",
      "metadata": {
        "id": "ZEz7V7yPYZ3z"
      },
      "source": [
        "data = {\r\n",
        "    \"m\":[1,2,2,17,-6,0,-10,-10**30,10**29],\r\n",
        "    \"n\":[20,21,20,72,4,40,-1,10**30,10**30]\r\n",
        "}\r\n",
        "df = pd.DataFrame(data)"
      ],
      "execution_count": null,
      "outputs": []
    },
    {
      "cell_type": "code",
      "metadata": {
        "id": "B6UYyzbmZ0CH"
      },
      "source": [
        "m=df.m\r\n",
        "n=df.n"
      ],
      "execution_count": null,
      "outputs": []
    },
    {
      "cell_type": "code",
      "metadata": {
        "id": "6kT1EdPZZ5dK",
        "colab": {
          "base_uri": "https://localhost:8080/"
        },
        "outputId": "4405474a-8f9f-40c1-8346-fb05afdb31d0"
      },
      "source": [
        "x=n-m+1\r\n",
        "print(x)"
      ],
      "execution_count": null,
      "outputs": [
        {
          "output_type": "stream",
          "text": [
            "0                                 20\n",
            "1                                 20\n",
            "2                                 19\n",
            "3                                 56\n",
            "4                                 11\n",
            "5                                 41\n",
            "6                                 10\n",
            "7    2000000000000000000000000000001\n",
            "8     900000000000000000000000000001\n",
            "dtype: object\n"
          ],
          "name": "stdout"
        }
      ]
    },
    {
      "cell_type": "markdown",
      "metadata": {
        "id": "AxWBfIykb5Bf"
      },
      "source": [
        "Question 2:"
      ]
    },
    {
      "cell_type": "code",
      "metadata": {
        "id": "d0Oq6c5lbM9p"
      },
      "source": [
        "data2 = {\r\n",
        "    \"m\":[1000,99991,99990,99990],\r\n",
        "    \"n\":[9999,10001,10000,10000]\r\n",
        "}\r\n",
        "df = pd.DataFrame(data2)"
      ],
      "execution_count": null,
      "outputs": []
    },
    {
      "cell_type": "code",
      "metadata": {
        "colab": {
          "base_uri": "https://localhost:8080/"
        },
        "id": "qooBpCyVfVI_",
        "outputId": "bf0d7bed-8965-4bf3-fac3-e6671ba6b93a"
      },
      "source": [
        "#a How many 4 digit numbers are there\r\n",
        "9999-1000+1"
      ],
      "execution_count": null,
      "outputs": [
        {
          "output_type": "execute_result",
          "data": {
            "text/plain": [
              "9000"
            ]
          },
          "metadata": {
            "tags": []
          },
          "execution_count": 10
        }
      ]
    },
    {
      "cell_type": "code",
      "metadata": {
        "colab": {
          "base_uri": "https://localhost:8080/"
        },
        "id": "F1Qd92S_iTef",
        "outputId": "65e089fd-50f0-4c2d-b5fd-53810a34f191"
      },
      "source": [
        "#b How Many 5 digit numbers are there that end in 1\r\n",
        "9*10*10*10*1"
      ],
      "execution_count": null,
      "outputs": [
        {
          "output_type": "execute_result",
          "data": {
            "text/plain": [
              "9000"
            ]
          },
          "metadata": {
            "tags": []
          },
          "execution_count": 21
        }
      ]
    },
    {
      "cell_type": "code",
      "metadata": {
        "id": "b-F86OQaZkBQ",
        "colab": {
          "base_uri": "https://localhost:8080/"
        },
        "outputId": "7b26f1f6-e2f4-4162-87ce-7e2f28d99635"
      },
      "source": [
        "#c How Many 5 digit numbers ending in 0\r\n",
        "9*10*10*10*1"
      ],
      "execution_count": null,
      "outputs": [
        {
          "output_type": "execute_result",
          "data": {
            "text/plain": [
              "9000"
            ]
          },
          "metadata": {
            "tags": []
          },
          "execution_count": 19
        }
      ]
    },
    {
      "cell_type": "code",
      "metadata": {
        "colab": {
          "base_uri": "https://localhost:8080/"
        },
        "id": "mfocOuCyf5rK",
        "outputId": "7a6edcdf-9862-4c46-c4f5-123f59af1d6f"
      },
      "source": [
        ""
      ],
      "execution_count": null,
      "outputs": [
        {
          "output_type": "execute_result",
          "data": {
            "text/plain": [
              "89991"
            ]
          },
          "metadata": {
            "tags": []
          },
          "execution_count": 15
        }
      ]
    },
    {
      "cell_type": "markdown",
      "metadata": {
        "id": "otrYzTTcb7fS"
      },
      "source": [
        "Question 4:"
      ]
    },
    {
      "cell_type": "markdown",
      "metadata": {
        "id": "E37rQmJrb_2Q"
      },
      "source": [
        "Question 8:"
      ]
    },
    {
      "cell_type": "markdown",
      "metadata": {
        "id": "qAeeMMQhcTSB"
      },
      "source": [
        "Question 15:"
      ]
    },
    {
      "cell_type": "markdown",
      "metadata": {
        "id": "B0gupLwwcVQy"
      },
      "source": [
        "Question 20: "
      ]
    }
  ]
}