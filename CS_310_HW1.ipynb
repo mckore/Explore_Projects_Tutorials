{
  "nbformat": 4,
  "nbformat_minor": 0,
  "metadata": {
    "colab": {
      "name": "CS_310_HW1.ipynb",
      "provenance": [],
      "collapsed_sections": [],
      "authorship_tag": "ABX9TyPIRwfMgsWtDRK1DHZQY9Ij",
      "include_colab_link": true
    },
    "kernelspec": {
      "name": "python3",
      "display_name": "Python 3"
    }
  },
  "cells": [
    {
      "cell_type": "markdown",
      "metadata": {
        "id": "view-in-github",
        "colab_type": "text"
      },
      "source": [
        "<a href=\"https://colab.research.google.com/github/mckore/Explore_Projects_Tutorials/blob/master/CS_310_HW1.ipynb\" target=\"_parent\"><img src=\"https://colab.research.google.com/assets/colab-badge.svg\" alt=\"Open In Colab\"/></a>"
      ]
    },
    {
      "cell_type": "code",
      "metadata": {
        "id": "BEQw2EABWUDX"
      },
      "source": [
        "import pandas as pd\r\n",
        "import numpy as np\r\n",
        "import math as ma"
      ],
      "execution_count": 21,
      "outputs": []
    },
    {
      "cell_type": "code",
      "metadata": {
        "id": "8_CjGIlPXmha"
      },
      "source": [
        "np.set_printoptions(suppress=True)"
      ],
      "execution_count": 22,
      "outputs": []
    },
    {
      "cell_type": "markdown",
      "metadata": {
        "id": "kClxRsFjYccD"
      },
      "source": [
        "HW Questions: Section 1.1 - 1,2,4,8,15,20 \r\n",
        "Class Problems: a) 12.3 b) -11.001001001 c) .15050505  d) 3.0939393939"
      ]
    },
    {
      "cell_type": "markdown",
      "metadata": {
        "id": "CJ8pV8xyY8WS"
      },
      "source": [
        "Question 1:"
      ]
    },
    {
      "cell_type": "code",
      "metadata": {
        "id": "ZEz7V7yPYZ3z"
      },
      "source": [
        "data = {\r\n",
        "    \"m1\":[1,2,2,17,-6,0,-10,-10**30,10**29],\r\n",
        "    \"n1\":[20,21,20,72,4,40,-1,10**30,10**30]\r\n",
        "}\r\n",
        "df = pd.DataFrame(data)\r\n",
        "m=df.m1\r\n",
        "n=df.n1"
      ],
      "execution_count": 23,
      "outputs": []
    },
    {
      "cell_type": "code",
      "metadata": {
        "id": "6kT1EdPZZ5dK",
        "colab": {
          "base_uri": "https://localhost:8080/"
        },
        "outputId": "4d7839c9-a523-4541-8220-a5dc7d9f3e73"
      },
      "source": [
        "#Condition 1\r\n",
        "#assuming definition of \"between\" is inclusive { m<= i <=n }\r\n",
        "x=n-m+1\r\n",
        "print(x)"
      ],
      "execution_count": 29,
      "outputs": [
        {
          "output_type": "stream",
          "text": [
            "0                                 20\n",
            "1                                 20\n",
            "2                                 19\n",
            "3                                 56\n",
            "4                                 11\n",
            "5                                 41\n",
            "6                                 10\n",
            "7    2000000000000000000000000000001\n",
            "8     900000000000000000000000000001\n",
            "dtype: object\n"
          ],
          "name": "stdout"
        }
      ]
    },
    {
      "cell_type": "code",
      "metadata": {
        "colab": {
          "base_uri": "https://localhost:8080/"
        },
        "id": "_J9vSbPGmTuf",
        "outputId": "ff11fcaa-360c-4591-9c4a-85cec14b0a72"
      },
      "source": [
        "#Condition 2 (exclusive)\r\n",
        "#if by \"between\" means m < i < n \r\n",
        "y = n-m-1  #also expressed y = n-(m+1)\r\n",
        "print(y)"
      ],
      "execution_count": 25,
      "outputs": [
        {
          "output_type": "stream",
          "text": [
            "0                                 18\n",
            "1                                 18\n",
            "2                                 17\n",
            "3                                 54\n",
            "4                                  9\n",
            "5                                 39\n",
            "6                                  8\n",
            "7    1999999999999999999999999999999\n",
            "8     899999999999999999999999999999\n",
            "dtype: object\n"
          ],
          "name": "stdout"
        }
      ]
    },
    {
      "cell_type": "markdown",
      "metadata": {
        "id": "OFaVZI9-w66G"
      },
      "source": [
        "Assuming the question for between meant exclusive\r\n",
        "Answers (inclusive , exclusive) 1a: (20,18) ; 1b: (20,18); 1c: (19,17); 1d: (56,54); 1e: (11,9) ; 1f: (41,39) ; 1g: (10,8) ; 1h: (2000000000000000000000000000001, 1999999999999999999999999999999) ; 1i: (900000000000000000000000000001, 899999999999999999999999999999)"
      ]
    },
    {
      "cell_type": "markdown",
      "metadata": {
        "id": "AxWBfIykb5Bf"
      },
      "source": [
        "Question 2:"
      ]
    },
    {
      "cell_type": "code",
      "metadata": {
        "colab": {
          "base_uri": "https://localhost:8080/"
        },
        "id": "qooBpCyVfVI_",
        "outputId": "e1fa066b-40fe-440b-c794-5bd225b32ec9"
      },
      "source": [
        "#a How many 4 digit numbers are there\r\n",
        "9999-1000+1"
      ],
      "execution_count": 28,
      "outputs": [
        {
          "output_type": "execute_result",
          "data": {
            "text/plain": [
              "9000"
            ]
          },
          "metadata": {
            "tags": []
          },
          "execution_count": 28
        }
      ]
    },
    {
      "cell_type": "markdown",
      "metadata": {
        "id": "IkfmeXpNwbWI"
      },
      "source": [
        "Answer 2a: 9000"
      ]
    },
    {
      "cell_type": "code",
      "metadata": {
        "colab": {
          "base_uri": "https://localhost:8080/"
        },
        "id": "SHQNTAs3hqMl",
        "outputId": "e1541106-65a0-431a-f95c-4c7425317d49"
      },
      "source": [
        "#Question 2: b:d\r\n",
        "#Ending in 1 would be a multiple of 10...\r\n",
        "#answers are the same for ending in 0 , and multiples of 10 \r\n",
        "ma.floor(99999/10)-ma.floor((10000-1)/10)"
      ],
      "execution_count": 36,
      "outputs": [
        {
          "output_type": "execute_result",
          "data": {
            "text/plain": [
              "9000"
            ]
          },
          "metadata": {
            "tags": []
          },
          "execution_count": 36
        }
      ]
    },
    {
      "cell_type": "code",
      "metadata": {
        "colab": {
          "base_uri": "https://localhost:8080/"
        },
        "id": "rMAfSebIM_W0",
        "outputId": "a2a22890-1a47-4739-cb26-017d2fd3f1fe"
      },
      "source": [
        "#I am not sure that I understand why m is 10001 and n is 99991 \r\n",
        "#(accounting for every 5 digit ending in 1), the answer is 8999\r\n",
        "ma.floor(99991/10)-ma.floor((10001-1)/10)"
      ],
      "execution_count": 37,
      "outputs": [
        {
          "output_type": "execute_result",
          "data": {
            "text/plain": [
              "8999"
            ]
          },
          "metadata": {
            "tags": []
          },
          "execution_count": 37
        }
      ]
    },
    {
      "cell_type": "markdown",
      "metadata": {
        "id": "9PUMo-KuweiS"
      },
      "source": [
        "Answer 2b: 9000 ; 2c: 9000 ; 2d: 9000"
      ]
    },
    {
      "cell_type": "markdown",
      "metadata": {
        "id": "otrYzTTcb7fS"
      },
      "source": [
        "Question 4:"
      ]
    },
    {
      "cell_type": "code",
      "metadata": {
        "colab": {
          "base_uri": "https://localhost:8080/"
        },
        "id": "mfocOuCyf5rK",
        "outputId": "9e7067ed-33de-46bb-8a6b-05d1b3a3c5df"
      },
      "source": [
        "#Question 4: a:e\r\n",
        "fl = np.array([ma.ceil(0.763), #a\r\n",
        "               (2*ma.ceil(0.6))-ma.ceil(1.2), #b\r\n",
        "               ma.ceil(1.1)+ma.ceil(3.3), #c\r\n",
        "               ma.ceil(ma.sqrt(3))-ma.floor(ma.sqrt(3)), #d\r\n",
        "               ma.ceil(-73)-ma.floor(-73)]) #e\r\n",
        "fl"
      ],
      "execution_count": 36,
      "outputs": [
        {
          "output_type": "execute_result",
          "data": {
            "text/plain": [
              "array([1, 0, 6, 1, 0])"
            ]
          },
          "metadata": {
            "tags": []
          },
          "execution_count": 36
        }
      ]
    },
    {
      "cell_type": "markdown",
      "metadata": {
        "id": "qTTrHqQ5u829"
      },
      "source": [
        "Answers 4a: 1 ; 4b: 0 ; 4c:6 ; 4d: 1 ; 4e:0"
      ]
    },
    {
      "cell_type": "markdown",
      "metadata": {
        "id": "E37rQmJrb_2Q"
      },
      "source": [
        "Question 8:"
      ]
    },
    {
      "cell_type": "code",
      "metadata": {
        "id": "Vu7vmXeT2zYi"
      },
      "source": [
        "n8 = np.array([80,100,2967,34, 10**5, 3400])\r\n",
        "m8=np.array([1,0,9,-6,10**4,-600])"
      ],
      "execution_count": 19,
      "outputs": []
    },
    {
      "cell_type": "code",
      "metadata": {
        "colab": {
          "base_uri": "https://localhost:8080/"
        },
        "id": "-YP6tVY--D7e",
        "outputId": "f92026aa-8401-49b7-80bc-efee7588b4d9"
      },
      "source": [
        "np.floor(n8/10)-np.floor((m8-1)/10)\r\n"
      ],
      "execution_count": 20,
      "outputs": [
        {
          "output_type": "execute_result",
          "data": {
            "text/plain": [
              "array([   8.,   11.,  296.,    4., 9001.,  401.])"
            ]
          },
          "metadata": {
            "tags": []
          },
          "execution_count": 20
        }
      ]
    },
    {
      "cell_type": "markdown",
      "metadata": {
        "id": "ibZqFrCfudyM"
      },
      "source": [
        "Answers 8a: 8 ;   8b: 11 ;   8c: 296 ;\r\n",
        "        8d: 4 ;   8e: 9001 ; 8f: 401"
      ]
    },
    {
      "cell_type": "markdown",
      "metadata": {
        "id": "qAeeMMQhcTSB"
      },
      "source": [
        "Question 15:"
      ]
    },
    {
      "cell_type": "code",
      "metadata": {
        "colab": {
          "base_uri": "https://localhost:8080/"
        },
        "id": "JZwmfGnxnjd9",
        "outputId": "6a794683-257d-41e6-9978-08944d7469dd"
      },
      "source": [
        "#Question 15a - Number of primes between 1 and 10e30\r\n",
        "\r\n",
        "n=float(10**30)\r\n",
        "m = 1\r\n",
        "(n/np.log(n))-((m-1))/np.log(m-1)\r\n",
        "#Without the 0 waring message\r\n",
        "n/np.log(n)\r\n"
      ],
      "execution_count": 7,
      "outputs": [
        {
          "output_type": "stream",
          "text": [
            "/usr/local/lib/python3.6/dist-packages/ipykernel_launcher.py:4: RuntimeWarning: divide by zero encountered in log\n",
            "  after removing the cwd from sys.path.\n"
          ],
          "name": "stderr"
        },
        {
          "output_type": "execute_result",
          "data": {
            "text/plain": [
              "1.4476482730108394e+28"
            ]
          },
          "metadata": {
            "tags": []
          },
          "execution_count": 7
        }
      ]
    },
    {
      "cell_type": "markdown",
      "metadata": {
        "id": "1oqsyJyZpw9n"
      },
      "source": [
        "Answer 15a: 1.4476482730108394e+28"
      ]
    },
    {
      "cell_type": "code",
      "metadata": {
        "colab": {
          "base_uri": "https://localhost:8080/"
        },
        "id": "8LA1eHxGoxrZ",
        "outputId": "b7f6bf68-e80b-40ea-e34f-2a74a4f7844a"
      },
      "source": [
        "#Question 15b \r\n",
        "#Number of primes between 1 and 10e29\r\n",
        "n= float(10**29)\r\n",
        "m=1\r\n",
        "#m will produce 0 again \r\n",
        "n/np.log(n)"
      ],
      "execution_count": 9,
      "outputs": [
        {
          "output_type": "execute_result",
          "data": {
            "text/plain": [
              "1.4975671789767306e+27"
            ]
          },
          "metadata": {
            "tags": []
          },
          "execution_count": 9
        }
      ]
    },
    {
      "cell_type": "markdown",
      "metadata": {
        "id": "BuKTfMGAp9xN"
      },
      "source": [
        "Answer 15b : **1.4975671789767306e+27**"
      ]
    },
    {
      "cell_type": "code",
      "metadata": {
        "colab": {
          "base_uri": "https://localhost:8080/"
        },
        "id": "kpqyQhiPsj3W",
        "outputId": "5ab1adfe-5aac-4d0c-976f-3acc1a993e7b"
      },
      "source": [
        "#Question 15c\r\n",
        "#Number of 30 digit primes \r\n",
        "n=float((10**30)-1)\r\n",
        "m=float(10**29)\r\n",
        "\r\n",
        "(n/np.log(n))-((m-1)/np.log(m-1))"
      ],
      "execution_count": 17,
      "outputs": [
        {
          "output_type": "execute_result",
          "data": {
            "text/plain": [
              "1.2978915551131663e+28"
            ]
          },
          "metadata": {
            "tags": []
          },
          "execution_count": 17
        }
      ]
    },
    {
      "cell_type": "markdown",
      "metadata": {
        "id": "-x7yLT7DuAyq"
      },
      "source": [
        "Answer 15c: 1.2978915551131663e+28"
      ]
    },
    {
      "cell_type": "markdown",
      "metadata": {
        "id": "B0gupLwwcVQy"
      },
      "source": [
        "Question 20: "
      ]
    }
  ]
}