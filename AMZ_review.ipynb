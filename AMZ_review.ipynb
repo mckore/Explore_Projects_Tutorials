{
  "nbformat": 4,
  "nbformat_minor": 0,
  "metadata": {
    "colab": {
      "name": "AMZ_review.ipynb",
      "provenance": [],
      "collapsed_sections": [],
      "toc_visible": true,
      "mount_file_id": "1Msdo79RazZB7WKLysLJqhwQJj3mtPZ5u",
      "authorship_tag": "ABX9TyOPoshRXM6OPSNczE2+7cOa",
      "include_colab_link": true
    },
    "kernelspec": {
      "name": "python3",
      "display_name": "Python 3"
    },
    "accelerator": "GPU"
  },
  "cells": [
    {
      "cell_type": "markdown",
      "metadata": {
        "id": "view-in-github",
        "colab_type": "text"
      },
      "source": [
        "<a href=\"https://colab.research.google.com/github/mckore/Gender-Gap-w.-Incarceration-/blob/master/AMZ_review.ipynb\" target=\"_parent\"><img src=\"https://colab.research.google.com/assets/colab-badge.svg\" alt=\"Open In Colab\"/></a>"
      ]
    },
    {
      "cell_type": "code",
      "metadata": {
        "id": "_ToJ1r55sGxF",
        "colab_type": "code",
        "colab": {}
      },
      "source": [
        "from fastai import *\n",
        "from fastai.text import *\n",
        "import pandas as pd\n",
        "from sklearn.model_selection import train_test_split"
      ],
      "execution_count": null,
      "outputs": []
    },
    {
      "cell_type": "code",
      "metadata": {
        "id": "4f23qmk-tpRC",
        "colab_type": "code",
        "colab": {}
      },
      "source": [
        "data = pd.read_csv('/content/drive/My Drive/Colab Notebooks/NLP_AMZ.csv', engine = 'python')\n",
        "path = Path('/content/drive/My Drive/Colab Notebooks/')"
      ],
      "execution_count": null,
      "outputs": []
    },
    {
      "cell_type": "code",
      "metadata": {
        "id": "LDvPxaXY1AF_",
        "colab_type": "code",
        "colab": {
          "base_uri": "https://localhost:8080/",
          "height": 255
        },
        "outputId": "0f1eb4b3-60cc-431a-90da-01da95dda132"
      },
      "source": [
        "data.head"
      ],
      "execution_count": null,
      "outputs": [
        {
          "output_type": "execute_result",
          "data": {
            "text/plain": [
              "<bound method NDFrame.head of       Annontation                                             Review\n",
              "0               0  I've only used this product 3 times so far. Th...\n",
              "1               0            very poor battery life, but it's quiet!\n",
              "2               0  Pros:Quiet, easy to use mower that can both mu...\n",
              "3               0  I'm in love with this machine! Quiet, cuts cle...\n",
              "4               3  I bought this in Spring 2015 and I've used it ...\n",
              "...           ...                                                ...\n",
              "7913            0  It works great. The two batteries do the trick...\n",
              "7914            0       Very good mower with excellrnt battery life.\n",
              "7915            0  The mower works as well as any gas mower, but ...\n",
              "7916            0  I used it one time the battery life sucks..!! ...\n",
              "7917            0  light weight and quiet. works with my existing...\n",
              "\n",
              "[7918 rows x 2 columns]>"
            ]
          },
          "metadata": {
            "tags": []
          },
          "execution_count": 4
        }
      ]
    },
    {
      "cell_type": "code",
      "metadata": {
        "id": "cRSPHimO-V_4",
        "colab_type": "code",
        "colab": {
          "base_uri": "https://localhost:8080/",
          "height": 34
        },
        "outputId": "4595a83a-4e59-47d7-8916-a62f29fc6126"
      },
      "source": [
        "data.dropna(inplace=True)\n",
        "data.shape"
      ],
      "execution_count": null,
      "outputs": [
        {
          "output_type": "execute_result",
          "data": {
            "text/plain": [
              "(7917, 2)"
            ]
          },
          "metadata": {
            "tags": []
          },
          "execution_count": 5
        }
      ]
    },
    {
      "cell_type": "code",
      "metadata": {
        "id": "lVfQoBog1Wkf",
        "colab_type": "code",
        "colab": {
          "base_uri": "https://localhost:8080/",
          "height": 119
        },
        "outputId": "1c5f708a-592c-4d9b-d722-00a088a71c6b"
      },
      "source": [
        "type(data)\n",
        "data.columns\n",
        "data['Review'].head()"
      ],
      "execution_count": null,
      "outputs": [
        {
          "output_type": "execute_result",
          "data": {
            "text/plain": [
              "0    I've only used this product 3 times so far. Th...\n",
              "1              very poor battery life, but it's quiet!\n",
              "2    Pros:Quiet, easy to use mower that can both mu...\n",
              "3    I'm in love with this machine! Quiet, cuts cle...\n",
              "4    I bought this in Spring 2015 and I've used it ...\n",
              "Name: Review, dtype: object"
            ]
          },
          "metadata": {
            "tags": []
          },
          "execution_count": 6
        }
      ]
    },
    {
      "cell_type": "code",
      "metadata": {
        "id": "3UVQ2b9W85d5",
        "colab_type": "code",
        "colab": {}
      },
      "source": [
        "train, val = train_test_split(data, random_state=123)"
      ],
      "execution_count": null,
      "outputs": []
    },
    {
      "cell_type": "code",
      "metadata": {
        "id": "_1Lg1r1q1xC3",
        "colab_type": "code",
        "colab": {
          "base_uri": "https://localhost:8080/",
          "height": 17
        },
        "outputId": "40829ce9-9c05-4ca1-c18c-e06b56b7ddd9"
      },
      "source": [
        "data_lm = TextLMDataBunch.from_df(path, train, val)"
      ],
      "execution_count": null,
      "outputs": [
        {
          "output_type": "display_data",
          "data": {
            "text/html": [
              ""
            ],
            "text/plain": [
              "<IPython.core.display.HTML object>"
            ]
          },
          "metadata": {
            "tags": []
          }
        },
        {
          "output_type": "display_data",
          "data": {
            "text/html": [
              ""
            ],
            "text/plain": [
              "<IPython.core.display.HTML object>"
            ]
          },
          "metadata": {
            "tags": []
          }
        }
      ]
    },
    {
      "cell_type": "code",
      "metadata": {
        "id": "bGHxfH9c26Ie",
        "colab_type": "code",
        "colab": {}
      },
      "source": [
        "data_lm.save()"
      ],
      "execution_count": null,
      "outputs": []
    },
    {
      "cell_type": "code",
      "metadata": {
        "id": "AsmhCD-yAWQG",
        "colab_type": "code",
        "colab": {}
      },
      "source": [
        "data = TextLMDataBunch.from_df(path, train, val)\n",
        "data.show_batch()"
      ],
      "execution_count": null,
      "outputs": []
    },
    {
      "cell_type": "code",
      "metadata": {
        "id": "gQg2In3jAmL3",
        "colab_type": "code",
        "colab": {
          "base_uri": "https://localhost:8080/",
          "height": 187
        },
        "outputId": "30d57231-bec7-4da4-d282-0837f1937b31"
      },
      "source": [
        "data.vocab.itos[:10]"
      ],
      "execution_count": null,
      "outputs": [
        {
          "output_type": "execute_result",
          "data": {
            "text/plain": [
              "['xxunk',\n",
              " 'xxpad',\n",
              " 'xxbos',\n",
              " 'xxeos',\n",
              " 'xxfld',\n",
              " 'xxmaj',\n",
              " 'xxup',\n",
              " 'xxrep',\n",
              " 'xxwrep',\n",
              " '.']"
            ]
          },
          "metadata": {
            "tags": []
          },
          "execution_count": 12
        }
      ]
    },
    {
      "cell_type": "code",
      "metadata": {
        "id": "Gi3f8XkCAzlA",
        "colab_type": "code",
        "colab": {
          "base_uri": "https://localhost:8080/",
          "height": 34
        },
        "outputId": "2ee9c775-df48-4b59-c650-59bf7b5e7499"
      },
      "source": [
        "data.train_ds[0][0]\n",
        "data.train_ds[0][0].data[:10]"
      ],
      "execution_count": null,
      "outputs": [
        {
          "output_type": "execute_result",
          "data": {
            "text/plain": [
              "array([   2,   11,  126,   19,   18,  109,   11,   29, 4578,   75])"
            ]
          },
          "metadata": {
            "tags": []
          },
          "execution_count": 13
        }
      ]
    },
    {
      "cell_type": "code",
      "metadata": {
        "id": "pe2UKa3hA5wp",
        "colab_type": "code",
        "colab": {}
      },
      "source": [
        "bs=48"
      ],
      "execution_count": null,
      "outputs": []
    },
    {
      "cell_type": "code",
      "metadata": {
        "id": "kttFDSrcBlBs",
        "colab_type": "code",
        "colab": {}
      },
      "source": [
        "data_lm2 = load_data(path, 'data_save.pkl', bs=bs)"
      ],
      "execution_count": null,
      "outputs": []
    },
    {
      "cell_type": "code",
      "metadata": {
        "id": "67ogt2fKAI5T",
        "colab_type": "code",
        "colab": {
          "base_uri": "https://localhost:8080/",
          "height": 289
        },
        "outputId": "6c2804c7-de95-4cb5-ca01-c6423d7afa71"
      },
      "source": [
        "data_lm2.show_batch()"
      ],
      "execution_count": null,
      "outputs": [
        {
          "output_type": "display_data",
          "data": {
            "text/html": [
              "<table border=\"1\" class=\"dataframe\">\n",
              "  <thead>\n",
              "    <tr style=\"text-align: right;\">\n",
              "      <th>idx</th>\n",
              "      <th>text</th>\n",
              "    </tr>\n",
              "  </thead>\n",
              "  <tbody>\n",
              "    <tr>\n",
              "      <td>0</td>\n",
              "      <td>hiring the pro 's i just became one with this wonderful toy ! xxbos i have had this mower for 2 months now and it has been great . xxmaj this is my second electric mower and is quite an improvement . xxmaj it has had no trouble with cutting the grass in my yard ( 1 / 4 acre ) . i had to mow the lawn between rains</td>\n",
              "    </tr>\n",
              "    <tr>\n",
              "      <td>1</td>\n",
              "      <td>xxmaj it says it comes with two batteries . i expected that to mean one was a spare , but both are needed . xxmaj it can run on one , but it wo n't last nearly long enough to do the job . xxmaj short battery life . xxmaj with both batteries fully charged , i 'm barely able to finish my fairly small yard . xxmaj if i</td>\n",
              "    </tr>\n",
              "    <tr>\n",
              "      <td>2</td>\n",
              "      <td>minutes later a live person came on line to ask me a number of useless questions and finally tell me that i have to contact xxmaj amazon because i bought it from them . i did contact xxmaj amazon , and returned the whole thing , waiting for it be pick up by xxup ups . xxbos i really like the trimmer and the batteries last long enough to let</td>\n",
              "    </tr>\n",
              "    <tr>\n",
              "      <td>3</td>\n",
              "      <td>in my xxunk beds . xxmaj solved a big problem for me with the ground covers , like xxunk xxunk , xxunk the hostas . xxmaj now the ground covers and hostas can live together in total harmony . i would have given the product 5 stars if it were not for the instructions . xxmaj barely xxunk print size , bad pictures , and the special features of this</td>\n",
              "    </tr>\n",
              "    <tr>\n",
              "      <td>4</td>\n",
              "      <td>decker - xxup xxunk - xxmaj lithium - xxmaj charger / dp / xxup xxunk / ref = xxunk = xxunk = xxunk = xxunk = xxunk = xxunk one star miss is for the crappy charger , uneven finish , and the need for an additional battery . xxmaj but all in all , it 's all we need . xxbos it makes mowing so much easier for me</td>\n",
              "    </tr>\n",
              "  </tbody>\n",
              "</table>"
            ],
            "text/plain": [
              "<IPython.core.display.HTML object>"
            ]
          },
          "metadata": {
            "tags": []
          }
        }
      ]
    },
    {
      "cell_type": "code",
      "metadata": {
        "id": "LRPhnbkpBSUs",
        "colab_type": "code",
        "colab": {
          "base_uri": "https://localhost:8080/",
          "height": 34
        },
        "outputId": "489a9940-060d-4d83-da39-7e15560d77ef"
      },
      "source": [
        "learn = language_model_learner(data_lm2, arch=AWD_LSTM, pretrained = True, drop_mult=0.7)"
      ],
      "execution_count": null,
      "outputs": [
        {
          "output_type": "stream",
          "text": [
            "Downloading https://s3.amazonaws.com/fast-ai-modelzoo/wt103-fwd.tgz\n"
          ],
          "name": "stdout"
        },
        {
          "output_type": "display_data",
          "data": {
            "text/html": [
              ""
            ],
            "text/plain": [
              "<IPython.core.display.HTML object>"
            ]
          },
          "metadata": {
            "tags": []
          }
        }
      ]
    },
    {
      "cell_type": "code",
      "metadata": {
        "id": "Wa_dw46qDeQg",
        "colab_type": "code",
        "colab": {
          "base_uri": "https://localhost:8080/",
          "height": 112
        },
        "outputId": "1108779f-968b-4356-dd66-e40ee3e578fd"
      },
      "source": [
        "learn.lr_find()"
      ],
      "execution_count": null,
      "outputs": [
        {
          "output_type": "display_data",
          "data": {
            "text/html": [
              "\n",
              "    <div>\n",
              "        <style>\n",
              "            /* Turns off some styling */\n",
              "            progress {\n",
              "                /* gets rid of default border in Firefox and Opera. */\n",
              "                border: none;\n",
              "                /* Needs to be in here for Safari polyfill so background images work as expected. */\n",
              "                background-size: auto;\n",
              "            }\n",
              "            .progress-bar-interrupted, .progress-bar-interrupted::-webkit-progress-bar {\n",
              "                background: #F44336;\n",
              "            }\n",
              "        </style>\n",
              "      <progress value='0' class='' max='1' style='width:300px; height:20px; vertical-align: middle;'></progress>\n",
              "      0.00% [0/1 00:00<00:00]\n",
              "    </div>\n",
              "    \n",
              "<table border=\"1\" class=\"dataframe\">\n",
              "  <thead>\n",
              "    <tr style=\"text-align: left;\">\n",
              "      <th>epoch</th>\n",
              "      <th>train_loss</th>\n",
              "      <th>valid_loss</th>\n",
              "      <th>accuracy</th>\n",
              "      <th>time</th>\n",
              "    </tr>\n",
              "  </thead>\n",
              "  <tbody>\n",
              "  </tbody>\n",
              "</table><p>\n",
              "\n",
              "    <div>\n",
              "        <style>\n",
              "            /* Turns off some styling */\n",
              "            progress {\n",
              "                /* gets rid of default border in Firefox and Opera. */\n",
              "                border: none;\n",
              "                /* Needs to be in here for Safari polyfill so background images work as expected. */\n",
              "                background-size: auto;\n",
              "            }\n",
              "            .progress-bar-interrupted, .progress-bar-interrupted::-webkit-progress-bar {\n",
              "                background: #F44336;\n",
              "            }\n",
              "        </style>\n",
              "      <progress value='99' class='' max='164' style='width:300px; height:20px; vertical-align: middle;'></progress>\n",
              "      60.37% [99/164 12:13<08:01 10.4722]\n",
              "    </div>\n",
              "    "
            ],
            "text/plain": [
              "<IPython.core.display.HTML object>"
            ]
          },
          "metadata": {
            "tags": []
          }
        },
        {
          "output_type": "stream",
          "text": [
            "LR Finder is complete, type {learner_name}.recorder.plot() to see the graph.\n"
          ],
          "name": "stdout"
        }
      ]
    },
    {
      "cell_type": "code",
      "metadata": {
        "id": "-_40CyNHLFQZ",
        "colab_type": "code",
        "colab": {
          "base_uri": "https://localhost:8080/",
          "height": 279
        },
        "outputId": "cba8fcce-7f37-4de6-898f-5805699265db"
      },
      "source": [
        "learn.recorder.plot(skip_end=10)"
      ],
      "execution_count": null,
      "outputs": [
        {
          "output_type": "display_data",
          "data": {
            "image/png": "[encoded data removed]",
            "text/plain": [
              "<Figure size 432x288 with 1 Axes>"
            ]
          },
          "metadata": {
            "tags": [],
            "needs_background": "light"
          }
        }
      ]
    },
    {
      "cell_type": "code",
      "metadata": {
        "colab_type": "code",
        "id": "NeleQHaUetu1",
        "colab": {
          "base_uri": "https://localhost:8080/",
          "height": 80
        },
        "outputId": "312ae371-6500-453f-f8d8-58a5c18ac59b"
      },
      "source": [
        "learn.fit_one_cycle(1, 1e-2, moms=(0.8))"
      ],
      "execution_count": null,
      "outputs": [
        {
          "output_type": "display_data",
          "data": {
            "text/html": [
              "<table border=\"1\" class=\"dataframe\">\n",
              "  <thead>\n",
              "    <tr style=\"text-align: left;\">\n",
              "      <th>epoch</th>\n",
              "      <th>train_loss</th>\n",
              "      <th>valid_loss</th>\n",
              "      <th>accuracy</th>\n",
              "      <th>time</th>\n",
              "    </tr>\n",
              "  </thead>\n",
              "  <tbody>\n",
              "    <tr>\n",
              "      <td>0</td>\n",
              "      <td>3.859790</td>\n",
              "      <td>3.596859</td>\n",
              "      <td>0.288355</td>\n",
              "      <td>20:03</td>\n",
              "    </tr>\n",
              "  </tbody>\n",
              "</table>"
            ],
            "text/plain": [
              "<IPython.core.display.HTML object>"
            ]
          },
          "metadata": {
            "tags": []
          }
        }
      ]
    },
    {
      "cell_type": "code",
      "metadata": {
        "id": "jBpbe4-NLr7f",
        "colab_type": "code",
        "colab": {}
      },
      "source": [
        "learn.save('fit_head')"
      ],
      "execution_count": null,
      "outputs": []
    },
    {
      "cell_type": "code",
      "metadata": {
        "id": "5mamOahhk3tb",
        "colab_type": "code",
        "colab": {
          "base_uri": "https://localhost:8080/",
          "height": 1000
        },
        "outputId": "400dff30-22bc-4d8a-bf2c-76fc7b34c9e9"
      },
      "source": [
        "learn.load('fit_head')"
      ],
      "execution_count": null,
      "outputs": [
        {
          "output_type": "execute_result",
          "data": {
            "text/plain": [
              "LanguageLearner(data=TextLMDataBunch;\n",
              "\n",
              "Train: LabelList (5937 items)\n",
              "x: LMTextList\n",
              "xxbos i bought this mower because i was disgusted at paying a professional $ 150 to do my small yard . xxmaj well , i never mowed in my life and being a city girl in xxmaj new xxmaj jersey i do n't know jack about doing this but i read others reviews and went in and my yard looks great like a professional mowed it . xxmaj so screw hiring the pro 's i just became one with this wonderful toy !,xxbos i have had this mower for 2 months now and it has been great . xxmaj this is my second electric mower and is quite an improvement . xxmaj it has had no trouble with cutting the grass in my yard ( 1 / 4 acre ) . i had to mow the lawn between rains and it still did a good job despite some grass buildup in the mulching mode . xxmaj the battery recharges in less than half an hour , so even if i have not needed to , it is great to know that if i completely deplete the battery i can be back out in less than half an hour to finish what is left . xxmaj with my first mower i would have had to wait at least 8 hours before i could get it fully charged up again . i also like that i can just pull out the battery and charge it indoors and do not have to plug in the whole mower like with my old lead acid battery mower . xxmaj the fold up feature makes it very easy to store the mower in a tight space . xxmaj it is light , powerful , quiet and best of all , no fumes .,xxbos xxmaj have enjoyed the gas free smell and quietness of this mower . i have a slight hill and would have loved to have a sell propelled model but without the bag , it 's easy and light to go up and down the hills . xxmaj good build and easy to clean . xxmaj the handles need the bolts to be xxunk after a while but not a big deal to do .,xxbos i do love it , it 's very easy to move around , does cut good , easy to take apart , i do recommend this very much .,xxbos xxmaj have only used it once . xxmaj it is light enough for me to move around , though a bit heavy to lift in and out of its storage space . xxmaj removing the battery helps . xxmaj my lawn is * tiny * ( about 400 square feet ) , so i wanted a small machine that was more maneuverable than the larger ones . xxmaj one charge is more than sufficient , and i just charge up the battery right away to be ready for next time . xxmaj it was a bit difficult to determine if this was okay to do , but the instruction manual says \" the charger will not switch off and will continue charging to make sure the capacity stays above 90 % . \" xxmaj replacement battery ( lead acid ) is $ xxunk at xxmaj amazon . xxmaj my reel mower gives a much better cut , but at 73 years of age , it 's difficult to push up and down a small slope ; the xxmaj worx is far less work . i 'm not 100 % pleased , but i 'm not sending it back , either ( and that 's good , because you * ca n't * send it back ) .\n",
              "y: LMLabelList\n",
              ",,,,\n",
              "Path: /content/drive/My Drive/Colab Notebooks;\n",
              "\n",
              "Valid: LabelList (1980 items)\n",
              "x: LMTextList\n",
              "xxbos xxmaj when i first saw the box i literally xxup lol xxunk . xxmaj after i put it together i asked myself where do the bubbles go ? xxmaj this is a tiny mower ... xxmaj like the big brother of a kids lawn over . xxmaj then i took it for a test drive . xxmaj my grass was overgrown and there were many dandelions around . xxmaj it cut the grass with some work on my end because the grass had grown so tall . xxmaj it does what it 's suppose to and it does it pretty well . i must say 14 \" in print and 14 \" in reality are two different xxunk . xxmaj the path is very narrow . xxmaj on the plus side this thing being so small is easy to maneuver . xxmaj around trees and xxunk beds . xxmaj the battery after mowing for about 45 minutes still had more than 1 / 3 of its charge left . xxmaj my lot is on an incline as well so going up hill was quite easy with this lawn mower . xxmaj if you are not young like myself , and want an easy lightweight mower , and do n't need your lawn to look xxmaj like a golf green then this is the lawn mower for you . xxmaj right at this point in time i am very happy with this purchase .,xxbos xxmaj love this mower . xxmaj my xxunk and i have decided to quit xxunk money paying other people to care for our pathetic xxmaj florida weed grass . xxmaj we bought a bunch of these greenworks yard tools . xxmaj so happy with all of it . xxmaj the mower is easy to turn on . xxmaj it is super lightweight . xxmaj my 11 year old even mowed yesterday and he 's a bit of a xxunk . xxmaj we have an average to above average size suburban yard . xxmaj we get through with battery life to spare . xxmaj we bag our xxmaj florida weed lawn . xxmaj our lawn has never looked better . ( xxmaj not saying much ) . xxmaj would definitely purchase this mower again .,xxbos xxmaj my wife hurt her back recently using a standard string trimmer so i found this for her . i also have back problems that prevent me from even attempting a standard trimmer . xxmaj she found this easy to use , easy on the back and a great way to mow that strip by the pool that is too small for the lawn tractor . a great investment,xxbos just used it today and it worked great . it was a breeze to put together and use , mows right through grass even on uneven levels . the mower is pretty quiet compared to regular gas mowers and is super lightweight to move around and i enjoy the safety key feature . the bag is large enough to do my whole front yard , but bigger lawns could be a hassle to take out a lot to throw the grass away .,xxbos xxmaj pretty light , easy to move and out together . xxmaj literally a two step start with little to no maintence required on this thing . xxmaj standard battery last roughly an hour to an hour and a half but it recharges within a half hour . xxmaj prime investment .\n",
              "y: LMLabelList\n",
              ",,,,\n",
              "Path: /content/drive/My Drive/Colab Notebooks;\n",
              "\n",
              "Test: None, model=SequentialRNN(\n",
              "  (0): AWD_LSTM(\n",
              "    (encoder): Embedding(6056, 400, padding_idx=1)\n",
              "    (encoder_dp): EmbeddingDropout(\n",
              "      (emb): Embedding(6056, 400, padding_idx=1)\n",
              "    )\n",
              "    (rnns): ModuleList(\n",
              "      (0): WeightDropout(\n",
              "        (module): LSTM(400, 1152, batch_first=True)\n",
              "      )\n",
              "      (1): WeightDropout(\n",
              "        (module): LSTM(1152, 1152, batch_first=True)\n",
              "      )\n",
              "      (2): WeightDropout(\n",
              "        (module): LSTM(1152, 400, batch_first=True)\n",
              "      )\n",
              "    )\n",
              "    (input_dp): RNNDropout()\n",
              "    (hidden_dps): ModuleList(\n",
              "      (0): RNNDropout()\n",
              "      (1): RNNDropout()\n",
              "      (2): RNNDropout()\n",
              "    )\n",
              "  )\n",
              "  (1): LinearDecoder(\n",
              "    (decoder): Linear(in_features=400, out_features=6056, bias=True)\n",
              "    (output_dp): RNNDropout()\n",
              "  )\n",
              "), opt_func=functools.partial(<class 'torch.optim.adam.Adam'>, betas=(0.9, 0.99)), loss_func=FlattenedLoss of CrossEntropyLoss(), metrics=[<function accuracy at 0x7f941e0b6d08>], true_wd=True, bn_wd=True, wd=0.01, train_bn=True, path=PosixPath('/content/drive/My Drive/Colab Notebooks'), model_dir='models', callback_fns=[functools.partial(<class 'fastai.basic_train.Recorder'>, add_time=True, silent=False)], callbacks=[RNNTrainer\n",
              "learn: LanguageLearner(data=TextLMDataBunch;\n",
              "\n",
              "Train: LabelList (5937 items)\n",
              "x: LMTextList\n",
              "xxbos i bought this mower because i was disgusted at paying a professional $ 150 to do my small yard . xxmaj well , i never mowed in my life and being a city girl in xxmaj new xxmaj jersey i do n't know jack about doing this but i read others reviews and went in and my yard looks great like a professional mowed it . xxmaj so screw hiring the pro 's i just became one with this wonderful toy !,xxbos i have had this mower for 2 months now and it has been great . xxmaj this is my second electric mower and is quite an improvement . xxmaj it has had no trouble with cutting the grass in my yard ( 1 / 4 acre ) . i had to mow the lawn between rains and it still did a good job despite some grass buildup in the mulching mode . xxmaj the battery recharges in less than half an hour , so even if i have not needed to , it is great to know that if i completely deplete the battery i can be back out in less than half an hour to finish what is left . xxmaj with my first mower i would have had to wait at least 8 hours before i could get it fully charged up again . i also like that i can just pull out the battery and charge it indoors and do not have to plug in the whole mower like with my old lead acid battery mower . xxmaj the fold up feature makes it very easy to store the mower in a tight space . xxmaj it is light , powerful , quiet and best of all , no fumes .,xxbos xxmaj have enjoyed the gas free smell and quietness of this mower . i have a slight hill and would have loved to have a sell propelled model but without the bag , it 's easy and light to go up and down the hills . xxmaj good build and easy to clean . xxmaj the handles need the bolts to be xxunk after a while but not a big deal to do .,xxbos i do love it , it 's very easy to move around , does cut good , easy to take apart , i do recommend this very much .,xxbos xxmaj have only used it once . xxmaj it is light enough for me to move around , though a bit heavy to lift in and out of its storage space . xxmaj removing the battery helps . xxmaj my lawn is * tiny * ( about 400 square feet ) , so i wanted a small machine that was more maneuverable than the larger ones . xxmaj one charge is more than sufficient , and i just charge up the battery right away to be ready for next time . xxmaj it was a bit difficult to determine if this was okay to do , but the instruction manual says \" the charger will not switch off and will continue charging to make sure the capacity stays above 90 % . \" xxmaj replacement battery ( lead acid ) is $ xxunk at xxmaj amazon . xxmaj my reel mower gives a much better cut , but at 73 years of age , it 's difficult to push up and down a small slope ; the xxmaj worx is far less work . i 'm not 100 % pleased , but i 'm not sending it back , either ( and that 's good , because you * ca n't * send it back ) .\n",
              "y: LMLabelList\n",
              ",,,,\n",
              "Path: /content/drive/My Drive/Colab Notebooks;\n",
              "\n",
              "Valid: LabelList (1980 items)\n",
              "x: LMTextList\n",
              "xxbos xxmaj when i first saw the box i literally xxup lol xxunk . xxmaj after i put it together i asked myself where do the bubbles go ? xxmaj this is a tiny mower ... xxmaj like the big brother of a kids lawn over . xxmaj then i took it for a test drive . xxmaj my grass was overgrown and there were many dandelions around . xxmaj it cut the grass with some work on my end because the grass had grown so tall . xxmaj it does what it 's suppose to and it does it pretty well . i must say 14 \" in print and 14 \" in reality are two different xxunk . xxmaj the path is very narrow . xxmaj on the plus side this thing being so small is easy to maneuver . xxmaj around trees and xxunk beds . xxmaj the battery after mowing for about 45 minutes still had more than 1 / 3 of its charge left . xxmaj my lot is on an incline as well so going up hill was quite easy with this lawn mower . xxmaj if you are not young like myself , and want an easy lightweight mower , and do n't need your lawn to look xxmaj like a golf green then this is the lawn mower for you . xxmaj right at this point in time i am very happy with this purchase .,xxbos xxmaj love this mower . xxmaj my xxunk and i have decided to quit xxunk money paying other people to care for our pathetic xxmaj florida weed grass . xxmaj we bought a bunch of these greenworks yard tools . xxmaj so happy with all of it . xxmaj the mower is easy to turn on . xxmaj it is super lightweight . xxmaj my 11 year old even mowed yesterday and he 's a bit of a xxunk . xxmaj we have an average to above average size suburban yard . xxmaj we get through with battery life to spare . xxmaj we bag our xxmaj florida weed lawn . xxmaj our lawn has never looked better . ( xxmaj not saying much ) . xxmaj would definitely purchase this mower again .,xxbos xxmaj my wife hurt her back recently using a standard string trimmer so i found this for her . i also have back problems that prevent me from even attempting a standard trimmer . xxmaj she found this easy to use , easy on the back and a great way to mow that strip by the pool that is too small for the lawn tractor . a great investment,xxbos just used it today and it worked great . it was a breeze to put together and use , mows right through grass even on uneven levels . the mower is pretty quiet compared to regular gas mowers and is super lightweight to move around and i enjoy the safety key feature . the bag is large enough to do my whole front yard , but bigger lawns could be a hassle to take out a lot to throw the grass away .,xxbos xxmaj pretty light , easy to move and out together . xxmaj literally a two step start with little to no maintence required on this thing . xxmaj standard battery last roughly an hour to an hour and a half but it recharges within a half hour . xxmaj prime investment .\n",
              "y: LMLabelList\n",
              ",,,,\n",
              "Path: /content/drive/My Drive/Colab Notebooks;\n",
              "\n",
              "Test: None, model=SequentialRNN(\n",
              "  (0): AWD_LSTM(\n",
              "    (encoder): Embedding(6056, 400, padding_idx=1)\n",
              "    (encoder_dp): EmbeddingDropout(\n",
              "      (emb): Embedding(6056, 400, padding_idx=1)\n",
              "    )\n",
              "    (rnns): ModuleList(\n",
              "      (0): WeightDropout(\n",
              "        (module): LSTM(400, 1152, batch_first=True)\n",
              "      )\n",
              "      (1): WeightDropout(\n",
              "        (module): LSTM(1152, 1152, batch_first=True)\n",
              "      )\n",
              "      (2): WeightDropout(\n",
              "        (module): LSTM(1152, 400, batch_first=True)\n",
              "      )\n",
              "    )\n",
              "    (input_dp): RNNDropout()\n",
              "    (hidden_dps): ModuleList(\n",
              "      (0): RNNDropout()\n",
              "      (1): RNNDropout()\n",
              "      (2): RNNDropout()\n",
              "    )\n",
              "  )\n",
              "  (1): LinearDecoder(\n",
              "    (decoder): Linear(in_features=400, out_features=6056, bias=True)\n",
              "    (output_dp): RNNDropout()\n",
              "  )\n",
              "), opt_func=functools.partial(<class 'torch.optim.adam.Adam'>, betas=(0.9, 0.99)), loss_func=FlattenedLoss of CrossEntropyLoss(), metrics=[<function accuracy at 0x7f941e0b6d08>], true_wd=True, bn_wd=True, wd=0.01, train_bn=True, path=PosixPath('/content/drive/My Drive/Colab Notebooks'), model_dir='models', callback_fns=[functools.partial(<class 'fastai.basic_train.Recorder'>, add_time=True, silent=False)], callbacks=[...], layer_groups=[Sequential(\n",
              "  (0): WeightDropout(\n",
              "    (module): LSTM(400, 1152, batch_first=True)\n",
              "  )\n",
              "  (1): RNNDropout()\n",
              "), Sequential(\n",
              "  (0): WeightDropout(\n",
              "    (module): LSTM(1152, 1152, batch_first=True)\n",
              "  )\n",
              "  (1): RNNDropout()\n",
              "), Sequential(\n",
              "  (0): WeightDropout(\n",
              "    (module): LSTM(1152, 400, batch_first=True)\n",
              "  )\n",
              "  (1): RNNDropout()\n",
              "), Sequential(\n",
              "  (0): Embedding(6056, 400, padding_idx=1)\n",
              "  (1): EmbeddingDropout(\n",
              "    (emb): Embedding(6056, 400, padding_idx=1)\n",
              "  )\n",
              "  (2): LinearDecoder(\n",
              "    (decoder): Linear(in_features=400, out_features=6056, bias=True)\n",
              "    (output_dp): RNNDropout()\n",
              "  )\n",
              ")], add_time=True, silent=False)\n",
              "alpha: 2.0\n",
              "beta: 1.0], layer_groups=[Sequential(\n",
              "  (0): WeightDropout(\n",
              "    (module): LSTM(400, 1152, batch_first=True)\n",
              "  )\n",
              "  (1): RNNDropout()\n",
              "), Sequential(\n",
              "  (0): WeightDropout(\n",
              "    (module): LSTM(1152, 1152, batch_first=True)\n",
              "  )\n",
              "  (1): RNNDropout()\n",
              "), Sequential(\n",
              "  (0): WeightDropout(\n",
              "    (module): LSTM(1152, 400, batch_first=True)\n",
              "  )\n",
              "  (1): RNNDropout()\n",
              "), Sequential(\n",
              "  (0): Embedding(6056, 400, padding_idx=1)\n",
              "  (1): EmbeddingDropout(\n",
              "    (emb): Embedding(6056, 400, padding_idx=1)\n",
              "  )\n",
              "  (2): LinearDecoder(\n",
              "    (decoder): Linear(in_features=400, out_features=6056, bias=True)\n",
              "    (output_dp): RNNDropout()\n",
              "  )\n",
              ")], add_time=True, silent=False)"
            ]
          },
          "metadata": {
            "tags": []
          },
          "execution_count": 24
        }
      ]
    },
    {
      "cell_type": "code",
      "metadata": {
        "id": "a6Ur9H4HQ3Be",
        "colab_type": "code",
        "colab": {}
      },
      "source": [
        "learn.unfreeze()"
      ],
      "execution_count": null,
      "outputs": []
    },
    {
      "cell_type": "code",
      "metadata": {
        "id": "NKsqly3TfEUY",
        "colab_type": "code",
        "colab": {
          "base_uri": "https://localhost:8080/",
          "height": 359
        },
        "outputId": "d25f02b1-5fc6-42e9-bdc0-0fe3bc9b84dd"
      },
      "source": [
        "learn.fit_one_cycle(10, 1e-2, moms=(0.8))"
      ],
      "execution_count": null,
      "outputs": [
        {
          "output_type": "display_data",
          "data": {
            "text/html": [
              "<table border=\"1\" class=\"dataframe\">\n",
              "  <thead>\n",
              "    <tr style=\"text-align: left;\">\n",
              "      <th>epoch</th>\n",
              "      <th>train_loss</th>\n",
              "      <th>valid_loss</th>\n",
              "      <th>accuracy</th>\n",
              "      <th>time</th>\n",
              "    </tr>\n",
              "  </thead>\n",
              "  <tbody>\n",
              "    <tr>\n",
              "      <td>0</td>\n",
              "      <td>3.570230</td>\n",
              "      <td>3.455630</td>\n",
              "      <td>0.305530</td>\n",
              "      <td>31:11</td>\n",
              "    </tr>\n",
              "    <tr>\n",
              "      <td>1</td>\n",
              "      <td>3.489468</td>\n",
              "      <td>3.441001</td>\n",
              "      <td>0.308171</td>\n",
              "      <td>31:01</td>\n",
              "    </tr>\n",
              "    <tr>\n",
              "      <td>2</td>\n",
              "      <td>3.444572</td>\n",
              "      <td>3.450668</td>\n",
              "      <td>0.305676</td>\n",
              "      <td>31:46</td>\n",
              "    </tr>\n",
              "    <tr>\n",
              "      <td>3</td>\n",
              "      <td>3.313427</td>\n",
              "      <td>3.428931</td>\n",
              "      <td>0.310536</td>\n",
              "      <td>31:14</td>\n",
              "    </tr>\n",
              "    <tr>\n",
              "      <td>4</td>\n",
              "      <td>3.178015</td>\n",
              "      <td>3.394184</td>\n",
              "      <td>0.315352</td>\n",
              "      <td>30:29</td>\n",
              "    </tr>\n",
              "    <tr>\n",
              "      <td>5</td>\n",
              "      <td>2.962911</td>\n",
              "      <td>3.376781</td>\n",
              "      <td>0.319372</td>\n",
              "      <td>30:30</td>\n",
              "    </tr>\n",
              "    <tr>\n",
              "      <td>6</td>\n",
              "      <td>2.733386</td>\n",
              "      <td>3.375448</td>\n",
              "      <td>0.323030</td>\n",
              "      <td>30:19</td>\n",
              "    </tr>\n",
              "    <tr>\n",
              "      <td>7</td>\n",
              "      <td>2.442789</td>\n",
              "      <td>3.403912</td>\n",
              "      <td>0.324573</td>\n",
              "      <td>30:44</td>\n",
              "    </tr>\n",
              "    <tr>\n",
              "      <td>8</td>\n",
              "      <td>2.227167</td>\n",
              "      <td>3.438641</td>\n",
              "      <td>0.325254</td>\n",
              "      <td>31:18</td>\n",
              "    </tr>\n",
              "    <tr>\n",
              "      <td>9</td>\n",
              "      <td>2.112695</td>\n",
              "      <td>3.459796</td>\n",
              "      <td>0.324123</td>\n",
              "      <td>30:22</td>\n",
              "    </tr>\n",
              "  </tbody>\n",
              "</table>"
            ],
            "text/plain": [
              "<IPython.core.display.HTML object>"
            ]
          },
          "metadata": {
            "tags": []
          }
        }
      ]
    },
    {
      "cell_type": "code",
      "metadata": {
        "id": "RgFVwl-lnJ9Z",
        "colab_type": "code",
        "colab": {}
      },
      "source": [
        "learn.save('fine_tuned')"
      ],
      "execution_count": null,
      "outputs": []
    },
    {
      "cell_type": "code",
      "metadata": {
        "id": "Et6HSO1RnLEP",
        "colab_type": "code",
        "colab": {}
      },
      "source": [
        "learn.load('fine_tuned');"
      ],
      "execution_count": null,
      "outputs": []
    },
    {
      "cell_type": "code",
      "metadata": {
        "id": "dTsCoGf6nPq1",
        "colab_type": "code",
        "colab": {}
      },
      "source": [
        "TEXT = \"This mower\"\n",
        "N_WORDS = 20\n",
        "N_SENTENCES = 3"
      ],
      "execution_count": null,
      "outputs": []
    },
    {
      "cell_type": "code",
      "metadata": {
        "id": "OCPjXSHAnilC",
        "colab_type": "code",
        "colab": {
          "base_uri": "https://localhost:8080/",
          "height": 68
        },
        "outputId": "7acfec86-2dde-4d96-aa5d-0a8bd17f60cb"
      },
      "source": [
        "print(\"\\n\".join(learn.predict(TEXT, N_WORDS, temperature=0.75) for _ in range(N_SENTENCES)))"
      ],
      "execution_count": null,
      "outputs": [
        {
          "output_type": "stream",
          "text": [
            "This mower is light enough to maneuver , ease of use , and easy to operate . i mowed the entire yard\n",
            "This mower is really small . i have a small ( ish ) yard , but it was too difficult to get\n",
            "This mower works great for me . It is easy to assemble and i do n't have to pull and start\n"
          ],
          "name": "stdout"
        }
      ]
    },
    {
      "cell_type": "code",
      "metadata": {
        "id": "fb-24f-EnmIA",
        "colab_type": "code",
        "colab": {}
      },
      "source": [
        "learn.save_encoder('fine_tuned_enc')"
      ],
      "execution_count": null,
      "outputs": []
    },
    {
      "cell_type": "code",
      "metadata": {
        "id": "yRKPm7NepY5v",
        "colab_type": "code",
        "colab": {
          "base_uri": "https://localhost:8080/",
          "height": 34
        },
        "outputId": "1f83d6c0-7e16-4c49-f34d-0a9497f530a2"
      },
      "source": [
        "type(data)"
      ],
      "execution_count": null,
      "outputs": [
        {
          "output_type": "execute_result",
          "data": {
            "text/plain": [
              "fastai.text.data.TextLMDataBunch"
            ]
          },
          "metadata": {
            "tags": []
          },
          "execution_count": 54
        }
      ]
    },
    {
      "cell_type": "code",
      "metadata": {
        "id": "OjROwBkxpcNy",
        "colab_type": "code",
        "colab": {}
      },
      "source": [
        "data = pd.read_csv('/content/drive/My Drive/Colab Notebooks/NLP_AMZ.csv', engine = 'python')\n",
        "data.dropna(inplace=True)"
      ],
      "execution_count": null,
      "outputs": []
    },
    {
      "cell_type": "code",
      "metadata": {
        "id": "tdjDYccGpxhc",
        "colab_type": "code",
        "colab": {
          "base_uri": "https://localhost:8080/",
          "height": 34
        },
        "outputId": "298d2344-24ef-4661-a191-06e98458a1b1"
      },
      "source": [
        "type(data)"
      ],
      "execution_count": null,
      "outputs": [
        {
          "output_type": "execute_result",
          "data": {
            "text/plain": [
              "pandas.core.frame.DataFrame"
            ]
          },
          "metadata": {
            "tags": []
          },
          "execution_count": 56
        }
      ]
    },
    {
      "cell_type": "code",
      "metadata": {
        "id": "t6uhgPA_p0hs",
        "colab_type": "code",
        "colab": {
          "base_uri": "https://localhost:8080/",
          "height": 204
        },
        "outputId": "ec67816a-15d8-4cc2-9033-68fefa50e15e"
      },
      "source": [
        "data.head()"
      ],
      "execution_count": null,
      "outputs": [
        {
          "output_type": "execute_result",
          "data": {
            "text/html": [
              "<div>\n",
              "<style scoped>\n",
              "    .dataframe tbody tr th:only-of-type {\n",
              "        vertical-align: middle;\n",
              "    }\n",
              "\n",
              "    .dataframe tbody tr th {\n",
              "        vertical-align: top;\n",
              "    }\n",
              "\n",
              "    .dataframe thead th {\n",
              "        text-align: right;\n",
              "    }\n",
              "</style>\n",
              "<table border=\"1\" class=\"dataframe\">\n",
              "  <thead>\n",
              "    <tr style=\"text-align: right;\">\n",
              "      <th></th>\n",
              "      <th>Annontation</th>\n",
              "      <th>Review</th>\n",
              "    </tr>\n",
              "  </thead>\n",
              "  <tbody>\n",
              "    <tr>\n",
              "      <th>0</th>\n",
              "      <td>0</td>\n",
              "      <td>I've only used this product 3 times so far. Th...</td>\n",
              "    </tr>\n",
              "    <tr>\n",
              "      <th>1</th>\n",
              "      <td>0</td>\n",
              "      <td>very poor battery life, but it's quiet!</td>\n",
              "    </tr>\n",
              "    <tr>\n",
              "      <th>2</th>\n",
              "      <td>0</td>\n",
              "      <td>Pros:Quiet, easy to use mower that can both mu...</td>\n",
              "    </tr>\n",
              "    <tr>\n",
              "      <th>3</th>\n",
              "      <td>0</td>\n",
              "      <td>I'm in love with this machine! Quiet, cuts cle...</td>\n",
              "    </tr>\n",
              "    <tr>\n",
              "      <th>4</th>\n",
              "      <td>3</td>\n",
              "      <td>I bought this in Spring 2015 and I've used it ...</td>\n",
              "    </tr>\n",
              "  </tbody>\n",
              "</table>\n",
              "</div>"
            ],
            "text/plain": [
              "   Annontation                                             Review\n",
              "0            0  I've only used this product 3 times so far. Th...\n",
              "1            0            very poor battery life, but it's quiet!\n",
              "2            0  Pros:Quiet, easy to use mower that can both mu...\n",
              "3            0  I'm in love with this machine! Quiet, cuts cle...\n",
              "4            3  I bought this in Spring 2015 and I've used it ..."
            ]
          },
          "metadata": {
            "tags": []
          },
          "execution_count": 57
        }
      ]
    },
    {
      "cell_type": "code",
      "metadata": {
        "id": "zONOL2i6p5Yg",
        "colab_type": "code",
        "colab": {
          "base_uri": "https://localhost:8080/",
          "height": 359
        },
        "outputId": "a2c94735-0f56-4e25-c0e7-7018466893f6"
      },
      "source": [
        "data_temp = data[data['Annontation'] != 3]\n",
        "data_temp.sample(10)"
      ],
      "execution_count": null,
      "outputs": [
        {
          "output_type": "execute_result",
          "data": {
            "text/html": [
              "<div>\n",
              "<style scoped>\n",
              "    .dataframe tbody tr th:only-of-type {\n",
              "        vertical-align: middle;\n",
              "    }\n",
              "\n",
              "    .dataframe tbody tr th {\n",
              "        vertical-align: top;\n",
              "    }\n",
              "\n",
              "    .dataframe thead th {\n",
              "        text-align: right;\n",
              "    }\n",
              "</style>\n",
              "<table border=\"1\" class=\"dataframe\">\n",
              "  <thead>\n",
              "    <tr style=\"text-align: right;\">\n",
              "      <th></th>\n",
              "      <th>Annontation</th>\n",
              "      <th>Review</th>\n",
              "    </tr>\n",
              "  </thead>\n",
              "  <tbody>\n",
              "    <tr>\n",
              "      <th>6512</th>\n",
              "      <td>0</td>\n",
              "      <td>Highly recommend.  Great product for your aver...</td>\n",
              "    </tr>\n",
              "    <tr>\n",
              "      <th>6545</th>\n",
              "      <td>0</td>\n",
              "      <td>quiet, light weight, nice cutting results and ...</td>\n",
              "    </tr>\n",
              "    <tr>\n",
              "      <th>6584</th>\n",
              "      <td>0</td>\n",
              "      <td>Works like a champ  Very light and easy to use...</td>\n",
              "    </tr>\n",
              "    <tr>\n",
              "      <th>6445</th>\n",
              "      <td>0</td>\n",
              "      <td>I have about 5000 sq ft, not sure how big that...</td>\n",
              "    </tr>\n",
              "    <tr>\n",
              "      <th>4010</th>\n",
              "      <td>0</td>\n",
              "      <td>This mower has been great. I have used it abou...</td>\n",
              "    </tr>\n",
              "    <tr>\n",
              "      <th>6862</th>\n",
              "      <td>0</td>\n",
              "      <td>Works great better than I thought originally. ...</td>\n",
              "    </tr>\n",
              "    <tr>\n",
              "      <th>6243</th>\n",
              "      <td>0</td>\n",
              "      <td>I have had this mower for a year now and  abso...</td>\n",
              "    </tr>\n",
              "    <tr>\n",
              "      <th>4136</th>\n",
              "      <td>0</td>\n",
              "      <td>This product was a great price, but difficult ...</td>\n",
              "    </tr>\n",
              "    <tr>\n",
              "      <th>4314</th>\n",
              "      <td>0</td>\n",
              "      <td>I assured the battery was fully charged and sh...</td>\n",
              "    </tr>\n",
              "    <tr>\n",
              "      <th>6173</th>\n",
              "      <td>0</td>\n",
              "      <td>2 years later and still holding up well. I wou...</td>\n",
              "    </tr>\n",
              "  </tbody>\n",
              "</table>\n",
              "</div>"
            ],
            "text/plain": [
              "      Annontation                                             Review\n",
              "6512            0  Highly recommend.  Great product for your aver...\n",
              "6545            0  quiet, light weight, nice cutting results and ...\n",
              "6584            0  Works like a champ  Very light and easy to use...\n",
              "6445            0  I have about 5000 sq ft, not sure how big that...\n",
              "4010            0  This mower has been great. I have used it abou...\n",
              "6862            0  Works great better than I thought originally. ...\n",
              "6243            0  I have had this mower for a year now and  abso...\n",
              "4136            0  This product was a great price, but difficult ...\n",
              "4314            0  I assured the battery was fully charged and sh...\n",
              "6173            0  2 years later and still holding up well. I wou..."
            ]
          },
          "metadata": {
            "tags": []
          },
          "execution_count": 12
        }
      ]
    },
    {
      "cell_type": "code",
      "metadata": {
        "id": "gkF5brWop85f",
        "colab_type": "code",
        "colab": {
          "base_uri": "https://localhost:8080/",
          "height": 34
        },
        "outputId": "54e9b0f0-43aa-4143-d98d-06300428bf04"
      },
      "source": [
        "data_temp.shape"
      ],
      "execution_count": null,
      "outputs": [
        {
          "output_type": "execute_result",
          "data": {
            "text/plain": [
              "(4254, 2)"
            ]
          },
          "metadata": {
            "tags": []
          },
          "execution_count": 6
        }
      ]
    },
    {
      "cell_type": "code",
      "metadata": {
        "id": "H7TEUm6Fvd0r",
        "colab_type": "code",
        "colab": {}
      },
      "source": [
        "# split data into training and validation set\n",
        "df_train, df_val = train_test_split(data_temp, stratify = data_temp['Annontation'], test_size = 0.4, random_state = 123)"
      ],
      "execution_count": null,
      "outputs": []
    },
    {
      "cell_type": "code",
      "metadata": {
        "id": "ZPaT-06I7Rwk",
        "colab_type": "code",
        "colab": {
          "base_uri": "https://localhost:8080/",
          "height": 565
        },
        "outputId": "e6b028d6-8b2e-44bc-89d3-754a810c9964"
      },
      "source": [
        "# Language model data\n",
        "data_lm = TextLMDataBunch.from_df(train_df = df_train, valid_df = df_val, path = path)\n",
        "\n",
        "lang_mod = language_model_learner(data_lm,  arch = AWD_LSTM, pretrained = True, drop_mult=0.7)\n",
        "\n",
        "lang_mod.fit_one_cycle(4, max_lr= 5e-02)\n",
        "lang_mod.freeze_to(-1)\n",
        "lang_mod.fit_one_cycle(3, slice(1e-2/(2.6**4), 1e-2))\n",
        "lang_mod.freeze_to(-2)\n",
        "lang_mod.fit_one_cycle(3, slice(3e-3/(2.6**4), 1e-3))\n",
        "lang_mod.unfreeze()\n",
        "lang_mod.fit_one_cycle(3, slice(3e-3/(2.6**4), 1e-3))\n",
        "\n",
        "lang_mod.save_encoder('MC_encoder')"
      ],
      "execution_count": null,
      "outputs": [
        {
          "output_type": "display_data",
          "data": {
            "text/html": [
              ""
            ],
            "text/plain": [
              "<IPython.core.display.HTML object>"
            ]
          },
          "metadata": {
            "tags": []
          }
        },
        {
          "output_type": "display_data",
          "data": {
            "text/html": [
              ""
            ],
            "text/plain": [
              "<IPython.core.display.HTML object>"
            ]
          },
          "metadata": {
            "tags": []
          }
        },
        {
          "output_type": "stream",
          "text": [
            "Downloading https://s3.amazonaws.com/fast-ai-modelzoo/wt103-fwd.tgz\n"
          ],
          "name": "stdout"
        },
        {
          "output_type": "display_data",
          "data": {
            "text/html": [
              ""
            ],
            "text/plain": [
              "<IPython.core.display.HTML object>"
            ]
          },
          "metadata": {
            "tags": []
          }
        },
        {
          "output_type": "display_data",
          "data": {
            "text/html": [
              "<table border=\"1\" class=\"dataframe\">\n",
              "  <thead>\n",
              "    <tr style=\"text-align: left;\">\n",
              "      <th>epoch</th>\n",
              "      <th>train_loss</th>\n",
              "      <th>valid_loss</th>\n",
              "      <th>accuracy</th>\n",
              "      <th>time</th>\n",
              "    </tr>\n",
              "  </thead>\n",
              "  <tbody>\n",
              "    <tr>\n",
              "      <td>0</td>\n",
              "      <td>4.140207</td>\n",
              "      <td>3.719869</td>\n",
              "      <td>0.272852</td>\n",
              "      <td>00:10</td>\n",
              "    </tr>\n",
              "    <tr>\n",
              "      <td>1</td>\n",
              "      <td>3.873925</td>\n",
              "      <td>3.688541</td>\n",
              "      <td>0.278767</td>\n",
              "      <td>00:10</td>\n",
              "    </tr>\n",
              "    <tr>\n",
              "      <td>2</td>\n",
              "      <td>3.603631</td>\n",
              "      <td>3.581672</td>\n",
              "      <td>0.290346</td>\n",
              "      <td>00:11</td>\n",
              "    </tr>\n",
              "    <tr>\n",
              "      <td>3</td>\n",
              "      <td>3.345300</td>\n",
              "      <td>3.540919</td>\n",
              "      <td>0.297182</td>\n",
              "      <td>00:11</td>\n",
              "    </tr>\n",
              "  </tbody>\n",
              "</table>"
            ],
            "text/plain": [
              "<IPython.core.display.HTML object>"
            ]
          },
          "metadata": {
            "tags": []
          }
        },
        {
          "output_type": "display_data",
          "data": {
            "text/html": [
              "<table border=\"1\" class=\"dataframe\">\n",
              "  <thead>\n",
              "    <tr style=\"text-align: left;\">\n",
              "      <th>epoch</th>\n",
              "      <th>train_loss</th>\n",
              "      <th>valid_loss</th>\n",
              "      <th>accuracy</th>\n",
              "      <th>time</th>\n",
              "    </tr>\n",
              "  </thead>\n",
              "  <tbody>\n",
              "    <tr>\n",
              "      <td>0</td>\n",
              "      <td>3.251701</td>\n",
              "      <td>3.543442</td>\n",
              "      <td>0.296512</td>\n",
              "      <td>00:11</td>\n",
              "    </tr>\n",
              "    <tr>\n",
              "      <td>1</td>\n",
              "      <td>3.234377</td>\n",
              "      <td>3.524535</td>\n",
              "      <td>0.300112</td>\n",
              "      <td>00:11</td>\n",
              "    </tr>\n",
              "    <tr>\n",
              "      <td>2</td>\n",
              "      <td>3.154293</td>\n",
              "      <td>3.521230</td>\n",
              "      <td>0.300167</td>\n",
              "      <td>00:12</td>\n",
              "    </tr>\n",
              "  </tbody>\n",
              "</table>"
            ],
            "text/plain": [
              "<IPython.core.display.HTML object>"
            ]
          },
          "metadata": {
            "tags": []
          }
        },
        {
          "output_type": "display_data",
          "data": {
            "text/html": [
              "<table border=\"1\" class=\"dataframe\">\n",
              "  <thead>\n",
              "    <tr style=\"text-align: left;\">\n",
              "      <th>epoch</th>\n",
              "      <th>train_loss</th>\n",
              "      <th>valid_loss</th>\n",
              "      <th>accuracy</th>\n",
              "      <th>time</th>\n",
              "    </tr>\n",
              "  </thead>\n",
              "  <tbody>\n",
              "    <tr>\n",
              "      <td>0</td>\n",
              "      <td>3.111946</td>\n",
              "      <td>3.502082</td>\n",
              "      <td>0.301869</td>\n",
              "      <td>00:13</td>\n",
              "    </tr>\n",
              "    <tr>\n",
              "      <td>1</td>\n",
              "      <td>3.085890</td>\n",
              "      <td>3.489872</td>\n",
              "      <td>0.303655</td>\n",
              "      <td>00:13</td>\n",
              "    </tr>\n",
              "    <tr>\n",
              "      <td>2</td>\n",
              "      <td>3.051795</td>\n",
              "      <td>3.486257</td>\n",
              "      <td>0.304743</td>\n",
              "      <td>00:12</td>\n",
              "    </tr>\n",
              "  </tbody>\n",
              "</table>"
            ],
            "text/plain": [
              "<IPython.core.display.HTML object>"
            ]
          },
          "metadata": {
            "tags": []
          }
        },
        {
          "output_type": "display_data",
          "data": {
            "text/html": [
              "<table border=\"1\" class=\"dataframe\">\n",
              "  <thead>\n",
              "    <tr style=\"text-align: left;\">\n",
              "      <th>epoch</th>\n",
              "      <th>train_loss</th>\n",
              "      <th>valid_loss</th>\n",
              "      <th>accuracy</th>\n",
              "      <th>time</th>\n",
              "    </tr>\n",
              "  </thead>\n",
              "  <tbody>\n",
              "    <tr>\n",
              "      <td>0</td>\n",
              "      <td>3.036014</td>\n",
              "      <td>3.476424</td>\n",
              "      <td>0.305859</td>\n",
              "      <td>00:16</td>\n",
              "    </tr>\n",
              "    <tr>\n",
              "      <td>1</td>\n",
              "      <td>3.005306</td>\n",
              "      <td>3.464228</td>\n",
              "      <td>0.308092</td>\n",
              "      <td>00:16</td>\n",
              "    </tr>\n",
              "    <tr>\n",
              "      <td>2</td>\n",
              "      <td>2.964498</td>\n",
              "      <td>3.463974</td>\n",
              "      <td>0.308119</td>\n",
              "      <td>00:16</td>\n",
              "    </tr>\n",
              "  </tbody>\n",
              "</table>"
            ],
            "text/plain": [
              "<IPython.core.display.HTML object>"
            ]
          },
          "metadata": {
            "tags": []
          }
        }
      ]
    },
    {
      "cell_type": "code",
      "metadata": {
        "id": "_SyxWoek45Rl",
        "colab_type": "code",
        "colab": {
          "base_uri": "https://localhost:8080/",
          "height": 34
        },
        "outputId": "5b8417c7-7493-49bb-eec9-24eb611912df"
      },
      "source": [
        "data_lm.train_ds.vocab"
      ],
      "execution_count": null,
      "outputs": [
        {
          "output_type": "execute_result",
          "data": {
            "text/plain": [
              "<fastai.text.transform.Vocab at 0x7f940df0b1d0>"
            ]
          },
          "metadata": {
            "tags": []
          },
          "execution_count": 97
        }
      ]
    },
    {
      "cell_type": "code",
      "metadata": {
        "id": "VW87YHOF5Fki",
        "colab_type": "code",
        "colab": {
          "base_uri": "https://localhost:8080/",
          "height": 17
        },
        "outputId": "1e194fb3-f2bc-4edf-8f06-ddcfe400b431"
      },
      "source": [
        "# Classifier model data\n",
        "data_clas = TextClasDataBunch.from_df(path = \"\", train_df = df_train,  valid_df = df_val, vocab=data_lm.train_ds.vocab, bs=48)\n",
        "data_clas.save('data_clas.pkl')"
      ],
      "execution_count": null,
      "outputs": [
        {
          "output_type": "display_data",
          "data": {
            "text/html": [
              ""
            ],
            "text/plain": [
              "<IPython.core.display.HTML object>"
            ]
          },
          "metadata": {
            "tags": []
          }
        },
        {
          "output_type": "display_data",
          "data": {
            "text/html": [
              ""
            ],
            "text/plain": [
              "<IPython.core.display.HTML object>"
            ]
          },
          "metadata": {
            "tags": []
          }
        }
      ]
    },
    {
      "cell_type": "code",
      "metadata": {
        "id": "TEk2HNLE3NC6",
        "colab_type": "code",
        "colab": {
          "base_uri": "https://localhost:8080/",
          "height": 374
        },
        "outputId": "5a948f0b-6a8b-4aee-d6aa-91ed29df0700"
      },
      "source": [
        "data_clas.show_batch()"
      ],
      "execution_count": null,
      "outputs": [
        {
          "output_type": "stream",
          "text": [
            "/usr/local/lib/python3.6/dist-packages/fastai/text/data.py:339: UserWarning: This overload of nonzero is deprecated:\n",
            "\tnonzero()\n",
            "Consider using one of the following signatures instead:\n",
            "\tnonzero(*, bool as_tuple) (Triggered internally at  /pytorch/torch/csrc/utils/python_arg_parser.cpp:766.)\n",
            "  idx_min = (t != self.pad_idx).nonzero().min()\n"
          ],
          "name": "stderr"
        },
        {
          "output_type": "display_data",
          "data": {
            "text/html": [
              "<table border=\"1\" class=\"dataframe\">\n",
              "  <thead>\n",
              "    <tr style=\"text-align: right;\">\n",
              "      <th>text</th>\n",
              "      <th>target</th>\n",
              "    </tr>\n",
              "  </thead>\n",
              "  <tbody>\n",
              "    <tr>\n",
              "      <td>xxbos i really wanted to give this product a five star rating , but some issues emerged that dropped it to only three stars . xxmaj first , the battery i received is a dud . xxmaj after charging it fully it lasts less than 20 minutes under very light duty mowing conditions . i recharged it several times with the same poor results , and when i checked it</td>\n",
              "      <td>1</td>\n",
              "    </tr>\n",
              "    <tr>\n",
              "      <td>xxbos xxmaj purchasing this xxmaj greenworks mower was a leap of faith for me . i have a very large ( xxunk sf ) and somewhat hilly lawn , and for the past 15 years i 've used a big , twin - bladed , 33 \" cutting path , xxunk hp , self - propelled , four - speed , semi - pro xxmaj craftsman lawnmower . xxmaj it</td>\n",
              "      <td>0</td>\n",
              "    </tr>\n",
              "    <tr>\n",
              "      <td>xxbos xxmaj received my 25242 mower early this week . xxmaj have been working on mowing 1 / 2 acre ( with 16 \" cut , that is xxunk miles of walking ) overgrown lawn , after constant xxunk rains . i know , the manual says \" xxmaj do n't do that ! \" ( mulching wet grass ) but alas , i live in xxmaj portland xxmaj oregon</td>\n",
              "      <td>0</td>\n",
              "    </tr>\n",
              "    <tr>\n",
              "      <td>xxbos i 've only used this product 3 times so far . xxmaj the first 2 times were great , and this 3rd time today was n't the best , but that 's my fault - let me explain . xxmaj the manual says performance will be worse , especially when mulching , with wet grass . i have never had to mow a lawn before , and this was</td>\n",
              "      <td>0</td>\n",
              "    </tr>\n",
              "    <tr>\n",
              "      <td>xxbos i do n't know if it was time to replace my gas mower . xxmaj it worked well enough . xxmaj sure one of the wheels was xxunk and fell off twice while mowing , and it sometimes took a few ( 10 ) pulls to get it started , but it did start and cut pretty well . xxmaj it mulched , bagged , etc . , and</td>\n",
              "      <td>0</td>\n",
              "    </tr>\n",
              "  </tbody>\n",
              "</table>"
            ],
            "text/plain": [
              "<IPython.core.display.HTML object>"
            ]
          },
          "metadata": {
            "tags": []
          }
        }
      ]
    },
    {
      "cell_type": "code",
      "metadata": {
        "id": "7t9fmkPo6Uit",
        "colab_type": "code",
        "colab": {}
      },
      "source": [
        "learn_classifier = text_classifier_learner(data_clas, drop_mult=0.7, arch = AWD_LSTM)"
      ],
      "execution_count": null,
      "outputs": []
    },
    {
      "cell_type": "code",
      "metadata": {
        "id": "eZSLNCJvEy6k",
        "colab_type": "code",
        "colab": {}
      },
      "source": [
        "model = torch.load('/content/drive/My Drive/Colab Notebooks/models/MC_encoder.pth')"
      ],
      "execution_count": null,
      "outputs": []
    },
    {
      "cell_type": "code",
      "metadata": {
        "id": "WsY_Dt4kB8PM",
        "colab_type": "code",
        "colab": {
          "base_uri": "https://localhost:8080/",
          "height": 663
        },
        "outputId": "845db11b-fc59-4d91-e268-fa5a235a96e0"
      },
      "source": [
        "learn_classifier.model"
      ],
      "execution_count": null,
      "outputs": [
        {
          "output_type": "execute_result",
          "data": {
            "text/plain": [
              "SequentialRNN(\n",
              "  (0): MultiBatchEncoder(\n",
              "    (module): AWD_LSTM(\n",
              "      (encoder): Embedding(4624, 400, padding_idx=1)\n",
              "      (encoder_dp): EmbeddingDropout(\n",
              "        (emb): Embedding(4624, 400, padding_idx=1)\n",
              "      )\n",
              "      (rnns): ModuleList(\n",
              "        (0): WeightDropout(\n",
              "          (module): LSTM(400, 1152, batch_first=True)\n",
              "        )\n",
              "        (1): WeightDropout(\n",
              "          (module): LSTM(1152, 1152, batch_first=True)\n",
              "        )\n",
              "        (2): WeightDropout(\n",
              "          (module): LSTM(1152, 400, batch_first=True)\n",
              "        )\n",
              "      )\n",
              "      (input_dp): RNNDropout()\n",
              "      (hidden_dps): ModuleList(\n",
              "        (0): RNNDropout()\n",
              "        (1): RNNDropout()\n",
              "        (2): RNNDropout()\n",
              "      )\n",
              "    )\n",
              "  )\n",
              "  (1): PoolingLinearClassifier(\n",
              "    (layers): Sequential(\n",
              "      (0): BatchNorm1d(1200, eps=1e-05, momentum=0.1, affine=True, track_running_stats=True)\n",
              "      (1): Dropout(p=0.27999999999999997, inplace=False)\n",
              "      (2): Linear(in_features=1200, out_features=50, bias=True)\n",
              "      (3): ReLU(inplace=True)\n",
              "      (4): BatchNorm1d(50, eps=1e-05, momentum=0.1, affine=True, track_running_stats=True)\n",
              "      (5): Dropout(p=0.1, inplace=False)\n",
              "      (6): Linear(in_features=50, out_features=2, bias=True)\n",
              "    )\n",
              "  )\n",
              ")"
            ]
          },
          "metadata": {
            "tags": []
          },
          "execution_count": 30
        }
      ]
    },
    {
      "cell_type": "code",
      "metadata": {
        "id": "ltWHZaZ5CZuB",
        "colab_type": "code",
        "colab": {
          "base_uri": "https://localhost:8080/",
          "height": 439
        },
        "outputId": "16871c5a-41fd-4d59-8334-3bf2acc2c24f"
      },
      "source": [
        "learn_classifier.lr_find()\n",
        "learn_classifier.recorder.plot(suggestion=True)"
      ],
      "execution_count": null,
      "outputs": [
        {
          "output_type": "display_data",
          "data": {
            "text/html": [
              "\n",
              "    <div>\n",
              "        <style>\n",
              "            /* Turns off some styling */\n",
              "            progress {\n",
              "                /* gets rid of default border in Firefox and Opera. */\n",
              "                border: none;\n",
              "                /* Needs to be in here for Safari polyfill so background images work as expected. */\n",
              "                background-size: auto;\n",
              "            }\n",
              "            .progress-bar-interrupted, .progress-bar-interrupted::-webkit-progress-bar {\n",
              "                background: #F44336;\n",
              "            }\n",
              "        </style>\n",
              "      <progress value='1' class='' max='2' style='width:300px; height:20px; vertical-align: middle;'></progress>\n",
              "      50.00% [1/2 00:08<00:08]\n",
              "    </div>\n",
              "    \n",
              "<table border=\"1\" class=\"dataframe\">\n",
              "  <thead>\n",
              "    <tr style=\"text-align: left;\">\n",
              "      <th>epoch</th>\n",
              "      <th>train_loss</th>\n",
              "      <th>valid_loss</th>\n",
              "      <th>accuracy</th>\n",
              "      <th>time</th>\n",
              "    </tr>\n",
              "  </thead>\n",
              "  <tbody>\n",
              "    <tr>\n",
              "      <td>0</td>\n",
              "      <td>0.591822</td>\n",
              "      <td>#na#</td>\n",
              "      <td>00:08</td>\n",
              "    </tr>\n",
              "  </tbody>\n",
              "</table><p>\n",
              "\n",
              "    <div>\n",
              "        <style>\n",
              "            /* Turns off some styling */\n",
              "            progress {\n",
              "                /* gets rid of default border in Firefox and Opera. */\n",
              "                border: none;\n",
              "                /* Needs to be in here for Safari polyfill so background images work as expected. */\n",
              "                background-size: auto;\n",
              "            }\n",
              "            .progress-bar-interrupted, .progress-bar-interrupted::-webkit-progress-bar {\n",
              "                background: #F44336;\n",
              "            }\n",
              "        </style>\n",
              "      <progress value='15' class='' max='79' style='width:300px; height:20px; vertical-align: middle;'></progress>\n",
              "      18.99% [15/79 00:02<00:11 2.2054]\n",
              "    </div>\n",
              "    "
            ],
            "text/plain": [
              "<IPython.core.display.HTML object>"
            ]
          },
          "metadata": {
            "tags": []
          }
        },
        {
          "output_type": "stream",
          "text": [
            "LR Finder is complete, type {learner_name}.recorder.plot() to see the graph.\n",
            "Min numerical gradient: 8.32E-02\n",
            "Min loss divided by 10: 1.74E-02\n"
          ],
          "name": "stdout"
        },
        {
          "output_type": "display_data",
          "data": {
            "image/png": "[encoded data removed]",
            "text/plain": [
              "<Figure size 432x288 with 1 Axes>"
            ]
          },
          "metadata": {
            "tags": [],
            "needs_background": "light"
          }
        }
      ]
    },
    {
      "cell_type": "code",
      "metadata": {
        "id": "0m0RJMMEGnGg",
        "colab_type": "code",
        "colab": {
          "base_uri": "https://localhost:8080/",
          "height": 204
        },
        "outputId": "71ab02d9-4025-4dad-940b-6df286aa8340"
      },
      "source": [
        "learn_classifier.fit_one_cycle(5, max_lr=1e-2, moms=(0.8,0.7))"
      ],
      "execution_count": null,
      "outputs": [
        {
          "output_type": "display_data",
          "data": {
            "text/html": [
              "<table border=\"1\" class=\"dataframe\">\n",
              "  <thead>\n",
              "    <tr style=\"text-align: left;\">\n",
              "      <th>epoch</th>\n",
              "      <th>train_loss</th>\n",
              "      <th>valid_loss</th>\n",
              "      <th>accuracy</th>\n",
              "      <th>time</th>\n",
              "    </tr>\n",
              "  </thead>\n",
              "  <tbody>\n",
              "    <tr>\n",
              "      <td>0</td>\n",
              "      <td>0.513656</td>\n",
              "      <td>0.310742</td>\n",
              "      <td>0.929577</td>\n",
              "      <td>00:09</td>\n",
              "    </tr>\n",
              "    <tr>\n",
              "      <td>1</td>\n",
              "      <td>0.325803</td>\n",
              "      <td>0.259621</td>\n",
              "      <td>0.929577</td>\n",
              "      <td>00:09</td>\n",
              "    </tr>\n",
              "    <tr>\n",
              "      <td>2</td>\n",
              "      <td>0.270298</td>\n",
              "      <td>0.274128</td>\n",
              "      <td>0.929577</td>\n",
              "      <td>00:10</td>\n",
              "    </tr>\n",
              "    <tr>\n",
              "      <td>3</td>\n",
              "      <td>0.252641</td>\n",
              "      <td>0.271177</td>\n",
              "      <td>0.929577</td>\n",
              "      <td>00:10</td>\n",
              "    </tr>\n",
              "    <tr>\n",
              "      <td>4</td>\n",
              "      <td>0.268544</td>\n",
              "      <td>0.310872</td>\n",
              "      <td>0.929577</td>\n",
              "      <td>00:10</td>\n",
              "    </tr>\n",
              "  </tbody>\n",
              "</table>"
            ],
            "text/plain": [
              "<IPython.core.display.HTML object>"
            ]
          },
          "metadata": {
            "tags": []
          }
        }
      ]
    },
    {
      "cell_type": "code",
      "metadata": {
        "id": "4i9Gg6xUG3kA",
        "colab_type": "code",
        "colab": {
          "base_uri": "https://localhost:8080/",
          "height": 204
        },
        "outputId": "d255c6ac-436b-4bdd-c7a9-42e37489a4b9"
      },
      "source": [
        "learn_classifier.fit_one_cycle(5, max_lr=1e-3, moms=(0.8))"
      ],
      "execution_count": null,
      "outputs": [
        {
          "output_type": "display_data",
          "data": {
            "text/html": [
              "<table border=\"1\" class=\"dataframe\">\n",
              "  <thead>\n",
              "    <tr style=\"text-align: left;\">\n",
              "      <th>epoch</th>\n",
              "      <th>train_loss</th>\n",
              "      <th>valid_loss</th>\n",
              "      <th>accuracy</th>\n",
              "      <th>time</th>\n",
              "    </tr>\n",
              "  </thead>\n",
              "  <tbody>\n",
              "    <tr>\n",
              "      <td>0</td>\n",
              "      <td>0.249263</td>\n",
              "      <td>0.253567</td>\n",
              "      <td>0.929577</td>\n",
              "      <td>00:09</td>\n",
              "    </tr>\n",
              "    <tr>\n",
              "      <td>1</td>\n",
              "      <td>0.259781</td>\n",
              "      <td>0.255367</td>\n",
              "      <td>0.929577</td>\n",
              "      <td>00:08</td>\n",
              "    </tr>\n",
              "    <tr>\n",
              "      <td>2</td>\n",
              "      <td>0.242746</td>\n",
              "      <td>0.254979</td>\n",
              "      <td>0.929577</td>\n",
              "      <td>00:09</td>\n",
              "    </tr>\n",
              "    <tr>\n",
              "      <td>3</td>\n",
              "      <td>0.242959</td>\n",
              "      <td>0.255341</td>\n",
              "      <td>0.929577</td>\n",
              "      <td>00:09</td>\n",
              "    </tr>\n",
              "    <tr>\n",
              "      <td>4</td>\n",
              "      <td>0.249419</td>\n",
              "      <td>0.255894</td>\n",
              "      <td>0.929577</td>\n",
              "      <td>00:08</td>\n",
              "    </tr>\n",
              "  </tbody>\n",
              "</table>"
            ],
            "text/plain": [
              "<IPython.core.display.HTML object>"
            ]
          },
          "metadata": {
            "tags": []
          }
        }
      ]
    },
    {
      "cell_type": "code",
      "metadata": {
        "id": "5w1115CZHzvJ",
        "colab_type": "code",
        "colab": {
          "base_uri": "https://localhost:8080/",
          "height": 279
        },
        "outputId": "0a77a0d3-4bbc-4ed8-87fd-3b1967d4b711"
      },
      "source": [
        "learn_classifier.recorder.plot_losses()"
      ],
      "execution_count": null,
      "outputs": [
        {
          "output_type": "display_data",
          "data": {
            "image/png": "[encoded data removed]",
            "text/plain": [
              "<Figure size 432x288 with 1 Axes>"
            ]
          },
          "metadata": {
            "tags": [],
            "needs_background": "light"
          }
        }
      ]
    },
    {
      "cell_type": "code",
      "metadata": {
        "id": "MI9R3nTaIE7Y",
        "colab_type": "code",
        "colab": {
          "base_uri": "https://localhost:8080/",
          "height": 439
        },
        "outputId": "0b2e637f-2c36-4392-a829-5efd158bf1a1"
      },
      "source": [
        "lang_mod.freeze_to(-1)\n",
        "\n",
        "learn_classifier.lr_find()\n",
        "learn_classifier.recorder.plot(suggestion=True)"
      ],
      "execution_count": null,
      "outputs": [
        {
          "output_type": "display_data",
          "data": {
            "text/html": [
              "\n",
              "    <div>\n",
              "        <style>\n",
              "            /* Turns off some styling */\n",
              "            progress {\n",
              "                /* gets rid of default border in Firefox and Opera. */\n",
              "                border: none;\n",
              "                /* Needs to be in here for Safari polyfill so background images work as expected. */\n",
              "                background-size: auto;\n",
              "            }\n",
              "            .progress-bar-interrupted, .progress-bar-interrupted::-webkit-progress-bar {\n",
              "                background: #F44336;\n",
              "            }\n",
              "        </style>\n",
              "      <progress value='1' class='' max='2' style='width:300px; height:20px; vertical-align: middle;'></progress>\n",
              "      50.00% [1/2 00:08<00:08]\n",
              "    </div>\n",
              "    \n",
              "<table border=\"1\" class=\"dataframe\">\n",
              "  <thead>\n",
              "    <tr style=\"text-align: left;\">\n",
              "      <th>epoch</th>\n",
              "      <th>train_loss</th>\n",
              "      <th>valid_loss</th>\n",
              "      <th>accuracy</th>\n",
              "      <th>time</th>\n",
              "    </tr>\n",
              "  </thead>\n",
              "  <tbody>\n",
              "    <tr>\n",
              "      <td>0</td>\n",
              "      <td>0.243640</td>\n",
              "      <td>#na#</td>\n",
              "      <td>00:08</td>\n",
              "    </tr>\n",
              "  </tbody>\n",
              "</table><p>\n",
              "\n",
              "    <div>\n",
              "        <style>\n",
              "            /* Turns off some styling */\n",
              "            progress {\n",
              "                /* gets rid of default border in Firefox and Opera. */\n",
              "                border: none;\n",
              "                /* Needs to be in here for Safari polyfill so background images work as expected. */\n",
              "                background-size: auto;\n",
              "            }\n",
              "            .progress-bar-interrupted, .progress-bar-interrupted::-webkit-progress-bar {\n",
              "                background: #F44336;\n",
              "            }\n",
              "        </style>\n",
              "      <progress value='7' class='' max='79' style='width:300px; height:20px; vertical-align: middle;'></progress>\n",
              "      8.86% [7/79 00:01<00:16 0.9500]\n",
              "    </div>\n",
              "    "
            ],
            "text/plain": [
              "<IPython.core.display.HTML object>"
            ]
          },
          "metadata": {
            "tags": []
          }
        },
        {
          "output_type": "stream",
          "text": [
            "LR Finder is complete, type {learner_name}.recorder.plot() to see the graph.\n",
            "Min numerical gradient: 6.31E-07\n",
            "Min loss divided by 10: 1.74E-06\n"
          ],
          "name": "stdout"
        },
        {
          "output_type": "display_data",
          "data": {
            "image/png": "[encoded data removed]",
            "text/plain": [
              "<Figure size 432x288 with 1 Axes>"
            ]
          },
          "metadata": {
            "tags": [],
            "needs_background": "light"
          }
        }
      ]
    },
    {
      "cell_type": "code",
      "metadata": {
        "id": "bKL1TiYHIZHT",
        "colab_type": "code",
        "colab": {
          "base_uri": "https://localhost:8080/",
          "height": 34
        },
        "outputId": "0d9c2c3c-c0f0-4a26-a36f-071f7daaac9f"
      },
      "source": [
        "learn_classifier.predict(\"I love my mower\")"
      ],
      "execution_count": null,
      "outputs": [
        {
          "output_type": "execute_result",
          "data": {
            "text/plain": [
              "(Category tensor(0), tensor(0), tensor([0.9445, 0.0555]))"
            ]
          },
          "metadata": {
            "tags": []
          },
          "execution_count": 39
        }
      ]
    },
    {
      "cell_type": "code",
      "metadata": {
        "id": "6IXycAMFItGO",
        "colab_type": "code",
        "colab": {
          "base_uri": "https://localhost:8080/",
          "height": 34
        },
        "outputId": "aa888989-d730-4ab1-93f7-70e4fb3e1d06"
      },
      "source": [
        "learn_classifier.predict('My battery stopped working')"
      ],
      "execution_count": null,
      "outputs": [
        {
          "output_type": "execute_result",
          "data": {
            "text/plain": [
              "(Category tensor(0), tensor(0), tensor([0.9338, 0.0662]))"
            ]
          },
          "metadata": {
            "tags": []
          },
          "execution_count": 40
        }
      ]
    },
    {
      "cell_type": "code",
      "metadata": {
        "id": "empeB5fqJBXT",
        "colab_type": "code",
        "colab": {
          "base_uri": "https://localhost:8080/",
          "height": 34
        },
        "outputId": "b86c566b-0440-4f99-b91e-7d94d6d0ec20"
      },
      "source": [
        "valid_preds, valid_label=learn_classifier.get_preds(ds_type=DatasetType.Valid, ordered=True)\n",
        "valid_preds.shape"
      ],
      "execution_count": null,
      "outputs": [
        {
          "output_type": "display_data",
          "data": {
            "text/html": [
              ""
            ],
            "text/plain": [
              "<IPython.core.display.HTML object>"
            ]
          },
          "metadata": {
            "tags": []
          }
        },
        {
          "output_type": "execute_result",
          "data": {
            "text/plain": [
              "torch.Size([426, 2])"
            ]
          },
          "metadata": {
            "tags": []
          },
          "execution_count": 41
        }
      ]
    },
    {
      "cell_type": "code",
      "metadata": {
        "id": "EBGxdMwdJXQO",
        "colab_type": "code",
        "colab": {
          "base_uri": "https://localhost:8080/",
          "height": 51
        },
        "outputId": "d8ca131e-be73-4be7-c5dd-30e422ff89df"
      },
      "source": [
        "preds=valid_preds.numpy()\n",
        "print(np.mean(preds[:,0]))\n",
        "print(np.mean(preds[:,1]))"
      ],
      "execution_count": null,
      "outputs": [
        {
          "output_type": "stream",
          "text": [
            "0.9488142\n",
            "0.05118575\n"
          ],
          "name": "stdout"
        }
      ]
    },
    {
      "cell_type": "code",
      "metadata": {
        "id": "zyoXKMc9JkkD",
        "colab_type": "code",
        "colab": {}
      },
      "source": [
        "val_target=preds[:,1]>0.05"
      ],
      "execution_count": null,
      "outputs": []
    },
    {
      "cell_type": "code",
      "metadata": {
        "id": "5pWlrZVUJx3t",
        "colab_type": "code",
        "colab": {}
      },
      "source": [
        "df_val_pred=pd.DataFrame({'text':df_val.Review, 'target':df_val.Annontation, 'Pred_Failure':val_target, 'Failure_score':preds[:,1]})"
      ],
      "execution_count": null,
      "outputs": []
    },
    {
      "cell_type": "code",
      "metadata": {
        "id": "waZdxaUEJ18h",
        "colab_type": "code",
        "colab": {
          "base_uri": "https://localhost:8080/",
          "height": 142
        },
        "outputId": "a29ea737-f5ba-44a0-ceb6-97184d308cb1"
      },
      "source": [
        "pd.crosstab(df_val_pred.target, df_val_pred.Pred_Failure)"
      ],
      "execution_count": null,
      "outputs": [
        {
          "output_type": "execute_result",
          "data": {
            "text/html": [
              "<div>\n",
              "<style scoped>\n",
              "    .dataframe tbody tr th:only-of-type {\n",
              "        vertical-align: middle;\n",
              "    }\n",
              "\n",
              "    .dataframe tbody tr th {\n",
              "        vertical-align: top;\n",
              "    }\n",
              "\n",
              "    .dataframe thead th {\n",
              "        text-align: right;\n",
              "    }\n",
              "</style>\n",
              "<table border=\"1\" class=\"dataframe\">\n",
              "  <thead>\n",
              "    <tr style=\"text-align: right;\">\n",
              "      <th>Pred_Failure</th>\n",
              "      <th>False</th>\n",
              "      <th>True</th>\n",
              "    </tr>\n",
              "    <tr>\n",
              "      <th>target</th>\n",
              "      <th></th>\n",
              "      <th></th>\n",
              "    </tr>\n",
              "  </thead>\n",
              "  <tbody>\n",
              "    <tr>\n",
              "      <th>0</th>\n",
              "      <td>179</td>\n",
              "      <td>217</td>\n",
              "    </tr>\n",
              "    <tr>\n",
              "      <th>1</th>\n",
              "      <td>3</td>\n",
              "      <td>27</td>\n",
              "    </tr>\n",
              "  </tbody>\n",
              "</table>\n",
              "</div>"
            ],
            "text/plain": [
              "Pred_Failure  False  True \n",
              "target                    \n",
              "0               179    217\n",
              "1                 3     27"
            ]
          },
          "metadata": {
            "tags": []
          },
          "execution_count": 48
        }
      ]
    },
    {
      "cell_type": "code",
      "metadata": {
        "id": "jds6DNoiKigR",
        "colab_type": "code",
        "colab": {
          "base_uri": "https://localhost:8080/",
          "height": 419
        },
        "outputId": "587d9dd1-6452-44eb-ec4c-b4516c001bd4"
      },
      "source": [
        "df_val_pred.sort_values(['target','Pred_Failure'])"
      ],
      "execution_count": null,
      "outputs": [
        {
          "output_type": "execute_result",
          "data": {
            "text/html": [
              "<div>\n",
              "<style scoped>\n",
              "    .dataframe tbody tr th:only-of-type {\n",
              "        vertical-align: middle;\n",
              "    }\n",
              "\n",
              "    .dataframe tbody tr th {\n",
              "        vertical-align: top;\n",
              "    }\n",
              "\n",
              "    .dataframe thead th {\n",
              "        text-align: right;\n",
              "    }\n",
              "</style>\n",
              "<table border=\"1\" class=\"dataframe\">\n",
              "  <thead>\n",
              "    <tr style=\"text-align: right;\">\n",
              "      <th></th>\n",
              "      <th>text</th>\n",
              "      <th>target</th>\n",
              "      <th>Pred_Failure</th>\n",
              "      <th>Failure_score</th>\n",
              "    </tr>\n",
              "  </thead>\n",
              "  <tbody>\n",
              "    <tr>\n",
              "      <th>7289</th>\n",
              "      <td>Love it.</td>\n",
              "      <td>0</td>\n",
              "      <td>False</td>\n",
              "      <td>0.041136</td>\n",
              "    </tr>\n",
              "    <tr>\n",
              "      <th>6961</th>\n",
              "      <td>Performance and battery length are great</td>\n",
              "      <td>0</td>\n",
              "      <td>False</td>\n",
              "      <td>0.048160</td>\n",
              "    </tr>\n",
              "    <tr>\n",
              "      <th>5296</th>\n",
              "      <td>Lightweight And powerful. Much better than gas...</td>\n",
              "      <td>0</td>\n",
              "      <td>False</td>\n",
              "      <td>0.048823</td>\n",
              "    </tr>\n",
              "    <tr>\n",
              "      <th>7663</th>\n",
              "      <td>I love it. My 11yo son loves it also. Two batt...</td>\n",
              "      <td>0</td>\n",
              "      <td>False</td>\n",
              "      <td>0.047092</td>\n",
              "    </tr>\n",
              "    <tr>\n",
              "      <th>7417</th>\n",
              "      <td>Best mower ever. So quiet. Cuts well. Plenty o...</td>\n",
              "      <td>0</td>\n",
              "      <td>False</td>\n",
              "      <td>0.045972</td>\n",
              "    </tr>\n",
              "    <tr>\n",
              "      <th>...</th>\n",
              "      <td>...</td>\n",
              "      <td>...</td>\n",
              "      <td>...</td>\n",
              "      <td>...</td>\n",
              "    </tr>\n",
              "    <tr>\n",
              "      <th>3784</th>\n",
              "      <td>Lawnmower works great the larger of the tow ba...</td>\n",
              "      <td>1</td>\n",
              "      <td>True</td>\n",
              "      <td>0.051773</td>\n",
              "    </tr>\n",
              "    <tr>\n",
              "      <th>3890</th>\n",
              "      <td>***see update below***The mower is great.  It ...</td>\n",
              "      <td>1</td>\n",
              "      <td>True</td>\n",
              "      <td>0.054139</td>\n",
              "    </tr>\n",
              "    <tr>\n",
              "      <th>3723</th>\n",
              "      <td>My honest testimony and experience with WORX!W...</td>\n",
              "      <td>1</td>\n",
              "      <td>True</td>\n",
              "      <td>0.069266</td>\n",
              "    </tr>\n",
              "    <tr>\n",
              "      <th>3749</th>\n",
              "      <td>I wanted to like it so much but unfortunately ...</td>\n",
              "      <td>1</td>\n",
              "      <td>True</td>\n",
              "      <td>0.050651</td>\n",
              "    </tr>\n",
              "    <tr>\n",
              "      <th>3708</th>\n",
              "      <td>I read the reviews on this and many cordless m...</td>\n",
              "      <td>1</td>\n",
              "      <td>True</td>\n",
              "      <td>0.053203</td>\n",
              "    </tr>\n",
              "  </tbody>\n",
              "</table>\n",
              "<p>426 rows × 4 columns</p>\n",
              "</div>"
            ],
            "text/plain": [
              "                                                   text  ...  Failure_score\n",
              "7289                                           Love it.  ...       0.041136\n",
              "6961           Performance and battery length are great  ...       0.048160\n",
              "5296  Lightweight And powerful. Much better than gas...  ...       0.048823\n",
              "7663  I love it. My 11yo son loves it also. Two batt...  ...       0.047092\n",
              "7417  Best mower ever. So quiet. Cuts well. Plenty o...  ...       0.045972\n",
              "...                                                 ...  ...            ...\n",
              "3784  Lawnmower works great the larger of the tow ba...  ...       0.051773\n",
              "3890  ***see update below***The mower is great.  It ...  ...       0.054139\n",
              "3723  My honest testimony and experience with WORX!W...  ...       0.069266\n",
              "3749  I wanted to like it so much but unfortunately ...  ...       0.050651\n",
              "3708  I read the reviews on this and many cordless m...  ...       0.053203\n",
              "\n",
              "[426 rows x 4 columns]"
            ]
          },
          "metadata": {
            "tags": []
          },
          "execution_count": 49
        }
      ]
    },
    {
      "cell_type": "code",
      "metadata": {
        "id": "OVFHQV0ILvgI",
        "colab_type": "code",
        "colab": {}
      },
      "source": [
        "from sklearn.metrics import roc_curve\n",
        "from sklearn.metrics import roc_auc_score\n",
        "from sklearn.metrics import precision_recall_curve\n",
        "from matplotlib import pyplot\n",
        "\n",
        "lr_probs = df_val_pred.Failure_score\n",
        "\n",
        "# calculate scores\n",
        "lr_auc = roc_auc_score(df_val_pred.target, lr_probs)\n",
        "lr_fpr, lr_tpr, _ = roc_curve(df_val_pred.target, lr_probs)"
      ],
      "execution_count": null,
      "outputs": []
    },
    {
      "cell_type": "code",
      "metadata": {
        "id": "2IKCeHT4Mh2a",
        "colab_type": "code",
        "colab": {
          "base_uri": "https://localhost:8080/",
          "height": 296
        },
        "outputId": "c75c8c46-862d-4078-97f8-57d13211bdcd"
      },
      "source": [
        "# plot the roc curve for the model\n",
        "pyplot.plot(lr_fpr, lr_tpr, marker='.', label='ULMFiT')\n",
        "# axis labels\n",
        "pyplot.xlabel('False Positive Rate')\n",
        "pyplot.ylabel('True Positive Rate')\n",
        "# show the legend\n",
        "pyplot.legend()\n",
        "# show the plot\n",
        "pyplot.show()\n",
        "lr_auc"
      ],
      "execution_count": null,
      "outputs": [
        {
          "output_type": "display_data",
          "data": {
            "image/png": "[encoded data removed]",
            "text/plain": [
              "<Figure size 432x288 with 1 Axes>"
            ]
          },
          "metadata": {
            "tags": [],
            "needs_background": "light"
          }
        },
        {
          "output_type": "execute_result",
          "data": {
            "text/plain": [
              "0.680892255892256"
            ]
          },
          "metadata": {
            "tags": []
          },
          "execution_count": 55
        }
      ]
    },
    {
      "cell_type": "code",
      "metadata": {
        "id": "K_gfmAbeMst-",
        "colab_type": "code",
        "colab": {}
      },
      "source": [
        ""
      ],
      "execution_count": null,
      "outputs": []
    }
  ]
}