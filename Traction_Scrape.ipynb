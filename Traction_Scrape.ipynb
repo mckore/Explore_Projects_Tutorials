{
  "nbformat": 4,
  "nbformat_minor": 0,
  "metadata": {
    "colab": {
      "name": "Traction_Scrape",
      "provenance": [],
      "collapsed_sections": [],
      "authorship_tag": "ABX9TyNi6yIdD+yheLht/16Nla08",
      "include_colab_link": true
    },
    "kernelspec": {
      "name": "python3",
      "display_name": "Python 3"
    }
  },
  "cells": [
    {
      "cell_type": "markdown",
      "metadata": {
        "id": "view-in-github",
        "colab_type": "text"
      },
      "source": [
        "<a href=\"https://colab.research.google.com/github/mckore/Explore_Projects_Tutorials/blob/master/Traction_Scrape.ipynb\" target=\"_parent\"><img src=\"https://colab.research.google.com/assets/colab-badge.svg\" alt=\"Open In Colab\"/></a>"
      ]
    },
    {
      "cell_type": "code",
      "metadata": {
        "id": "_eDBsKPuDfH9"
      },
      "source": [
        "from urllib.request import urlopen\n",
        "from bs4 import BeautifulSoup\n",
        "import pandas as pd\n",
        "import numpy as np"
      ],
      "execution_count": 2,
      "outputs": []
    },
    {
      "cell_type": "code",
      "metadata": {
        "id": "0u6Ox3muEdjZ"
      },
      "source": [
        "url = 'https://www.lawnsite.com/threads/ztr-tire-recommendations-steep-slope.314574/'\n",
        "page = urlopen(url)\n",
        "page"
      ],
      "execution_count": 3,
      "outputs": []
    },
    {
      "cell_type": "code",
      "metadata": {
        "id": "W1BLB3YZHgUJ"
      },
      "source": [
        "html_bytes = page.read()\n",
        "html = html_bytes.decode('utf-8')\n",
        "html"
      ],
      "execution_count": 5,
      "outputs": []
    },
    {
      "cell_type": "code",
      "metadata": {
        "id": "oMtOcdsxIBp2"
      },
      "source": [
        "#Parse through HTML doc with BS4\n",
        "soup=BeautifulSoup(html, 'html.parser')"
      ],
      "execution_count": null,
      "outputs": []
    },
    {
      "cell_type": "markdown",
      "metadata": {
        "id": "A-GTfHju0RAj"
      },
      "source": [
        "CREATING IDENTIFYING FEATURES FOR CORPUS DOCUMENTS"
      ]
    },
    {
      "cell_type": "markdown",
      "metadata": {
        "id": "9UjZYdA_0rlD"
      },
      "source": [
        "Review Objects"
      ]
    },
    {
      "cell_type": "code",
      "metadata": {
        "id": "PU8CtzRVqiFz"
      },
      "source": [
        "#REVIEWS Isolating for Review objects\n",
        "soup_class=soup.find_all(class_=\"bbWrapper\")\n",
        "len(soup_class)\n",
        "#Explore contents\n",
        "text =soup_class[0]\n",
        "text.contents"
      ],
      "execution_count": null,
      "outputs": []
    },
    {
      "cell_type": "code",
      "metadata": {
        "id": "kja9WBnwHa3Y"
      },
      "source": [
        "# Function to convert   \n",
        "def listToString(s):  \n",
        "    # initialize an empty string \n",
        "    str1 = \" \" \n",
        "    # return string   \n",
        "    return (str1.join(s)) \n",
        "        \n",
        "# Driver code     \n",
        "s = result\n",
        "print(listToString(s))  "
      ],
      "execution_count": null,
      "outputs": []
    },
    {
      "cell_type": "code",
      "metadata": {
        "id": "gzduDj2OKhb_"
      },
      "source": [
        "#REVIEW Filtered for one review instance - strip strings \n",
        "def Review_Sub_1(list_list_reviews):\n",
        "  result=[]\n",
        "  for string in list_list_reviews.stripped_strings:\n",
        "        result.append(string)\n",
        "        return(result)"
      ],
      "execution_count": 150,
      "outputs": []
    },
    {
      "cell_type": "code",
      "metadata": {
        "id": "UvUJNYt_3ST6",
        "outputId": "edd223cd-aa69-4390-a6df-d8ef24f8aac2",
        "colab": {
          "base_uri": "https://localhost:8080/",
          "height": 54
        }
      },
      "source": [
        "Review_Sub_1(soup_class[0])"
      ],
      "execution_count": 154,
      "outputs": [
        {
          "output_type": "execute_result",
          "data": {
            "text/plain": [
              "['I have an older (1994)  Bunton 60\" ZTR that I am using this year on my new property in VA.  I have some very steep grades, and my existing Carlisle turfmate tires don\\'t seem to get any traction to the point that I just start to slide down the hill.  I have a bad feeling about setting myself up for an accident, so thought I should look at replacing the tires with something with a more aggressive tread.']"
            ]
          },
          "metadata": {
            "tags": []
          },
          "execution_count": 154
        }
      ]
    },
    {
      "cell_type": "code",
      "metadata": {
        "id": "nJQaVRWjsdNP"
      },
      "source": [
        "#REVIEW Function to capture all reviews on a page\n",
        "review_net=[]\n",
        "def Concat_Reviews(list_reviews):\n",
        "  for list_list_reviews in list_reviews:\n",
        "    wa = Review_Sub_1(list_list_reviews)\n",
        "    review_net.append(wa)\n",
        "  return(review_net)"
      ],
      "execution_count": 158,
      "outputs": []
    },
    {
      "cell_type": "code",
      "metadata": {
        "id": "-WSO_mQA3yV5"
      },
      "source": [
        "All_Reviews_PG1 = Concat_Reviews(soup_class)\n",
        "All_Reviews_PG1"
      ],
      "execution_count": null,
      "outputs": []
    },
    {
      "cell_type": "markdown",
      "metadata": {
        "id": "U03OjJJ84Aae"
      },
      "source": [
        "User Name"
      ]
    },
    {
      "cell_type": "code",
      "metadata": {
        "id": "241d4mqIuxYG"
      },
      "source": [
        "#USERNAME Isolating for Username objects\n",
        "name_class = soup.find_all(class_=\"message-name\")\n",
        "#Sample\n",
        "name_class[3].get_text()"
      ],
      "execution_count": null,
      "outputs": []
    },
    {
      "cell_type": "code",
      "metadata": {
        "id": "NX3weaIYwnL8"
      },
      "source": [
        "#USERNAME Building Username list, child of name_class\n",
        "def User_Name(list_list_name):\n",
        "  user_nom = []\n",
        "  for i in list_list_name.strings:\n",
        "    user_nom.append(i)\n",
        "  return(user_nom)\n"
      ],
      "execution_count": 147,
      "outputs": []
    },
    {
      "cell_type": "code",
      "metadata": {
        "id": "czyKyAHn4QXO"
      },
      "source": [
        "name_net=[]\n",
        "def Concat_User(list_name):\n"
      ],
      "execution_count": null,
      "outputs": []
    },
    {
      "cell_type": "code",
      "metadata": {
        "id": "uXUZdoLqjFhi",
        "outputId": "1a9343ba-a581-41b4-bbb7-82bac56156c5",
        "colab": {
          "base_uri": "https://localhost:8080/",
          "height": 34
        }
      },
      "source": [
        "#string array example\n",
        "import numpy as np\n",
        "z=np.array(['Foo', 'Bar', 'Baz', 'Woo'])\n",
        "print(z)\n"
      ],
      "execution_count": 72,
      "outputs": [
        {
          "output_type": "stream",
          "text": [
            "['Foo' 'Bar' 'Baz' 'Woo']\n"
          ],
          "name": "stdout"
        }
      ]
    },
    {
      "cell_type": "code",
      "metadata": {
        "id": "fKN3d0K7jqz6",
        "outputId": "34d9cad7-bd20-4759-859a-4e6c0da563e0",
        "colab": {
          "base_uri": "https://localhost:8080/",
          "height": 34
        }
      },
      "source": [
        "type(z)"
      ],
      "execution_count": 73,
      "outputs": [
        {
          "output_type": "execute_result",
          "data": {
            "text/plain": [
              "numpy.ndarray"
            ]
          },
          "metadata": {
            "tags": []
          },
          "execution_count": 73
        }
      ]
    },
    {
      "cell_type": "code",
      "metadata": {
        "id": "eBzSx5Ymj1WV",
        "outputId": "ce5ca67b-f788-4d7c-b757-f228b07cc89d",
        "colab": {
          "base_uri": "https://localhost:8080/",
          "height": 34
        }
      },
      "source": [
        "z.shape"
      ],
      "execution_count": 74,
      "outputs": [
        {
          "output_type": "execute_result",
          "data": {
            "text/plain": [
              "(4,)"
            ]
          },
          "metadata": {
            "tags": []
          },
          "execution_count": 74
        }
      ]
    },
    {
      "cell_type": "code",
      "metadata": {
        "id": "X-BOilEHpYF8",
        "outputId": "bef094b2-6677-4466-f98d-253f2848af04",
        "colab": {
          "base_uri": "https://localhost:8080/",
          "height": 34
        }
      },
      "source": [
        "catch=[]\n",
        "for i in str_list:\n",
        "  b = \"hmmm\"\n",
        "  x = i+b\n",
        "  catch.append(x)\n",
        "print(catch)"
      ],
      "execution_count": 102,
      "outputs": [
        {
          "output_type": "stream",
          "text": [
            "['foohmmm', 'barhmmm', 'mehhmmm', 'plinkhmmm']\n"
          ],
          "name": "stdout"
        }
      ]
    },
    {
      "cell_type": "code",
      "metadata": {
        "id": "u4Hz1xGdrBFt",
        "outputId": "d7e41553-c236-45a7-ed73-862d6efdfe58",
        "colab": {
          "base_uri": "https://localhost:8080/",
          "height": 34
        }
      },
      "source": [
        "len(net)"
      ],
      "execution_count": 107,
      "outputs": [
        {
          "output_type": "execute_result",
          "data": {
            "text/plain": [
              "10"
            ]
          },
          "metadata": {
            "tags": []
          },
          "execution_count": 107
        }
      ]
    },
    {
      "cell_type": "code",
      "metadata": {
        "id": "X3ozo1Acs6--"
      },
      "source": [
        "Grubby(soup_class)"
      ],
      "execution_count": 126,
      "outputs": []
    },
    {
      "cell_type": "code",
      "metadata": {
        "id": "2E9x8yPLs-cN",
        "outputId": "225eb42d-e5ab-47ea-dae7-a1aa4e06a05d",
        "colab": {
          "base_uri": "https://localhost:8080/",
          "height": 34
        }
      },
      "source": [
        "len(nets)"
      ],
      "execution_count": 128,
      "outputs": [
        {
          "output_type": "execute_result",
          "data": {
            "text/plain": [
              "10"
            ]
          },
          "metadata": {
            "tags": []
          },
          "execution_count": 128
        }
      ]
    },
    {
      "cell_type": "code",
      "metadata": {
        "id": "V9wZ_e56tD1G"
      },
      "source": [
        ""
      ],
      "execution_count": null,
      "outputs": []
    }
  ]
}