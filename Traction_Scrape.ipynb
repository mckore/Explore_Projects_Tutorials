{
  "nbformat": 4,
  "nbformat_minor": 0,
  "metadata": {
    "colab": {
      "name": "Traction_Scrape",
      "provenance": [],
      "collapsed_sections": [],
      "authorship_tag": "ABX9TyOuvxWjzUWcsPLu8fzNN7nr",
      "include_colab_link": true
    },
    "kernelspec": {
      "name": "python3",
      "display_name": "Python 3"
    }
  },
  "cells": [
    {
      "cell_type": "markdown",
      "metadata": {
        "id": "view-in-github",
        "colab_type": "text"
      },
      "source": [
        "<a href=\"https://colab.research.google.com/github/mckore/Explore_Projects_Tutorials/blob/master/Traction_Scrape.ipynb\" target=\"_parent\"><img src=\"https://colab.research.google.com/assets/colab-badge.svg\" alt=\"Open In Colab\"/></a>"
      ]
    },
    {
      "cell_type": "code",
      "metadata": {
        "id": "_eDBsKPuDfH9"
      },
      "source": [
        "from urllib.request import urlopen\n",
        "from bs4 import BeautifulSoup\n",
        "import pandas as pd\n",
        "import numpy as np"
      ],
      "execution_count": 2,
      "outputs": []
    },
    {
      "cell_type": "code",
      "metadata": {
        "id": "0u6Ox3muEdjZ",
        "outputId": "68ccd30d-062f-46cd-f215-9f8016bafc93",
        "colab": {
          "base_uri": "https://localhost:8080/",
          "height": 34
        }
      },
      "source": [
        "url = 'https://www.lawnsite.com/threads/ztr-tire-recommendations-steep-slope.314574/'\n",
        "page = urlopen(url)\n",
        "page"
      ],
      "execution_count": 3,
      "outputs": [
        {
          "output_type": "execute_result",
          "data": {
            "text/plain": [
              "<http.client.HTTPResponse at 0x7ffb985f8d68>"
            ]
          },
          "metadata": {
            "tags": []
          },
          "execution_count": 3
        }
      ]
    },
    {
      "cell_type": "code",
      "metadata": {
        "id": "W1BLB3YZHgUJ",
        "outputId": "7f8b099d-7e4d-4f0c-d00f-b5c60e89fda6",
        "colab": {
          "base_uri": "https://localhost:8080/",
          "height": 106
        }
      },
      "source": [
        "html_bytes = page.read()\n",
        "html = html_bytes.decode('utf-8')\n",
        "html"
      ],
      "execution_count": 4,
      "outputs": [
        {
          "output_type": "execute_result",
          "data": {
            "application/vnd.google.colaboratory.intrinsic+json": {
              "type": "string"
            },
            "text/plain": [
              "'<!DOCTYPE html>\\n<html id=\"XF\" lang=\"en-US\" dir=\"LTR\"\\n\\tdata-app=\"public\"\\n\\tdata-template=\"thread_view\"\\n\\tdata-container-key=\"node-1\"\\n\\tdata-content-key=\"thread-314574\"\\n\\tdata-logged-in=\"false\"\\n\\tdata-cookie-prefix=\"xf_\"\\n\\tdata-csrf=\"1603363208,aad5f8d403ee08904f392ca63d367fd9\"\\n\\tclass=\"has-no-js v_2_0 template-thread_view\"\\n\\t>\\n<head>\\n\\t<meta charset=\"utf-8\" />\\n\\t<meta http-equiv=\"X-UA-Compatible\" content=\"IE=Edge\" />\\n\\t<meta name=\"viewport\" content=\"width=device-width, initial-scale=1, viewport-fit=cover\">\\n\\t<link href=\"https://fonts.googleapis.com/css?family=Montserrat:200,400,700,900&display=swap\" rel=\"stylesheet\">\\n\\t\\n\\t <script async=\\'async\\' src=\\'https://www.googletagservices.com/tag/js/gpt.js\\'></script>\\n    <script>\\n  var googletag = googletag || {};\\n  googletag.cmd = googletag.cmd || [];\\n    </script>\\n\\t\\n\\t<script>\\n\\t//console.log(\"Page: \", \"forum_list\");\\n\\t//If your Ad tag definition is more than 2000 characters, and if you’ve SRA enabled, your Ad tag will break at the 2000 character limit, and will not render further.\\n\\n\\n\\t\\t\\n\\tgoogletag.cmd.push(function() {\\n\\n\\tvar maxResponsiveWideWidth = \"1100px\";\\n\\tmaxResponsiveWideWidth = maxResponsiveWideWidth.replace(\"px\", \"\");\\n\\tmaxResponsiveWideWidth = parseInt(maxResponsiveWideWidth);\\n\\n\\tvar maxResponsiveMediumWidth = \"767px\";\\n\\tmaxResponsiveMediumWidth = maxResponsiveMediumWidth.replace(\"px\", \"\");\\n\\tmaxResponsiveMediumWidth = parseInt(maxResponsiveMediumWidth);\\n\\n\\t// Super Leaderboard -  728px, 970px\\n\\tvar superLeaderboardMapping = googletag.sizeMapping().\\n\\taddSize([0, 0], []).\\n\\taddSize([maxResponsiveMediumWidth, 0], [[1,1], [728,90]]).\\n\\taddSize([maxResponsiveWideWidth, 0], [[1,1], [728,90], [970,90], [970,250]]).\\n\\tbuild();\\n\\n\\t// Leaderboards - 728px\\n\\tvar leaderboardMapping = googletag.sizeMapping().\\n\\taddSize([0, 0], []).\\n\\taddSize([maxResponsiveMediumWidth, 0], [[1,1], [728,90]]).\\n\\tbuild();\\n\\n\\t// Mobile Leaderboards - 240px, 320px\\n\\tvar mobileLeaderboardMapping = googletag.sizeMapping().\\n\\taddSize([0, 0], [[1,1], [320,50], [240,45]]).\\n\\taddSize([maxResponsiveMediumWidth, 0], []).\\n\\tbuild();\\n\\n\\t// Mobile Adhesion Footer\\n\\tvar mobileAdhesionFooterMapping = googletag.sizeMapping().\\n\\taddSize([0, 0], [1,1]).\\n\\taddSize([maxResponsiveMediumWidth, 0], []).\\n\\tbuild();\\n\\n\\t// Mobile In-Content - 240px, 320px, 300x250\\n\\tvar mobileInContentMapping = googletag.sizeMapping().\\n\\taddSize([0, 0], [[1,1], [320,50], [240,45], [300, 250]]).\\n\\taddSize([maxResponsiveMediumWidth, 0], []).\\n\\tbuild();\\n\\n\\t// Desktop Towers - 300px\\n\\tvar desktopTowersMapping = googletag.sizeMapping().\\n\\taddSize([0, 0], []).\\n\\taddSize([maxResponsiveWideWidth, 0], [[1,1], [160,600], [300,250], [300,600]]).\\n\\tbuild();\\n\\n\\t// Desktop Towers - Tall - 300px\\n\\tvar desktopTowersMappingTall = googletag.sizeMapping().\\n\\taddSize([0, 0], []).\\n\\taddSize([maxResponsiveWideWidth, 0], [[1,1], [160,600], [300,250], [300,600], [300,1050]]).\\n\\tbuild();\\n\\n\\t//Interstitial Pop-up\\n\\tvar interstitialMapping = googletag.sizeMapping().\\n\\taddSize([0, 0], []).\\n\\taddSize([maxResponsiveMediumWidth, 0], [1, 1]).\\n\\tbuild();\\n\\n\\t//1x1 Tag for Wallpaper Ads\\n\\t/*\\n\\tvar wallpaperMapping = googletag.sizeMapping().\\n\\taddSize([0, 0], []).\\n\\taddSize([maxResponsiveWideWidth, 0], [1,1]).\\n\\tbuild();\\n\\t//.defineSizeMapping(wallpaperMapping)\\n\\t*/\\n\\n\\n\\t\\t//Buttons Mapping - Desktop Only\\n\\t\\tvar buttonsMapping = googletag.sizeMapping().\\n\\t\\taddSize([0, 0], []).\\n\\t\\taddSize([maxResponsiveWideWidth, 0], [[1,1], [120,60]]).\\n\\t\\tbuild();\\n\\n\\tgoogletag.defineSlot(\\'/11506265/LS-Brandscape\\', [1, 1], \\'div-gpt-ad-Brandscape\\').setCollapseEmptyDiv(true,true).addService(googletag.pubads());\\n\\tgoogletag.defineSlot(\\'/11506265/LS-Interstitial\\', [1, 1], \\'div-gpt-ad-Interstitial\\').defineSizeMapping(interstitialMapping).addService(googletag.pubads());\\n\\n\\t\\n\\tgoogletag.defineSlot(\\'/11506265/LS-Header\\', [[1,1], [728, 90]], \\'div-gpt-ad-Header\\').defineSizeMapping(leaderboardMapping).setCollapseEmptyDiv(true,true).addService(googletag.pubads());\\n\\t\\n\\tgoogletag.defineSlot(\\'/11506265/LS-Mobile-Header\\', [[1,1], [320,50], [240,45]], \\'div-gpt-ad-Mobile-Header\\').defineSizeMapping(mobileLeaderboardMapping).setCollapseEmptyDiv(true,true).addService(googletag.pubads());\\n\\tgoogletag.defineSlot(\\'/11506265/LS-SuperLeaderboard\\', [[1,1], [728, 90], [970, 90], [970,250]], \\'div-gpt-ad-SuperLeaderboard\\').defineSizeMapping(superLeaderboardMapping).setCollapseEmptyDiv(true,true).addService(googletag.pubads());\\n\\tgoogletag.defineSlot(\\'/11506265/LS-Right1\\', [[1,1], [160,600], [300, 250], [300, 600], [300,1050]], \\'div-gpt-ad-Right1\\').defineSizeMapping(desktopTowersMappingTall).setCollapseEmptyDiv(true,true).addService(googletag.pubads());\\n\\tgoogletag.defineSlot(\\'/11506265/LS-Right2\\', [[1,1], [160,600], [300, 250], [300, 600]], \\'div-gpt-ad-Right2\\').defineSizeMapping(desktopTowersMapping).setCollapseEmptyDiv(true,true).addService(googletag.pubads());\\n\\tgoogletag.defineSlot(\\'/11506265/LS-Right3\\', [[1,1], [160,600], [300, 250], [300, 600]], \\'div-gpt-ad-Right3\\').defineSizeMapping(desktopTowersMapping).setCollapseEmptyDiv(true,true).addService(googletag.pubads());\\n\\tgoogletag.defineSlot(\\'/11506265/LS-Mobile-Footer-Adhesion\\', [1, 1], \\'div-gpt-ad-Mobile-Footer-Adhesion\\').defineSizeMapping(mobileAdhesionFooterMapping).setCollapseEmptyDiv(true,true).addService(googletag.pubads());\\n\\tgoogletag.defineSlot(\\'/11506265/LS-Footer\\', [[1,1], [728, 90]], \\'div-gpt-ad-Footer\\').defineSizeMapping(leaderboardMapping).setCollapseEmptyDiv(true,true).addService(googletag.pubads());\\n\\n\\tgoogletag.defineSlot(\\'/11506265/LS-Button1\\', [[1,1], [120, 60], [120, 120]], \\'div-gpt-ad-Button1\\').setCollapseEmptyDiv(true,true).addService(googletag.pubads());\\n\\tgoogletag.defineSlot(\\'/11506265/LS-Button2\\', [[1,1], [120, 60], [120, 120]], \\'div-gpt-ad-Button2\\').setCollapseEmptyDiv(true,true).addService(googletag.pubads());\\n\\tgoogletag.defineSlot(\\'/11506265/LS-Button3\\', [[1,1], [120, 60]], \\'div-gpt-ad-Button3\\').setCollapseEmptyDiv(true,true).addService(googletag.pubads());\\n\\tgoogletag.defineSlot(\\'/11506265/LS-Button4\\', [[1,1], [120, 60]], \\'div-gpt-ad-Button4\\').setCollapseEmptyDiv(true,true).addService(googletag.pubads());\\n\\tgoogletag.defineSlot(\\'/11506265/LS-Button5\\', [[1,1], [120, 60]], \\'div-gpt-ad-Button5\\').setCollapseEmptyDiv(true,true).addService(googletag.pubads());\\n\\tgoogletag.defineSlot(\\'/11506265/LS-Button6\\', [[1,1], [120, 60]], \\'div-gpt-ad-Button6\\').setCollapseEmptyDiv(true,true).addService(googletag.pubads());\\n\\n\\t\\tgoogletag.defineSlot(\\'/11506265/LS-InContent\\', [[1,1], [728, 90]], \\'div-gpt-ad-InContent\\').defineSizeMapping(leaderboardMapping).setCollapseEmptyDiv(true,true).addService(googletag.pubads());\\n\\t\\tgoogletag.defineSlot(\\'/11506265/LS-Mobile-InContent1\\', [[1,1], [320,50], [240,45], [300, 250]], \\'div-gpt-ad-Mobile-InContent1\\').defineSizeMapping(mobileInContentMapping).setCollapseEmptyDiv(true,true).addService(googletag.pubads());\\n\\t\\tgoogletag.defineSlot(\\'/11506265/LS-InContent2\\', [[1,1], [728, 90]], \\'div-gpt-ad-InContent2\\').defineSizeMapping(leaderboardMapping).setCollapseEmptyDiv(true,true).addService(googletag.pubads());\\n\\t\\tgoogletag.defineSlot(\\'/11506265/LS-Mobile-InContent2\\', [[1,1], [320,50], [240,45], [300, 250]], \\'div-gpt-ad-Mobile-InContent2\\').defineSizeMapping(mobileInContentMapping).setCollapseEmptyDiv(true,true).addService(googletag.pubads());\\n\\t\\tgoogletag.defineSlot(\\'/11506265/LS-InContent3\\', [[1,1], [728, 90]], \\'div-gpt-ad-InContent3\\').defineSizeMapping(leaderboardMapping).setCollapseEmptyDiv(true,true).addService(googletag.pubads());\\n\\t\\n\\t\\t//1x1 Tag for Wallpaper Ads\\n\\tvar mappingPos0 = googletag.sizeMapping().\\n\\taddSize([0, 0], []).\\n\\taddSize([maxResponsiveWideWidth, 0], [1,1]).\\n\\taddSize([2080, 200], [[1, 1], [1700, 1200], [2100, 1200]]). // XL Desktop\\n\\taddSize([1680, 200], [[1, 1], [1700, 1200]]). // LG Desktop\\n\\taddSize([1400, 200], [[1, 1], [1420, 1200]]). // MD Desktop\\n\\taddSize([1320, 200], [[1, 1], [1340, 1200]]). // SM Desktop\\n\\taddSize([1024, 200], []). // Larger Desktop\\n\\t  addSize([992, 200], []). // Large Desktop\\n\\t  addSize([1024, 768], []). // iPad Tablet Landscape\\n\\t  addSize([728, 200], []). // iPad Tablet Portrait\\n\\t  addSize([480, 200], []). // Larger Smart Phone\\n\\t  addSize([320, 200], []). // Larger Smart Phone\\n\\t  addSize([300, 200], []). // Smaller Smart Phone\\n\\t  addSize([216, 200], []). // Large Feature Phone\\n\\t  addSize([168, 200], []). // Medium Feature Phone\\n\\t  addSize([120, 200], []). // Small Feature Phone\\n\\tbuild();\\n\\n\\twindow.pos0= googletag.defineSlot(\\'/11506265/2020_LS-ID-1_Brandscape\\', [[1, 1], [1700, 1200], [1420, 1200], [1340, 1200], [2100, 1200]], \\'div-gpt-ad-clickable_wall_paper_site_skin\\').\\n\\tdefineSizeMapping(mappingPos0).\\n\\taddService(googletag.pubads()).\\n\\tsetCollapseEmptyDiv(true);\\n\\t\\t\\n\\tvar str = \"node-1\";\\n\\t\\t//console.log(str);\\n\\t\\n\\t\\t//console.log(\"Setting node id\" + str.replace(\"node-\",\"\"));\\n\\t\\t\\n\\t\\tgoogletag.pubads().setTargeting(\"forumid\",str.replace(\"node-\",\"\"));\\n\\t\\t\\n\\t\\t\\n\\t\\t\\n\\t\\tgoogletag.pubads().setTargeting(\"loggedin\",\"false\");\\n\\t\\t\\n\\n\\t\\tgoogletag.pubads().enableSingleRequest();\\n\\t\\t//googletag.pubads().enableSyncRendering();\\n\\t\\tgoogletag.pubads().collapseEmptyDivs();\\n\\t\\tgoogletag.enableServices();\\n\\t});\\n    </script>\\n\\n\\t\\n\\t\\n\\t\\n\\n\\t<title>ZTR tire recommendations steep slope | LawnSite.com™ - Lawn Care &amp; Landscaping Professionals Forum</title>\\n\\n\\t\\n\\t\\t\\n\\t\\t<meta name=\"description\" content=\"I have an older (1994)  Bunton 60&quot; ZTR that I am using this year on my new property in VA.  I have some very steep grades, and my existing Carlisle turfmate...\" />\\n\\t\\t<meta property=\"og:description\" content=\"I have an older (1994)  Bunton 60&quot; ZTR that I am using this year on my new property in VA.  I have some very steep grades, and my existing Carlisle turfmate tires don&#039;t seem to get any traction to the point that I just start to slide down the hill.  I have a bad feeling about setting myself up...\" />\\n\\t\\t<meta property=\"twitter:description\" content=\"I have an older (1994)  Bunton 60&quot; ZTR that I am using this year on my new property in VA.  I have some very steep grades, and my existing Carlisle turfmate tires don&#039;t seem to get any traction to...\" />\\n\\t\\n\\t\\n\\t\\t<meta property=\"og:url\" content=\"https://www.lawnsite.com/threads/ztr-tire-recommendations-steep-slope.314574/\" />\\n\\t\\n\\t\\t<link rel=\"canonical\" href=\"https://www.lawnsite.com/threads/ztr-tire-recommendations-steep-slope.314574/\" />\\n\\t\\n\\t\\t<link rel=\"next\" href=\"/threads/ztr-tire-recommendations-steep-slope.314574/page-2\" />\\n\\t\\n\\n\\t\\n\\t\\t\\n\\t\\n\\t\\n\\t<meta property=\"og:site_name\" content=\"LawnSite\" />\\n\\n\\n\\t\\n\\t\\n\\t\\t\\n\\t\\n\\t\\n\\t<meta property=\"og:type\" content=\"website\" />\\n\\n\\n\\t\\n\\t\\n\\t\\t\\n\\t\\n\\t\\n\\t\\n\\t\\t<meta property=\"og:title\" content=\"ZTR tire recommendations steep slope\" />\\n\\t\\t<meta property=\"twitter:title\" content=\"ZTR tire recommendations steep slope\" />\\n\\t\\n\\n\\n\\t\\n\\t\\n\\t\\n\\t\\n\\t\\t\\n\\t\\n\\t\\n\\t\\n\\t\\t<meta property=\"og:image\" content=\"/styles/default/lawnsiteLayout/og_logo_lawnsite.jpg?v=2\" />\\n\\t\\t<meta property=\"twitter:image\" content=\"/styles/default/lawnsiteLayout/og_logo_lawnsite.jpg?v=2\" />\\n\\t\\t<meta property=\"twitter:card\" content=\"summary\" />\\n\\t\\n\\n\\n\\t\\n\\n\\t\\n\\t\\t<meta name=\"theme-color\" content=\"#5f7200\" />\\n\\t\\n\\n\\t\\n\\t\\n\\n\\t\\n\\n\\n\\t<link rel=\"preload\" href=\"/styles/fonts/fa/fa-regular-400.woff2?_v=5.12.1\" as=\"font\" type=\"font/woff2\" crossorigin=\"anonymous\" />\\n\\n\\n\\t<link rel=\"preload\" href=\"/styles/fonts/fa/fa-solid-900.woff2?_v=5.12.1\" as=\"font\" type=\"font/woff2\" crossorigin=\"anonymous\" />\\n\\n\\n<link rel=\"preload\" href=\"/styles/fonts/fa/fa-brands-400.woff2?_v=5.12.1\" as=\"font\" type=\"font/woff2\" crossorigin=\"anonymous\" />\\n\\n\\t<link rel=\"stylesheet\" href=\"/css.php?css=public%3Anormalize.css%2Cpublic%3Acore.less%2Cpublic%3Aapp.less&amp;s=2&amp;l=1&amp;d=1602852204&amp;k=fce68ccf89982bf4adc4c4832e0bf1d75ddfba80\" />\\n\\n\\t<link rel=\"stylesheet\" href=\"/css.php?css=public%3Aaloph_op_ribbon_style.less%2Cpublic%3Aaloph_op_ribbon_text_public_controls.less%2Cpublic%3Abb_code.less%2Cpublic%3Alightbox.less%2Cpublic%3Amessage.less%2Cpublic%3Anotices.less%2Cpublic%3Ashare_controls.less%2Cpublic%3Aextra.less&amp;s=2&amp;l=1&amp;d=1602852204&amp;k=b47972ef5b8d93b0949b82e440f555574e7fd7b3\" />\\n\\n\\t\\n\\t\\t<script src=\"/js/xf/preamble.min.js?_v=eb9eb57b\"></script>\\n\\t\\n\\n\\n\\t\\n\\t\\n\\t\\t<link rel=\"apple-touch-icon\" href=\"/styles/default/lawnsiteLayout/og_logo_lawnsite.jpg?v=2\" />\\n\\t\\n\\t\\n\\t<script>\\n\\t\\t(function(i,s,o,g,r,a,m){i[\\'GoogleAnalyticsObject\\']=r;i[r]=i[r]||function(){\\n\\t\\t(i[r].q=i[r].q||[]).push(arguments)},i[r].l=1*new Date();a=s.createElement(o),\\n\\t\\tm=s.getElementsByTagName(o)[0];a.async=1;a.src=g;m.parentNode.insertBefore(a,m)\\n\\t\\t})(window,document,\\'script\\',\\'https://www.google-analytics.com/analytics.js\\',\\'ga\\');\\n\\n\\t\\tga(\\'create\\', \\'UA-3302863-13\\', \\'auto\\');\\n\\n\\t\\tvar contentTemplate = \"thread_view\";\\n\\t\\tvar forumName = \"Lawn Mowing\";\\n\\t\\tvar forumId = 0;\\n\\t\\tconsole.log(\"template:\", contentTemplate);\\n\\t\\t\\n\\t\\t\\n\\t\\t\\tforumId = 1;\\n\\t\\t\\n\\n\\t\\t//var threadId = \"\";\\n\\t\\t//var threadTitle = \"\";\\n\\t\\t//console.log(\"thread\", threadId + \" - \" + threadTitle);\\n\\t\\t\\n\\t\\t//if(threadId != \"\" && threadTitle != \"\") {\\n\\t\\t\\t//threadTitle = threadTitle.replace(/&amp;/g,\\'&\\');\\n\\t\\t\\t//var elem = document.createElement(\\'textarea\\');\\n\\t\\t\\t//elem.innerHTML = threadTitle;\\n\\t\\t\\t//threadTitle = elem.value;\\n\\t\\t\\t//ga(\\'set\\', \\'dimension4\\', threadId + \" - \" + threadTitle);\\t\\t\\n\\t\\t//}\\n\\n\\t\\tif(forumName == \"\" || forumId == \"\") {\\n\\t\\t\\tif(contentTemplate.indexOf(\"forum_list\") > -1) {\\n\\t\\t\\t\\tforumName = \"Forum Home\";\\n\\t\\t\\t\\tforumId = \"-1\";\\n\\t\\t\\t} else if(contentTemplate.indexOf(\"member\") == 0) {\\n\\t\\t\\t\\tforumName = \"Member Profile\";\\n\\t\\t\\t\\tforumId = \"-2\";\\n\\t\\t\\t} else if(contentTemplate.indexOf(\"search\") > -1) {\\n\\t\\t\\t\\tforumName = \"Search\";\\n\\t\\t\\t\\tforumId = \"-3\";\\n\\t\\t\\t} else if(contentTemplate.indexOf(\"xengallery\") > -1) {\\n\\t\\t\\t\\tforumName = \"Media Gallery\";\\n\\t\\t\\t\\tforumId = \"-4\";\\n\\t\\t\\t}\\n\\t\\t}\\n\\n\\t\\tconsole.log(forumId + \" - \" + forumName);\\n\\n\\t\\tif(forumName != \"\" && forumId != 0){\\n\\t\\t\\tga(\\'set\\', \\'dimension3\\', forumId + \" - \" + forumName);\\n\\t\\t}\\n\\n\\t\\tvar dimensionValue = \\'LS\\';\\n\\t\\tga(\\'set\\', \\'dimension5\\', dimensionValue);\\n\\n\\t\\t\\n\\t\\t\\tga(\\'set\\', \\'dimension1\\', \\'Guest\\');\\n\\t\\tconsole.log(\"Guest\");\\n\\t\\t\\n\\n\\t\\tga(\\'send\\', \\'pageview\\');\\n\\t</script>\\n\\n</head>\\n<body data-template=\"thread_view\">\\n\\n\\t<!-- /11506265/2020_LS-ID-1_Brandscape -->\\n\\t<div id=\\'div-gpt-ad-clickable_wall_paper_site_skin\\' style=\"position: relative; padding: 0px; position: fixed; top: 0px; left: 50%; width: 2100px; height: 1200px; margin: 0px 0px 0px -884px; display:block !important;\">\\n\\t  <script>\\n\\t\\tgoogletag.cmd.push(function() { googletag.display(\\'div-gpt-ad-clickable_wall_paper_site_skin\\'); });\\n\\t  </script>\\n\\t</div>\\t\\n\\t\\n<div class=\"p-pageWrapper\" id=\"top\" style=\"max-width:1100px;margin:0 auto;\">\\n\\n\\n\\t\\t\\n\\t\\n\\t<div class=\"leaderboard-ad-container\">\\n\\t\\t<div id=\\'div-gpt-ad-Header\\'>\\n\\t\\t\\t<script type=\\'text/javascript\\'>\\n\\t\\t\\tgoogletag.cmd.push(function () { googletag.display(\\'div-gpt-ad-Header\\'); });\\n\\t\\t\\t</script>\\n\\t\\t</div>\\n\\t</div>\\n\\t\\n<header class=\"p-header\" id=\"header\">\\n\\t<div class=\"p-header-inner\">\\n\\t\\t<div class=\"p-header-content\">\\n\\n\\t\\t\\t<div class=\"p-header-logo p-header-logo--image\">\\n\\t\\t\\t\\t<a href=\"/\">\\n\\t\\t\\t\\t\\t<img src=\"/styles/default/lawnsiteLayout/logo_lawnsite.png\"\\n\\t\\t\\t\\t\\t\\talt=\"LawnSite\"\\n\\t\\t\\t\\t\\t\\t />\\n\\t\\t\\t\\t</a>\\n\\t\\t\\t</div>\\n\\n\\t\\t\\t\\n\\t\\t</div>\\n\\t</div>\\n</header>\\n\\n\\n\\n\\n\\n\\t<div class=\"p-navSticky p-navSticky--primary\" data-xf-init=\"sticky-header\">\\n\\t\\t\\n\\t<nav class=\"p-nav\">\\n\\t\\t<div class=\"p-nav-inner\">\\n\\t\\t\\t<a class=\"p-nav-menuTrigger\" data-xf-click=\"off-canvas\" data-menu=\".js-headerOffCanvasMenu\" role=\"button\" tabindex=\"0\">\\n\\t\\t\\t\\t<i aria-hidden=\"true\"></i>\\n\\t\\t\\t\\t<span class=\"p-nav-menuText\">Menu</span>\\n\\t\\t\\t</a>\\n\\n\\t\\t\\t<div class=\"p-nav-smallLogo\">\\n\\t\\t\\t\\t<a href=\"/\">\\n\\t\\t\\t\\t\\t<img src=\"/styles/default/lawnsiteLayout/logo_lawnsite.png\"\\n\\t\\t\\t\\t\\t\\talt=\"LawnSite\"\\n\\t\\t\\t\\t\\t />\\n\\t\\t\\t\\t</a>\\n\\t\\t\\t</div>\\n\\n\\t\\t\\t<div class=\"p-nav-scroller hScroller\" data-xf-init=\"h-scroller\" data-auto-scroll=\".p-navEl.is-selected\">\\n\\t\\t\\t\\t<div class=\"hScroller-scroll\">\\n\\t\\t\\t\\t\\t<ul class=\"p-nav-list js-offCanvasNavSource\">\\n\\t\\t\\t\\t\\t\\n\\t\\t\\t\\t\\t\\t<li>\\n\\t\\t\\t\\t\\t\\t\\t\\n\\t<div class=\"p-navEl is-selected\" data-has-children=\"true\">\\n\\t\\t\\n\\n\\t\\t\\t\\n\\t\\n\\t<a href=\"/\"\\n\\t\\tclass=\"p-navEl-link p-navEl-link--splitMenu \"\\n\\t\\t\\n\\t\\t\\n\\t\\tdata-nav-id=\"forums\">Forums</a>\\n\\n\\n\\t\\t\\t<a data-xf-key=\"1\"\\n\\t\\t\\t\\tdata-xf-click=\"menu\"\\n\\t\\t\\t\\tdata-menu-pos-ref=\"< .p-navEl\"\\n\\t\\t\\t\\tclass=\"p-navEl-splitTrigger\"\\n\\t\\t\\t\\trole=\"button\"\\n\\t\\t\\t\\ttabindex=\"0\"\\n\\t\\t\\t\\taria-label=\"Toggle expanded\"\\n\\t\\t\\t\\taria-expanded=\"false\"\\n\\t\\t\\t\\taria-haspopup=\"true\"></a>\\n\\n\\t\\t\\n\\t\\t\\n\\t\\t\\t<div class=\"menu menu--structural\" data-menu=\"menu\" aria-hidden=\"true\">\\n\\t\\t\\t\\t<div class=\"menu-content\">\\n\\t\\t\\t\\t\\t\\n\\t\\t\\t\\t\\t\\t\\n\\t\\n\\t\\n\\t<a href=\"/whats-new/posts/\"\\n\\t\\tclass=\"menu-linkRow u-indentDepth0 js-offCanvasCopy \"\\n\\t\\t\\n\\t\\t\\n\\t\\tdata-nav-id=\"newPosts\">New posts</a>\\n\\n\\t\\n\\n\\t\\t\\t\\t\\t\\n\\t\\t\\t\\t\\t\\t\\n\\t\\n\\t\\n\\t<a href=\"/search/?type=post\"\\n\\t\\tclass=\"menu-linkRow u-indentDepth0 js-offCanvasCopy \"\\n\\t\\t\\n\\t\\t\\n\\t\\tdata-nav-id=\"searchForums\">Search forums</a>\\n\\n\\t\\n\\n\\t\\t\\t\\t\\t\\n\\t\\t\\t\\t</div>\\n\\t\\t\\t</div>\\n\\t\\t\\n\\t</div>\\n\\n\\t\\t\\t\\t\\t\\t</li>\\n\\t\\t\\t\\t\\t\\n\\t\\t\\t\\t\\t\\t<li>\\n\\t\\t\\t\\t\\t\\t\\t\\n\\t<div class=\"p-navEl \" data-has-children=\"true\">\\n\\t\\t<a data-xf-key=\"2\"\\n\\t\\t\\tdata-xf-click=\"menu\"\\n\\t\\t\\tdata-menu-pos-ref=\"< .p-navEl\"\\n\\t\\t\\tclass=\"p-navEl-linkHolder\"\\n\\t\\t\\trole=\"button\"\\n\\t\\t\\ttabindex=\"0\"\\n\\t\\t\\taria-expanded=\"false\"\\n\\t\\t\\taria-haspopup=\"true\">\\n\\t\\t\\t\\n\\t\\n\\t<span \\n\\t\\tclass=\"p-navEl-link p-navEl-link--menuTrigger \"\\n\\t\\t\\n\\t\\t\\n\\t\\tdata-nav-id=\"topics\">Topics</span>\\n\\n\\t\\t</a>\\n\\n\\t\\t\\n\\t\\t\\n\\t\\t\\t<div class=\"menu menu--structural\" data-menu=\"menu\" aria-hidden=\"true\">\\n\\t\\t\\t\\t<div class=\"menu-content\">\\n\\t\\t\\t\\t\\t\\n\\t\\t\\t\\t\\t\\t\\n\\t\\n\\t\\n\\t<a href=\"https://www.lawnsite.com/categories/business-management.60/\"\\n\\t\\tclass=\"menu-linkRow u-indentDepth0 js-offCanvasCopy \"\\n\\t\\t\\n\\t\\t\\n\\t\\tdata-nav-id=\"business_management\">Business Management</a>\\n\\n\\t\\n\\n\\t\\t\\t\\t\\t\\n\\t\\t\\t\\t\\t\\t\\n\\t\\n\\t\\n\\t<a href=\"https://www.lawnsite.com/categories/equipment.279/\"\\n\\t\\tclass=\"menu-linkRow u-indentDepth0 js-offCanvasCopy \"\\n\\t\\t\\n\\t\\t\\n\\t\\tdata-nav-id=\"equipment\">Equipment</a>\\n\\n\\t\\n\\n\\t\\t\\t\\t\\t\\n\\t\\t\\t\\t\\t\\t\\n\\t\\n\\t\\n\\t<a href=\"https://www.lawnsite.com/categories/lawn-and-landscape-maintenance.23/\"\\n\\t\\tclass=\"menu-linkRow u-indentDepth0 js-offCanvasCopy \"\\n\\t\\t\\n\\t\\t\\n\\t\\tdata-nav-id=\"lawn_and_landscape_maintenance\">Lawn and Landscape Maintenance</a>\\n\\n\\t\\n\\n\\t\\t\\t\\t\\t\\n\\t\\t\\t\\t\\t\\t\\n\\t\\n\\t\\n\\t<a href=\"https://www.lawnsite.com/categories/lawn-care-fertilizers-and-pesticides.236/\"\\n\\t\\tclass=\"menu-linkRow u-indentDepth0 js-offCanvasCopy \"\\n\\t\\t\\n\\t\\t\\n\\t\\tdata-nav-id=\"lawn_care_fertilizers_pesticides\">Lawn Care Fertilizers and Pesticides</a>\\n\\n\\t\\n\\n\\t\\t\\t\\t\\t\\n\\t\\t\\t\\t\\t\\t\\n\\t\\n\\t\\n\\t<a href=\"https://www.lawnsite.com/categories/landscape-design-installation.123/\"\\n\\t\\tclass=\"menu-linkRow u-indentDepth0 js-offCanvasCopy \"\\n\\t\\t\\n\\t\\t\\n\\t\\tdata-nav-id=\"landscape_design_installation\">Landscape Design & Installation</a>\\n\\n\\t\\n\\n\\t\\t\\t\\t\\t\\n\\t\\t\\t\\t\\t\\t\\n\\t\\n\\t\\n\\t<a href=\"https://www.lawnsite.com/categories/irrigation-water-management.310/\"\\n\\t\\tclass=\"menu-linkRow u-indentDepth0 js-offCanvasCopy \"\\n\\t\\t\\n\\t\\t\\n\\t\\tdata-nav-id=\"irrigation_water_management\">Irrigation & Water Management</a>\\n\\n\\t\\n\\n\\t\\t\\t\\t\\t\\n\\t\\t\\t\\t\\t\\t\\n\\t\\n\\t\\n\\t<a href=\"https://www.lawnsite.com/categories/media.311/\"\\n\\t\\tclass=\"menu-linkRow u-indentDepth0 js-offCanvasCopy \"\\n\\t\\t\\n\\t\\t\\n\\t\\tdata-nav-id=\"pictures_videos\">Pictures & Videos</a>\\n\\n\\t\\n\\n\\t\\t\\t\\t\\t\\n\\t\\t\\t\\t\\t\\t\\n\\t\\n\\t\\n\\t<a href=\"https://www.lawnsite.com/categories/tree-care-forums.288/\"\\n\\t\\tclass=\"menu-linkRow u-indentDepth0 js-offCanvasCopy \"\\n\\t\\t\\n\\t\\t\\n\\t\\tdata-nav-id=\"tree_care\">Tree Care</a>\\n\\n\\t\\n\\n\\t\\t\\t\\t\\t\\n\\t\\t\\t\\t\\t\\t\\n\\t\\n\\t\\n\\t<a href=\"https://www.lawnsite.com/categories/special-related-topics.255/\"\\n\\t\\tclass=\"menu-linkRow u-indentDepth0 js-offCanvasCopy \"\\n\\t\\t\\n\\t\\t\\n\\t\\tdata-nav-id=\"special_related_topics\">Special & Related Topics</a>\\n\\n\\t\\n\\n\\t\\t\\t\\t\\t\\n\\t\\t\\t\\t\\t\\t\\n\\t\\n\\t\\n\\t<a href=\"https://www.lawnsite.com/categories/sponsor-forums.216/\"\\n\\t\\tclass=\"menu-linkRow u-indentDepth0 js-offCanvasCopy \"\\n\\t\\t\\n\\t\\t\\n\\t\\tdata-nav-id=\"sponsor_forums\">Sponsor Forums</a>\\n\\n\\t\\n\\n\\t\\t\\t\\t\\t\\n\\t\\t\\t\\t</div>\\n\\t\\t\\t</div>\\n\\t\\t\\n\\t</div>\\n\\n\\t\\t\\t\\t\\t\\t</li>\\n\\t\\t\\t\\t\\t\\n\\t\\t\\t\\t\\t\\t<li>\\n\\t\\t\\t\\t\\t\\t\\t\\n\\t<div class=\"p-navEl \" data-has-children=\"true\">\\n\\t\\t\\n\\n\\t\\t\\t\\n\\t\\n\\t<a href=\"/media/\"\\n\\t\\tclass=\"p-navEl-link p-navEl-link--splitMenu \"\\n\\t\\t\\n\\t\\t\\n\\t\\tdata-nav-id=\"xfmg\">Media</a>\\n\\n\\n\\t\\t\\t<a data-xf-key=\"3\"\\n\\t\\t\\t\\tdata-xf-click=\"menu\"\\n\\t\\t\\t\\tdata-menu-pos-ref=\"< .p-navEl\"\\n\\t\\t\\t\\tclass=\"p-navEl-splitTrigger\"\\n\\t\\t\\t\\trole=\"button\"\\n\\t\\t\\t\\ttabindex=\"0\"\\n\\t\\t\\t\\taria-label=\"Toggle expanded\"\\n\\t\\t\\t\\taria-expanded=\"false\"\\n\\t\\t\\t\\taria-haspopup=\"true\"></a>\\n\\n\\t\\t\\n\\t\\t\\n\\t\\t\\t<div class=\"menu menu--structural\" data-menu=\"menu\" aria-hidden=\"true\">\\n\\t\\t\\t\\t<div class=\"menu-content\">\\n\\t\\t\\t\\t\\t\\n\\t\\t\\t\\t\\t\\t\\n\\t\\n\\t\\n\\t<a href=\"/whats-new/media/\"\\n\\t\\tclass=\"menu-linkRow u-indentDepth0 js-offCanvasCopy \"\\n\\t\\t rel=\"nofollow\"\\n\\t\\t\\n\\t\\tdata-nav-id=\"xfmgNewMedia\">New media</a>\\n\\n\\t\\n\\n\\t\\t\\t\\t\\t\\n\\t\\t\\t\\t\\t\\t\\n\\t\\n\\t\\n\\t<a href=\"/whats-new/media-comments/\"\\n\\t\\tclass=\"menu-linkRow u-indentDepth0 js-offCanvasCopy \"\\n\\t\\t rel=\"nofollow\"\\n\\t\\t\\n\\t\\tdata-nav-id=\"xfmgNewComments\">New comments</a>\\n\\n\\t\\n\\n\\t\\t\\t\\t\\t\\n\\t\\t\\t\\t\\t\\t\\n\\t\\n\\t\\n\\t<a href=\"/search/?type=xfmg_media\"\\n\\t\\tclass=\"menu-linkRow u-indentDepth0 js-offCanvasCopy \"\\n\\t\\t\\n\\t\\t\\n\\t\\tdata-nav-id=\"xfmgSearchMedia\">Search media</a>\\n\\n\\t\\n\\n\\t\\t\\t\\t\\t\\n\\t\\t\\t\\t</div>\\n\\t\\t\\t</div>\\n\\t\\t\\n\\t</div>\\n\\n\\t\\t\\t\\t\\t\\t</li>\\n\\t\\t\\t\\t\\t\\n\\t\\t\\t\\t\\t\\t<li>\\n\\t\\t\\t\\t\\t\\t\\t\\n\\t<div class=\"p-navEl \" data-has-children=\"true\">\\n\\t\\t\\n\\n\\t\\t\\t\\n\\t\\n\\t<a href=\"/whats-new/\"\\n\\t\\tclass=\"p-navEl-link p-navEl-link--splitMenu \"\\n\\t\\t\\n\\t\\t\\n\\t\\tdata-nav-id=\"whatsNew\">What\\'s new</a>\\n\\n\\n\\t\\t\\t<a data-xf-key=\"4\"\\n\\t\\t\\t\\tdata-xf-click=\"menu\"\\n\\t\\t\\t\\tdata-menu-pos-ref=\"< .p-navEl\"\\n\\t\\t\\t\\tclass=\"p-navEl-splitTrigger\"\\n\\t\\t\\t\\trole=\"button\"\\n\\t\\t\\t\\ttabindex=\"0\"\\n\\t\\t\\t\\taria-label=\"Toggle expanded\"\\n\\t\\t\\t\\taria-expanded=\"false\"\\n\\t\\t\\t\\taria-haspopup=\"true\"></a>\\n\\n\\t\\t\\n\\t\\t\\n\\t\\t\\t<div class=\"menu menu--structural\" data-menu=\"menu\" aria-hidden=\"true\">\\n\\t\\t\\t\\t<div class=\"menu-content\">\\n\\t\\t\\t\\t\\t\\n\\t\\t\\t\\t\\t\\t\\n\\t\\n\\t\\n\\t<a href=\"/whats-new/posts/\"\\n\\t\\tclass=\"menu-linkRow u-indentDepth0 js-offCanvasCopy \"\\n\\t\\t rel=\"nofollow\"\\n\\t\\t\\n\\t\\tdata-nav-id=\"whatsNewPosts\">New posts</a>\\n\\n\\t\\n\\n\\t\\t\\t\\t\\t\\n\\t\\t\\t\\t\\t\\t\\n\\t\\n\\t\\n\\t<a href=\"/whats-new/media/\"\\n\\t\\tclass=\"menu-linkRow u-indentDepth0 js-offCanvasCopy \"\\n\\t\\t rel=\"nofollow\"\\n\\t\\t\\n\\t\\tdata-nav-id=\"xfmgWhatsNewNewMedia\">New media</a>\\n\\n\\t\\n\\n\\t\\t\\t\\t\\t\\n\\t\\t\\t\\t\\t\\t\\n\\t\\n\\t\\n\\t<a href=\"/whats-new/media-comments/\"\\n\\t\\tclass=\"menu-linkRow u-indentDepth0 js-offCanvasCopy \"\\n\\t\\t rel=\"nofollow\"\\n\\t\\t\\n\\t\\tdata-nav-id=\"xfmgWhatsNewMediaComments\">New media comments</a>\\n\\n\\t\\n\\n\\t\\t\\t\\t\\t\\n\\t\\t\\t\\t\\t\\t\\n\\t\\n\\t\\n\\t<a href=\"/whats-new/profile-posts/\"\\n\\t\\tclass=\"menu-linkRow u-indentDepth0 js-offCanvasCopy \"\\n\\t\\t rel=\"nofollow\"\\n\\t\\t\\n\\t\\tdata-nav-id=\"whatsNewProfilePosts\">New profile posts</a>\\n\\n\\t\\n\\n\\t\\t\\t\\t\\t\\n\\t\\t\\t\\t\\t\\t\\n\\t\\n\\t\\n\\t<a href=\"/whats-new/latest-activity\"\\n\\t\\tclass=\"menu-linkRow u-indentDepth0 js-offCanvasCopy \"\\n\\t\\t rel=\"nofollow\"\\n\\t\\t\\n\\t\\tdata-nav-id=\"latestActivity\">Latest activity</a>\\n\\n\\t\\n\\n\\t\\t\\t\\t\\t\\n\\t\\t\\t\\t</div>\\n\\t\\t\\t</div>\\n\\t\\t\\n\\t</div>\\n\\n\\t\\t\\t\\t\\t\\t</li>\\n\\t\\t\\t\\t\\t\\n\\t\\t\\t\\t\\t\\t<li>\\n\\t\\t\\t\\t\\t\\t\\t\\n\\t<div class=\"p-navEl \" data-has-children=\"true\">\\n\\t\\t\\n\\n\\t\\t\\t\\n\\t\\n\\t<a href=\"/members/\"\\n\\t\\tclass=\"p-navEl-link p-navEl-link--splitMenu \"\\n\\t\\t\\n\\t\\t\\n\\t\\tdata-nav-id=\"members\">Members</a>\\n\\n\\n\\t\\t\\t<a data-xf-key=\"5\"\\n\\t\\t\\t\\tdata-xf-click=\"menu\"\\n\\t\\t\\t\\tdata-menu-pos-ref=\"< .p-navEl\"\\n\\t\\t\\t\\tclass=\"p-navEl-splitTrigger\"\\n\\t\\t\\t\\trole=\"button\"\\n\\t\\t\\t\\ttabindex=\"0\"\\n\\t\\t\\t\\taria-label=\"Toggle expanded\"\\n\\t\\t\\t\\taria-expanded=\"false\"\\n\\t\\t\\t\\taria-haspopup=\"true\"></a>\\n\\n\\t\\t\\n\\t\\t\\n\\t\\t\\t<div class=\"menu menu--structural\" data-menu=\"menu\" aria-hidden=\"true\">\\n\\t\\t\\t\\t<div class=\"menu-content\">\\n\\t\\t\\t\\t\\t\\n\\t\\t\\t\\t\\t\\t\\n\\t\\n\\t\\n\\t<a href=\"/online/?type=member\"\\n\\t\\tclass=\"menu-linkRow u-indentDepth0 js-offCanvasCopy \"\\n\\t\\t\\n\\t\\t\\n\\t\\tdata-nav-id=\"currentVisitors\">Current visitors</a>\\n\\n\\t\\n\\n\\t\\t\\t\\t\\t\\n\\t\\t\\t\\t\\t\\t\\n\\t\\n\\t\\n\\t<a href=\"/whats-new/profile-posts/\"\\n\\t\\tclass=\"menu-linkRow u-indentDepth0 js-offCanvasCopy \"\\n\\t\\t rel=\"nofollow\"\\n\\t\\t\\n\\t\\tdata-nav-id=\"newProfilePosts\">New profile posts</a>\\n\\n\\t\\n\\n\\t\\t\\t\\t\\t\\n\\t\\t\\t\\t\\t\\t\\n\\t\\n\\t\\n\\t<a href=\"/search/?type=profile_post\"\\n\\t\\tclass=\"menu-linkRow u-indentDepth0 js-offCanvasCopy \"\\n\\t\\t\\n\\t\\t\\n\\t\\tdata-nav-id=\"searchProfilePosts\">Search profile posts</a>\\n\\n\\t\\n\\n\\t\\t\\t\\t\\t\\n\\t\\t\\t\\t</div>\\n\\t\\t\\t</div>\\n\\t\\t\\n\\t</div>\\n\\n\\t\\t\\t\\t\\t\\t</li>\\n\\t\\t\\t\\t\\t\\n\\t\\t\\t\\t\\t</ul>\\n\\t\\t\\t\\t</div>\\n\\t\\t\\t</div>\\n\\n\\t\\t\\t<div class=\"p-nav-opposite\">\\n\\t\\t\\t\\t<div class=\"p-navgroup p-account p-navgroup--guest\">\\n\\t\\t\\t\\t\\t\\n\\t\\t\\t\\t\\t\\t<a href=\"/login/\" class=\"p-navgroup-link p-navgroup-link--textual p-navgroup-link--logIn\"\\n\\t\\t\\t\\t\\t\\t\\tdata-xf-click=\"overlay\" data-follow-redirects=\"on\">\\n\\t\\t\\t\\t\\t\\t\\t<span class=\"p-navgroup-linkText\">Log in</span>\\n\\t\\t\\t\\t\\t\\t</a>\\n\\t\\t\\t\\t\\t\\t\\n\\t\\t\\t\\t\\t\\t\\t<a href=\"/register/\" class=\"p-navgroup-link p-navgroup-link--textual p-navgroup-link--register\"\\n\\t\\t\\t\\t\\t\\t\\t\\tdata-xf-click=\"overlay\" data-follow-redirects=\"on\">\\n\\t\\t\\t\\t\\t\\t\\t\\t<span class=\"p-navgroup-linkText\">Register</span>\\n\\t\\t\\t\\t\\t\\t\\t</a>\\n\\t\\t\\t\\t\\t\\t\\n\\t\\t\\t\\t\\t\\n\\t\\t\\t\\t</div>\\n\\n\\t\\t\\t\\t<div class=\"p-navgroup p-discovery\">\\n\\t\\t\\t\\t\\t<a href=\"/whats-new/\"\\n\\t\\t\\t\\t\\t\\tclass=\"p-navgroup-link p-navgroup-link--iconic p-navgroup-link--whatsnew\"\\n\\t\\t\\t\\t\\t\\taria-label=\"What&#039;s new\"\\n\\t\\t\\t\\t\\t\\ttitle=\"What&#039;s new\">\\n\\t\\t\\t\\t\\t\\t<i aria-hidden=\"true\"></i>\\n\\t\\t\\t\\t\\t\\t<span class=\"p-navgroup-linkText\">What\\'s new</span>\\n\\t\\t\\t\\t\\t</a>\\n\\n\\t\\t\\t\\t\\t\\n\\t\\t\\t\\t\\t\\t<a href=\"/search/\"\\n\\t\\t\\t\\t\\t\\t\\tclass=\"p-navgroup-link p-navgroup-link--iconic p-navgroup-link--search\"\\n\\t\\t\\t\\t\\t\\t\\tdata-xf-click=\"menu\"\\n\\t\\t\\t\\t\\t\\t\\tdata-xf-key=\"/\"\\n\\t\\t\\t\\t\\t\\t\\taria-label=\"Search\"\\n\\t\\t\\t\\t\\t\\t\\taria-expanded=\"false\"\\n\\t\\t\\t\\t\\t\\t\\taria-haspopup=\"true\"\\n\\t\\t\\t\\t\\t\\t\\ttitle=\"Search\">\\n\\t\\t\\t\\t\\t\\t\\t<i aria-hidden=\"true\"></i>\\n\\t\\t\\t\\t\\t\\t\\t<span class=\"p-navgroup-linkText\">Search</span>\\n\\t\\t\\t\\t\\t\\t</a>\\n\\t\\t\\t\\t\\t\\t<div class=\"menu menu--structural menu--wide\" data-menu=\"menu\" aria-hidden=\"true\">\\n\\t\\t\\t\\t\\t\\t\\t<form action=\"/search/search\" method=\"post\"\\n\\t\\t\\t\\t\\t\\t\\t\\tclass=\"menu-content\"\\n\\t\\t\\t\\t\\t\\t\\t\\tdata-xf-init=\"quick-search\">\\n\\n\\t\\t\\t\\t\\t\\t\\t\\t<h3 class=\"menu-header\">Search</h3>\\n\\t\\t\\t\\t\\t\\t\\t\\t\\n\\t\\t\\t\\t\\t\\t\\t\\t<div class=\"menu-row\">\\n\\t\\t\\t\\t\\t\\t\\t\\t\\t\\n\\t\\t\\t\\t\\t\\t\\t\\t\\t\\t<div class=\"inputGroup inputGroup--joined\">\\n\\t\\t\\t\\t\\t\\t\\t\\t\\t\\t\\t<input type=\"text\" class=\"input\" name=\"keywords\" placeholder=\"Search…\" aria-label=\"Search\" data-menu-autofocus=\"true\" />\\n\\t\\t\\t\\t\\t\\t\\t\\t\\t\\t\\t\\n\\t\\t\\t<select name=\"constraints\" class=\"js-quickSearch-constraint input\" aria-label=\"Search within\">\\n\\t\\t\\t\\t<option value=\"\">Everywhere</option>\\n<option value=\"{&quot;search_type&quot;:&quot;post&quot;}\">Threads</option>\\n<option value=\"{&quot;search_type&quot;:&quot;post&quot;,&quot;c&quot;:{&quot;nodes&quot;:[1],&quot;child_nodes&quot;:1}}\">This forum</option>\\n<option value=\"{&quot;search_type&quot;:&quot;post&quot;,&quot;c&quot;:{&quot;thread&quot;:314574}}\">This thread</option>\\n\\n\\t\\t\\t</select>\\n\\t\\t\\n\\t\\t\\t\\t\\t\\t\\t\\t\\t\\t</div>\\n\\t\\t\\t\\t\\t\\t\\t\\t\\t\\n\\t\\t\\t\\t\\t\\t\\t\\t</div>\\n\\n\\t\\t\\t\\t\\t\\t\\t\\t\\n\\t\\t\\t\\t\\t\\t\\t\\t<div class=\"menu-row\">\\n\\t\\t\\t\\t\\t\\t\\t\\t\\t<label class=\"iconic\"><input type=\"checkbox\"  name=\"c[title_only]\" value=\"1\" /><i aria-hidden=\"true\"></i><span class=\"iconic-label\">Search titles only</span></label>\\n\\n\\t\\t\\t\\t\\t\\t\\t\\t</div>\\n\\t\\t\\t\\t\\t\\t\\t\\t\\n\\t\\t\\t\\t\\t\\t\\t\\t<div class=\"menu-row\">\\n\\t\\t\\t\\t\\t\\t\\t\\t\\t<div class=\"inputGroup\">\\n\\t\\t\\t\\t\\t\\t\\t\\t\\t\\t<span class=\"inputGroup-text\" id=\"ctrl_search_menu_by_member\">By:</span>\\n\\t\\t\\t\\t\\t\\t\\t\\t\\t\\t<input type=\"text\" class=\"input\" name=\"c[users]\" data-xf-init=\"auto-complete\" placeholder=\"Member\" aria-labelledby=\"ctrl_search_menu_by_member\" />\\n\\t\\t\\t\\t\\t\\t\\t\\t\\t</div>\\n\\t\\t\\t\\t\\t\\t\\t\\t</div>\\n\\t\\t\\t\\t\\t\\t\\t\\t<div class=\"menu-footer\">\\n\\t\\t\\t\\t\\t\\t\\t\\t\\t<span class=\"menu-footer-controls\">\\n\\t\\t\\t\\t\\t\\t\\t\\t\\t\\t<button type=\"submit\" class=\"button--primary button button--icon button--icon--search\"><span class=\"button-text\">Search</span></button>\\n\\t\\t\\t\\t\\t\\t\\t\\t\\t\\t<a href=\"/search/\" class=\"button\"><span class=\"button-text\">Advanced search…</span></a>\\n\\t\\t\\t\\t\\t\\t\\t\\t\\t</span>\\n\\t\\t\\t\\t\\t\\t\\t\\t</div>\\n\\n\\t\\t\\t\\t\\t\\t\\t\\t<input type=\"hidden\" name=\"_xfToken\" value=\"1603363208,aad5f8d403ee08904f392ca63d367fd9\" />\\n\\t\\t\\t\\t\\t\\t\\t</form>\\n\\t\\t\\t\\t\\t\\t</div>\\n\\t\\t\\t\\t\\t\\n\\t\\t\\t\\t</div>\\n\\t\\t\\t</div>\\n\\t\\t</div>\\n\\t</nav>\\n\\n\\t</div>\\n\\t\\n\\t\\n\\t\\t<div class=\"p-sectionLinks\">\\n\\t\\t\\t<div class=\"p-sectionLinks-inner hScroller\" data-xf-init=\"h-scroller\">\\n\\t\\t\\t\\t<div class=\"hScroller-scroll\">\\n\\t\\t\\t\\t\\t<ul class=\"p-sectionLinks-list\">\\n\\t\\t\\t\\t\\t\\n\\t\\t\\t\\t\\t\\t<li>\\n\\t\\t\\t\\t\\t\\t\\t\\n\\t<div class=\"p-navEl \" >\\n\\t\\t\\n\\n\\t\\t\\t\\n\\t\\n\\t<a href=\"/whats-new/posts/\"\\n\\t\\tclass=\"p-navEl-link \"\\n\\t\\t\\n\\t\\tdata-xf-key=\"alt+1\"\\n\\t\\tdata-nav-id=\"newPosts\">New posts</a>\\n\\n\\n\\t\\t\\t\\n\\n\\t\\t\\n\\t\\t\\n\\t</div>\\n\\n\\t\\t\\t\\t\\t\\t</li>\\n\\t\\t\\t\\t\\t\\n\\t\\t\\t\\t\\t\\t<li>\\n\\t\\t\\t\\t\\t\\t\\t\\n\\t<div class=\"p-navEl \" >\\n\\t\\t\\n\\n\\t\\t\\t\\n\\t\\n\\t<a href=\"/search/?type=post\"\\n\\t\\tclass=\"p-navEl-link \"\\n\\t\\t\\n\\t\\tdata-xf-key=\"alt+2\"\\n\\t\\tdata-nav-id=\"searchForums\">Search forums</a>\\n\\n\\n\\t\\t\\t\\n\\n\\t\\t\\n\\t\\t\\n\\t</div>\\n\\n\\t\\t\\t\\t\\t\\t</li>\\n\\t\\t\\t\\t\\t\\n\\t\\t\\t\\t\\t</ul>\\n\\t\\t\\t\\t</div>\\n\\t\\t\\t</div>\\n\\t\\t</div>\\n\\t\\n\\n\\n\\n<div class=\"offCanvasMenu offCanvasMenu--nav js-headerOffCanvasMenu\" data-menu=\"menu\" aria-hidden=\"true\" data-ocm-builder=\"navigation\">\\n\\t<div class=\"offCanvasMenu-backdrop\" data-menu-close=\"true\"></div>\\n\\t<div class=\"offCanvasMenu-content\">\\n\\t\\t<div class=\"offCanvasMenu-header\">\\n\\t\\t\\tMenu\\n\\t\\t\\t<a class=\"offCanvasMenu-closer\" data-menu-close=\"true\" role=\"button\" tabindex=\"0\" aria-label=\"Close\"></a>\\n\\t\\t</div>\\n\\t\\t\\n\\t\\t\\t<div class=\"p-offCanvasRegisterLink\">\\n\\t\\t\\t\\t<div class=\"offCanvasMenu-linkHolder\">\\n\\t\\t\\t\\t\\t<a href=\"/login/\" class=\"offCanvasMenu-link\" data-xf-click=\"overlay\" data-menu-close=\"true\">\\n\\t\\t\\t\\t\\t\\tLog in\\n\\t\\t\\t\\t\\t</a>\\n\\t\\t\\t\\t</div>\\n\\t\\t\\t\\t<hr class=\"offCanvasMenu-separator\" />\\n\\t\\t\\t\\t\\n\\t\\t\\t\\t\\t<div class=\"offCanvasMenu-linkHolder\">\\n\\t\\t\\t\\t\\t\\t<a href=\"/register/\" class=\"offCanvasMenu-link\" data-xf-click=\"overlay\" data-menu-close=\"true\">\\n\\t\\t\\t\\t\\t\\t\\tRegister\\n\\t\\t\\t\\t\\t\\t</a>\\n\\t\\t\\t\\t\\t</div>\\n\\t\\t\\t\\t\\t<hr class=\"offCanvasMenu-separator\" />\\n\\t\\t\\t\\t\\n\\t\\t\\t</div>\\n\\t\\t\\n\\t\\t<div class=\"js-offCanvasNavTarget\"></div>\\n\\t</div>\\n</div>\\n\\n\\t\\n\\n<div class=\"leaderboard-container\" style=\"display:flex; justify-content: center; padding-top: 20px;\">\\n\\t<div id=\\'div-gpt-ad-SuperLeaderboard\\'>\\n\\t\\t<script type=\\'text/javascript\\'>\\n\\t\\tgoogletag.cmd.push(function () { googletag.display(\\'div-gpt-ad-SuperLeaderboard\\'); });\\n\\t\\t</script>\\n\\t</div>\\n\\t<div id=\\'div-gpt-ad-Mobile-Header\\'>\\n\\t\\t<script type=\\'text/javascript\\'>\\n\\t\\t\\tgoogletag.cmd.push(function () { googletag.display(\\'div-gpt-ad-Mobile-Header\\'); });\\n\\t\\t</script>\\n\\t</div>\\n</div>\\n\\n<div class=\"p-body\">\\n\\t<div class=\"p-body-inner\">\\n\\t\\t<!--XF:EXTRA_OUTPUT-->\\n\\n\\t\\t\\n\\t\\t\\t\\n\\t\\n\\t\\t\\n\\t\\t\\n\\t\\t\\n\\n\\t\\t<ul class=\"notices notices--block  js-notices\"\\n\\t\\t\\tdata-xf-init=\"notices\"\\n\\t\\t\\tdata-type=\"block\"\\n\\t\\t\\tdata-scroll-interval=\"6\">\\n\\n\\t\\t\\t\\n\\t\\t\\t\\t\\n\\t<li class=\"notice js-notice notice--primary\"\\n\\t\\tdata-notice-id=\"17\"\\n\\t\\tdata-delay-duration=\"0\"\\n\\t\\tdata-display-duration=\"0\"\\n\\t\\tdata-auto-dismiss=\"\"\\n\\t\\tdata-visibility=\"\">\\n\\n\\t\\t\\n\\t\\t<div class=\"notice-content\">\\n\\t\\t\\t\\n\\t\\t\\t\\t<a href=\"/account/dismiss-notice?notice_id=17\" class=\"notice-dismiss js-noticeDismiss\" data-xf-init=\"tooltip\" title=\"Dismiss notice\"></a>\\n\\t\\t\\t\\n\\t\\t\\t<a href=\"https://www.turfmagazine.com/\"><img src=\"https://www.turfmagazine.com/wp-content/uploads/2020/04/TURFLogoRegisterMark-Retina.png\" style=\"max-height: 50px; float: left; margin: 6px;\" /></a>\\n<strong>Online Events For Landscapers!  </strong><br />\\nWith GIE+EXPO cancelled, virtual education and product launches are filling up the fall. Check out dates for Caterpillar, Exmark, NALP, and more.     <a target=\"_blank\" href=\"https://www.turfmagazine.com/industry-news/online-events-of-interest-cat-davey-tree-milwaukee-tool-nalp-asla/\" style=\"text-decoration: underline;\"> Click here</a> to learn more.\\n\\t\\t</div>\\n\\t</li>\\n\\n\\t\\t\\t\\n\\t\\t</ul>\\n\\t\\n\\n\\t\\t\\n\\n\\t\\t\\n\\n\\t\\t\\n\\t\\t\\n\\t\\n\\t\\t<ul class=\"p-breadcrumbs \"\\n\\t\\t\\titemscope itemtype=\"https://schema.org/BreadcrumbList\">\\n\\t\\t\\n\\t\\t\\t\\n\\n\\t\\t\\t\\n\\t\\t\\t\\n\\n\\t\\t\\t\\n\\t\\t\\t\\t\\n\\t\\t\\t\\t\\n\\t<li itemprop=\"itemListElement\" itemscope itemtype=\"https://schema.org/ListItem\">\\n\\t\\t<a href=\"/\" itemprop=\"item\">\\n\\t\\t\\t<span itemprop=\"name\">Forums</span>\\n\\t\\t</a>\\n\\t\\t<meta itemprop=\"position\" content=\"1\" />\\n\\t</li>\\n\\n\\t\\t\\t\\n\\t\\t\\t\\n\\t\\t\\t\\t\\n\\t\\t\\t\\t\\n\\t<li itemprop=\"itemListElement\" itemscope itemtype=\"https://schema.org/ListItem\">\\n\\t\\t<a href=\"/categories/lawn-and-landscape-maintenance.23/\" itemprop=\"item\">\\n\\t\\t\\t<span itemprop=\"name\">Lawn and Landscape Maintenance</span>\\n\\t\\t</a>\\n\\t\\t<meta itemprop=\"position\" content=\"2\" />\\n\\t</li>\\n\\n\\t\\t\\t\\n\\t\\t\\t\\t\\n\\t\\t\\t\\t\\n\\t<li itemprop=\"itemListElement\" itemscope itemtype=\"https://schema.org/ListItem\">\\n\\t\\t<a href=\"/forums/lawn-mowing.1/\" itemprop=\"item\">\\n\\t\\t\\t<span itemprop=\"name\">Lawn Mowing</span>\\n\\t\\t</a>\\n\\t\\t<meta itemprop=\"position\" content=\"3\" />\\n\\t</li>\\n\\n\\t\\t\\t\\n\\n\\t\\t\\n\\t\\t</ul>\\n\\t\\n\\n\\t\\t\\n\\n\\t\\t\\n\\t<noscript><div class=\"blockMessage blockMessage--important blockMessage--iconic u-noJsOnly\">JavaScript is disabled. For a better experience, please enable JavaScript in your browser before proceeding.</div></noscript>\\n\\n\\t\\t\\n\\t<!--[if lt IE 9]><div class=\"blockMessage blockMessage&#45;&#45;important blockMessage&#45;&#45;iconic\">You are using an out of date browser. It  may not display this or other websites correctly.<br />You should upgrade or use an <a href=\"https://www.google.com/chrome/browser/\" target=\"_blank\">alternative browser</a>.</div><![endif]-->\\n\\n\\n\\t\\t\\n\\t\\t\\t<div class=\"p-body-header\">\\n\\t\\t\\t\\n\\t\\t\\t\\t\\n\\t\\t\\t\\t\\t<div class=\"p-title \">\\n\\t\\t\\t\\t\\t\\n\\t\\t\\t\\t\\t\\t\\n\\t\\t\\t\\t\\t\\t\\t<h1 class=\"p-title-value\">ZTR tire recommendations steep slope</h1>\\n\\t\\t\\t\\t\\t\\t\\n\\t\\t\\t\\t\\t\\t\\n\\t\\t\\t\\t\\t\\n\\t\\t\\t\\t\\t</div>\\n\\t\\t\\t\\t\\n\\n\\t\\t\\t\\t\\n\\t\\t\\t\\t\\t<div class=\"p-description\">\\n\\t<ul class=\"listInline listInline--bullet\">\\n\\t\\t<li>\\n\\t\\t\\t<i class=\"fa--xf far fa-user\" aria-hidden=\"true\" title=\"Thread starter\"></i>\\n\\t\\t\\t<span class=\"u-srOnly\">Thread starter</span>\\n\\n\\t\\t\\t<a href=\"/members/ribertgropius.102852/\" class=\"username  u-concealed\" dir=\"auto\" data-user-id=\"102852\" data-xf-init=\"member-tooltip\">ribertgropius</a>\\n\\t\\t</li>\\n\\t\\t<li>\\n\\t\\t\\t<i class=\"fa--xf far fa-clock\" aria-hidden=\"true\" title=\"Start date\"></i>\\n\\t\\t\\t<span class=\"u-srOnly\">Start date</span>\\n\\n\\t\\t\\t<a href=\"/threads/ztr-tire-recommendations-steep-slope.314574/\" class=\"u-concealed\"><time  class=\"u-dt\" dir=\"auto\" datetime=\"2010-04-24T23:21:46-0400\" data-time=\"1272165706\" data-date-string=\"Apr 24, 2010\" data-time-string=\"11:21 PM\" title=\"Apr 24, 2010 at 11:21 PM\">Apr 24, 2010</time></a>\\n\\t\\t</li>\\n\\t\\t\\n\\t</ul>\\n</div>\\n\\t\\t\\t\\t\\n\\t\\t\\t\\n\\t\\t\\t</div>\\n\\t\\t\\n\\n\\t\\t\\t\\n\\t\\t\\n\\t\\t\\n\\t\\t<div class=\"p-body-main p-body-main--withSidebar \">\\n\\t\\t\\t\\n\\n\\t\\t\\n\\t\\t\\t\\n\\t\\t\\t<div class=\"p-body-content\">\\n\\t\\t\\t\\t\\n\\t\\t\\t\\t<div class=\"p-body-pageContent\">\\n\\n\\n\\n\\n\\n\\n\\n\\n\\t\\n\\t\\n\\t\\n\\t\\t\\n\\t\\n\\t\\n\\t\\n\\n\\n\\t\\n\\t\\n\\t\\n\\t\\t\\n\\t\\n\\t\\n\\t\\n\\n\\n\\t\\n\\t\\n\\t\\t\\n\\t\\n\\t\\n\\t\\n\\n\\n\\t\\n\\t\\n\\n\\n\\n\\n\\n\\n\\n\\n\\n\\t\\n\\n\\t\\n\\t\\t\\n\\t\\n\\n\\n\\n\\n\\n\\n\\n\\t\\n\\t\\t\\n\\t\\t\\n\\t\\n\\n\\n\\n\\n\\n\\n<div class=\"block block--messages\" data-xf-init=\"\" data-type=\"post\" data-href=\"/inline-mod/\">\\n\\n\\t\\n\\t\\n\\n\\n\\t<div class=\"block-outer\"><div class=\"block-outer-main\"><nav class=\"pageNavWrapper pageNavWrapper--mixed \">\\n\\n\\n\\n<div class=\"pageNav  \">\\n\\t\\n\\n\\t<ul class=\"pageNav-main\">\\n\\t\\t\\n\\n\\t\\n\\t\\t<li class=\"pageNav-page pageNav-page--current \"><a href=\"/threads/ztr-tire-recommendations-steep-slope.314574/\">1</a></li>\\n\\t\\n\\n\\n\\t\\t\\n\\n\\t\\t\\n\\n\\t\\t\\n\\n\\t\\t\\n\\n\\t\\n\\t\\t<li class=\"pageNav-page \"><a href=\"/threads/ztr-tire-recommendations-steep-slope.314574/page-2\">2</a></li>\\n\\t\\n\\n\\t</ul>\\n\\n\\t\\n\\t\\t<a href=\"/threads/ztr-tire-recommendations-steep-slope.314574/page-2\" class=\"pageNav-jump pageNav-jump--next\">Next</a>\\n\\t\\n</div>\\n\\n<div class=\"pageNavSimple\">\\n\\t\\n\\n\\t<a class=\"pageNavSimple-el pageNavSimple-el--current\"\\n\\t\\tdata-xf-init=\"tooltip\" title=\"Go to page\"\\n\\t\\tdata-xf-click=\"menu\" role=\"button\" tabindex=\"0\" aria-expanded=\"false\" aria-haspopup=\"true\">\\n\\t\\t1 of 2\\n\\t</a>\\n\\t\\n\\n\\t<div class=\"menu menu--pageJump\" data-menu=\"menu\" aria-hidden=\"true\">\\n\\t\\t<div class=\"menu-content\">\\n\\t\\t\\t<h4 class=\"menu-header\">Go to page</h4>\\n\\t\\t\\t<div class=\"menu-row\" data-xf-init=\"page-jump\" data-page-url=\"/threads/ztr-tire-recommendations-steep-slope.314574/page-%page%\">\\n\\t\\t\\t\\t<div class=\"inputGroup inputGroup--numbers\">\\n\\t\\t\\t\\t\\t<div class=\"inputGroup inputGroup--numbers inputNumber\" data-xf-init=\"number-box\"><input type=\"number\" pattern=\"\\\\d*\" class=\"input input--number js-numberBoxTextInput input input--numberNarrow js-pageJumpPage\" value=\"1\"  min=\"1\" max=\"2\" step=\"1\" required=\"required\" data-menu-autofocus=\"true\" /></div>\\n\\t\\t\\t\\t\\t<span class=\"inputGroup-text\"><button type=\"button\" class=\"js-pageJumpGo button\"><span class=\"button-text\">Go</span></button></span>\\n\\t\\t\\t\\t</div>\\n\\t\\t\\t</div>\\n\\t\\t</div>\\n\\t</div>\\n\\n\\n\\t\\n\\t\\t<a href=\"/threads/ztr-tire-recommendations-steep-slope.314574/page-2\" class=\"pageNavSimple-el pageNavSimple-el--next\">\\n\\t\\t\\tNext <i aria-hidden=\"true\"></i>\\n\\t\\t</a>\\n\\t\\t<a href=\"/threads/ztr-tire-recommendations-steep-slope.314574/page-2\"\\n\\t\\t\\tclass=\"pageNavSimple-el pageNavSimple-el--last\"\\n\\t\\t\\tdata-xf-init=\"tooltip\" title=\"Last\">\\n\\t\\t\\t<i aria-hidden=\"true\"></i> <span class=\"u-srOnly\">Last</span>\\n\\t\\t</a>\\n\\t\\n</div>\\n\\n</nav>\\n\\n\\n\\n</div></div>\\n\\n\\t<div class=\"block-outer js-threadStatusField\"></div>\\n\\n\\t<div class=\"block-container lbContainer\"\\n\\t\\tdata-xf-init=\"lightbox select-to-quote\"\\n\\t\\tdata-message-selector=\".js-post\"\\n\\t\\tdata-lb-id=\"thread-314574\"\\n\\t\\tdata-lb-universal=\"1\">\\n\\n\\t\\t<div class=\"block-body js-replyNewMessageContainer\">\\n\\t\\t\\t\\n\\t\\t\\t\\t\\n\\t\\t\\t\\t\\t\\n\\t\\n\\t\\n\\t<article class=\"message message--post js-post js-inlineModContainer  \"\\n\\t\\tdata-author=\"ribertgropius\"\\n\\t\\tdata-content=\"post-3536331\"\\n\\t\\tid=\"js-post-3536331\">\\n\\n\\t\\t<span class=\"u-anchorTarget\" id=\"post-3536331\"></span>\\n\\n\\t\\t<div class=\"message-inner\">\\n\\t\\t\\t<div class=\"message-cell message-cell--user\">\\n\\t\\t\\t\\t\\n\\n\\t<section itemscope itemtype=\"https://schema.org/Person\" class=\"message-user\">\\n\\t\\t<div class=\"message-avatar \">\\n\\t\\t\\t<div class=\"message-avatar-wrapper\">\\n\\n\\t\\t\\t\\t<a href=\"/members/ribertgropius.102852/\" class=\"avatar avatar--m avatar--default avatar--default--dynamic\" data-user-id=\"102852\" data-xf-init=\"member-tooltip\" style=\"background-color: #cc9999; color: #773c3c\">\\n\\t\\t\\t<span class=\"avatar-u102852-m\">R</span> \\n\\t\\t</a>\\n\\t\\t\\t\\t\\n\\t\\t\\t</div>\\n\\t\\t</div>\\n\\t\\t<div class=\"message-userDetails\">\\n\\t\\t\\t<h4 class=\"message-name\"><a href=\"/members/ribertgropius.102852/\" class=\"username \" dir=\"auto\" data-user-id=\"102852\" data-xf-init=\"member-tooltip\" itemprop=\"name\">ribertgropius</a></h4>\\n\\t\\t\\t<h5 class=\"userTitle message-userTitle\" dir=\"auto\" itemprop=\"jobTitle\">LawnSite Member</h5>\\n\\t\\t\\t\\n\\t\\t</div>\\n\\t\\t\\n\\t\\t\\t\\n\\t\\t\\t\\n\\t\\t\\t\\t<div class=\"message-userExtras\">\\n\\t\\t\\t\\t\\n\\t\\t\\t\\t\\t\\n\\t\\t\\t\\t\\t\\n\\t\\t\\t\\t\\t\\n\\t\\t\\t\\t\\t\\n\\t\\t\\t\\t\\t\\n\\t\\t\\t\\t\\t\\n\\t\\t\\t\\t\\t\\t<dl class=\"pairs pairs--justified\">\\n\\t\\t\\t\\t\\t\\t\\t<dt>Location</dt>\\n\\t\\t\\t\\t\\t\\t\\t<dd>\\n\\t\\t\\t\\t\\t\\t\\t\\t\\n\\t\\t\\t\\t\\t\\t\\t\\t\\t<a href=\"/misc/location-info?location=Broad+Run%2C+VA\" rel=\"nofollow noreferrer\" target=\"_blank\" class=\"u-concealed\">Broad Run, VA</a>\\n\\t\\t\\t\\t\\t\\t\\t\\t\\n\\t\\t\\t\\t\\t\\t\\t</dd>\\n\\t\\t\\t\\t\\t\\t</dl>\\n\\t\\t\\t\\t\\t\\n\\t\\t\\t\\t\\t\\n\\t\\t\\t\\t\\t\\n\\t\\t\\t\\t\\n\\t\\t\\t\\t</div>\\n\\t\\t\\t\\n\\t\\t\\n\\t\\t<span class=\"message-userArrow\"></span>\\n\\t</section>\\n\\n\\t\\t\\t</div>\\n\\t\\t\\t<div class=\"message-cell message-cell--main\">\\n\\t\\t\\t\\t<div class=\"message-main js-quickEditTarget\">\\n\\n\\t\\t\\t\\t\\t<header class=\"message-attribution message-attribution--split\">\\n\\t\\t\\t\\t\\t\\t<div class=\"message-attribution-main\">\\n\\t\\t\\t\\t\\t\\t\\t<a href=\"/threads/ztr-tire-recommendations-steep-slope.314574/post-3536331\" class=\"u-concealed\"\\n\\t\\t\\t\\t\\t\\t\\t\\trel=\"nofollow\">\\n\\t\\t\\t\\t\\t\\t\\t\\t<time  class=\"u-dt\" dir=\"auto\" datetime=\"2010-04-24T23:21:46-0400\" data-time=\"1272165706\" data-date-string=\"Apr 24, 2010\" data-time-string=\"11:21 PM\" title=\"Apr 24, 2010 at 11:21 PM\">Apr 24, 2010</time>\\n\\t\\t\\t\\t\\t\\t\\t</a>\\n\\t\\t\\t\\t\\t\\t</div>\\n\\n\\t\\t\\t\\t\\t\\t<ul class=\"message-attribution-opposite message-attribution-opposite--list\">\\n\\t\\t\\t\\t\\t\\t\\t\\n\\t\\n\\t\\t\\t\\t\\t\\t\\t<li>\\n\\t\\t\\t\\t\\t\\t\\t\\t<a href=\"/threads/ztr-tire-recommendations-steep-slope.314574/post-3536331\"\\n\\t\\t\\t\\t\\t\\t\\t\\t\\tdata-xf-init=\"share-tooltip\" data-href=\"/posts/3536331/share\"\\n\\t\\t\\t\\t\\t\\t\\t\\t\\trel=\"nofollow\">\\n\\t\\t\\t\\t\\t\\t\\t\\t\\t<i class=\"fa--xf far fa-share-alt\" aria-hidden=\"true\"></i>\\n\\t\\t\\t\\t\\t\\t\\t\\t</a>\\n\\t\\t\\t\\t\\t\\t\\t</li>\\n\\t\\t\\t\\t\\t\\t\\t\\n\\t\\t\\t\\t\\t\\t\\t\\n\\t\\t\\t\\t\\t\\t\\t\\t<li>\\n\\t\\t\\t\\t\\t\\t\\t\\t\\t<a href=\"/threads/ztr-tire-recommendations-steep-slope.314574/post-3536331\" rel=\"nofollow\">\\n\\t\\t\\t\\t\\t\\t\\t\\t\\t\\t#1\\n\\t\\t\\t\\t\\t\\t\\t\\t\\t</a>\\n\\t\\t\\t\\t\\t\\t\\t\\t</li>\\n\\t\\t\\t\\t\\t\\t\\t\\n\\t\\t\\t\\t\\t\\t</ul>\\n\\t\\t\\t\\t\\t</header>\\n\\n\\t\\t\\t\\t\\t<div class=\"message-content js-messageContent\">\\n\\n\\t\\t\\t\\t\\t\\t\\n\\t\\t\\t\\t\\t\\t\\n\\t\\t\\t\\t\\t\\t\\n\\n\\t\\t\\t\\t\\t\\t<div class=\"message-userContent lbContainer js-lbContainer \"\\n\\t\\t\\t\\t\\t\\t\\tdata-lb-id=\"post-3536331\"\\n\\t\\t\\t\\t\\t\\t\\tdata-lb-caption-desc=\"ribertgropius &middot; Apr 24, 2010 at 11:21 PM\">\\n\\n\\t\\t\\t\\t\\t\\t\\t\\n\\t\\t\\t\\t\\t\\t\\t\\t\\n\\n\\t\\n\\n\\t\\t\\t\\t\\t\\t\\t\\n\\n\\t\\t\\t\\t\\t\\t\\t<article class=\"message-body js-selectToQuote\">\\n\\t\\t\\t\\t\\t\\t\\t\\t\\n\\t\\t\\t\\t\\t\\t\\t\\t<div class=\"bbWrapper\">I have an older (1994)  Bunton 60&quot; ZTR that I am using this year on my new property in VA.  I have some very steep grades, and my existing Carlisle turfmate tires don\\'t seem to get any traction to the point that I just start to slide down the hill.  I have a bad feeling about setting myself up for an accident, so thought I should look at replacing the tires with something with a more aggressive tread.<br />\\r\\n<br />\\r\\nI mow about 6 acres, and the grass is all on red VA clay.  Any suggestions for replacement tires?  I was looking at the Carlisle Multi-trac C/S or the Turf Trac RS but wasn\\'t sure what made sense.  I also thought about ATV tires but don\\'t know what would be best with the clay.  The Bunton has 23 x 10.5-12.   <br />\\r\\n<br />\\r\\nAny other suggestions for improving traction?   <br />\\r\\n<br />\\r\\nRobert</div>\\n\\t\\t\\t\\t\\t\\t\\t\\t<div class=\"js-selectToQuoteEnd\">&nbsp;</div>\\n\\t\\t\\t\\t\\t\\t\\t\\t\\n\\t\\t\\t\\t\\t\\t\\t</article>\\n\\n\\t\\t\\t\\t\\t\\t\\t\\n\\t\\t\\t\\t\\t\\t\\t\\t\\n\\n\\t\\n\\n\\t\\t\\t\\t\\t\\t\\t\\n\\n\\t\\t\\t\\t\\t\\t\\t\\n\\t\\t\\t\\t\\t\\t</div>\\n\\n\\t\\t\\t\\t\\t\\t\\n\\t\\t\\t\\t\\t\\t\\t<div class=\"message-lastEdit\">\\n\\t\\t\\t\\t\\t\\t\\t\\t\\n\\t\\t\\t\\t\\t\\t\\t\\t\\tLast edited: <time  class=\"u-dt\" dir=\"auto\" datetime=\"2010-04-24T23:26:10-0400\" data-time=\"1272165970\" data-date-string=\"Apr 24, 2010\" data-time-string=\"11:26 PM\" title=\"Apr 24, 2010 at 11:26 PM\">Apr 24, 2010</time>\\n\\t\\t\\t\\t\\t\\t\\t\\t\\n\\t\\t\\t\\t\\t\\t\\t</div>\\n\\t\\t\\t\\t\\t\\t\\n\\n\\t\\t\\t\\t\\t\\t\\n\\t\\n\\n\\t\\t\\t\\t\\t</div>\\n\\n\\t\\t\\t\\t\\t<footer class=\"message-footer\">\\n\\t\\t\\t\\t\\t\\t\\n\\n\\t\\t\\t\\t\\t\\t<div class=\"reactionsBar js-reactionsList \">\\n\\t\\t\\t\\t\\t\\t\\t\\n\\t\\t\\t\\t\\t\\t</div>\\n\\n\\t\\t\\t\\t\\t\\t<div class=\"js-historyTarget message-historyTarget toggleTarget\" data-href=\"trigger-href\"></div>\\n\\t\\t\\t\\t\\t</footer>\\n\\t\\t\\t\\t</div>\\n\\t\\t\\t</div>\\n\\t\\t\\t\\n\\t\\t</div>\\n\\t</article>\\n\\n\\t\\n\\n\\t\\t\\t\\t\\n\\t\\t\\t\\t\\n\\t\\t\\t\\t\\n\\t\\t\\t\\t\\n\\t\\t\\t\\n\\t\\t\\t\\t\\n\\t\\t\\t\\t\\t\\n\\t\\n\\t\\n\\t<article class=\"message message--post js-post js-inlineModContainer  \"\\n\\t\\tdata-author=\"bam\"\\n\\t\\tdata-content=\"post-3536765\"\\n\\t\\tid=\"js-post-3536765\">\\n\\n\\t\\t<span class=\"u-anchorTarget\" id=\"post-3536765\"></span>\\n\\n\\t\\t<div class=\"message-inner\">\\n\\t\\t\\t<div class=\"message-cell message-cell--user\">\\n\\t\\t\\t\\t\\n\\n\\t<section itemscope itemtype=\"https://schema.org/Person\" class=\"message-user\">\\n\\t\\t<div class=\"message-avatar \">\\n\\t\\t\\t<div class=\"message-avatar-wrapper\">\\n\\n\\t\\t\\t\\t<a href=\"/members/bam.2283/\" class=\"avatar avatar--m avatar--default avatar--default--dynamic\" data-user-id=\"2283\" data-xf-init=\"member-tooltip\" style=\"background-color: #cccc99; color: #77773c\">\\n\\t\\t\\t<span class=\"avatar-u2283-m\">B</span> \\n\\t\\t</a>\\n\\t\\t\\t\\t\\n\\t\\t\\t</div>\\n\\t\\t</div>\\n\\t\\t<div class=\"message-userDetails\">\\n\\t\\t\\t<h4 class=\"message-name\"><a href=\"/members/bam.2283/\" class=\"username \" dir=\"auto\" data-user-id=\"2283\" data-xf-init=\"member-tooltip\" itemprop=\"name\">bam</a></h4>\\n\\t\\t\\t<h5 class=\"userTitle message-userTitle\" dir=\"auto\" itemprop=\"jobTitle\">LawnSite Senior Member</h5>\\n\\t\\t\\t\\n\\t\\t</div>\\n\\t\\t\\n\\t\\t\\t\\n\\t\\t\\t\\n\\t\\t\\t\\t<div class=\"message-userExtras\">\\n\\t\\t\\t\\t\\n\\t\\t\\t\\t\\t\\n\\t\\t\\t\\t\\t\\n\\t\\t\\t\\t\\t\\n\\t\\t\\t\\t\\t\\n\\t\\t\\t\\t\\t\\n\\t\\t\\t\\t\\t\\n\\t\\t\\t\\t\\t\\t<dl class=\"pairs pairs--justified\">\\n\\t\\t\\t\\t\\t\\t\\t<dt>Location</dt>\\n\\t\\t\\t\\t\\t\\t\\t<dd>\\n\\t\\t\\t\\t\\t\\t\\t\\t\\n\\t\\t\\t\\t\\t\\t\\t\\t\\t<a href=\"/misc/location-info?location=.\" rel=\"nofollow noreferrer\" target=\"_blank\" class=\"u-concealed\">.</a>\\n\\t\\t\\t\\t\\t\\t\\t\\t\\n\\t\\t\\t\\t\\t\\t\\t</dd>\\n\\t\\t\\t\\t\\t\\t</dl>\\n\\t\\t\\t\\t\\t\\n\\t\\t\\t\\t\\t\\n\\t\\t\\t\\t\\t\\n\\t\\t\\t\\t\\n\\t\\t\\t\\t</div>\\n\\t\\t\\t\\n\\t\\t\\n\\t\\t<span class=\"message-userArrow\"></span>\\n\\t</section>\\n\\n\\t\\t\\t</div>\\n\\t\\t\\t<div class=\"message-cell message-cell--main\">\\n\\t\\t\\t\\t<div class=\"message-main js-quickEditTarget\">\\n\\n\\t\\t\\t\\t\\t<header class=\"message-attribution message-attribution--split\">\\n\\t\\t\\t\\t\\t\\t<div class=\"message-attribution-main\">\\n\\t\\t\\t\\t\\t\\t\\t<a href=\"/threads/ztr-tire-recommendations-steep-slope.314574/post-3536765\" class=\"u-concealed\"\\n\\t\\t\\t\\t\\t\\t\\t\\trel=\"nofollow\">\\n\\t\\t\\t\\t\\t\\t\\t\\t<time  class=\"u-dt\" dir=\"auto\" datetime=\"2010-04-25T10:03:06-0400\" data-time=\"1272204186\" data-date-string=\"Apr 25, 2010\" data-time-string=\"10:03 AM\" title=\"Apr 25, 2010 at 10:03 AM\">Apr 25, 2010</time>\\n\\t\\t\\t\\t\\t\\t\\t</a>\\n\\t\\t\\t\\t\\t\\t</div>\\n\\n\\t\\t\\t\\t\\t\\t<ul class=\"message-attribution-opposite message-attribution-opposite--list\">\\n\\t\\t\\t\\t\\t\\t\\t\\n\\t\\n\\t\\t\\t\\t\\t\\t\\t<li>\\n\\t\\t\\t\\t\\t\\t\\t\\t<a href=\"/threads/ztr-tire-recommendations-steep-slope.314574/post-3536765\"\\n\\t\\t\\t\\t\\t\\t\\t\\t\\tdata-xf-init=\"share-tooltip\" data-href=\"/posts/3536765/share\"\\n\\t\\t\\t\\t\\t\\t\\t\\t\\trel=\"nofollow\">\\n\\t\\t\\t\\t\\t\\t\\t\\t\\t<i class=\"fa--xf far fa-share-alt\" aria-hidden=\"true\"></i>\\n\\t\\t\\t\\t\\t\\t\\t\\t</a>\\n\\t\\t\\t\\t\\t\\t\\t</li>\\n\\t\\t\\t\\t\\t\\t\\t\\n\\t\\t\\t\\t\\t\\t\\t\\n\\t\\t\\t\\t\\t\\t\\t\\t<li>\\n\\t\\t\\t\\t\\t\\t\\t\\t\\t<a href=\"/threads/ztr-tire-recommendations-steep-slope.314574/post-3536765\" rel=\"nofollow\">\\n\\t\\t\\t\\t\\t\\t\\t\\t\\t\\t#2\\n\\t\\t\\t\\t\\t\\t\\t\\t\\t</a>\\n\\t\\t\\t\\t\\t\\t\\t\\t</li>\\n\\t\\t\\t\\t\\t\\t\\t\\n\\t\\t\\t\\t\\t\\t</ul>\\n\\t\\t\\t\\t\\t</header>\\n\\n\\t\\t\\t\\t\\t<div class=\"message-content js-messageContent\">\\n\\n\\t\\t\\t\\t\\t\\t\\n\\t\\t\\t\\t\\t\\t\\n\\t\\t\\t\\t\\t\\t\\n\\n\\t\\t\\t\\t\\t\\t<div class=\"message-userContent lbContainer js-lbContainer \"\\n\\t\\t\\t\\t\\t\\t\\tdata-lb-id=\"post-3536765\"\\n\\t\\t\\t\\t\\t\\t\\tdata-lb-caption-desc=\"bam &middot; Apr 25, 2010 at 10:03 AM\">\\n\\n\\t\\t\\t\\t\\t\\t\\t\\n\\n\\t\\t\\t\\t\\t\\t\\t<article class=\"message-body js-selectToQuote\">\\n\\t\\t\\t\\t\\t\\t\\t\\t\\n\\t\\t\\t\\t\\t\\t\\t\\t<div class=\"bbWrapper\">get a walkbehind mower.  <br />\\r\\n<br />\\r\\nThe ZTR\\'s are only meant to be used on so many degree slope.  Read the operators manual.  If your climbing and the machine is sliding, then the hydraulics are giving out, leaving you with no control til your at the bottom, whether that\\'s right side up, or upside down.<br />\\r\\n<br />\\r\\nChoose the right machine for your environment.  It doesn\\'t sound like you should have a ZTR in the first place.<br />\\r\\n<br />\\r\\nYou have alot more control with a walk behind unit.  If you\\'re climbing slopes, by no means are you using the ZTR for speed, and a walkbehind would outperform in the end.</div>\\n\\t\\t\\t\\t\\t\\t\\t\\t<div class=\"js-selectToQuoteEnd\">&nbsp;</div>\\n\\t\\t\\t\\t\\t\\t\\t\\t\\n\\t\\t\\t\\t\\t\\t\\t</article>\\n\\n\\t\\t\\t\\t\\t\\t\\t\\n\\n\\t\\t\\t\\t\\t\\t\\t\\n\\t\\t\\t\\t\\t\\t</div>\\n\\n\\t\\t\\t\\t\\t\\t\\n\\n\\t\\t\\t\\t\\t\\t\\n\\t\\n\\n\\t\\t\\t\\t\\t</div>\\n\\n\\t\\t\\t\\t\\t<footer class=\"message-footer\">\\n\\t\\t\\t\\t\\t\\t\\n\\n\\t\\t\\t\\t\\t\\t<div class=\"reactionsBar js-reactionsList \">\\n\\t\\t\\t\\t\\t\\t\\t\\n\\t\\t\\t\\t\\t\\t</div>\\n\\n\\t\\t\\t\\t\\t\\t<div class=\"js-historyTarget message-historyTarget toggleTarget\" data-href=\"trigger-href\"></div>\\n\\t\\t\\t\\t\\t</footer>\\n\\t\\t\\t\\t</div>\\n\\t\\t\\t</div>\\n\\t\\t\\t\\n\\t\\t</div>\\n\\t</article>\\n\\n\\t\\n\\n\\t\\t\\t\\t\\n\\t\\t\\t\\t\\n\\t\\t\\t\\t\\n\\t\\t\\t\\t\\n\\t\\t\\t\\n\\t\\t\\t\\t\\n\\t\\t\\t\\t\\t\\n\\t\\n\\t\\n\\t<article class=\"message message--post js-post js-inlineModContainer  \"\\n\\t\\tdata-author=\"ribertgropius\"\\n\\t\\tdata-content=\"post-3538227\"\\n\\t\\tid=\"js-post-3538227\">\\n\\n\\t\\t<span class=\"u-anchorTarget\" id=\"post-3538227\"></span>\\n\\n\\t\\t<div class=\"message-inner\">\\n\\t\\t\\t<div class=\"message-cell message-cell--user\">\\n\\t\\t\\t\\t\\n\\n\\t<section itemscope itemtype=\"https://schema.org/Person\" class=\"message-user\">\\n\\t\\t<div class=\"message-avatar \">\\n\\t\\t\\t<div class=\"message-avatar-wrapper\">\\n\\n    \\n\\n\\n    <div class=\"ribbonBox desktopRibbon leftCornerDesktop\">\\n        <div class=\"ribbon-wrapper\">\\n            <div class=\"ribbon\"\\n                    \\n                        data-xf-init=\"tooltip\"\\n                        data-original-title=\"Thread Starter\"\\n                    \\n                >\\n                <span>OP </span>\\n            </div>\\n        </div>\\n    </div>\\n\\n\\n\\n\\n\\t\\t\\t\\t<a href=\"/members/ribertgropius.102852/\" class=\"avatar avatar--m avatar--default avatar--default--dynamic\" data-user-id=\"102852\" data-xf-init=\"member-tooltip\" style=\"background-color: #cc9999; color: #773c3c\">\\n\\t\\t\\t<span class=\"avatar-u102852-m\">R</span> \\n\\t\\t</a>\\n\\t\\t\\t\\t\\n\\t\\t\\t</div>\\n\\t\\t</div>\\n\\t\\t<div class=\"message-userDetails\">\\n\\t\\t\\t<h4 class=\"message-name\"><a href=\"/members/ribertgropius.102852/\" class=\"username \" dir=\"auto\" data-user-id=\"102852\" data-xf-init=\"member-tooltip\" itemprop=\"name\">ribertgropius</a></h4>\\n\\t\\t\\t<h5 class=\"userTitle message-userTitle\" dir=\"auto\" itemprop=\"jobTitle\">LawnSite Member</h5>\\n\\t\\t\\t\\n\\t\\t</div>\\n\\t\\t\\n\\t\\t\\t\\n\\t\\t\\t\\n\\t\\t\\t\\t<div class=\"message-userExtras\">\\n\\t\\t\\t\\t\\n\\t\\t\\t\\t\\t\\n\\t\\t\\t\\t\\t\\n\\t\\t\\t\\t\\t\\n\\t\\t\\t\\t\\t\\n\\t\\t\\t\\t\\t\\n\\t\\t\\t\\t\\t\\n\\t\\t\\t\\t\\t\\t<dl class=\"pairs pairs--justified\">\\n\\t\\t\\t\\t\\t\\t\\t<dt>Location</dt>\\n\\t\\t\\t\\t\\t\\t\\t<dd>\\n\\t\\t\\t\\t\\t\\t\\t\\t\\n\\t\\t\\t\\t\\t\\t\\t\\t\\t<a href=\"/misc/location-info?location=Broad+Run%2C+VA\" rel=\"nofollow noreferrer\" target=\"_blank\" class=\"u-concealed\">Broad Run, VA</a>\\n\\t\\t\\t\\t\\t\\t\\t\\t\\n\\t\\t\\t\\t\\t\\t\\t</dd>\\n\\t\\t\\t\\t\\t\\t</dl>\\n\\t\\t\\t\\t\\t\\n\\t\\t\\t\\t\\t\\n\\t\\t\\t\\t\\t\\n\\t\\t\\t\\t\\n\\t\\t\\t\\t</div>\\n\\t\\t\\t\\n\\t\\t\\n\\t\\t<span class=\"message-userArrow\"></span>\\n\\t</section>\\n\\n\\t\\t\\t</div>\\n\\t\\t\\t<div class=\"message-cell message-cell--main\">\\n\\t\\t\\t\\t<div class=\"message-main js-quickEditTarget\">\\n\\n\\t\\t\\t\\t\\t<header class=\"message-attribution message-attribution--split\">\\n\\t\\t\\t\\t\\t\\t<div class=\"message-attribution-main\">\\n\\t\\t\\t\\t\\t\\t\\t<a href=\"/threads/ztr-tire-recommendations-steep-slope.314574/post-3538227\" class=\"u-concealed\"\\n\\t\\t\\t\\t\\t\\t\\t\\trel=\"nofollow\">\\n\\t\\t\\t\\t\\t\\t\\t\\t<time  class=\"u-dt\" dir=\"auto\" datetime=\"2010-04-26T00:17:46-0400\" data-time=\"1272255466\" data-date-string=\"Apr 26, 2010\" data-time-string=\"12:17 AM\" title=\"Apr 26, 2010 at 12:17 AM\">Apr 26, 2010</time>\\n\\t\\t\\t\\t\\t\\t\\t</a>\\n\\t\\t\\t\\t\\t\\t</div>\\n\\n\\t\\t\\t\\t\\t\\t<ul class=\"message-attribution-opposite message-attribution-opposite--list\">\\n\\t\\t\\t\\t\\t\\t\\t\\n\\t\\n    \\n\\t<li>\\n    \\n    \\n      \\t<span class=\"message-newIndicator threadStarterMobile\">Thread Starter</span>\\n    \\n\\t</li>\\n\\n\\n\\t\\t\\t\\t\\t\\t\\t<li>\\n\\t\\t\\t\\t\\t\\t\\t\\t<a href=\"/threads/ztr-tire-recommendations-steep-slope.314574/post-3538227\"\\n\\t\\t\\t\\t\\t\\t\\t\\t\\tdata-xf-init=\"share-tooltip\" data-href=\"/posts/3538227/share\"\\n\\t\\t\\t\\t\\t\\t\\t\\t\\trel=\"nofollow\">\\n\\t\\t\\t\\t\\t\\t\\t\\t\\t<i class=\"fa--xf far fa-share-alt\" aria-hidden=\"true\"></i>\\n\\t\\t\\t\\t\\t\\t\\t\\t</a>\\n\\t\\t\\t\\t\\t\\t\\t</li>\\n\\t\\t\\t\\t\\t\\t\\t\\n\\t\\t\\t\\t\\t\\t\\t\\n\\t\\t\\t\\t\\t\\t\\t\\t<li>\\n\\t\\t\\t\\t\\t\\t\\t\\t\\t<a href=\"/threads/ztr-tire-recommendations-steep-slope.314574/post-3538227\" rel=\"nofollow\">\\n\\t\\t\\t\\t\\t\\t\\t\\t\\t\\t#3\\n\\t\\t\\t\\t\\t\\t\\t\\t\\t</a>\\n\\t\\t\\t\\t\\t\\t\\t\\t</li>\\n\\t\\t\\t\\t\\t\\t\\t\\n\\t\\t\\t\\t\\t\\t</ul>\\n\\t\\t\\t\\t\\t</header>\\n\\n\\t\\t\\t\\t\\t<div class=\"message-content js-messageContent\">\\n\\n\\t\\t\\t\\t\\t\\t\\n\\t\\t\\t\\t\\t\\t\\n\\t\\t\\t\\t\\t\\t\\n\\n\\t\\t\\t\\t\\t\\t<div class=\"message-userContent lbContainer js-lbContainer \"\\n\\t\\t\\t\\t\\t\\t\\tdata-lb-id=\"post-3538227\"\\n\\t\\t\\t\\t\\t\\t\\tdata-lb-caption-desc=\"ribertgropius &middot; Apr 26, 2010 at 12:17 AM\">\\n\\n\\t\\t\\t\\t\\t\\t\\t\\n\\n\\t\\t\\t\\t\\t\\t\\t<article class=\"message-body js-selectToQuote\">\\n\\t\\t\\t\\t\\t\\t\\t\\t\\n\\t\\t\\t\\t\\t\\t\\t\\t<div class=\"bbWrapper\">&quot;sliding down the hill&quot; is probably a bit of an exaggeration.  I lose traction and the machine skids sideways, and it takes a fair amount of maneuvering to get it back on the swath I am cutting.  Your point is well taken, however, about the grade being steep for a ZTR.</div>\\n\\t\\t\\t\\t\\t\\t\\t\\t<div class=\"js-selectToQuoteEnd\">&nbsp;</div>\\n\\t\\t\\t\\t\\t\\t\\t\\t\\n\\t\\t\\t\\t\\t\\t\\t</article>\\n\\n\\t\\t\\t\\t\\t\\t\\t\\n\\n\\t\\t\\t\\t\\t\\t\\t\\n\\t\\t\\t\\t\\t\\t</div>\\n\\n\\t\\t\\t\\t\\t\\t\\n\\n\\t\\t\\t\\t\\t\\t\\n\\t\\n\\n\\t\\t\\t\\t\\t</div>\\n\\n\\t\\t\\t\\t\\t<footer class=\"message-footer\">\\n\\t\\t\\t\\t\\t\\t\\n\\n\\t\\t\\t\\t\\t\\t<div class=\"reactionsBar js-reactionsList \">\\n\\t\\t\\t\\t\\t\\t\\t\\n\\t\\t\\t\\t\\t\\t</div>\\n\\n\\t\\t\\t\\t\\t\\t<div class=\"js-historyTarget message-historyTarget toggleTarget\" data-href=\"trigger-href\"></div>\\n\\t\\t\\t\\t\\t</footer>\\n\\t\\t\\t\\t</div>\\n\\t\\t\\t</div>\\n\\t\\t\\t\\n\\t\\t</div>\\n\\t</article>\\n\\n\\t\\n\\n\\t\\t\\t\\t\\n\\t\\t\\t\\t\\n\\t\\t\\t\\t\\t<div class=\"in-content-ad-div\">\\n\\t\\t\\t\\t\\t\\t<!-- /24055536/LS-InContent -->\\n\\t\\t\\t\\t\\t\\t<div id=\\'div-gpt-ad-InContent\\'>\\n\\t\\t\\t\\t\\t\\t\\t<script type=\\'text/javascript\\'>\\n\\t\\t\\t\\t\\t\\t\\t\\tgoogletag.cmd.push(function() { googletag.display(\\'div-gpt-ad-InContent\\'); });\\n\\t\\t\\t\\t\\t\\t\\t</script>\\n\\t\\t\\t\\t\\t\\t</div>\\n\\t\\t\\t\\t\\t\\t<!-- /24055536/LS-Mobile-InContent1-->\\n\\t\\t\\t\\t\\t\\t<div id=\\'div-gpt-ad-Mobile-InContent1\\'>\\n\\t\\t\\t\\t\\t\\t\\t<script type=\\'text/javascript\\'>\\n\\t\\t\\t\\t\\t\\t\\t\\tgoogletag.cmd.push(function() { googletag.display(\\'div-gpt-ad-Mobile-InContent1\\'); });\\n\\t\\t\\t\\t\\t\\t\\t</script>\\n\\t\\t\\t\\t\\t\\t</div>\\n\\t\\t\\t\\t\\t</div>\\n\\t\\t\\t\\t\\n\\t\\t\\t\\t\\n\\t\\t\\t\\t\\n\\t\\t\\t\\n\\t\\t\\t\\t\\n\\t\\t\\t\\t\\t\\n\\t\\n\\t\\n\\t<article class=\"message message--post js-post js-inlineModContainer  \"\\n\\t\\tdata-author=\"Jaybo700R\"\\n\\t\\tdata-content=\"post-3538283\"\\n\\t\\tid=\"js-post-3538283\">\\n\\n\\t\\t<span class=\"u-anchorTarget\" id=\"post-3538283\"></span>\\n\\n\\t\\t<div class=\"message-inner\">\\n\\t\\t\\t<div class=\"message-cell message-cell--user\">\\n\\t\\t\\t\\t\\n\\n\\t<section itemscope itemtype=\"https://schema.org/Person\" class=\"message-user\">\\n\\t\\t<div class=\"message-avatar \">\\n\\t\\t\\t<div class=\"message-avatar-wrapper\">\\n\\n\\t\\t\\t\\t<a href=\"/members/jaybo700r.88930/\" class=\"avatar avatar--m avatar--default avatar--default--dynamic\" data-user-id=\"88930\" data-xf-init=\"member-tooltip\" style=\"background-color: #5cd6b8; color: #1a6653\">\\n\\t\\t\\t<span class=\"avatar-u88930-m\">J</span> \\n\\t\\t</a>\\n\\t\\t\\t\\t\\n\\t\\t\\t</div>\\n\\t\\t</div>\\n\\t\\t<div class=\"message-userDetails\">\\n\\t\\t\\t<h4 class=\"message-name\"><a href=\"/members/jaybo700r.88930/\" class=\"username \" dir=\"auto\" data-user-id=\"88930\" data-xf-init=\"member-tooltip\" itemprop=\"name\">Jaybo700R</a></h4>\\n\\t\\t\\t<h5 class=\"userTitle message-userTitle\" dir=\"auto\" itemprop=\"jobTitle\">LawnSite Member</h5>\\n\\t\\t\\t\\n\\t\\t</div>\\n\\t\\t\\n\\t\\t\\t\\n\\t\\t\\t\\n\\t\\t\\t\\t<div class=\"message-userExtras\">\\n\\t\\t\\t\\t\\n\\t\\t\\t\\t\\t\\n\\t\\t\\t\\t\\t\\n\\t\\t\\t\\t\\t\\n\\t\\t\\t\\t\\t\\n\\t\\t\\t\\t\\t\\n\\t\\t\\t\\t\\t\\n\\t\\t\\t\\t\\t\\t<dl class=\"pairs pairs--justified\">\\n\\t\\t\\t\\t\\t\\t\\t<dt>Location</dt>\\n\\t\\t\\t\\t\\t\\t\\t<dd>\\n\\t\\t\\t\\t\\t\\t\\t\\t\\n\\t\\t\\t\\t\\t\\t\\t\\t\\t<a href=\"/misc/location-info?location=Oregon\" rel=\"nofollow noreferrer\" target=\"_blank\" class=\"u-concealed\">Oregon</a>\\n\\t\\t\\t\\t\\t\\t\\t\\t\\n\\t\\t\\t\\t\\t\\t\\t</dd>\\n\\t\\t\\t\\t\\t\\t</dl>\\n\\t\\t\\t\\t\\t\\n\\t\\t\\t\\t\\t\\n\\t\\t\\t\\t\\t\\n\\t\\t\\t\\t\\n\\t\\t\\t\\t</div>\\n\\t\\t\\t\\n\\t\\t\\n\\t\\t<span class=\"message-userArrow\"></span>\\n\\t</section>\\n\\n\\t\\t\\t</div>\\n\\t\\t\\t<div class=\"message-cell message-cell--main\">\\n\\t\\t\\t\\t<div class=\"message-main js-quickEditTarget\">\\n\\n\\t\\t\\t\\t\\t<header class=\"message-attribution message-attribution--split\">\\n\\t\\t\\t\\t\\t\\t<div class=\"message-attribution-main\">\\n\\t\\t\\t\\t\\t\\t\\t<a href=\"/threads/ztr-tire-recommendations-steep-slope.314574/post-3538283\" class=\"u-concealed\"\\n\\t\\t\\t\\t\\t\\t\\t\\trel=\"nofollow\">\\n\\t\\t\\t\\t\\t\\t\\t\\t<time  class=\"u-dt\" dir=\"auto\" datetime=\"2010-04-26T01:09:12-0400\" data-time=\"1272258552\" data-date-string=\"Apr 26, 2010\" data-time-string=\"1:09 AM\" title=\"Apr 26, 2010 at 1:09 AM\">Apr 26, 2010</time>\\n\\t\\t\\t\\t\\t\\t\\t</a>\\n\\t\\t\\t\\t\\t\\t</div>\\n\\n\\t\\t\\t\\t\\t\\t<ul class=\"message-attribution-opposite message-attribution-opposite--list\">\\n\\t\\t\\t\\t\\t\\t\\t\\n\\t\\n\\t\\t\\t\\t\\t\\t\\t<li>\\n\\t\\t\\t\\t\\t\\t\\t\\t<a href=\"/threads/ztr-tire-recommendations-steep-slope.314574/post-3538283\"\\n\\t\\t\\t\\t\\t\\t\\t\\t\\tdata-xf-init=\"share-tooltip\" data-href=\"/posts/3538283/share\"\\n\\t\\t\\t\\t\\t\\t\\t\\t\\trel=\"nofollow\">\\n\\t\\t\\t\\t\\t\\t\\t\\t\\t<i class=\"fa--xf far fa-share-alt\" aria-hidden=\"true\"></i>\\n\\t\\t\\t\\t\\t\\t\\t\\t</a>\\n\\t\\t\\t\\t\\t\\t\\t</li>\\n\\t\\t\\t\\t\\t\\t\\t\\n\\t\\t\\t\\t\\t\\t\\t\\n\\t\\t\\t\\t\\t\\t\\t\\t<li>\\n\\t\\t\\t\\t\\t\\t\\t\\t\\t<a href=\"/threads/ztr-tire-recommendations-steep-slope.314574/post-3538283\" rel=\"nofollow\">\\n\\t\\t\\t\\t\\t\\t\\t\\t\\t\\t#4\\n\\t\\t\\t\\t\\t\\t\\t\\t\\t</a>\\n\\t\\t\\t\\t\\t\\t\\t\\t</li>\\n\\t\\t\\t\\t\\t\\t\\t\\n\\t\\t\\t\\t\\t\\t</ul>\\n\\t\\t\\t\\t\\t</header>\\n\\n\\t\\t\\t\\t\\t<div class=\"message-content js-messageContent\">\\n\\n\\t\\t\\t\\t\\t\\t\\n\\t\\t\\t\\t\\t\\t\\n\\t\\t\\t\\t\\t\\t\\n\\n\\t\\t\\t\\t\\t\\t<div class=\"message-userContent lbContainer js-lbContainer \"\\n\\t\\t\\t\\t\\t\\t\\tdata-lb-id=\"post-3538283\"\\n\\t\\t\\t\\t\\t\\t\\tdata-lb-caption-desc=\"Jaybo700R &middot; Apr 26, 2010 at 1:09 AM\">\\n\\n\\t\\t\\t\\t\\t\\t\\t\\n\\n\\t\\t\\t\\t\\t\\t\\t<article class=\"message-body js-selectToQuote\">\\n\\t\\t\\t\\t\\t\\t\\t\\t\\n\\t\\t\\t\\t\\t\\t\\t\\t<div class=\"bbWrapper\">Bad Boy offers a &quot;Field Trax&quot; tire option I was thinking about these tires regardless what ZTR I end up buying. Might have to be a little more on the ball to not tear up turf in the turns but the added traction for wet Oregon ground in the spring and fall will be helpful to me.<br />\\r\\n<a href=\"http://www.titantires.com/hd_field_trax.htm\" target=\"_blank\" class=\"link link--external\" rel=\"nofollow noopener\"><br />\\r\\nField Trax</a> Tires<br />\\r\\n<br />\\r\\nThe other option I was considering was getting a tire knife and grooving the standard turf tires for more open area - Used to do the same thing way back in the day when I raced ATV\\'s. <br />\\r\\n<br />\\r\\n..Jay</div>\\n\\t\\t\\t\\t\\t\\t\\t\\t<div class=\"js-selectToQuoteEnd\">&nbsp;</div>\\n\\t\\t\\t\\t\\t\\t\\t\\t\\n\\t\\t\\t\\t\\t\\t\\t</article>\\n\\n\\t\\t\\t\\t\\t\\t\\t\\n\\n\\t\\t\\t\\t\\t\\t\\t\\n\\t\\t\\t\\t\\t\\t</div>\\n\\n\\t\\t\\t\\t\\t\\t\\n\\n\\t\\t\\t\\t\\t\\t\\n\\t\\n\\n\\t\\t\\t\\t\\t</div>\\n\\n\\t\\t\\t\\t\\t<footer class=\"message-footer\">\\n\\t\\t\\t\\t\\t\\t\\n\\n\\t\\t\\t\\t\\t\\t<div class=\"reactionsBar js-reactionsList \">\\n\\t\\t\\t\\t\\t\\t\\t\\n\\t\\t\\t\\t\\t\\t</div>\\n\\n\\t\\t\\t\\t\\t\\t<div class=\"js-historyTarget message-historyTarget toggleTarget\" data-href=\"trigger-href\"></div>\\n\\t\\t\\t\\t\\t</footer>\\n\\t\\t\\t\\t</div>\\n\\t\\t\\t</div>\\n\\t\\t\\t\\n\\t\\t</div>\\n\\t</article>\\n\\n\\t\\n\\n\\t\\t\\t\\t\\n\\t\\t\\t\\t\\n\\t\\t\\t\\t\\n\\t\\t\\t\\t\\n\\t\\t\\t\\n\\t\\t\\t\\t\\n\\t\\t\\t\\t\\t\\n\\t\\n\\t\\n\\t<article class=\"message message--post js-post js-inlineModContainer  \"\\n\\t\\tdata-author=\"heather lawn sp\"\\n\\t\\tdata-content=\"post-3538391\"\\n\\t\\tid=\"js-post-3538391\">\\n\\n\\t\\t<span class=\"u-anchorTarget\" id=\"post-3538391\"></span>\\n\\n\\t\\t<div class=\"message-inner\">\\n\\t\\t\\t<div class=\"message-cell message-cell--user\">\\n\\t\\t\\t\\t\\n\\n\\t<section itemscope itemtype=\"https://schema.org/Person\" class=\"message-user\">\\n\\t\\t<div class=\"message-avatar \">\\n\\t\\t\\t<div class=\"message-avatar-wrapper\">\\n\\n\\t\\t\\t\\t<a href=\"/members/heather-lawn-sp.28663/\" class=\"avatar avatar--m avatar--default avatar--default--dynamic\" data-user-id=\"28663\" data-xf-init=\"member-tooltip\" style=\"background-color: #33cccc; color: #0f3d3d\">\\n\\t\\t\\t<span class=\"avatar-u28663-m\">H</span> \\n\\t\\t</a>\\n\\t\\t\\t\\t\\n\\t\\t\\t</div>\\n\\t\\t</div>\\n\\t\\t<div class=\"message-userDetails\">\\n\\t\\t\\t<h4 class=\"message-name\"><a href=\"/members/heather-lawn-sp.28663/\" class=\"username \" dir=\"auto\" data-user-id=\"28663\" data-xf-init=\"member-tooltip\" itemprop=\"name\">heather lawn sp</a></h4>\\n\\t\\t\\t<h5 class=\"userTitle message-userTitle\" dir=\"auto\" itemprop=\"jobTitle\">LawnSite Senior Member</h5>\\n\\t\\t\\t\\n\\t\\t</div>\\n\\t\\t\\n\\t\\t\\t\\n\\t\\t\\t\\n\\t\\t\\t\\t<div class=\"message-userExtras\">\\n\\t\\t\\t\\t\\n\\t\\t\\t\\t\\t\\n\\t\\t\\t\\t\\t\\n\\t\\t\\t\\t\\t\\n\\t\\t\\t\\t\\t\\n\\t\\t\\t\\t\\t\\n\\t\\t\\t\\t\\t\\n\\t\\t\\t\\t\\t\\t<dl class=\"pairs pairs--justified\">\\n\\t\\t\\t\\t\\t\\t\\t<dt>Location</dt>\\n\\t\\t\\t\\t\\t\\t\\t<dd>\\n\\t\\t\\t\\t\\t\\t\\t\\t\\n\\t\\t\\t\\t\\t\\t\\t\\t\\t<a href=\"/misc/location-info?location=Kitchener+On\" rel=\"nofollow noreferrer\" target=\"_blank\" class=\"u-concealed\">Kitchener On</a>\\n\\t\\t\\t\\t\\t\\t\\t\\t\\n\\t\\t\\t\\t\\t\\t\\t</dd>\\n\\t\\t\\t\\t\\t\\t</dl>\\n\\t\\t\\t\\t\\t\\n\\t\\t\\t\\t\\t\\n\\t\\t\\t\\t\\t\\n\\t\\t\\t\\t\\n\\t\\t\\t\\t</div>\\n\\t\\t\\t\\n\\t\\t\\n\\t\\t<span class=\"message-userArrow\"></span>\\n\\t</section>\\n\\n\\t\\t\\t</div>\\n\\t\\t\\t<div class=\"message-cell message-cell--main\">\\n\\t\\t\\t\\t<div class=\"message-main js-quickEditTarget\">\\n\\n\\t\\t\\t\\t\\t<header class=\"message-attribution message-attribution--split\">\\n\\t\\t\\t\\t\\t\\t<div class=\"message-attribution-main\">\\n\\t\\t\\t\\t\\t\\t\\t<a href=\"/threads/ztr-tire-recommendations-steep-slope.314574/post-3538391\" class=\"u-concealed\"\\n\\t\\t\\t\\t\\t\\t\\t\\trel=\"nofollow\">\\n\\t\\t\\t\\t\\t\\t\\t\\t<time  class=\"u-dt\" dir=\"auto\" datetime=\"2010-04-26T07:11:16-0400\" data-time=\"1272280276\" data-date-string=\"Apr 26, 2010\" data-time-string=\"7:11 AM\" title=\"Apr 26, 2010 at 7:11 AM\">Apr 26, 2010</time>\\n\\t\\t\\t\\t\\t\\t\\t</a>\\n\\t\\t\\t\\t\\t\\t</div>\\n\\n\\t\\t\\t\\t\\t\\t<ul class=\"message-attribution-opposite message-attribution-opposite--list\">\\n\\t\\t\\t\\t\\t\\t\\t\\n\\t\\n\\t\\t\\t\\t\\t\\t\\t<li>\\n\\t\\t\\t\\t\\t\\t\\t\\t<a href=\"/threads/ztr-tire-recommendations-steep-slope.314574/post-3538391\"\\n\\t\\t\\t\\t\\t\\t\\t\\t\\tdata-xf-init=\"share-tooltip\" data-href=\"/posts/3538391/share\"\\n\\t\\t\\t\\t\\t\\t\\t\\t\\trel=\"nofollow\">\\n\\t\\t\\t\\t\\t\\t\\t\\t\\t<i class=\"fa--xf far fa-share-alt\" aria-hidden=\"true\"></i>\\n\\t\\t\\t\\t\\t\\t\\t\\t</a>\\n\\t\\t\\t\\t\\t\\t\\t</li>\\n\\t\\t\\t\\t\\t\\t\\t\\n\\t\\t\\t\\t\\t\\t\\t\\n\\t\\t\\t\\t\\t\\t\\t\\t<li>\\n\\t\\t\\t\\t\\t\\t\\t\\t\\t<a href=\"/threads/ztr-tire-recommendations-steep-slope.314574/post-3538391\" rel=\"nofollow\">\\n\\t\\t\\t\\t\\t\\t\\t\\t\\t\\t#5\\n\\t\\t\\t\\t\\t\\t\\t\\t\\t</a>\\n\\t\\t\\t\\t\\t\\t\\t\\t</li>\\n\\t\\t\\t\\t\\t\\t\\t\\n\\t\\t\\t\\t\\t\\t</ul>\\n\\t\\t\\t\\t\\t</header>\\n\\n\\t\\t\\t\\t\\t<div class=\"message-content js-messageContent\">\\n\\n\\t\\t\\t\\t\\t\\t\\n\\t\\t\\t\\t\\t\\t\\n\\t\\t\\t\\t\\t\\t\\n\\n\\t\\t\\t\\t\\t\\t<div class=\"message-userContent lbContainer js-lbContainer \"\\n\\t\\t\\t\\t\\t\\t\\tdata-lb-id=\"post-3538391\"\\n\\t\\t\\t\\t\\t\\t\\tdata-lb-caption-desc=\"heather lawn sp &middot; Apr 26, 2010 at 7:11 AM\">\\n\\n\\t\\t\\t\\t\\t\\t\\t\\n\\n\\t\\t\\t\\t\\t\\t\\t<article class=\"message-body js-selectToQuote\">\\n\\t\\t\\t\\t\\t\\t\\t\\t\\n\\t\\t\\t\\t\\t\\t\\t\\t<div class=\"bbWrapper\">Carlisle AT101 CHEVRON. We\\'ve had good results with our Kubota outfront. We foam filled these tires to prevent sidewall deflection and lower the centre of gravity. They seriously weigh 70 pounds each loaded-up. You may have to go to TRUE POWER to get the right size for you<br />\\r\\n<br />\\r\\nCarlisletire.com</div>\\n\\t\\t\\t\\t\\t\\t\\t\\t<div class=\"js-selectToQuoteEnd\">&nbsp;</div>\\n\\t\\t\\t\\t\\t\\t\\t\\t\\n\\t\\t\\t\\t\\t\\t\\t</article>\\n\\n\\t\\t\\t\\t\\t\\t\\t\\n\\n\\t\\t\\t\\t\\t\\t\\t\\n\\t\\t\\t\\t\\t\\t</div>\\n\\n\\t\\t\\t\\t\\t\\t\\n\\n\\t\\t\\t\\t\\t\\t\\n\\t\\n\\n\\t\\t\\t\\t\\t</div>\\n\\n\\t\\t\\t\\t\\t<footer class=\"message-footer\">\\n\\t\\t\\t\\t\\t\\t\\n\\n\\t\\t\\t\\t\\t\\t<div class=\"reactionsBar js-reactionsList \">\\n\\t\\t\\t\\t\\t\\t\\t\\n\\t\\t\\t\\t\\t\\t</div>\\n\\n\\t\\t\\t\\t\\t\\t<div class=\"js-historyTarget message-historyTarget toggleTarget\" data-href=\"trigger-href\"></div>\\n\\t\\t\\t\\t\\t</footer>\\n\\t\\t\\t\\t</div>\\n\\t\\t\\t</div>\\n\\t\\t\\t\\n\\t\\t</div>\\n\\t</article>\\n\\n\\t\\n\\n\\t\\t\\t\\t\\n\\t\\t\\t\\t\\n\\t\\t\\t\\t\\n\\t\\t\\t\\t\\n\\t\\t\\t\\n\\t\\t\\t\\t\\n\\t\\t\\t\\t\\t\\n\\t\\n\\t\\n\\t<article class=\"message message--post js-post js-inlineModContainer  \"\\n\\t\\tdata-author=\"JENHEN\"\\n\\t\\tdata-content=\"post-3539350\"\\n\\t\\tid=\"js-post-3539350\">\\n\\n\\t\\t<span class=\"u-anchorTarget\" id=\"post-3539350\"></span>\\n\\n\\t\\t<div class=\"message-inner\">\\n\\t\\t\\t<div class=\"message-cell message-cell--user\">\\n\\t\\t\\t\\t\\n\\n\\t<section itemscope itemtype=\"https://schema.org/Person\" class=\"message-user\">\\n\\t\\t<div class=\"message-avatar \">\\n\\t\\t\\t<div class=\"message-avatar-wrapper\">\\n\\n\\t\\t\\t\\t<a href=\"/members/jenhen.76090/\" class=\"avatar avatar--m avatar--default avatar--default--dynamic\" data-user-id=\"76090\" data-xf-init=\"member-tooltip\" style=\"background-color: #7033cc; color: #d4c2f0\">\\n\\t\\t\\t<span class=\"avatar-u76090-m\">J</span> \\n\\t\\t</a>\\n\\t\\t\\t\\t\\n\\t\\t\\t</div>\\n\\t\\t</div>\\n\\t\\t<div class=\"message-userDetails\">\\n\\t\\t\\t<h4 class=\"message-name\"><a href=\"/members/jenhen.76090/\" class=\"username \" dir=\"auto\" data-user-id=\"76090\" data-xf-init=\"member-tooltip\" itemprop=\"name\">JENHEN</a></h4>\\n\\t\\t\\t<h5 class=\"userTitle message-userTitle\" dir=\"auto\" itemprop=\"jobTitle\">LawnSite Member</h5>\\n\\t\\t\\t\\n\\t\\t</div>\\n\\t\\t\\n\\t\\t\\t\\n\\t\\t\\t\\n\\t\\t\\t\\t<div class=\"message-userExtras\">\\n\\t\\t\\t\\t\\n\\t\\t\\t\\t\\t\\n\\t\\t\\t\\t\\t\\n\\t\\t\\t\\t\\t\\n\\t\\t\\t\\t\\t\\n\\t\\t\\t\\t\\t\\n\\t\\t\\t\\t\\t\\n\\t\\t\\t\\t\\t\\t<dl class=\"pairs pairs--justified\">\\n\\t\\t\\t\\t\\t\\t\\t<dt>Location</dt>\\n\\t\\t\\t\\t\\t\\t\\t<dd>\\n\\t\\t\\t\\t\\t\\t\\t\\t\\n\\t\\t\\t\\t\\t\\t\\t\\t\\t<a href=\"/misc/location-info?location=east+coast\" rel=\"nofollow noreferrer\" target=\"_blank\" class=\"u-concealed\">east coast</a>\\n\\t\\t\\t\\t\\t\\t\\t\\t\\n\\t\\t\\t\\t\\t\\t\\t</dd>\\n\\t\\t\\t\\t\\t\\t</dl>\\n\\t\\t\\t\\t\\t\\n\\t\\t\\t\\t\\t\\n\\t\\t\\t\\t\\t\\n\\t\\t\\t\\t\\n\\t\\t\\t\\t</div>\\n\\t\\t\\t\\n\\t\\t\\n\\t\\t<span class=\"message-userArrow\"></span>\\n\\t</section>\\n\\n\\t\\t\\t</div>\\n\\t\\t\\t<div class=\"message-cell message-cell--main\">\\n\\t\\t\\t\\t<div class=\"message-main js-quickEditTarget\">\\n\\n\\t\\t\\t\\t\\t<header class=\"message-attribution message-attribution--split\">\\n\\t\\t\\t\\t\\t\\t<div class=\"message-attribution-main\">\\n\\t\\t\\t\\t\\t\\t\\t<a href=\"/threads/ztr-tire-recommendations-steep-slope.314574/post-3539350\" class=\"u-concealed\"\\n\\t\\t\\t\\t\\t\\t\\t\\trel=\"nofollow\">\\n\\t\\t\\t\\t\\t\\t\\t\\t<time  class=\"u-dt\" dir=\"auto\" datetime=\"2010-04-26T20:46:13-0400\" data-time=\"1272329173\" data-date-string=\"Apr 26, 2010\" data-time-string=\"8:46 PM\" title=\"Apr 26, 2010 at 8:46 PM\">Apr 26, 2010</time>\\n\\t\\t\\t\\t\\t\\t\\t</a>\\n\\t\\t\\t\\t\\t\\t</div>\\n\\n\\t\\t\\t\\t\\t\\t<ul class=\"message-attribution-opposite message-attribution-opposite--list\">\\n\\t\\t\\t\\t\\t\\t\\t\\n\\t\\n\\t\\t\\t\\t\\t\\t\\t<li>\\n\\t\\t\\t\\t\\t\\t\\t\\t<a href=\"/threads/ztr-tire-recommendations-steep-slope.314574/post-3539350\"\\n\\t\\t\\t\\t\\t\\t\\t\\t\\tdata-xf-init=\"share-tooltip\" data-href=\"/posts/3539350/share\"\\n\\t\\t\\t\\t\\t\\t\\t\\t\\trel=\"nofollow\">\\n\\t\\t\\t\\t\\t\\t\\t\\t\\t<i class=\"fa--xf far fa-share-alt\" aria-hidden=\"true\"></i>\\n\\t\\t\\t\\t\\t\\t\\t\\t</a>\\n\\t\\t\\t\\t\\t\\t\\t</li>\\n\\t\\t\\t\\t\\t\\t\\t\\n\\t\\t\\t\\t\\t\\t\\t\\n\\t\\t\\t\\t\\t\\t\\t\\t<li>\\n\\t\\t\\t\\t\\t\\t\\t\\t\\t<a href=\"/threads/ztr-tire-recommendations-steep-slope.314574/post-3539350\" rel=\"nofollow\">\\n\\t\\t\\t\\t\\t\\t\\t\\t\\t\\t#6\\n\\t\\t\\t\\t\\t\\t\\t\\t\\t</a>\\n\\t\\t\\t\\t\\t\\t\\t\\t</li>\\n\\t\\t\\t\\t\\t\\t\\t\\n\\t\\t\\t\\t\\t\\t</ul>\\n\\t\\t\\t\\t\\t</header>\\n\\n\\t\\t\\t\\t\\t<div class=\"message-content js-messageContent\">\\n\\n\\t\\t\\t\\t\\t\\t\\n\\t\\t\\t\\t\\t\\t\\n\\t\\t\\t\\t\\t\\t\\n\\n\\t\\t\\t\\t\\t\\t<div class=\"message-userContent lbContainer js-lbContainer \"\\n\\t\\t\\t\\t\\t\\t\\tdata-lb-id=\"post-3539350\"\\n\\t\\t\\t\\t\\t\\t\\tdata-lb-caption-desc=\"JENHEN &middot; Apr 26, 2010 at 8:46 PM\">\\n\\n\\t\\t\\t\\t\\t\\t\\t\\n\\n\\t\\t\\t\\t\\t\\t\\t<article class=\"message-body js-selectToQuote\">\\n\\t\\t\\t\\t\\t\\t\\t\\t\\n\\t\\t\\t\\t\\t\\t\\t\\t<div class=\"bbWrapper\">I too would be interested in some feedback.  I bought an Exmark XS zero turn.  Came from factory with Carlisle Multi-trac C/S.  When going horizontally along a 45 degree hill, the heavy mower will slip down the hill.  The ZTR\\'s front caster will turn downhill.  I\\'ll try to slow down or reverse the wheel on the high side.  This does nothing but spin the wheel and the whole machine continues to turn sharply down the hill until it\\'s off the slope.  <br />\\r\\n<br />\\r\\nSo at this point, I can\\'t recommend the Carlisle Multi-Trac C/S once they are down to 50% wear.  Are these the same as the Titan C/S?  What\\'s the next more aggressive set up but still safe for lawns?<br />\\r\\n<br />\\r\\nThank you.<br />\\r\\n<br />\\r\\n\\n\\n\\n\\n<blockquote class=\"bbCodeBlock bbCodeBlock--expandable bbCodeBlock--quote\">\\n\\t\\n\\t\\t<div class=\"bbCodeBlock-title\">\\n\\t\\t\\t\\n\\t\\t\\t\\t<a href=\"/goto/post?id=3536331\"\\n\\t\\t\\t\\t\\tclass=\"bbCodeBlock-sourceJump\"\\n\\t\\t\\t\\t\\tdata-xf-click=\"attribution\"\\n\\t\\t\\t\\t\\tdata-content-selector=\"#post-3536331\">ribertgropius said:</a>\\n\\t\\t\\t\\n\\t\\t</div>\\n\\t\\n\\t<div class=\"bbCodeBlock-content\">\\n\\t\\t\\n\\t\\t<div class=\"bbCodeBlock-expandContent \">\\n\\t\\t\\tI have an older (1994)  Bunton 60&quot; ZTR that I am using this year on my new property in VA.  I have some very steep grades, and my existing Carlisle turfmate tires don\\'t seem to get any traction to the point that I just start to slide down the hill.  I have a bad feeling about setting myself up for an accident, so thought I should look at replacing the tires with something with a more aggressive tread.<br />\\r\\n<br />\\r\\nI mow about 6 acres, and the grass is all on red VA clay.  Any suggestions for replacement tires?  I was looking at the Carlisle Multi-trac C/S or the Turf Trac RS but wasn\\'t sure what made sense.  I also thought about ATV tires but don\\'t know what would be best with the clay.  The Bunton has 23 x 10.5-12.   <br />\\r\\n<br />\\r\\nAny other suggestions for improving traction?   <br />\\r\\n<br />\\r\\nRobert\\n\\t\\t</div>\\n\\t\\t<div class=\"bbCodeBlock-expandLink\"><a>Click to expand...</a></div>\\n\\t</div>\\n</blockquote></div>\\n\\t\\t\\t\\t\\t\\t\\t\\t<div class=\"js-selectToQuoteEnd\">&nbsp;</div>\\n\\t\\t\\t\\t\\t\\t\\t\\t\\n\\t\\t\\t\\t\\t\\t\\t</article>\\n\\n\\t\\t\\t\\t\\t\\t\\t\\n\\n\\t\\t\\t\\t\\t\\t\\t\\n\\t\\t\\t\\t\\t\\t</div>\\n\\n\\t\\t\\t\\t\\t\\t\\n\\n\\t\\t\\t\\t\\t\\t\\n\\t\\n\\n\\t\\t\\t\\t\\t</div>\\n\\n\\t\\t\\t\\t\\t<footer class=\"message-footer\">\\n\\t\\t\\t\\t\\t\\t\\n\\n\\t\\t\\t\\t\\t\\t<div class=\"reactionsBar js-reactionsList \">\\n\\t\\t\\t\\t\\t\\t\\t\\n\\t\\t\\t\\t\\t\\t</div>\\n\\n\\t\\t\\t\\t\\t\\t<div class=\"js-historyTarget message-historyTarget toggleTarget\" data-href=\"trigger-href\"></div>\\n\\t\\t\\t\\t\\t</footer>\\n\\t\\t\\t\\t</div>\\n\\t\\t\\t</div>\\n\\t\\t\\t\\n\\t\\t</div>\\n\\t</article>\\n\\n\\t\\n\\n\\t\\t\\t\\t\\n\\t\\t\\t\\t\\n\\t\\t\\t\\t\\n\\t\\t\\t\\t\\t<div class=\"in-content-ad-div\">\\n\\t\\t\\t\\t\\t\\t<!-- /24055536/LS-InContent2 -->\\n\\t\\t\\t\\t\\t\\t<div id=\\'div-gpt-ad-InContent2\\'>\\n\\t\\t\\t\\t\\t\\t\\t<script type=\\'text/javascript\\'>\\n\\t\\t\\t\\t\\t\\t\\t\\tgoogletag.cmd.push(function() { googletag.display(\\'div-gpt-ad-InContent2\\'); });\\n\\t\\t\\t\\t\\t\\t\\t</script>\\n\\t\\t\\t\\t\\t\\t</div>\\n\\t\\t\\t\\t\\t\\t<!-- /24055536/LS-Mobile-InContent2-->\\n\\t\\t\\t\\t\\t\\t<div id=\\'div-gpt-ad-Mobile-InContent2\\'>\\n\\t\\t\\t\\t\\t\\t\\t<script type=\\'text/javascript\\'>\\n\\t\\t\\t\\t\\t\\t\\t\\tgoogletag.cmd.push(function() { googletag.display(\\'div-gpt-ad-Mobile-InContent2\\'); });\\n\\t\\t\\t\\t\\t\\t\\t</script>\\n\\t\\t\\t\\t\\t\\t</div>\\n\\t\\t\\t\\t\\t</div>\\n\\t\\t\\t\\t\\n\\t\\t\\t\\t\\n\\t\\t\\t\\n\\t\\t\\t\\t\\n\\t\\t\\t\\t\\t\\n\\t\\n\\t\\n\\t<article class=\"message message--post js-post js-inlineModContainer  \"\\n\\t\\tdata-author=\"heather lawn sp\"\\n\\t\\tdata-content=\"post-3539900\"\\n\\t\\tid=\"js-post-3539900\">\\n\\n\\t\\t<span class=\"u-anchorTarget\" id=\"post-3539900\"></span>\\n\\n\\t\\t<div class=\"message-inner\">\\n\\t\\t\\t<div class=\"message-cell message-cell--user\">\\n\\t\\t\\t\\t\\n\\n\\t<section itemscope itemtype=\"https://schema.org/Person\" class=\"message-user\">\\n\\t\\t<div class=\"message-avatar \">\\n\\t\\t\\t<div class=\"message-avatar-wrapper\">\\n\\n\\t\\t\\t\\t<a href=\"/members/heather-lawn-sp.28663/\" class=\"avatar avatar--m avatar--default avatar--default--dynamic\" data-user-id=\"28663\" data-xf-init=\"member-tooltip\" style=\"background-color: #33cccc; color: #0f3d3d\">\\n\\t\\t\\t<span class=\"avatar-u28663-m\">H</span> \\n\\t\\t</a>\\n\\t\\t\\t\\t\\n\\t\\t\\t</div>\\n\\t\\t</div>\\n\\t\\t<div class=\"message-userDetails\">\\n\\t\\t\\t<h4 class=\"message-name\"><a href=\"/members/heather-lawn-sp.28663/\" class=\"username \" dir=\"auto\" data-user-id=\"28663\" data-xf-init=\"member-tooltip\" itemprop=\"name\">heather lawn sp</a></h4>\\n\\t\\t\\t<h5 class=\"userTitle message-userTitle\" dir=\"auto\" itemprop=\"jobTitle\">LawnSite Senior Member</h5>\\n\\t\\t\\t\\n\\t\\t</div>\\n\\t\\t\\n\\t\\t\\t\\n\\t\\t\\t\\n\\t\\t\\t\\t<div class=\"message-userExtras\">\\n\\t\\t\\t\\t\\n\\t\\t\\t\\t\\t\\n\\t\\t\\t\\t\\t\\n\\t\\t\\t\\t\\t\\n\\t\\t\\t\\t\\t\\n\\t\\t\\t\\t\\t\\n\\t\\t\\t\\t\\t\\n\\t\\t\\t\\t\\t\\t<dl class=\"pairs pairs--justified\">\\n\\t\\t\\t\\t\\t\\t\\t<dt>Location</dt>\\n\\t\\t\\t\\t\\t\\t\\t<dd>\\n\\t\\t\\t\\t\\t\\t\\t\\t\\n\\t\\t\\t\\t\\t\\t\\t\\t\\t<a href=\"/misc/location-info?location=Kitchener+On\" rel=\"nofollow noreferrer\" target=\"_blank\" class=\"u-concealed\">Kitchener On</a>\\n\\t\\t\\t\\t\\t\\t\\t\\t\\n\\t\\t\\t\\t\\t\\t\\t</dd>\\n\\t\\t\\t\\t\\t\\t</dl>\\n\\t\\t\\t\\t\\t\\n\\t\\t\\t\\t\\t\\n\\t\\t\\t\\t\\t\\n\\t\\t\\t\\t\\n\\t\\t\\t\\t</div>\\n\\t\\t\\t\\n\\t\\t\\n\\t\\t<span class=\"message-userArrow\"></span>\\n\\t</section>\\n\\n\\t\\t\\t</div>\\n\\t\\t\\t<div class=\"message-cell message-cell--main\">\\n\\t\\t\\t\\t<div class=\"message-main js-quickEditTarget\">\\n\\n\\t\\t\\t\\t\\t<header class=\"message-attribution message-attribution--split\">\\n\\t\\t\\t\\t\\t\\t<div class=\"message-attribution-main\">\\n\\t\\t\\t\\t\\t\\t\\t<a href=\"/threads/ztr-tire-recommendations-steep-slope.314574/post-3539900\" class=\"u-concealed\"\\n\\t\\t\\t\\t\\t\\t\\t\\trel=\"nofollow\">\\n\\t\\t\\t\\t\\t\\t\\t\\t<time  class=\"u-dt\" dir=\"auto\" datetime=\"2010-04-27T03:46:06-0400\" data-time=\"1272354366\" data-date-string=\"Apr 27, 2010\" data-time-string=\"3:46 AM\" title=\"Apr 27, 2010 at 3:46 AM\">Apr 27, 2010</time>\\n\\t\\t\\t\\t\\t\\t\\t</a>\\n\\t\\t\\t\\t\\t\\t</div>\\n\\n\\t\\t\\t\\t\\t\\t<ul class=\"message-attribution-opposite message-attribution-opposite--list\">\\n\\t\\t\\t\\t\\t\\t\\t\\n\\t\\n\\t\\t\\t\\t\\t\\t\\t<li>\\n\\t\\t\\t\\t\\t\\t\\t\\t<a href=\"/threads/ztr-tire-recommendations-steep-slope.314574/post-3539900\"\\n\\t\\t\\t\\t\\t\\t\\t\\t\\tdata-xf-init=\"share-tooltip\" data-href=\"/posts/3539900/share\"\\n\\t\\t\\t\\t\\t\\t\\t\\t\\trel=\"nofollow\">\\n\\t\\t\\t\\t\\t\\t\\t\\t\\t<i class=\"fa--xf far fa-share-alt\" aria-hidden=\"true\"></i>\\n\\t\\t\\t\\t\\t\\t\\t\\t</a>\\n\\t\\t\\t\\t\\t\\t\\t</li>\\n\\t\\t\\t\\t\\t\\t\\t\\n\\t\\t\\t\\t\\t\\t\\t\\n\\t\\t\\t\\t\\t\\t\\t\\t<li>\\n\\t\\t\\t\\t\\t\\t\\t\\t\\t<a href=\"/threads/ztr-tire-recommendations-steep-slope.314574/post-3539900\" rel=\"nofollow\">\\n\\t\\t\\t\\t\\t\\t\\t\\t\\t\\t#7\\n\\t\\t\\t\\t\\t\\t\\t\\t\\t</a>\\n\\t\\t\\t\\t\\t\\t\\t\\t</li>\\n\\t\\t\\t\\t\\t\\t\\t\\n\\t\\t\\t\\t\\t\\t</ul>\\n\\t\\t\\t\\t\\t</header>\\n\\n\\t\\t\\t\\t\\t<div class=\"message-content js-messageContent\">\\n\\n\\t\\t\\t\\t\\t\\t\\n\\t\\t\\t\\t\\t\\t\\n\\t\\t\\t\\t\\t\\t\\n\\n\\t\\t\\t\\t\\t\\t<div class=\"message-userContent lbContainer js-lbContainer \"\\n\\t\\t\\t\\t\\t\\t\\tdata-lb-id=\"post-3539900\"\\n\\t\\t\\t\\t\\t\\t\\tdata-lb-caption-desc=\"heather lawn sp &middot; Apr 27, 2010 at 3:46 AM\">\\n\\n\\t\\t\\t\\t\\t\\t\\t\\n\\n\\t\\t\\t\\t\\t\\t\\t<article class=\"message-body js-selectToQuote\">\\n\\t\\t\\t\\t\\t\\t\\t\\t\\n\\t\\t\\t\\t\\t\\t\\t\\t<div class=\"bbWrapper\">The game with slope running is that you use the lower wheel steering almost exclusively. In your case don\\'t reverse the upper wheel to prevent a dive, it doesn\\'t have enough traction. You should power forward with the lower wheel, the opposite to what you <i>think</i> you should be doing.<br />\\r\\n<br />\\r\\nCarlisle and Titan are the same tire</div>\\n\\t\\t\\t\\t\\t\\t\\t\\t<div class=\"js-selectToQuoteEnd\">&nbsp;</div>\\n\\t\\t\\t\\t\\t\\t\\t\\t\\n\\t\\t\\t\\t\\t\\t\\t</article>\\n\\n\\t\\t\\t\\t\\t\\t\\t\\n\\n\\t\\t\\t\\t\\t\\t\\t\\n\\t\\t\\t\\t\\t\\t</div>\\n\\n\\t\\t\\t\\t\\t\\t\\n\\n\\t\\t\\t\\t\\t\\t\\n\\t\\n\\n\\t\\t\\t\\t\\t</div>\\n\\n\\t\\t\\t\\t\\t<footer class=\"message-footer\">\\n\\t\\t\\t\\t\\t\\t\\n\\n\\t\\t\\t\\t\\t\\t<div class=\"reactionsBar js-reactionsList \">\\n\\t\\t\\t\\t\\t\\t\\t\\n\\t\\t\\t\\t\\t\\t</div>\\n\\n\\t\\t\\t\\t\\t\\t<div class=\"js-historyTarget message-historyTarget toggleTarget\" data-href=\"trigger-href\"></div>\\n\\t\\t\\t\\t\\t</footer>\\n\\t\\t\\t\\t</div>\\n\\t\\t\\t</div>\\n\\t\\t\\t\\n\\t\\t</div>\\n\\t</article>\\n\\n\\t\\n\\n\\t\\t\\t\\t\\n\\t\\t\\t\\t\\n\\t\\t\\t\\t\\n\\t\\t\\t\\t\\n\\t\\t\\t\\n\\t\\t\\t\\t\\n\\t\\t\\t\\t\\t\\n\\t\\n\\t\\n\\t<article class=\"message message--post js-post js-inlineModContainer  \"\\n\\t\\tdata-author=\"JENHEN\"\\n\\t\\tdata-content=\"post-3540331\"\\n\\t\\tid=\"js-post-3540331\">\\n\\n\\t\\t<span class=\"u-anchorTarget\" id=\"post-3540331\"></span>\\n\\n\\t\\t<div class=\"message-inner\">\\n\\t\\t\\t<div class=\"message-cell message-cell--user\">\\n\\t\\t\\t\\t\\n\\n\\t<section itemscope itemtype=\"https://schema.org/Person\" class=\"message-user\">\\n\\t\\t<div class=\"message-avatar \">\\n\\t\\t\\t<div class=\"message-avatar-wrapper\">\\n\\n\\t\\t\\t\\t<a href=\"/members/jenhen.76090/\" class=\"avatar avatar--m avatar--default avatar--default--dynamic\" data-user-id=\"76090\" data-xf-init=\"member-tooltip\" style=\"background-color: #7033cc; color: #d4c2f0\">\\n\\t\\t\\t<span class=\"avatar-u76090-m\">J</span> \\n\\t\\t</a>\\n\\t\\t\\t\\t\\n\\t\\t\\t</div>\\n\\t\\t</div>\\n\\t\\t<div class=\"message-userDetails\">\\n\\t\\t\\t<h4 class=\"message-name\"><a href=\"/members/jenhen.76090/\" class=\"username \" dir=\"auto\" data-user-id=\"76090\" data-xf-init=\"member-tooltip\" itemprop=\"name\">JENHEN</a></h4>\\n\\t\\t\\t<h5 class=\"userTitle message-userTitle\" dir=\"auto\" itemprop=\"jobTitle\">LawnSite Member</h5>\\n\\t\\t\\t\\n\\t\\t</div>\\n\\t\\t\\n\\t\\t\\t\\n\\t\\t\\t\\n\\t\\t\\t\\t<div class=\"message-userExtras\">\\n\\t\\t\\t\\t\\n\\t\\t\\t\\t\\t\\n\\t\\t\\t\\t\\t\\n\\t\\t\\t\\t\\t\\n\\t\\t\\t\\t\\t\\n\\t\\t\\t\\t\\t\\n\\t\\t\\t\\t\\t\\n\\t\\t\\t\\t\\t\\t<dl class=\"pairs pairs--justified\">\\n\\t\\t\\t\\t\\t\\t\\t<dt>Location</dt>\\n\\t\\t\\t\\t\\t\\t\\t<dd>\\n\\t\\t\\t\\t\\t\\t\\t\\t\\n\\t\\t\\t\\t\\t\\t\\t\\t\\t<a href=\"/misc/location-info?location=east+coast\" rel=\"nofollow noreferrer\" target=\"_blank\" class=\"u-concealed\">east coast</a>\\n\\t\\t\\t\\t\\t\\t\\t\\t\\n\\t\\t\\t\\t\\t\\t\\t</dd>\\n\\t\\t\\t\\t\\t\\t</dl>\\n\\t\\t\\t\\t\\t\\n\\t\\t\\t\\t\\t\\n\\t\\t\\t\\t\\t\\n\\t\\t\\t\\t\\n\\t\\t\\t\\t</div>\\n\\t\\t\\t\\n\\t\\t\\n\\t\\t<span class=\"message-userArrow\"></span>\\n\\t</section>\\n\\n\\t\\t\\t</div>\\n\\t\\t\\t<div class=\"message-cell message-cell--main\">\\n\\t\\t\\t\\t<div class=\"message-main js-quickEditTarget\">\\n\\n\\t\\t\\t\\t\\t<header class=\"message-attribution message-attribution--split\">\\n\\t\\t\\t\\t\\t\\t<div class=\"message-attribution-main\">\\n\\t\\t\\t\\t\\t\\t\\t<a href=\"/threads/ztr-tire-recommendations-steep-slope.314574/post-3540331\" class=\"u-concealed\"\\n\\t\\t\\t\\t\\t\\t\\t\\trel=\"nofollow\">\\n\\t\\t\\t\\t\\t\\t\\t\\t<time  class=\"u-dt\" dir=\"auto\" datetime=\"2010-04-27T13:27:01-0400\" data-time=\"1272389221\" data-date-string=\"Apr 27, 2010\" data-time-string=\"1:27 PM\" title=\"Apr 27, 2010 at 1:27 PM\">Apr 27, 2010</time>\\n\\t\\t\\t\\t\\t\\t\\t</a>\\n\\t\\t\\t\\t\\t\\t</div>\\n\\n\\t\\t\\t\\t\\t\\t<ul class=\"message-attribution-opposite message-attribution-opposite--list\">\\n\\t\\t\\t\\t\\t\\t\\t\\n\\t\\n\\t\\t\\t\\t\\t\\t\\t<li>\\n\\t\\t\\t\\t\\t\\t\\t\\t<a href=\"/threads/ztr-tire-recommendations-steep-slope.314574/post-3540331\"\\n\\t\\t\\t\\t\\t\\t\\t\\t\\tdata-xf-init=\"share-tooltip\" data-href=\"/posts/3540331/share\"\\n\\t\\t\\t\\t\\t\\t\\t\\t\\trel=\"nofollow\">\\n\\t\\t\\t\\t\\t\\t\\t\\t\\t<i class=\"fa--xf far fa-share-alt\" aria-hidden=\"true\"></i>\\n\\t\\t\\t\\t\\t\\t\\t\\t</a>\\n\\t\\t\\t\\t\\t\\t\\t</li>\\n\\t\\t\\t\\t\\t\\t\\t\\n\\t\\t\\t\\t\\t\\t\\t\\n\\t\\t\\t\\t\\t\\t\\t\\t<li>\\n\\t\\t\\t\\t\\t\\t\\t\\t\\t<a href=\"/threads/ztr-tire-recommendations-steep-slope.314574/post-3540331\" rel=\"nofollow\">\\n\\t\\t\\t\\t\\t\\t\\t\\t\\t\\t#8\\n\\t\\t\\t\\t\\t\\t\\t\\t\\t</a>\\n\\t\\t\\t\\t\\t\\t\\t\\t</li>\\n\\t\\t\\t\\t\\t\\t\\t\\n\\t\\t\\t\\t\\t\\t</ul>\\n\\t\\t\\t\\t\\t</header>\\n\\n\\t\\t\\t\\t\\t<div class=\"message-content js-messageContent\">\\n\\n\\t\\t\\t\\t\\t\\t\\n\\t\\t\\t\\t\\t\\t\\n\\t\\t\\t\\t\\t\\t\\n\\n\\t\\t\\t\\t\\t\\t<div class=\"message-userContent lbContainer js-lbContainer \"\\n\\t\\t\\t\\t\\t\\t\\tdata-lb-id=\"post-3540331\"\\n\\t\\t\\t\\t\\t\\t\\tdata-lb-caption-desc=\"JENHEN &middot; Apr 27, 2010 at 1:27 PM\">\\n\\n\\t\\t\\t\\t\\t\\t\\t\\n\\n\\t\\t\\t\\t\\t\\t\\t<article class=\"message-body js-selectToQuote\">\\n\\t\\t\\t\\t\\t\\t\\t\\t\\n\\t\\t\\t\\t\\t\\t\\t\\t<div class=\"bbWrapper\">Thank you Heather for the quick reply.  I have tried your suggestion of accelerating the wheel lower on the hill.  This just decreases the arc but ultimately the result is still off track at the bottom.  What\\'s weird is this happens right to left (i.e. right wheel higher).  When going from left to right, it\\'s fine and I can control just as you\\'ve described.  I suspect the left wheel may be in worse condition.<br />\\r\\n<br />\\r\\nAppreciate the confirmation of Carlisle and Titan.  Would you have a suggestion for the next step up in traction but still useable on residential lawn?<br />\\r\\n<br />\\r\\nThank you again for your input....much appreciated!<br />\\r\\n<br />\\r\\n\\n\\n\\n\\n<blockquote class=\"bbCodeBlock bbCodeBlock--expandable bbCodeBlock--quote\">\\n\\t\\n\\t\\t<div class=\"bbCodeBlock-title\">\\n\\t\\t\\t\\n\\t\\t\\t\\t<a href=\"/goto/post?id=3539900\"\\n\\t\\t\\t\\t\\tclass=\"bbCodeBlock-sourceJump\"\\n\\t\\t\\t\\t\\tdata-xf-click=\"attribution\"\\n\\t\\t\\t\\t\\tdata-content-selector=\"#post-3539900\">heather lawn sp said:</a>\\n\\t\\t\\t\\n\\t\\t</div>\\n\\t\\n\\t<div class=\"bbCodeBlock-content\">\\n\\t\\t\\n\\t\\t<div class=\"bbCodeBlock-expandContent \">\\n\\t\\t\\tThe game with slope running is that you use the lower wheel steering almost exclusively. In your case don\\'t reverse the upper wheel to prevent a dive, it doesn\\'t have enough traction. You should power forward with the lower wheel, the opposite to what you <i>think</i> you should be doing.<br />\\r\\n<br />\\r\\nCarlisle and Titan are the same tire\\n\\t\\t</div>\\n\\t\\t<div class=\"bbCodeBlock-expandLink\"><a>Click to expand...</a></div>\\n\\t</div>\\n</blockquote></div>\\n\\t\\t\\t\\t\\t\\t\\t\\t<div class=\"js-selectToQuoteEnd\">&nbsp;</div>\\n\\t\\t\\t\\t\\t\\t\\t\\t\\n\\t\\t\\t\\t\\t\\t\\t</article>\\n\\n\\t\\t\\t\\t\\t\\t\\t\\n\\n\\t\\t\\t\\t\\t\\t\\t\\n\\t\\t\\t\\t\\t\\t</div>\\n\\n\\t\\t\\t\\t\\t\\t\\n\\n\\t\\t\\t\\t\\t\\t\\n\\t\\n\\n\\t\\t\\t\\t\\t</div>\\n\\n\\t\\t\\t\\t\\t<footer class=\"message-footer\">\\n\\t\\t\\t\\t\\t\\t\\n\\n\\t\\t\\t\\t\\t\\t<div class=\"reactionsBar js-reactionsList \">\\n\\t\\t\\t\\t\\t\\t\\t\\n\\t\\t\\t\\t\\t\\t</div>\\n\\n\\t\\t\\t\\t\\t\\t<div class=\"js-historyTarget message-historyTarget toggleTarget\" data-href=\"trigger-href\"></div>\\n\\t\\t\\t\\t\\t</footer>\\n\\t\\t\\t\\t</div>\\n\\t\\t\\t</div>\\n\\t\\t\\t\\n\\t\\t</div>\\n\\t</article>\\n\\n\\t\\n\\n\\t\\t\\t\\t\\n\\t\\t\\t\\t\\n\\t\\t\\t\\t\\n\\t\\t\\t\\t\\n\\t\\t\\t\\n\\t\\t\\t\\t\\n\\t\\t\\t\\t\\t\\n\\t\\n\\t\\n\\t<article class=\"message message--post js-post js-inlineModContainer  \"\\n\\t\\tdata-author=\"ribertgropius\"\\n\\t\\tdata-content=\"post-4195651\"\\n\\t\\tid=\"js-post-4195651\">\\n\\n\\t\\t<span class=\"u-anchorTarget\" id=\"post-4195651\"></span>\\n\\n\\t\\t<div class=\"message-inner\">\\n\\t\\t\\t<div class=\"message-cell message-cell--user\">\\n\\t\\t\\t\\t\\n\\n\\t<section itemscope itemtype=\"https://schema.org/Person\" class=\"message-user\">\\n\\t\\t<div class=\"message-avatar \">\\n\\t\\t\\t<div class=\"message-avatar-wrapper\">\\n\\n    \\n\\n\\n    <div class=\"ribbonBox desktopRibbon leftCornerDesktop\">\\n        <div class=\"ribbon-wrapper\">\\n            <div class=\"ribbon\"\\n                    \\n                        data-xf-init=\"tooltip\"\\n                        data-original-title=\"Thread Starter\"\\n                    \\n                >\\n                <span>OP </span>\\n            </div>\\n        </div>\\n    </div>\\n\\n\\n\\n\\n\\t\\t\\t\\t<a href=\"/members/ribertgropius.102852/\" class=\"avatar avatar--m avatar--default avatar--default--dynamic\" data-user-id=\"102852\" data-xf-init=\"member-tooltip\" style=\"background-color: #cc9999; color: #773c3c\">\\n\\t\\t\\t<span class=\"avatar-u102852-m\">R</span> \\n\\t\\t</a>\\n\\t\\t\\t\\t\\n\\t\\t\\t</div>\\n\\t\\t</div>\\n\\t\\t<div class=\"message-userDetails\">\\n\\t\\t\\t<h4 class=\"message-name\"><a href=\"/members/ribertgropius.102852/\" class=\"username \" dir=\"auto\" data-user-id=\"102852\" data-xf-init=\"member-tooltip\" itemprop=\"name\">ribertgropius</a></h4>\\n\\t\\t\\t<h5 class=\"userTitle message-userTitle\" dir=\"auto\" itemprop=\"jobTitle\">LawnSite Member</h5>\\n\\t\\t\\t\\n\\t\\t</div>\\n\\t\\t\\n\\t\\t\\t\\n\\t\\t\\t\\n\\t\\t\\t\\t<div class=\"message-userExtras\">\\n\\t\\t\\t\\t\\n\\t\\t\\t\\t\\t\\n\\t\\t\\t\\t\\t\\n\\t\\t\\t\\t\\t\\n\\t\\t\\t\\t\\t\\n\\t\\t\\t\\t\\t\\n\\t\\t\\t\\t\\t\\n\\t\\t\\t\\t\\t\\t<dl class=\"pairs pairs--justified\">\\n\\t\\t\\t\\t\\t\\t\\t<dt>Location</dt>\\n\\t\\t\\t\\t\\t\\t\\t<dd>\\n\\t\\t\\t\\t\\t\\t\\t\\t\\n\\t\\t\\t\\t\\t\\t\\t\\t\\t<a href=\"/misc/location-info?location=Broad+Run%2C+VA\" rel=\"nofollow noreferrer\" target=\"_blank\" class=\"u-concealed\">Broad Run, VA</a>\\n\\t\\t\\t\\t\\t\\t\\t\\t\\n\\t\\t\\t\\t\\t\\t\\t</dd>\\n\\t\\t\\t\\t\\t\\t</dl>\\n\\t\\t\\t\\t\\t\\n\\t\\t\\t\\t\\t\\n\\t\\t\\t\\t\\t\\n\\t\\t\\t\\t\\n\\t\\t\\t\\t</div>\\n\\t\\t\\t\\n\\t\\t\\n\\t\\t<span class=\"message-userArrow\"></span>\\n\\t</section>\\n\\n\\t\\t\\t</div>\\n\\t\\t\\t<div class=\"message-cell message-cell--main\">\\n\\t\\t\\t\\t<div class=\"message-main js-quickEditTarget\">\\n\\n\\t\\t\\t\\t\\t<header class=\"message-attribution message-attribution--split\">\\n\\t\\t\\t\\t\\t\\t<div class=\"message-attribution-main\">\\n\\t\\t\\t\\t\\t\\t\\t<a href=\"/threads/ztr-tire-recommendations-steep-slope.314574/post-4195651\" class=\"u-concealed\"\\n\\t\\t\\t\\t\\t\\t\\t\\trel=\"nofollow\">\\n\\t\\t\\t\\t\\t\\t\\t\\t<time  class=\"u-dt\" dir=\"auto\" datetime=\"2011-10-24T15:34:36-0400\" data-time=\"1319484876\" data-date-string=\"Oct 24, 2011\" data-time-string=\"3:34 PM\" title=\"Oct 24, 2011 at 3:34 PM\">Oct 24, 2011</time>\\n\\t\\t\\t\\t\\t\\t\\t</a>\\n\\t\\t\\t\\t\\t\\t</div>\\n\\n\\t\\t\\t\\t\\t\\t<ul class=\"message-attribution-opposite message-attribution-opposite--list\">\\n\\t\\t\\t\\t\\t\\t\\t\\n\\t\\n    \\n\\t<li>\\n    \\n    \\n      \\t<span class=\"message-newIndicator threadStarterMobile\">Thread Starter</span>\\n    \\n\\t</li>\\n\\n\\n\\t\\t\\t\\t\\t\\t\\t<li>\\n\\t\\t\\t\\t\\t\\t\\t\\t<a href=\"/threads/ztr-tire-recommendations-steep-slope.314574/post-4195651\"\\n\\t\\t\\t\\t\\t\\t\\t\\t\\tdata-xf-init=\"share-tooltip\" data-href=\"/posts/4195651/share\"\\n\\t\\t\\t\\t\\t\\t\\t\\t\\trel=\"nofollow\">\\n\\t\\t\\t\\t\\t\\t\\t\\t\\t<i class=\"fa--xf far fa-share-alt\" aria-hidden=\"true\"></i>\\n\\t\\t\\t\\t\\t\\t\\t\\t</a>\\n\\t\\t\\t\\t\\t\\t\\t</li>\\n\\t\\t\\t\\t\\t\\t\\t\\n\\t\\t\\t\\t\\t\\t\\t\\n\\t\\t\\t\\t\\t\\t\\t\\t<li>\\n\\t\\t\\t\\t\\t\\t\\t\\t\\t<a href=\"/threads/ztr-tire-recommendations-steep-slope.314574/post-4195651\" rel=\"nofollow\">\\n\\t\\t\\t\\t\\t\\t\\t\\t\\t\\t#9\\n\\t\\t\\t\\t\\t\\t\\t\\t\\t</a>\\n\\t\\t\\t\\t\\t\\t\\t\\t</li>\\n\\t\\t\\t\\t\\t\\t\\t\\n\\t\\t\\t\\t\\t\\t</ul>\\n\\t\\t\\t\\t\\t</header>\\n\\n\\t\\t\\t\\t\\t<div class=\"message-content js-messageContent\">\\n\\n\\t\\t\\t\\t\\t\\t\\n\\t\\t\\t\\t\\t\\t\\n\\t\\t\\t\\t\\t\\t\\n\\n\\t\\t\\t\\t\\t\\t<div class=\"message-userContent lbContainer js-lbContainer \"\\n\\t\\t\\t\\t\\t\\t\\tdata-lb-id=\"post-4195651\"\\n\\t\\t\\t\\t\\t\\t\\tdata-lb-caption-desc=\"ribertgropius &middot; Oct 24, 2011 at 3:34 PM\">\\n\\n\\t\\t\\t\\t\\t\\t\\t\\n\\n\\t\\t\\t\\t\\t\\t\\t<article class=\"message-body js-selectToQuote\">\\n\\t\\t\\t\\t\\t\\t\\t\\t\\n\\t\\t\\t\\t\\t\\t\\t\\t<div class=\"bbWrapper\">I like the design of the AT101 and know they are out there on the Dixie Choppers.    Unfortunately, they don\\'t come in my 23x10.50-12 size.  Carlisle Tru Power looks like they would rip the lawn pretty badly on turns with their flat face, even though they carry the size.  <br />\\r\\n<br />\\r\\nIs it possible to substitute the oversize 24x12.00-12 on the 23x10.40-12 rims (8.5&quot; wide) and just lower the deck a 1/2&quot; to make up the difference?  I am also assuming I have enough clearance for the 12&quot; width of the AT101 vs. the 10&quot; width of my turf tire, but I need to verify that.<br />\\r\\n<br />\\r\\nDimensions for comparison:<br />\\r\\n<br />\\r\\n23x10.50-12 turf tire:   22.8&quot; h, 10&quot; w<br />\\r\\n24x12.00-12 AT101&quot;     23.9&quot; h, 12&quot; w<br />\\r\\n<br />\\r\\nRobert</div>\\n\\t\\t\\t\\t\\t\\t\\t\\t<div class=\"js-selectToQuoteEnd\">&nbsp;</div>\\n\\t\\t\\t\\t\\t\\t\\t\\t\\n\\t\\t\\t\\t\\t\\t\\t</article>\\n\\n\\t\\t\\t\\t\\t\\t\\t\\n\\n\\t\\t\\t\\t\\t\\t\\t\\n\\t\\t\\t\\t\\t\\t</div>\\n\\n\\t\\t\\t\\t\\t\\t\\n\\n\\t\\t\\t\\t\\t\\t\\n\\t\\n\\n\\t\\t\\t\\t\\t</div>\\n\\n\\t\\t\\t\\t\\t<footer class=\"message-footer\">\\n\\t\\t\\t\\t\\t\\t\\n\\n\\t\\t\\t\\t\\t\\t<div class=\"reactionsBar js-reactionsList \">\\n\\t\\t\\t\\t\\t\\t\\t\\n\\t\\t\\t\\t\\t\\t</div>\\n\\n\\t\\t\\t\\t\\t\\t<div class=\"js-historyTarget message-historyTarget toggleTarget\" data-href=\"trigger-href\"></div>\\n\\t\\t\\t\\t\\t</footer>\\n\\t\\t\\t\\t</div>\\n\\t\\t\\t</div>\\n\\t\\t\\t\\n\\t\\t</div>\\n\\t</article>\\n\\n\\t\\n\\n\\t\\t\\t\\t\\n\\t\\t\\t\\t\\n\\t\\t\\t\\t\\n\\t\\t\\t\\t\\n\\t\\t\\t\\t\\t<div class=\"in-content-ad-div\">\\n\\t\\t\\t\\t\\t\\t<!-- /24055536/LS-InContent3 -->\\n\\t\\t\\t\\t\\t\\t<div id=\\'div-gpt-ad-InContent3\\'>\\n\\t\\t\\t\\t\\t\\t\\t<script type=\\'text/javascript\\'>\\n\\t\\t\\t\\t\\t\\t\\t\\tgoogletag.cmd.push(function() { googletag.display(\\'div-gpt-ad-InContent3\\'); });\\n\\t\\t\\t\\t\\t\\t\\t</script>\\n\\t\\t\\t\\t\\t\\t</div>\\n\\t\\t\\t\\t\\t</div>\\n\\t\\t\\t\\t\\n\\t\\t\\t\\n\\t\\t\\t\\t\\n\\t\\t\\t\\t\\t\\n\\t\\n\\t\\n\\t<article class=\"message message--post js-post js-inlineModContainer  \"\\n\\t\\tdata-author=\"heather lawn sp\"\\n\\t\\tdata-content=\"post-4195750\"\\n\\t\\tid=\"js-post-4195750\">\\n\\n\\t\\t<span class=\"u-anchorTarget\" id=\"post-4195750\"></span>\\n\\n\\t\\t<div class=\"message-inner\">\\n\\t\\t\\t<div class=\"message-cell message-cell--user\">\\n\\t\\t\\t\\t\\n\\n\\t<section itemscope itemtype=\"https://schema.org/Person\" class=\"message-user\">\\n\\t\\t<div class=\"message-avatar \">\\n\\t\\t\\t<div class=\"message-avatar-wrapper\">\\n\\n\\t\\t\\t\\t<a href=\"/members/heather-lawn-sp.28663/\" class=\"avatar avatar--m avatar--default avatar--default--dynamic\" data-user-id=\"28663\" data-xf-init=\"member-tooltip\" style=\"background-color: #33cccc; color: #0f3d3d\">\\n\\t\\t\\t<span class=\"avatar-u28663-m\">H</span> \\n\\t\\t</a>\\n\\t\\t\\t\\t\\n\\t\\t\\t</div>\\n\\t\\t</div>\\n\\t\\t<div class=\"message-userDetails\">\\n\\t\\t\\t<h4 class=\"message-name\"><a href=\"/members/heather-lawn-sp.28663/\" class=\"username \" dir=\"auto\" data-user-id=\"28663\" data-xf-init=\"member-tooltip\" itemprop=\"name\">heather lawn sp</a></h4>\\n\\t\\t\\t<h5 class=\"userTitle message-userTitle\" dir=\"auto\" itemprop=\"jobTitle\">LawnSite Senior Member</h5>\\n\\t\\t\\t\\n\\t\\t</div>\\n\\t\\t\\n\\t\\t\\t\\n\\t\\t\\t\\n\\t\\t\\t\\t<div class=\"message-userExtras\">\\n\\t\\t\\t\\t\\n\\t\\t\\t\\t\\t\\n\\t\\t\\t\\t\\t\\n\\t\\t\\t\\t\\t\\n\\t\\t\\t\\t\\t\\n\\t\\t\\t\\t\\t\\n\\t\\t\\t\\t\\t\\n\\t\\t\\t\\t\\t\\t<dl class=\"pairs pairs--justified\">\\n\\t\\t\\t\\t\\t\\t\\t<dt>Location</dt>\\n\\t\\t\\t\\t\\t\\t\\t<dd>\\n\\t\\t\\t\\t\\t\\t\\t\\t\\n\\t\\t\\t\\t\\t\\t\\t\\t\\t<a href=\"/misc/location-info?location=Kitchener+On\" rel=\"nofollow noreferrer\" target=\"_blank\" class=\"u-concealed\">Kitchener On</a>\\n\\t\\t\\t\\t\\t\\t\\t\\t\\n\\t\\t\\t\\t\\t\\t\\t</dd>\\n\\t\\t\\t\\t\\t\\t</dl>\\n\\t\\t\\t\\t\\t\\n\\t\\t\\t\\t\\t\\n\\t\\t\\t\\t\\t\\n\\t\\t\\t\\t\\n\\t\\t\\t\\t</div>\\n\\t\\t\\t\\n\\t\\t\\n\\t\\t<span class=\"message-userArrow\"></span>\\n\\t</section>\\n\\n\\t\\t\\t</div>\\n\\t\\t\\t<div class=\"message-cell message-cell--main\">\\n\\t\\t\\t\\t<div class=\"message-main js-quickEditTarget\">\\n\\n\\t\\t\\t\\t\\t<header class=\"message-attribution message-attribution--split\">\\n\\t\\t\\t\\t\\t\\t<div class=\"message-attribution-main\">\\n\\t\\t\\t\\t\\t\\t\\t<a href=\"/threads/ztr-tire-recommendations-steep-slope.314574/post-4195750\" class=\"u-concealed\"\\n\\t\\t\\t\\t\\t\\t\\t\\trel=\"nofollow\">\\n\\t\\t\\t\\t\\t\\t\\t\\t<time  class=\"u-dt\" dir=\"auto\" datetime=\"2011-10-24T17:59:44-0400\" data-time=\"1319493584\" data-date-string=\"Oct 24, 2011\" data-time-string=\"5:59 PM\" title=\"Oct 24, 2011 at 5:59 PM\">Oct 24, 2011</time>\\n\\t\\t\\t\\t\\t\\t\\t</a>\\n\\t\\t\\t\\t\\t\\t</div>\\n\\n\\t\\t\\t\\t\\t\\t<ul class=\"message-attribution-opposite message-attribution-opposite--list\">\\n\\t\\t\\t\\t\\t\\t\\t\\n\\t\\n\\t\\t\\t\\t\\t\\t\\t<li>\\n\\t\\t\\t\\t\\t\\t\\t\\t<a href=\"/threads/ztr-tire-recommendations-steep-slope.314574/post-4195750\"\\n\\t\\t\\t\\t\\t\\t\\t\\t\\tdata-xf-init=\"share-tooltip\" data-href=\"/posts/4195750/share\"\\n\\t\\t\\t\\t\\t\\t\\t\\t\\trel=\"nofollow\">\\n\\t\\t\\t\\t\\t\\t\\t\\t\\t<i class=\"fa--xf far fa-share-alt\" aria-hidden=\"true\"></i>\\n\\t\\t\\t\\t\\t\\t\\t\\t</a>\\n\\t\\t\\t\\t\\t\\t\\t</li>\\n\\t\\t\\t\\t\\t\\t\\t\\n\\t\\t\\t\\t\\t\\t\\t\\n\\t\\t\\t\\t\\t\\t\\t\\t<li>\\n\\t\\t\\t\\t\\t\\t\\t\\t\\t<a href=\"/threads/ztr-tire-recommendations-steep-slope.314574/post-4195750\" rel=\"nofollow\">\\n\\t\\t\\t\\t\\t\\t\\t\\t\\t\\t#10\\n\\t\\t\\t\\t\\t\\t\\t\\t\\t</a>\\n\\t\\t\\t\\t\\t\\t\\t\\t</li>\\n\\t\\t\\t\\t\\t\\t\\t\\n\\t\\t\\t\\t\\t\\t</ul>\\n\\t\\t\\t\\t\\t</header>\\n\\n\\t\\t\\t\\t\\t<div class=\"message-content js-messageContent\">\\n\\n\\t\\t\\t\\t\\t\\t\\n\\t\\t\\t\\t\\t\\t\\n\\t\\t\\t\\t\\t\\t\\n\\n\\t\\t\\t\\t\\t\\t<div class=\"message-userContent lbContainer js-lbContainer \"\\n\\t\\t\\t\\t\\t\\t\\tdata-lb-id=\"post-4195750\"\\n\\t\\t\\t\\t\\t\\t\\tdata-lb-caption-desc=\"heather lawn sp &middot; Oct 24, 2011 at 5:59 PM\">\\n\\n\\t\\t\\t\\t\\t\\t\\t\\n\\n\\t\\t\\t\\t\\t\\t\\t<article class=\"message-body js-selectToQuote\">\\n\\t\\t\\t\\t\\t\\t\\t\\t\\n\\t\\t\\t\\t\\t\\t\\t\\t<div class=\"bbWrapper\">23 x 10.5 -12 Carlisle ALL TRAIL<br />\\r\\n<br />\\r\\nBeen using ALL TRAIL on the 25 hp M655 Deere 54&quot; deck<br />\\r\\nJust mounted the above noted tire on the Kubota ZD221. It\\'s aggressive. It tears grass easily. It\\'s a good hill climber but much of hill work is technique not traction. Much of that technique has to be learned the hard way. There\\'s not too many driving schools. You have to have a high threshold of fear and a good sense of balance.<br />\\r\\n<br />\\r\\nAnother tip of hill running. You might think moving across a hill quickly will get you out of the danger zone quicker. Slowly is much more stable and less likely to side slide.</div>\\n\\t\\t\\t\\t\\t\\t\\t\\t<div class=\"js-selectToQuoteEnd\">&nbsp;</div>\\n\\t\\t\\t\\t\\t\\t\\t\\t\\n\\t\\t\\t\\t\\t\\t\\t</article>\\n\\n\\t\\t\\t\\t\\t\\t\\t\\n\\n\\t\\t\\t\\t\\t\\t\\t\\n\\t\\t\\t\\t\\t\\t</div>\\n\\n\\t\\t\\t\\t\\t\\t\\n\\n\\t\\t\\t\\t\\t\\t\\n\\t\\n\\n\\t\\t\\t\\t\\t</div>\\n\\n\\t\\t\\t\\t\\t<footer class=\"message-footer\">\\n\\t\\t\\t\\t\\t\\t\\n\\n\\t\\t\\t\\t\\t\\t<div class=\"reactionsBar js-reactionsList \">\\n\\t\\t\\t\\t\\t\\t\\t\\n\\t\\t\\t\\t\\t\\t</div>\\n\\n\\t\\t\\t\\t\\t\\t<div class=\"js-historyTarget message-historyTarget toggleTarget\" data-href=\"trigger-href\"></div>\\n\\t\\t\\t\\t\\t</footer>\\n\\t\\t\\t\\t</div>\\n\\t\\t\\t</div>\\n\\t\\t\\t\\n\\t\\t</div>\\n\\t</article>\\n\\n\\t\\n\\n\\t\\t\\t\\t\\n\\t\\t\\t\\t\\n\\t\\t\\t\\t\\n\\t\\t\\t\\t\\n\\t\\t\\t\\n\\t\\t</div>\\n\\t</div>\\n\\n\\t\\n\\t\\t<div class=\"block-outer block-outer--after\">\\n\\t\\t\\t\\n\\t\\t\\t\\t<div class=\"block-outer-main\"><nav class=\"pageNavWrapper pageNavWrapper--mixed \">\\n\\n\\n\\n<div class=\"pageNav  \">\\n\\t\\n\\n\\t<ul class=\"pageNav-main\">\\n\\t\\t\\n\\n\\t\\n\\t\\t<li class=\"pageNav-page pageNav-page--current \"><a href=\"/threads/ztr-tire-recommendations-steep-slope.314574/\">1</a></li>\\n\\t\\n\\n\\n\\t\\t\\n\\n\\t\\t\\n\\n\\t\\t\\n\\n\\t\\t\\n\\n\\t\\n\\t\\t<li class=\"pageNav-page \"><a href=\"/threads/ztr-tire-recommendations-steep-slope.314574/page-2\">2</a></li>\\n\\t\\n\\n\\t</ul>\\n\\n\\t\\n\\t\\t<a href=\"/threads/ztr-tire-recommendations-steep-slope.314574/page-2\" class=\"pageNav-jump pageNav-jump--next\">Next</a>\\n\\t\\n</div>\\n\\n<div class=\"pageNavSimple\">\\n\\t\\n\\n\\t<a class=\"pageNavSimple-el pageNavSimple-el--current\"\\n\\t\\tdata-xf-init=\"tooltip\" title=\"Go to page\"\\n\\t\\tdata-xf-click=\"menu\" role=\"button\" tabindex=\"0\" aria-expanded=\"false\" aria-haspopup=\"true\">\\n\\t\\t1 of 2\\n\\t</a>\\n\\t\\n\\n\\t<div class=\"menu menu--pageJump\" data-menu=\"menu\" aria-hidden=\"true\">\\n\\t\\t<div class=\"menu-content\">\\n\\t\\t\\t<h4 class=\"menu-header\">Go to page</h4>\\n\\t\\t\\t<div class=\"menu-row\" data-xf-init=\"page-jump\" data-page-url=\"/threads/ztr-tire-recommendations-steep-slope.314574/page-%page%\">\\n\\t\\t\\t\\t<div class=\"inputGroup inputGroup--numbers\">\\n\\t\\t\\t\\t\\t<div class=\"inputGroup inputGroup--numbers inputNumber\" data-xf-init=\"number-box\"><input type=\"number\" pattern=\"\\\\d*\" class=\"input input--number js-numberBoxTextInput input input--numberNarrow js-pageJumpPage\" value=\"1\"  min=\"1\" max=\"2\" step=\"1\" required=\"required\" data-menu-autofocus=\"true\" /></div>\\n\\t\\t\\t\\t\\t<span class=\"inputGroup-text\"><button type=\"button\" class=\"js-pageJumpGo button\"><span class=\"button-text\">Go</span></button></span>\\n\\t\\t\\t\\t</div>\\n\\t\\t\\t</div>\\n\\t\\t</div>\\n\\t</div>\\n\\n\\n\\t\\n\\t\\t<a href=\"/threads/ztr-tire-recommendations-steep-slope.314574/page-2\" class=\"pageNavSimple-el pageNavSimple-el--next\">\\n\\t\\t\\tNext <i aria-hidden=\"true\"></i>\\n\\t\\t</a>\\n\\t\\t<a href=\"/threads/ztr-tire-recommendations-steep-slope.314574/page-2\"\\n\\t\\t\\tclass=\"pageNavSimple-el pageNavSimple-el--last\"\\n\\t\\t\\tdata-xf-init=\"tooltip\" title=\"Last\">\\n\\t\\t\\t<i aria-hidden=\"true\"></i> <span class=\"u-srOnly\">Last</span>\\n\\t\\t</a>\\n\\t\\n</div>\\n\\n</nav>\\n\\n\\n\\n</div>\\n\\t\\t\\t\\t\\n\\t\\t\\t\\t\\n\\t\\t\\t\\t\\t<div class=\"block-outer-opposite\">\\n\\t\\t\\t\\t\\t\\t\\n\\t\\t\\t\\t\\t\\t\\t<a href=\"/login/\" class=\"button--link button\" data-xf-click=\"overlay\"><span class=\"button-text\">\\n\\t\\t\\t\\t\\t\\t\\t\\tYou must log in or register to reply here.\\n\\t\\t\\t\\t\\t\\t\\t</span></a>\\n\\t\\t\\t\\t\\t\\t\\n\\t\\t\\t\\t\\t</div>\\n\\t\\t\\t\\t\\n\\t\\t\\t\\n\\t\\t</div>\\n\\t\\n\\n\\t\\n\\t\\n\\n</div>\\n\\n\\n\\n\\n\\n<div class=\"blockMessage blockMessage--none\">\\n\\t\\n\\t\\n\\t\\t\\n\\t\\t<div class=\"shareButtons shareButtons--iconic\" data-xf-init=\"share-buttons\" data-page-url=\"\" data-page-title=\"\" data-page-desc=\"\">\\n\\t\\t\\t\\n\\t\\t\\t\\t<span class=\"shareButtons-label\">Share:</span>\\n\\t\\t\\t\\n\\n\\t\\t\\t<div class=\"shareButtons-buttons\">\\n\\t\\t\\t\\t\\n\\n\\t\\t\\t\\t\\t\\n\\t\\t\\t\\t\\t\\t<a class=\"shareButtons-button shareButtons-button--brand shareButtons-button--facebook\" data-href=\"https://www.facebook.com/sharer.php?u={url}\">\\n\\t\\t\\t\\t\\t\\t\\t<i aria-hidden=\"true\"></i>\\n\\t\\t\\t\\t\\t\\t\\t<span>Facebook</span>\\n\\t\\t\\t\\t\\t\\t</a>\\n\\t\\t\\t\\t\\t\\n\\n\\t\\t\\t\\t\\t\\n\\t\\t\\t\\t\\t\\t<a class=\"shareButtons-button shareButtons-button--brand shareButtons-button--twitter\" data-href=\"https://twitter.com/intent/tweet?url={url}&amp;text={title}&amp;via=LawnSite&amp;related=TurfMagazine\">\\n\\t\\t\\t\\t\\t\\t\\t<i aria-hidden=\"true\"></i>\\n\\t\\t\\t\\t\\t\\t\\t<span>Twitter</span>\\n\\t\\t\\t\\t\\t\\t</a>\\n\\t\\t\\t\\t\\t\\n\\n\\t\\t\\t\\t\\t\\n\\t\\t\\t\\t\\t\\t<a class=\"shareButtons-button shareButtons-button--brand shareButtons-button--reddit\" data-href=\"https://reddit.com/submit?url={url}&amp;title={title}\">\\n\\t\\t\\t\\t\\t\\t\\t<i aria-hidden=\"true\"></i>\\n\\t\\t\\t\\t\\t\\t\\t<span>Reddit</span>\\n\\t\\t\\t\\t\\t\\t</a>\\n\\t\\t\\t\\t\\t\\n\\n\\t\\t\\t\\t\\t\\n\\t\\t\\t\\t\\t\\t<a class=\"shareButtons-button shareButtons-button--brand shareButtons-button--pinterest\" data-href=\"https://pinterest.com/pin/create/bookmarklet/?url={url}&amp;description={title}&amp;media={image}\">\\n\\t\\t\\t\\t\\t\\t\\t<i aria-hidden=\"true\"></i>\\n\\t\\t\\t\\t\\t\\t\\t<span>Pinterest</span>\\n\\t\\t\\t\\t\\t\\t</a>\\n\\t\\t\\t\\t\\t\\n\\n\\t\\t\\t\\t\\t\\n\\t\\t\\t\\t\\t\\t<a class=\"shareButtons-button shareButtons-button--brand shareButtons-button--tumblr\" data-href=\"https://www.tumblr.com/widgets/share/tool?canonicalUrl={url}&amp;title={title}\">\\n\\t\\t\\t\\t\\t\\t\\t<i aria-hidden=\"true\"></i>\\n\\t\\t\\t\\t\\t\\t\\t<span>Tumblr</span>\\n\\t\\t\\t\\t\\t\\t</a>\\n\\t\\t\\t\\t\\t\\n\\n\\t\\t\\t\\t\\t\\n\\t\\t\\t\\t\\t\\t<a class=\"shareButtons-button shareButtons-button--brand shareButtons-button--whatsApp\" data-href=\"https://api.whatsapp.com/send?text={title}&nbsp;{url}\">\\n\\t\\t\\t\\t\\t\\t\\t<i aria-hidden=\"true\"></i>\\n\\t\\t\\t\\t\\t\\t\\t<span>WhatsApp</span>\\n\\t\\t\\t\\t\\t\\t</a>\\n\\t\\t\\t\\t\\t\\n\\n\\t\\t\\t\\t\\t\\n\\t\\t\\t\\t\\t\\t<a class=\"shareButtons-button shareButtons-button--email\" data-href=\"mailto:?subject={title}&amp;body={url}\">\\n\\t\\t\\t\\t\\t\\t\\t<i aria-hidden=\"true\"></i>\\n\\t\\t\\t\\t\\t\\t\\t<span>Email</span>\\n\\t\\t\\t\\t\\t\\t</a>\\n\\t\\t\\t\\t\\t\\n\\n\\t\\t\\t\\t\\t\\n\\t\\t\\t\\t\\t\\t<a class=\"shareButtons-button shareButtons-button--link is-hidden\" data-clipboard=\"{url}\">\\n\\t\\t\\t\\t\\t\\t\\t<i aria-hidden=\"true\"></i>\\n\\t\\t\\t\\t\\t\\t\\t<span>Link</span>\\n\\t\\t\\t\\t\\t\\t</a>\\n\\t\\t\\t\\t\\t\\n\\t\\t\\t\\t\\n\\t\\t\\t</div>\\n\\t\\t</div>\\n\\t\\n\\n</div>\\n\\n\\n\\n</div>\\n\\t\\t\\t\\t\\n\\t\\t\\t</div>\\n\\n\\t\\t\\t\\n\\t\\t\\t\\t<div class=\"p-body-sidebar\">\\n\\t\\t\\t\\t\\t\\n\\t\\t\\t\\t\\t\\n\\t\\t\\t\\t\\t\\t<div class=\"rectangle-ad-container\">\\n\\t\\n\\n\\t<div id=\\'div-gpt-ad-Right1\\'>\\n\\t\\t<script type=\\'text/javascript\\'>\\n\\t\\tgoogletag.cmd.push(function () { googletag.display(\\'div-gpt-ad-Right1\\'); });\\n\\t\\t</script>\\n\\t</div>\\n</div>\\n\\n\\n\\t<div class=\"rectangle-ad-container\" style=\"margin-top: 20px; margin-bottom: 20px;\">\\n\\n\\n\\t<div id=\\'div-gpt-ad-Right2\\'>\\n\\t\\t<script type=\\'text/javascript\\'>\\n\\t\\tgoogletag.cmd.push(function () { googletag.display(\\'div-gpt-ad-Right2\\'); });\\n\\t\\t</script>\\n\\t</div>\\n</div>\\n\\t\\t\\t\\t\\t\\n\\t\\t\\t\\t\\t\\t<div class=\"rectangle-ad-container\" style=\"margin-top: 20px; margin-bottom: 20px;\">\\n\\t<div id=\\'div-gpt-ad-Right3\\'>\\n\\t\\t<script type=\\'text/javascript\\'>\\n\\t\\tgoogletag.cmd.push(function () { googletag.display(\\'div-gpt-ad-Right3\\'); });\\n\\t\\t</script>\\n\\t</div>\\n</div>\\n\\n\\n\\t<div class=\"block\" data-widget-id=\"8\" data-widget-key=\"forum_overview_share_page\" data-widget-definition=\"share_page\">\\n\\t\\t<div class=\"block-container\">\\n\\t\\t\\t<h3 class=\"block-minorHeader\">Share this page</h3>\\n\\t\\t\\t<div class=\"block-body block-row\">\\n\\t\\t\\t\\t\\n\\t\\t\\t\\t\\t\\n\\t\\n\\t\\t\\n\\t\\t<div class=\"shareButtons shareButtons--iconic\" data-xf-init=\"share-buttons\" data-page-url=\"\" data-page-title=\"\" data-page-desc=\"\">\\n\\t\\t\\t\\n\\n\\t\\t\\t<div class=\"shareButtons-buttons\">\\n\\t\\t\\t\\t\\n\\n\\t\\t\\t\\t\\t\\n\\t\\t\\t\\t\\t\\t<a class=\"shareButtons-button shareButtons-button--brand shareButtons-button--facebook\" data-href=\"https://www.facebook.com/sharer.php?u={url}\">\\n\\t\\t\\t\\t\\t\\t\\t<i aria-hidden=\"true\"></i>\\n\\t\\t\\t\\t\\t\\t\\t<span>Facebook</span>\\n\\t\\t\\t\\t\\t\\t</a>\\n\\t\\t\\t\\t\\t\\n\\n\\t\\t\\t\\t\\t\\n\\t\\t\\t\\t\\t\\t<a class=\"shareButtons-button shareButtons-button--brand shareButtons-button--twitter\" data-href=\"https://twitter.com/intent/tweet?url={url}&amp;text={title}&amp;via=LawnSite&amp;related=TurfMagazine\">\\n\\t\\t\\t\\t\\t\\t\\t<i aria-hidden=\"true\"></i>\\n\\t\\t\\t\\t\\t\\t\\t<span>Twitter</span>\\n\\t\\t\\t\\t\\t\\t</a>\\n\\t\\t\\t\\t\\t\\n\\n\\t\\t\\t\\t\\t\\n\\t\\t\\t\\t\\t\\t<a class=\"shareButtons-button shareButtons-button--brand shareButtons-button--reddit\" data-href=\"https://reddit.com/submit?url={url}&amp;title={title}\">\\n\\t\\t\\t\\t\\t\\t\\t<i aria-hidden=\"true\"></i>\\n\\t\\t\\t\\t\\t\\t\\t<span>Reddit</span>\\n\\t\\t\\t\\t\\t\\t</a>\\n\\t\\t\\t\\t\\t\\n\\n\\t\\t\\t\\t\\t\\n\\t\\t\\t\\t\\t\\t<a class=\"shareButtons-button shareButtons-button--brand shareButtons-button--pinterest\" data-href=\"https://pinterest.com/pin/create/bookmarklet/?url={url}&amp;description={title}&amp;media={image}\">\\n\\t\\t\\t\\t\\t\\t\\t<i aria-hidden=\"true\"></i>\\n\\t\\t\\t\\t\\t\\t\\t<span>Pinterest</span>\\n\\t\\t\\t\\t\\t\\t</a>\\n\\t\\t\\t\\t\\t\\n\\n\\t\\t\\t\\t\\t\\n\\t\\t\\t\\t\\t\\t<a class=\"shareButtons-button shareButtons-button--brand shareButtons-button--tumblr\" data-href=\"https://www.tumblr.com/widgets/share/tool?canonicalUrl={url}&amp;title={title}\">\\n\\t\\t\\t\\t\\t\\t\\t<i aria-hidden=\"true\"></i>\\n\\t\\t\\t\\t\\t\\t\\t<span>Tumblr</span>\\n\\t\\t\\t\\t\\t\\t</a>\\n\\t\\t\\t\\t\\t\\n\\n\\t\\t\\t\\t\\t\\n\\t\\t\\t\\t\\t\\t<a class=\"shareButtons-button shareButtons-button--brand shareButtons-button--whatsApp\" data-href=\"https://api.whatsapp.com/send?text={title}&nbsp;{url}\">\\n\\t\\t\\t\\t\\t\\t\\t<i aria-hidden=\"true\"></i>\\n\\t\\t\\t\\t\\t\\t\\t<span>WhatsApp</span>\\n\\t\\t\\t\\t\\t\\t</a>\\n\\t\\t\\t\\t\\t\\n\\n\\t\\t\\t\\t\\t\\n\\t\\t\\t\\t\\t\\t<a class=\"shareButtons-button shareButtons-button--email\" data-href=\"mailto:?subject={title}&amp;body={url}\">\\n\\t\\t\\t\\t\\t\\t\\t<i aria-hidden=\"true\"></i>\\n\\t\\t\\t\\t\\t\\t\\t<span>Email</span>\\n\\t\\t\\t\\t\\t\\t</a>\\n\\t\\t\\t\\t\\t\\n\\n\\t\\t\\t\\t\\t\\n\\t\\t\\t\\t\\t\\t<a class=\"shareButtons-button shareButtons-button--link is-hidden\" data-clipboard=\"{url}\">\\n\\t\\t\\t\\t\\t\\t\\t<i aria-hidden=\"true\"></i>\\n\\t\\t\\t\\t\\t\\t\\t<span>Link</span>\\n\\t\\t\\t\\t\\t\\t</a>\\n\\t\\t\\t\\t\\t\\n\\t\\t\\t\\t\\n\\t\\t\\t</div>\\n\\t\\t</div>\\n\\t\\n\\n\\t\\t\\t\\t\\n\\t\\t\\t</div>\\n\\t\\t</div>\\n\\t</div>\\n\\n\\n\\t<div class=\"buttonAdsDiv\">\\n\\t<div class=\"buttonAdsLeftDiv\">\\n\\t\\t<div class=\"buttonAdDiv\">\\n\\t\\t\\t<!-- /24055536/LS-Button1 -->\\n\\t\\t\\t<div id=\\'div-gpt-ad-Button1\\' style=\\'height:auto; width:120px;\\'>\\n\\t\\t\\t\\t<script type=\\'text/javascript\\'>\\n\\t\\t\\t\\t\\tgoogletag.cmd.push(function() { googletag.display(\\'div-gpt-ad-Button1\\'); });\\n\\t\\t\\t\\t</script>\\n\\t\\t\\t</div>\\n\\t\\t</div>\\n\\t\\t<div class=\"buttonAdDiv\">\\n\\t\\t\\t<!-- /24055536/LS-Button3 -->\\n\\t\\t\\t<div id=\\'div-gpt-ad-Button3\\' style=\\'height:60px; width:120px;\\'>\\n\\t\\t\\t\\t<script type=\\'text/javascript\\'>\\n\\t\\t\\t\\t\\tgoogletag.cmd.push(function() { googletag.display(\\'div-gpt-ad-Button3\\'); });\\n\\t\\t\\t\\t</script>\\n\\t\\t\\t</div>\\n\\t\\t</div>\\n\\t\\t<div class=\"buttonAdDiv\">\\n\\t\\t\\t<!-- Button5 -->\\n\\t\\t\\t<div id=\\'div-gpt-ad-Button5\\' style=\\'height:60px; width:120px;\\'>\\n\\t\\t\\t\\t<script type=\\'text/javascript\\'>\\n\\t\\t\\t\\t\\tgoogletag.cmd.push(function() { googletag.display(\\'div-gpt-ad-Button5\\'); });\\n\\t\\t\\t\\t</script>\\n\\t\\t\\t</div>\\n\\t\\t</div>\\n\\t</div>\\n\\t<div class=\"buttonAdsRightDiv\">\\n\\t\\t<div class=\"buttonAdDiv\">\\n\\t\\t\\t<!-- /24055536/LS-Button2 -->\\n\\t\\t\\t<div id=\\'div-gpt-ad-Button2\\' style=\\'height:auto; width:120px;\\'>\\n\\t\\t\\t\\t<script type=\\'text/javascript\\'>\\n\\t\\t\\t\\t\\tgoogletag.cmd.push(function() { googletag.display(\\'div-gpt-ad-Button2\\'); });\\n\\t\\t\\t\\t</script>\\n\\t\\t\\t</div>\\n\\t\\t</div>\\n\\t\\t<div class=\"buttonAdDiv\">\\n\\t\\t\\t<!-- Button4 -->\\n\\t\\t\\t<div id=\\'div-gpt-ad-Button4\\' style=\\'height:60px; width:120px;\\'>\\n\\t\\t\\t\\t<script type=\\'text/javascript\\'>\\n\\t\\t\\t\\t\\tgoogletag.cmd.push(function() { googletag.display(\\'div-gpt-ad-Button4\\'); });\\n\\t\\t\\t\\t</script>\\n\\t\\t\\t</div>\\n\\t\\t</div>\\n\\t\\t<div class=\"buttonAdDiv\">\\n\\t\\t\\t<!-- Button6 -->\\n\\t\\t\\t<div id=\\'div-gpt-ad-Button6\\' style=\\'height:60px; width:120px;\\'>\\n\\t\\t\\t\\t<script type=\\'text/javascript\\'>\\n\\t\\t\\t\\t\\tgoogletag.cmd.push(function() { googletag.display(\\'div-gpt-ad-Button6\\'); });\\n\\t\\t\\t\\t</script>\\n\\t\\t\\t</div>\\n\\t\\t</div>\\n\\t</div>\\t\\n</div>\\n\\t\\t\\t\\t\\t\\n\\t\\t\\t\\t\\t\\n\\t\\t\\t\\t</div>\\n\\t\\t\\t\\n\\t\\t</div>\\n\\n\\t\\t\\n\\t\\t\\n\\t\\n\\t\\t<ul class=\"p-breadcrumbs p-breadcrumbs--bottom\"\\n\\t\\t\\titemscope itemtype=\"https://schema.org/BreadcrumbList\">\\n\\t\\t\\n\\t\\t\\t\\n\\n\\t\\t\\t\\n\\t\\t\\t\\n\\n\\t\\t\\t\\n\\t\\t\\t\\t\\n\\t\\t\\t\\t\\n\\t<li itemprop=\"itemListElement\" itemscope itemtype=\"https://schema.org/ListItem\">\\n\\t\\t<a href=\"/\" itemprop=\"item\">\\n\\t\\t\\t<span itemprop=\"name\">Forums</span>\\n\\t\\t</a>\\n\\t\\t<meta itemprop=\"position\" content=\"1\" />\\n\\t</li>\\n\\n\\t\\t\\t\\n\\t\\t\\t\\n\\t\\t\\t\\t\\n\\t\\t\\t\\t\\n\\t<li itemprop=\"itemListElement\" itemscope itemtype=\"https://schema.org/ListItem\">\\n\\t\\t<a href=\"/categories/lawn-and-landscape-maintenance.23/\" itemprop=\"item\">\\n\\t\\t\\t<span itemprop=\"name\">Lawn and Landscape Maintenance</span>\\n\\t\\t</a>\\n\\t\\t<meta itemprop=\"position\" content=\"2\" />\\n\\t</li>\\n\\n\\t\\t\\t\\n\\t\\t\\t\\t\\n\\t\\t\\t\\t\\n\\t<li itemprop=\"itemListElement\" itemscope itemtype=\"https://schema.org/ListItem\">\\n\\t\\t<a href=\"/forums/lawn-mowing.1/\" itemprop=\"item\">\\n\\t\\t\\t<span itemprop=\"name\">Lawn Mowing</span>\\n\\t\\t</a>\\n\\t\\t<meta itemprop=\"position\" content=\"3\" />\\n\\t</li>\\n\\n\\t\\t\\t\\n\\n\\t\\t\\n\\t\\t</ul>\\n\\t\\n\\n\\t\\t\\n\\t</div>\\n</div>\\n\\n\\t\\n\\t<div class=\"leaderboard-ad-container\">\\n\\t\\t\\n\\t\\t\\n\\t\\n\\t<div id=\\'div-gpt-ad-Footer\\'>\\n\\t\\t\\t<script type=\\'text/javascript\\'>\\n\\t\\t\\tgoogletag.cmd.push(function () { googletag.display(\\'div-gpt-ad-Footer\\'); });\\n\\t\\t\\t</script>\\n\\t\\t</div>\\n\\t</div>\\n\\t\\t\\t\\n\\t\\n<footer class=\"p-footer\" id=\"footer\">\\n\\t<div class=\"p-footer-inner\">\\n\\n\\t\\t<div class=\"p-footer-row\">\\n\\t\\t\\t<!-- Custom Footer -->\\n\\n\\t\\t\\t<div class=\"footerTopDiv cf\">\\n\\t\\t\\t\\t<a href=\"https://www.lawnsite.com/\">\\n\\t\\t\\t\\t\\t<img class=\"footerLogo\" src=\"/styles/default/lawnsiteLayout/lawnsitelogo_white.png\" alt=\"LawnSite\">\\n\\t\\t\\t\\t</a>\\n<!-- Menu -->\\n<div class=\"navDiv desktop wp-override\">\\n\\t<div class=\"innerNavDiv\">\\n\\t        <ul id=\"footerNav\" class=\"dropDownMenu\" style=\"opacity: 1;\">\\n\\t\\t\\t<li>\\t\\n\\t\\t\\t\\t<span class=\"arrowSpan\" style=\"\">\\n\\t\\t\\t\\t    <a href=\"/categories/business-management.60\" style=\"\">\\n\\t\\t\\t\\t    \\t<span style=\"\">Business</span>\\n\\t\\t\\t\\t    \\t<div class=\"downArrow\" style=\"\"></div>\\n\\t\\t\\t\\t    </a>\\n\\t\\t\\t\\t</span>\\n\\t\\t\\t\\n\\t\\t\\t\\t\\n\\t\\t\\t</li>\\n\\t\\t\\t<li>\\n\\t\\t\\t\\t<span class=\"arrowSpan\" style=\"\">\\n\\t\\t\\t            <a href=\"/categories/equipment.279/\" style=\"\">\\n\\t\\t\\t                    <span style=\"\">Equipment</span>\\n\\t\\t\\t                    <div class=\"downArrow\" style=\"\"></div>\\n\\t\\t\\t            </a>\\n\\t\\t\\t        </span>\\n\\t\\t\\t\\n\\t\\t\\t\\t\\n\\t\\t\\t</li>\\n\\t\\t\\t<li>\\n\\t\\t\\t        <span class=\"arrowSpan\" style=\"\">\\n\\t\\t\\t            <a href=\"/categories/lawn-and-landscape-maintenance.23\" style=\"\">\\n\\t\\t\\t                    <span style=\"\">Maintenance</span>\\n\\t\\t\\t                    <div class=\"downArrow\" style=\"\"></div>\\n\\t\\t\\t            </a>\\n\\t\\t\\t        </span>\\n\\t\\t\\t\\t\\n\\t\\t\\t</li>\\n\\t\\t\\t<li>\\n\\t\\t\\t\\n\\t\\t\\t        <span class=\"arrowSpan\" style=\"\">\\n\\t\\t\\t            <a href=\"/categories/lawn-care-fertilizers-and-pesticides.236\" style=\"\">\\n\\t\\t\\t                    <span style=\"\">Lawn Care</span>\\n\\t\\t\\t                    <div class=\"downArrow\" style=\"\"></div>\\n\\t\\t\\t            </a>\\n\\t\\t\\t        </span>\\n\\t\\t\\t\\n\\t\\t\\t\\t\\n\\t\\t\\t</li>\\n\\t\\t\\t<li>\\n\\t\\t\\t        <span class=\"arrowSpan\" style=\"\">\\n\\t\\t\\t\\t\\t<a href=\"/categories/design-build.123\" style=\"\">\\n\\t\\t\\t\\t\\t    <span style=\"\">Design / Build</span>\\n\\t\\t\\t\\t\\t    <div class=\"downArrow\" style=\"\"></div>\\n\\t\\t\\t\\t\\t</a>\\n\\t\\t\\t        </span>\\n\\t\\t\\t\\t\\n\\t\\t\\t</li>\\n\\n\\t\\t\\t<li>\\n\\t\\t\\t\\t<span class=\"arrowSpan\" style=\"\">\\n\\t\\t\\t        \\t<a href=\"/categories/irrigation.310\" style=\"\">\\n\\t\\t\\t\\t        \\t<span style=\"\">Irrigation</span>\\n\\t\\t\\t\\t\\t\\t<div class=\"downArrow\" style=\"\"></div>\\n\\t\\t\\t        \\t</a>\\n\\t\\t\\t        </span>\\n\\t\\t\\t\\n\\t\\t\\t\\t\\n\\t\\t\\t</li>\\n\\t\\t\\t<li>\\n\\n\\t\\t\\t        <span class=\"arrowSpan\" style=\"\">\\n\\t\\t\\t                <a href=\"/media\" style=\"\">\\n\\t\\t\\t\\t\\t\\t<span style=\"\">Photos &amp; Video</span>\\n\\t\\t\\t\\t\\t\\t<div class=\"downArrow\" style=\"\"></div>\\n\\t\\t\\t\\t\\t</a>\\n\\t\\t\\t        </span>\\n\\t\\t\\t\\t\\n\\t\\t\\t</li>\\n\\t\\t</ul>\\n\\t</div>\\n</div>\\n\\t\\t\\t\\t\\n\\t\\t\\t</div>\\n\\t\\t\\t\\n\\t\\t\\t<div class=\"footerBottomDiv cf\">\\n\\t\\t\\t\\t<div class=\"footerColumn\">\\n\\t\\t\\t\\t\\t<div>\\n\\t\\t\\t\\t\\t\\t<strong>Lawnsite.com</strong>\\n\\t\\t\\t\\t\\t</div>\\n\\t\\t\\t\\t\\t<div>\\n\\t\\t\\t\\t\\t\\t<a target=\"_blank\" href=\"http://editor.ne16.com/Subscribe/Form.ashx?l=1002941&amp;p=d6d79324-ae7e-4dfc-a208-4088d557bb70\">Newsletter</a>\\n\\t\\t\\t\\t\\t</div>\\n\\t\\t\\t\\t\\t<div>\\n\\t\\t\\t\\t\\t\\t<a href=\"/\">Forums</a>\\n\\t\\t\\t\\t\\t</div>\\n\\t\\t\\t\\t\\t<div>\\n\\t\\t\\t\\t\\t\\t<a href=\"/help/about-lawnsite/\">About Us</a>\\n\\t\\t\\t\\t\\t</div>\\n\\t\\t\\t\\t\\t\\n\\t\\t\\t\\t\\t\\t<div><a href=\"/misc/contact\">Contact Us</a></div>\\n\\t\\t\\t\\t\\t\\t\\t\\t\\t\\t\\n\\t\\t\\t\\t\\t<li><a href=\"/help/\">Help</a></li>\\n\\t\\t\\t\\t\\t\\n\\t\\t\\t\\t\\t<div><a href=\"/help/terms\">Terms and Rules</a></div>\\n\\t\\t\\t\\t\\t<div><a href=\"/help/privacy-policy/\">Privacy Policy</a></div>\\n\\t\\t\\t\\t\\t\\n\\t\\t\\t\\t\\t<div>\\n\\t\\t\\t\\t\\t\\t<a href=\"/sitemap.php\">Sitemap</a>\\n\\t\\t\\t\\t\\t</div>\\n\\t\\t\\t\\t</div>\\n\\t\\t\\t\\t<div class=\"footerColumn\">\\n\\t\\t\\t\\t\\t<div>\\n\\t\\t\\t\\t\\t\\t<strong>All Resources</strong>\\n\\t\\t\\t\\t\\t</div>\\n\\t\\t\\t\\t\\t<div>\\n<div>\\n\\t\\t\\t\\t\\t\\t<a href=\"https://www.plowsite.com\" target=\"_blank\">Plowsite.com</a>\\n\\t\\t\\t\\t\\t\\t</div>\\n\\t\\t\\t\\t\\t<div>\\n\\t\\t\\t\\t\\t\\t<a href=\"https://www.lawnsite.com\" target=\"_blank\">LawnSite.com</a>\\n\\t\\t\\t\\t\\t\\t</div>\\n\\t\\t\\t\\t\\t<div>\\n\\t\\t\\t\\t\\t\\t<a href=\"https://www.turfmagazine.com/\" target=\"_blank\">Turf Magazine</a>\\n\\t\\t\\t\\t\\t\\t</div>\\n\\t\\t\\t\\t\\t<div>\\n\\t\\t\\t\\t\\t\\t<a href=\"https://www.turfmagazine.com/turf-design-build/\" target=\"_blank\">Turf Design Build</a>\\n\\t\\t\\t\\t\\t\\t</div>\\n\\t\\t\\t\\t\\t<div>\\n\\t\\t\\t\\t\\t\\t<a href=\"https://www.turfmagazine.com/tree-services/\" target=\"_blank\">Tree Services</a>\\n\\t\\t\\t\\t\\t\\t</div>\\n\\t\\t\\t\\t\\t</div>\\n\\t\\t\\t\\t</div>\\n\\t\\t\\t\\t<div class=\"footerColumn\">\\n\\t\\t\\t\\t\\t<div>\\n\\t\\t\\t\\t\\t\\t<strong>Magazines</strong>\\n\\t\\t\\t\\t\\t</div>\\n\\t\\t\\t\\t\\t<div>\\n\\t\\t\\t\\t\\t\\t<a href=\"https://facilityexecutive.com\" target=\"_blank\">Facility Executive Magazine</a>\\n\\t\\t\\t\\t\\t\\t</div>\\n\\t\\t\\t\\t\\t<div>\\n\\t\\t\\t\\t\\t\\t<a href=\"https://www.turfmagazine.com/\" target=\"_blank\">Turf Magazine</a>\\n\\t\\t\\t\\t\\t</div>\\n\\t\\t\\t\\t</div>\\n\\t\\t\\t\\t<div class=\"footerColumn\">\\n\\t\\t\\t\\t\\t<div>\\n\\t\\t\\t\\t\\t\\t<strong>Corporate</strong>\\n\\t\\t\\t\\t\\t</div>\\n\\t\\t\\t\\t\\t<div>\\n\\t\\t\\t\\t\\t\\t<a href=\"http://groupc.com\" target=\"_blank\">Group C Media, Inc.</a>\\n\\t\\t\\t\\t\\t</div>\\n\\t\\t\\t\\t\\t<div>\\n\\t\\t\\t\\t\\t\\t<a href=\"https://www.turfmagazine.com/advertise-with-us/\" target=\"_blank\">Request Media Kit</a>\\n\\t\\t\\t\\t\\t</div>\\n\\t\\t\\t\\t\\t<div>\\n\\t\\t\\t\\t\\t\\t<a href=\"http://www.groupc.com/downloads/DigitalAdSpecs_GrpC.pdf\" target=\"_blank\">Digital Specs</a>\\n\\t\\t\\t\\t\\t</div>\\n\\t\\t\\t\\t\\t<div>\\n\\t\\t\\t\\t\\t\\t<a href=\"http://www.groupc.com/downloads/EmailSpecs_GrpC.pdf\" target=\"_blank\">Email Specs</a>\\n\\t\\t\\t\\t\\t</div>\\t\\t\\t\\t\\t\\n\\t\\t\\t\\t</div>\\n\\t\\t\\t\\t<div class=\"footerColumn\">\\n\\t\\t\\t\\t\\t<div>\\n\\t\\t\\t\\t\\t\\t<strong>Tools</strong>\\n\\t\\t\\t\\t\\t</div>\\n\\t\\t\\t\\t\\t<div>\\n\\t\\t\\t\\t\\t\\t<a href=\"/forums/-/index.rss\" rel=\"alternate\" class=\"globalFeed\" target=\"_blank\" title=\"RSS feed for LawnSite\">RSS Feed</a>\\n\\t\\t\\t\\t\\t</div>\\n\\t\\t\\t\\t</div>\\n\\t\\t\\t</div>\\n\\n\\t\\t\\n\\t\\t\\t\\n\\t\\t\\t\\n\\t\\t\\t<!-- End Custom Footer-->\\n\\t\\t</div>\\n\\n\\t\\t\\n\\t\\t\\t<div class=\"p-footer-copyright\">\\n\\t\\t\\t\\n\\t\\t\\t\\t<a href=\"https://xenforo.com\" class=\"u-concealed\" dir=\"ltr\" target=\"_blank\">Forum software by XenForo<sup>&reg;</sup> <span class=\"copyright\">&copy; 2010-2020 XenForo Ltd.</span></a>\\n\\t\\t\\t\\t\\n\\t\\t\\t\\n\\t\\t\\t</div>\\n\\t\\t\\n\\n\\t\\t\\n\\t\\t\\t<div class=\"p-footer-debug\">\\n\\t\\t\\t\\n\\t\\t\\t\\t\\n\\t\\n\\t\\t<ul class=\"listInline listInline--bullet listInline--selfInline\">\\n\\t\\t\\t<li><dl class=\"pairs pairs--inline debugResolution\" title=\"Responsive width\">\\n\\t\\t\\t\\t<dt class=\"debugResolution-label\">Width</dt>\\n\\t\\t\\t\\t<dd class=\"debugResolution-output\"></dd>\\n\\t\\t\\t</dl></li>\\n\\t\\t\\t<li><dl class=\"pairs pairs--inline\">\\n\\t\\t\\t\\t<dt>Queries</dt>\\n\\t\\t\\t\\t<dd>7</dd>\\n\\t\\t\\t</dl></li>\\n\\t\\t\\t<li><dl class=\"pairs pairs--inline\">\\n\\t\\t\\t\\t\\n\\t\\t\\t\\t\\t<dt>Time</dt>\\n\\t\\t\\t\\t\\t<dd><a href=\"/threads/ztr-tire-recommendations-steep-slope.314574/?_debug=1\" rel=\"nofollow\">0.1451s</a></dd>\\n\\t\\t\\t\\t\\n\\t\\t\\t</dl></li>\\n\\t\\t\\t<li><dl class=\"pairs pairs--inline\">\\n\\t\\t\\t\\t<dt>Memory</dt>\\n\\t\\t\\t\\t<dd>3.82MB</dd>\\n\\t\\t\\t</dl></li>\\n\\t\\t\\t\\n\\t\\t\\t\\t<li class=\"cog-info\">\\n\\t\\t\\t\\t\\t\\n\\t<a data-xf-init=\"tooltip\" data-click-hide=\"false\"\\n\\t\\tdata-trigger=\"hover focus click\"\\n\\t\\ttitle=\"XF:Thread :: actionIndex &middot; thread_view\"\\n\\t\\trole=\"button\" tabindex=\"0\"><i class=\"fa--xf far fa-cog\" aria-hidden=\"true\"></i></a>\\n\\n\\t\\t\\t\\t</li>\\n\\t\\t\\t\\n\\t\\t</ul>\\n\\t\\n\\n\\t\\t\\t\\n\\t\\t\\t</div>\\n\\t\\t\\n\\t</div>\\n</footer>\\n\\n\\t<div id=\\'div-gpt-ad-Mobile-Footer-Adhesion\\'>\\n\\t\\t<script type=\\'text/javascript\\'>\\n\\t\\t\\tgoogletag.cmd.push(function () { googletag.display(\\'div-gpt-ad-Mobile-Footer-Adhesion\\'); });\\n\\t\\t</script>\\n\\t</div>\\t\\n\\t<div id=\\'div-gpt-ad-Interstitial\\'>\\n\\t\\t<script type=\\'text/javascript\\'>\\n\\t\\t\\tgoogletag.cmd.push(function() { googletag.display(\\'div-gpt-ad-Interstitial\\'); });\\n\\t\\t</script>\\n\\t</div>\\n\\t\\n</div> <!-- closing p-pageWrapper -->\\n\\n<div class=\"u-bottomFixer js-bottomFixTarget\">\\n\\t\\n\\t\\n</div>\\n\\n\\n\\t<div class=\"u-scrollButtons js-scrollButtons\" data-trigger-type=\"up\">\\n\\t\\t<a href=\"#top\" class=\"button--scroll button\" data-xf-click=\"scroll-to\"><span class=\"button-text\"><i class=\"fa--xf far fa-arrow-up\" aria-hidden=\"true\"></i><span class=\"u-srOnly\">Top</span></span></a>\\n\\t\\t\\n\\t</div>\\n\\n\\n\\n\\t<script src=\"/js/vendor/jquery/jquery-3.4.1.min.js?_v=eb9eb57b\"></script>\\n\\t<script src=\"/js/vendor/vendor-compiled.js?_v=eb9eb57b\"></script>\\n\\t<script src=\"/js/xf/core-compiled.js?_v=eb9eb57b\"></script>\\n\\t<script src=\"/js/xf/lightbox-compiled.js?_v=eb9eb57b\"></script>\\n<script src=\"/js/xf/notice.min.js?_v=eb9eb57b\"></script>\\n\\n\\t<script>\\n\\t\\tjQuery.extend(true, XF.config, {\\n\\t\\t\\t// \\n\\t\\t\\tuserId: 0,\\n\\t\\t\\tenablePush: false,\\n\\t\\t\\tpushAppServerKey: \\'\\',\\n\\t\\t\\turl: {\\n\\t\\t\\t\\tfullBase: \\'https://www.lawnsite.com/\\',\\n\\t\\t\\t\\tbasePath: \\'/\\',\\n\\t\\t\\t\\tcss: \\'/css.php?css=__SENTINEL__&s=2&l=1&d=1602852204\\',\\n\\t\\t\\t\\tkeepAlive: \\'/login/keep-alive\\'\\n\\t\\t\\t},\\n\\t\\t\\tcookie: {\\n\\t\\t\\t\\tpath: \\'/\\',\\n\\t\\t\\t\\tdomain: \\'\\',\\n\\t\\t\\t\\tprefix: \\'xf_\\',\\n\\t\\t\\t\\tsecure: true\\n\\t\\t\\t},\\n\\t\\t\\tcsrf: \\'1603363208,aad5f8d403ee08904f392ca63d367fd9\\',\\n\\t\\t\\tjs: {\"\\\\/js\\\\/xf\\\\/lightbox-compiled.js?_v=eb9eb57b\":true,\"\\\\/js\\\\/xf\\\\/notice.min.js?_v=eb9eb57b\":true},\\n\\t\\t\\tcss: {\"public:aloph_op_ribbon_style.less\":true,\"public:aloph_op_ribbon_text_public_controls.less\":true,\"public:bb_code.less\":true,\"public:lightbox.less\":true,\"public:message.less\":true,\"public:notices.less\":true,\"public:share_controls.less\":true,\"public:extra.less\":true},\\n\\t\\t\\ttime: {\\n\\t\\t\\t\\tnow: 1603363208,\\n\\t\\t\\t\\ttoday: 1603339200,\\n\\t\\t\\t\\ttodayDow: 4,\\n\\t\\t\\t\\ttomorrow: 1603425600,\\n\\t\\t\\t\\tyesterday: 1603252800,\\n\\t\\t\\t\\tweek: 1602820800\\n\\t\\t\\t},\\n\\t\\t\\tborderSizeFeature: \\'3px\\',\\n\\t\\t\\tfontAwesomeWeight: \\'r\\',\\n\\t\\t\\tenableRtnProtect: true,\\n\\t\\t\\tenableFormSubmitSticky: true,\\n\\t\\t\\tuploadMaxFilesize: 134217728,\\n\\t\\t\\tallowedVideoExtensions: [\"m4v\",\"mov\",\"mp4\",\"mp4v\",\"mpeg\",\"mpg\",\"ogv\",\"webm\"],\\n\\t\\t\\tshortcodeToEmoji: true,\\n\\t\\t\\tvisitorCounts: {\\n\\t\\t\\t\\tconversations_unread: \\'0\\',\\n\\t\\t\\t\\talerts_unread: \\'0\\',\\n\\t\\t\\t\\ttotal_unread: \\'0\\',\\n\\t\\t\\t\\ttitle_count: true,\\n\\t\\t\\t\\ticon_indicator: true\\n\\t\\t\\t},\\n\\t\\t\\tjsState: {},\\n\\t\\t\\tpublicMetadataLogoUrl: \\'/styles/default/lawnsiteLayout/og_logo_lawnsite.jpg?v=2\\',\\n\\t\\t\\tpublicPushBadgeUrl: \\'https://www.lawnsite.com/styles/default/xenforo/bell.png\\'\\n\\t\\t});\\n\\n\\t\\tjQuery.extend(XF.phrases, {\\n\\t\\t\\t// \\n\\t\\t\\tdate_x_at_time_y: \"{date} at {time}\",\\n\\t\\t\\tday_x_at_time_y:  \"{day} at {time}\",\\n\\t\\t\\tyesterday_at_x:   \"Yesterday at {time}\",\\n\\t\\t\\tx_minutes_ago:    \"{minutes} minutes ago\",\\n\\t\\t\\tone_minute_ago:   \"1 minute ago\",\\n\\t\\t\\ta_moment_ago:     \"A moment ago\",\\n\\t\\t\\ttoday_at_x:       \"Today at {time}\",\\n\\t\\t\\tin_a_moment:      \"In a moment\",\\n\\t\\t\\tin_a_minute:      \"In a minute\",\\n\\t\\t\\tin_x_minutes:     \"In {minutes} minutes\",\\n\\t\\t\\tlater_today_at_x: \"Later today at {time}\",\\n\\t\\t\\ttomorrow_at_x:    \"Tomorrow at {time}\",\\n\\n\\t\\t\\tday0: \"Sunday\",\\n\\t\\t\\tday1: \"Monday\",\\n\\t\\t\\tday2: \"Tuesday\",\\n\\t\\t\\tday3: \"Wednesday\",\\n\\t\\t\\tday4: \"Thursday\",\\n\\t\\t\\tday5: \"Friday\",\\n\\t\\t\\tday6: \"Saturday\",\\n\\n\\t\\t\\tdayShort0: \"Sun\",\\n\\t\\t\\tdayShort1: \"Mon\",\\n\\t\\t\\tdayShort2: \"Tue\",\\n\\t\\t\\tdayShort3: \"Wed\",\\n\\t\\t\\tdayShort4: \"Thu\",\\n\\t\\t\\tdayShort5: \"Fri\",\\n\\t\\t\\tdayShort6: \"Sat\",\\n\\n\\t\\t\\tmonth0: \"January\",\\n\\t\\t\\tmonth1: \"February\",\\n\\t\\t\\tmonth2: \"March\",\\n\\t\\t\\tmonth3: \"April\",\\n\\t\\t\\tmonth4: \"May\",\\n\\t\\t\\tmonth5: \"June\",\\n\\t\\t\\tmonth6: \"July\",\\n\\t\\t\\tmonth7: \"August\",\\n\\t\\t\\tmonth8: \"September\",\\n\\t\\t\\tmonth9: \"October\",\\n\\t\\t\\tmonth10: \"November\",\\n\\t\\t\\tmonth11: \"December\",\\n\\n\\t\\t\\tactive_user_changed_reload_page: \"The active user has changed. Reload the page for the latest version.\",\\n\\t\\t\\tserver_did_not_respond_in_time_try_again: \"The server did not respond in time. Please try again.\",\\n\\t\\t\\toops_we_ran_into_some_problems: \"Oops! We ran into some problems.\",\\n\\t\\t\\toops_we_ran_into_some_problems_more_details_console: \"Oops! We ran into some problems. Please try again later. More error details may be in the browser console.\",\\n\\t\\t\\tfile_too_large_to_upload: \"The file is too large to be uploaded.\",\\n\\t\\t\\tuploaded_file_is_too_large_for_server_to_process: \"The uploaded file is too large for the server to process.\",\\n\\t\\t\\tfiles_being_uploaded_are_you_sure: \"Files are still being uploaded. Are you sure you want to submit this form?\",\\n\\t\\t\\tattach: \"Attach files\",\\n\\t\\t\\trich_text_box: \"Rich text box\",\\n\\t\\t\\tclose: \"Close\",\\n\\t\\t\\tlink_copied_to_clipboard: \"Link copied to clipboard.\",\\n\\t\\t\\ttext_copied_to_clipboard: \"Text copied to clipboard.\",\\n\\t\\t\\tloading: \"Loading…\",\\n\\n\\t\\t\\tprocessing: \"Processing\",\\n\\t\\t\\t\\'processing...\\': \"Processing…\",\\n\\n\\t\\t\\tshowing_x_of_y_items: \"Showing {count} of {total} items\",\\n\\t\\t\\tshowing_all_items: \"Showing all items\",\\n\\t\\t\\tno_items_to_display: \"No items to display\",\\n\\n\\t\\t\\tpush_enable_notification_title: \"Push notifications enabled successfully at LawnSite\",\\n\\t\\t\\tpush_enable_notification_body: \"Thank you for enabling push notifications!\"\\n\\t\\t});\\n\\t</script>\\n\\n\\t<form style=\"display:none\" hidden=\"hidden\">\\n\\t\\t<input type=\"text\" name=\"_xfClientLoadTime\" value=\"\" id=\"_xfClientLoadTime\" title=\"_xfClientLoadTime\" tabindex=\"-1\" />\\n\\t</form>\\n\\n\\t\\n\\n\\n\\n\\t<script type=\"text/template\" id=\"xfReactTooltipTemplate\">\\n\\t\\t<div class=\"tooltip-content-inner\">\\n\\t\\t\\t<div class=\"reactTooltip\">\\n\\t\\t\\t\\t\\n\\t\\t\\t\\t\\t<a href=\"#\" class=\"reaction reaction--1\" data-reaction-id=\"1\"><i aria-hidden=\"true\"></i><img src=\"data:image/gif;base64,R0lGODlhAQABAIAAAAAAAP///yH5BAEAAAAALAAAAAABAAEAAAIBRAA7\" class=\"reaction-sprite js-reaction\" alt=\"Like\" title=\"Like\" data-xf-init=\"tooltip\" data-extra-class=\"tooltip--basic tooltip--noninteractive\" /></a>\\n\\t\\t\\t\\t\\n\\t\\t\\t\\t\\t<a href=\"#\" class=\"reaction reaction--2\" data-reaction-id=\"2\"><i aria-hidden=\"true\"></i><img src=\"data:image/gif;base64,R0lGODlhAQABAIAAAAAAAP///yH5BAEAAAAALAAAAAABAAEAAAIBRAA7\" class=\"reaction-sprite js-reaction\" alt=\"Love\" title=\"Love\" data-xf-init=\"tooltip\" data-extra-class=\"tooltip--basic tooltip--noninteractive\" /></a>\\n\\t\\t\\t\\t\\n\\t\\t\\t\\t\\t<a href=\"#\" class=\"reaction reaction--3\" data-reaction-id=\"3\"><i aria-hidden=\"true\"></i><img src=\"data:image/gif;base64,R0lGODlhAQABAIAAAAAAAP///yH5BAEAAAAALAAAAAABAAEAAAIBRAA7\" class=\"reaction-sprite js-reaction\" alt=\"Haha\" title=\"Haha\" data-xf-init=\"tooltip\" data-extra-class=\"tooltip--basic tooltip--noninteractive\" /></a>\\n\\t\\t\\t\\t\\n\\t\\t\\t\\t\\t<a href=\"#\" class=\"reaction reaction--4\" data-reaction-id=\"4\"><i aria-hidden=\"true\"></i><img src=\"data:image/gif;base64,R0lGODlhAQABAIAAAAAAAP///yH5BAEAAAAALAAAAAABAAEAAAIBRAA7\" class=\"reaction-sprite js-reaction\" alt=\"Wow\" title=\"Wow\" data-xf-init=\"tooltip\" data-extra-class=\"tooltip--basic tooltip--noninteractive\" /></a>\\n\\t\\t\\t\\t\\n\\t\\t\\t\\t\\t<a href=\"#\" class=\"reaction reaction--5\" data-reaction-id=\"5\"><i aria-hidden=\"true\"></i><img src=\"data:image/gif;base64,R0lGODlhAQABAIAAAAAAAP///yH5BAEAAAAALAAAAAABAAEAAAIBRAA7\" class=\"reaction-sprite js-reaction\" alt=\"Sad\" title=\"Sad\" data-xf-init=\"tooltip\" data-extra-class=\"tooltip--basic tooltip--noninteractive\" /></a>\\n\\t\\t\\t\\t\\n\\t\\t\\t\\t\\t<a href=\"#\" class=\"reaction reaction--6\" data-reaction-id=\"6\"><i aria-hidden=\"true\"></i><img src=\"data:image/gif;base64,R0lGODlhAQABAIAAAAAAAP///yH5BAEAAAAALAAAAAABAAEAAAIBRAA7\" class=\"reaction-sprite js-reaction\" alt=\"Angry\" title=\"Angry\" data-xf-init=\"tooltip\" data-extra-class=\"tooltip--basic tooltip--noninteractive\" /></a>\\n\\t\\t\\t\\t\\n\\t\\t\\t</div>\\n\\t\\t</div>\\n\\t</script>\\n\\n\\n\\n\\t\\n\\t\\t\\n\\t\\n\\t\\n\\t\\t<script type=\"application/ld+json\">\\n\\t\\t{\\n\\t\\t\\t\"@context\": \"https://schema.org\",\\n\\t\\t\\t\"@type\": \"DiscussionForumPosting\",\\n\\t\\t\\t\"@id\": \"https:\\\\/\\\\/www.lawnsite.com\\\\/threads\\\\/ztr-tire-recommendations-steep-slope.314574\\\\/\",\\n\\t\\t\\t\"headline\": \"ZTR tire recommendations steep slope\",\\n\\t\\t\\t\"articleBody\": \"I have an older (1994)  Bunton 60\\\\\" ZTR that I am using this year on my new property in VA.  I have some very steep grades, and my existing Carlisle turfmate tires don\\'t seem to get any traction to the point that I just start to slide down the hill.  I have a bad feeling about setting myself up for an accident, so thought I should look at replacing the tires with something with a more aggressive tread.\\\\r\\\\n\\\\r\\\\nI mow about 6 acres, and the grass is all on red VA clay.  Any suggestions for replacement tires?  I was looking at the Carlisle Multi-trac C\\\\/S or the Turf Trac RS but wasn\\'t sure what made sense.  I also thought about ATV tires but don\\'t know what would be best with the clay.  The Bunton has 23 x 10.5-12.   \\\\r\\\\n\\\\r\\\\nAny other suggestions for improving traction?   \\\\r\\\\n\\\\r\\\\nRobert\",\\n\\t\\t\\t\"articleSection\": \"Lawn Mowing\",\\n\\t\\t\\t\"author\": {\\n\\t\\t\\t\\t\"@type\": \"Person\",\\n\\t\\t\\t\\t\"name\": \"ribertgropius\"\\n\\t\\t\\t},\\n\\t\\t\\t\"datePublished\": \"2010-04-24\",\\n\\t\\t\\t\"dateModified\": \"2011-10-25\",\\n\\t\\t\\t\"image\": \"\\\\/styles\\\\/default\\\\/lawnsiteLayout\\\\/og_logo_lawnsite.jpg?v=2\",\\n\\t\\t\\t\"interactionStatistic\": {\\n\\t\\t\\t\\t\"@type\": \"InteractionCounter\",\\n\\t\\t\\t\\t\"interactionType\": \"https://schema.org/ReplyAction\",\\n\\t\\t\\t\\t\"userInteractionCount\": 11\\n\\t\\t\\t},\\n\\t\\t\\t\"publisher\": {\\n\\t\\t\\t\\t\"@type\": \"Organization\",\\n\\t\\t\\t\\t\"name\": \"LawnSite\",\\n\\t\\t\\t\\t\"logo\": {\\n\\t\\t\\t\\t\\t\"@type\": \"ImageObject\",\\n\\t\\t\\t\\t\\t\"url\": \"\\\\/styles\\\\/default\\\\/lawnsiteLayout\\\\/og_logo_lawnsite.jpg?v=2\"\\n\\t\\t\\t\\t}\\n\\t\\t\\t},\\n\\t\\t\\t\"mainEntityOfPage\": {\\n\\t\\t\\t\\t\"@type\": \"WebPage\",\\n\\t\\t\\t\\t\"@id\": \"https://www.lawnsite.com\"\\n\\t\\t\\t}\\n\\t\\t}\\n\\t\\t</script>\\n\\t\\n\\n\\n</body>\\n</html>\\n\\n\\n\\n\\n\\n\\n\\n\\n\\n'"
            ]
          },
          "metadata": {
            "tags": []
          },
          "execution_count": 4
        }
      ]
    },
    {
      "cell_type": "code",
      "metadata": {
        "id": "oMtOcdsxIBp2"
      },
      "source": [
        "#Parse through HTML doc with BS4\n",
        "soup=BeautifulSoup(html, 'html.parser')"
      ],
      "execution_count": 5,
      "outputs": []
    },
    {
      "cell_type": "markdown",
      "metadata": {
        "id": "A-GTfHju0RAj"
      },
      "source": [
        "CREATING IDENTIFYING FEATURES FOR CORPUS DOCUMENTS"
      ]
    },
    {
      "cell_type": "markdown",
      "metadata": {
        "id": "9UjZYdA_0rlD"
      },
      "source": [
        "Review Objects"
      ]
    },
    {
      "cell_type": "code",
      "metadata": {
        "id": "PU8CtzRVqiFz"
      },
      "source": [
        "#REVIEWS Isolating for Review objects\n",
        "soup_class=soup.find_all(class_=\"bbWrapper\")\n",
        "len(soup_class)\n",
        "#Explore contents\n",
        "text =soup_class[0]\n",
        "text.contents"
      ],
      "execution_count": null,
      "outputs": []
    },
    {
      "cell_type": "code",
      "metadata": {
        "id": "kja9WBnwHa3Y"
      },
      "source": [
        "# Function to convert   \n",
        "def listToString(s):  \n",
        "    # initialize an empty string \n",
        "    str1 = \" \" \n",
        "    # return string   \n",
        "    return (str1.join(s)) "
      ],
      "execution_count": 8,
      "outputs": []
    },
    {
      "cell_type": "code",
      "metadata": {
        "id": "gzduDj2OKhb_"
      },
      "source": [
        "#REVIEW Filtered for one review instance - strip strings \n",
        "def Review_Sub_1(list_list_reviews):\n",
        "  result=[]\n",
        "  for string in list_list_reviews.stripped_strings:\n",
        "        result.append(string)\n",
        "        return(result)"
      ],
      "execution_count": 9,
      "outputs": []
    },
    {
      "cell_type": "code",
      "metadata": {
        "id": "UvUJNYt_3ST6",
        "outputId": "6b96687f-35d1-4561-dcde-57fd2c50ed3e",
        "colab": {
          "base_uri": "https://localhost:8080/",
          "height": 54
        }
      },
      "source": [
        "Review_Sub_1(soup_class[0])"
      ],
      "execution_count": 10,
      "outputs": [
        {
          "output_type": "execute_result",
          "data": {
            "text/plain": [
              "['I have an older (1994)  Bunton 60\" ZTR that I am using this year on my new property in VA.  I have some very steep grades, and my existing Carlisle turfmate tires don\\'t seem to get any traction to the point that I just start to slide down the hill.  I have a bad feeling about setting myself up for an accident, so thought I should look at replacing the tires with something with a more aggressive tread.']"
            ]
          },
          "metadata": {
            "tags": []
          },
          "execution_count": 10
        }
      ]
    },
    {
      "cell_type": "code",
      "metadata": {
        "id": "nJQaVRWjsdNP"
      },
      "source": [
        "#REVIEW Function to capture all reviews on a page\n",
        "review_net=[]\n",
        "def Concat_Reviews(list_reviews):\n",
        "  for list_list_reviews in list_reviews:\n",
        "    wa = Review_Sub_1(list_list_reviews)\n",
        "    review_net.append(wa)\n",
        "  return(review_net)"
      ],
      "execution_count": 11,
      "outputs": []
    },
    {
      "cell_type": "code",
      "metadata": {
        "id": "-WSO_mQA3yV5",
        "outputId": "bc4c7433-0a39-42e4-eeda-2c51c6a934ef",
        "colab": {
          "base_uri": "https://localhost:8080/",
          "height": 214
        }
      },
      "source": [
        "All_Reviews_PG1 = Concat_Reviews(soup_class)\n",
        "All_Reviews_PG1"
      ],
      "execution_count": 12,
      "outputs": [
        {
          "output_type": "execute_result",
          "data": {
            "text/plain": [
              "[['I have an older (1994)  Bunton 60\" ZTR that I am using this year on my new property in VA.  I have some very steep grades, and my existing Carlisle turfmate tires don\\'t seem to get any traction to the point that I just start to slide down the hill.  I have a bad feeling about setting myself up for an accident, so thought I should look at replacing the tires with something with a more aggressive tread.'],\n",
              " ['get a walkbehind mower.'],\n",
              " ['\"sliding down the hill\" is probably a bit of an exaggeration.  I lose traction and the machine skids sideways, and it takes a fair amount of maneuvering to get it back on the swath I am cutting.  Your point is well taken, however, about the grade being steep for a ZTR.'],\n",
              " ['Bad Boy offers a \"Field Trax\" tire option I was thinking about these tires regardless what ZTR I end up buying. Might have to be a little more on the ball to not tear up turf in the turns but the added traction for wet Oregon ground in the spring and fall will be helpful to me.'],\n",
              " [\"Carlisle AT101 CHEVRON. We've had good results with our Kubota outfront. We foam filled these tires to prevent sidewall deflection and lower the centre of gravity. They seriously weigh 70 pounds each loaded-up. You may have to go to TRUE POWER to get the right size for you\"],\n",
              " [\"I too would be interested in some feedback.  I bought an Exmark XS zero turn.  Came from factory with Carlisle Multi-trac C/S.  When going horizontally along a 45 degree hill, the heavy mower will slip down the hill.  The ZTR's front caster will turn downhill.  I'll try to slow down or reverse the wheel on the high side.  This does nothing but spin the wheel and the whole machine continues to turn sharply down the hill until it's off the slope.\"],\n",
              " [\"The game with slope running is that you use the lower wheel steering almost exclusively. In your case don't reverse the upper wheel to prevent a dive, it doesn't have enough traction. You should power forward with the lower wheel, the opposite to what you\"],\n",
              " [\"Thank you Heather for the quick reply.  I have tried your suggestion of accelerating the wheel lower on the hill.  This just decreases the arc but ultimately the result is still off track at the bottom.  What's weird is this happens right to left (i.e. right wheel higher).  When going from left to right, it's fine and I can control just as you've described.  I suspect the left wheel may be in worse condition.\"],\n",
              " [\"I like the design of the AT101 and know they are out there on the Dixie Choppers.    Unfortunately, they don't come in my 23x10.50-12 size.  Carlisle Tru Power looks like they would rip the lawn pretty badly on turns with their flat face, even though they carry the size.\"],\n",
              " ['23 x 10.5 -12 Carlisle ALL TRAIL']]"
            ]
          },
          "metadata": {
            "tags": []
          },
          "execution_count": 12
        }
      ]
    },
    {
      "cell_type": "code",
      "metadata": {
        "id": "GQNbLNg_qCrd",
        "outputId": "d5cc54b1-aa31-4434-d2b9-66aaccb15d7c",
        "colab": {
          "base_uri": "https://localhost:8080/",
          "height": 34
        }
      },
      "source": [
        "len(All_Reviews_PG1)"
      ],
      "execution_count": 13,
      "outputs": [
        {
          "output_type": "execute_result",
          "data": {
            "text/plain": [
              "10"
            ]
          },
          "metadata": {
            "tags": []
          },
          "execution_count": 13
        }
      ]
    },
    {
      "cell_type": "markdown",
      "metadata": {
        "id": "U03OjJJ84Aae"
      },
      "source": [
        "User Name"
      ]
    },
    {
      "cell_type": "code",
      "metadata": {
        "id": "241d4mqIuxYG",
        "outputId": "ea05f9e0-583e-4b30-c644-446a3fec0efb",
        "colab": {
          "base_uri": "https://localhost:8080/",
          "height": 35
        }
      },
      "source": [
        "#USERNAME Isolating for Username objects\n",
        "name_class = soup.find_all(class_=\"message-name\")\n",
        "#Sample\n",
        "name_class[3].get_text()"
      ],
      "execution_count": 17,
      "outputs": [
        {
          "output_type": "execute_result",
          "data": {
            "application/vnd.google.colaboratory.intrinsic+json": {
              "type": "string"
            },
            "text/plain": [
              "'Jaybo700R'"
            ]
          },
          "metadata": {
            "tags": []
          },
          "execution_count": 17
        }
      ]
    },
    {
      "cell_type": "code",
      "metadata": {
        "id": "Mg-mb2yYVeq1",
        "outputId": "39adcd96-2fe8-47df-929f-db816d8a9332",
        "colab": {
          "base_uri": "https://localhost:8080/",
          "height": 34
        }
      },
      "source": [
        "for i in name_class[6].stripped_strings:\n",
        "  print(i)\n"
      ],
      "execution_count": 209,
      "outputs": [
        {
          "output_type": "stream",
          "text": [
            "heather lawn sp\n"
          ],
          "name": "stdout"
        }
      ]
    },
    {
      "cell_type": "code",
      "metadata": {
        "id": "WRr7VRvJnCxJ"
      },
      "source": [
        "#USERNAME Filtered for one username instance - strip strings \n",
        "def UN_Sub_1(list_list_un):\n",
        "  result_un=[]\n",
        "  for string in list_list_un.stripped_strings:\n",
        "        result_un.append(string)\n",
        "        return(result_un)"
      ],
      "execution_count": 14,
      "outputs": []
    },
    {
      "cell_type": "code",
      "metadata": {
        "id": "5uSXeOyToMvx"
      },
      "source": [
        "#USERNAME Function to capture all username on a page\n",
        "un_net=[]\n",
        "def Concat_User(list_un):\n",
        "  for list_list_un in list_un:\n",
        "    wa = UN_Sub_1(list_list_un)\n",
        "    un_net.append(wa)\n",
        "  return(un_net)"
      ],
      "execution_count": 15,
      "outputs": []
    },
    {
      "cell_type": "code",
      "metadata": {
        "id": "C8re3vuoWYkc"
      },
      "source": [
        "All_UN_PG1 = Concat_User(name_class)\n"
      ],
      "execution_count": 20,
      "outputs": []
    },
    {
      "cell_type": "code",
      "metadata": {
        "id": "yRCkV6UI8PdW"
      },
      "source": [
        "All_UN_PG1"
      ],
      "execution_count": null,
      "outputs": []
    },
    {
      "cell_type": "markdown",
      "metadata": {
        "id": "obn8AYPK_nzD"
      },
      "source": [
        "Building the Dataframes"
      ]
    },
    {
      "cell_type": "code",
      "metadata": {
        "id": "xR9VhMineg02"
      },
      "source": [
        "df_review = pd.DataFrame(All_Reviews_PG1, columns= [\"Review\"])\n",
        "df_username = pd.DataFrame(All_UN_PG1, columns=[\"Username\"])\n"
      ],
      "execution_count": 35,
      "outputs": []
    },
    {
      "cell_type": "code",
      "metadata": {
        "id": "-iRz8uKTA_eG",
        "outputId": "754807be-29d5-4780-8072-7428ec1068c2",
        "colab": {
          "base_uri": "https://localhost:8080/",
          "height": 347
        }
      },
      "source": [
        "#Concatenating two dataframes on axis 1\n",
        "df_all = pd.concat([df_username, df_review], axis=1, sort=False)\n",
        "df_all"
      ],
      "execution_count": 59,
      "outputs": [
        {
          "output_type": "execute_result",
          "data": {
            "text/html": [
              "<div>\n",
              "<style scoped>\n",
              "    .dataframe tbody tr th:only-of-type {\n",
              "        vertical-align: middle;\n",
              "    }\n",
              "\n",
              "    .dataframe tbody tr th {\n",
              "        vertical-align: top;\n",
              "    }\n",
              "\n",
              "    .dataframe thead th {\n",
              "        text-align: right;\n",
              "    }\n",
              "</style>\n",
              "<table border=\"1\" class=\"dataframe\">\n",
              "  <thead>\n",
              "    <tr style=\"text-align: right;\">\n",
              "      <th></th>\n",
              "      <th>Username</th>\n",
              "      <th>Review</th>\n",
              "    </tr>\n",
              "  </thead>\n",
              "  <tbody>\n",
              "    <tr>\n",
              "      <th>0</th>\n",
              "      <td>ribertgropius</td>\n",
              "      <td>I have an older (1994)  Bunton 60\" ZTR that I ...</td>\n",
              "    </tr>\n",
              "    <tr>\n",
              "      <th>1</th>\n",
              "      <td>bam</td>\n",
              "      <td>get a walkbehind mower.</td>\n",
              "    </tr>\n",
              "    <tr>\n",
              "      <th>2</th>\n",
              "      <td>ribertgropius</td>\n",
              "      <td>\"sliding down the hill\" is probably a bit of a...</td>\n",
              "    </tr>\n",
              "    <tr>\n",
              "      <th>3</th>\n",
              "      <td>Jaybo700R</td>\n",
              "      <td>Bad Boy offers a \"Field Trax\" tire option I wa...</td>\n",
              "    </tr>\n",
              "    <tr>\n",
              "      <th>4</th>\n",
              "      <td>heather lawn sp</td>\n",
              "      <td>Carlisle AT101 CHEVRON. We've had good results...</td>\n",
              "    </tr>\n",
              "    <tr>\n",
              "      <th>5</th>\n",
              "      <td>JENHEN</td>\n",
              "      <td>I too would be interested in some feedback.  I...</td>\n",
              "    </tr>\n",
              "    <tr>\n",
              "      <th>6</th>\n",
              "      <td>heather lawn sp</td>\n",
              "      <td>The game with slope running is that you use th...</td>\n",
              "    </tr>\n",
              "    <tr>\n",
              "      <th>7</th>\n",
              "      <td>JENHEN</td>\n",
              "      <td>Thank you Heather for the quick reply.  I have...</td>\n",
              "    </tr>\n",
              "    <tr>\n",
              "      <th>8</th>\n",
              "      <td>ribertgropius</td>\n",
              "      <td>I like the design of the AT101 and know they a...</td>\n",
              "    </tr>\n",
              "    <tr>\n",
              "      <th>9</th>\n",
              "      <td>heather lawn sp</td>\n",
              "      <td>23 x 10.5 -12 Carlisle ALL TRAIL</td>\n",
              "    </tr>\n",
              "  </tbody>\n",
              "</table>\n",
              "</div>"
            ],
            "text/plain": [
              "          Username                                             Review\n",
              "0    ribertgropius  I have an older (1994)  Bunton 60\" ZTR that I ...\n",
              "1              bam                            get a walkbehind mower.\n",
              "2    ribertgropius  \"sliding down the hill\" is probably a bit of a...\n",
              "3        Jaybo700R  Bad Boy offers a \"Field Trax\" tire option I wa...\n",
              "4  heather lawn sp  Carlisle AT101 CHEVRON. We've had good results...\n",
              "5           JENHEN  I too would be interested in some feedback.  I...\n",
              "6  heather lawn sp  The game with slope running is that you use th...\n",
              "7           JENHEN  Thank you Heather for the quick reply.  I have...\n",
              "8    ribertgropius  I like the design of the AT101 and know they a...\n",
              "9  heather lawn sp                   23 x 10.5 -12 Carlisle ALL TRAIL"
            ]
          },
          "metadata": {
            "tags": []
          },
          "execution_count": 59
        }
      ]
    },
    {
      "cell_type": "code",
      "metadata": {
        "id": "h8yHKeJM75ST",
        "outputId": "98951066-3eb6-4b7e-bf11-8d2929dca23d",
        "colab": {
          "base_uri": "https://localhost:8080/",
          "height": 347
        }
      },
      "source": [
        "#Dataframes adding columns from lists\n",
        "df = pd.DataFrame()\n",
        "df['Review']=All_Reviews_PG1\n",
        "df['Username']=All_UN_PG1\n",
        "df"
      ],
      "execution_count": 50,
      "outputs": [
        {
          "output_type": "execute_result",
          "data": {
            "text/html": [
              "<div>\n",
              "<style scoped>\n",
              "    .dataframe tbody tr th:only-of-type {\n",
              "        vertical-align: middle;\n",
              "    }\n",
              "\n",
              "    .dataframe tbody tr th {\n",
              "        vertical-align: top;\n",
              "    }\n",
              "\n",
              "    .dataframe thead th {\n",
              "        text-align: right;\n",
              "    }\n",
              "</style>\n",
              "<table border=\"1\" class=\"dataframe\">\n",
              "  <thead>\n",
              "    <tr style=\"text-align: right;\">\n",
              "      <th></th>\n",
              "      <th>Review</th>\n",
              "      <th>Username</th>\n",
              "    </tr>\n",
              "  </thead>\n",
              "  <tbody>\n",
              "    <tr>\n",
              "      <th>0</th>\n",
              "      <td>[I have an older (1994)  Bunton 60\" ZTR that I...</td>\n",
              "      <td>[ribertgropius]</td>\n",
              "    </tr>\n",
              "    <tr>\n",
              "      <th>1</th>\n",
              "      <td>[get a walkbehind mower.]</td>\n",
              "      <td>[bam]</td>\n",
              "    </tr>\n",
              "    <tr>\n",
              "      <th>2</th>\n",
              "      <td>[\"sliding down the hill\" is probably a bit of ...</td>\n",
              "      <td>[ribertgropius]</td>\n",
              "    </tr>\n",
              "    <tr>\n",
              "      <th>3</th>\n",
              "      <td>[Bad Boy offers a \"Field Trax\" tire option I w...</td>\n",
              "      <td>[Jaybo700R]</td>\n",
              "    </tr>\n",
              "    <tr>\n",
              "      <th>4</th>\n",
              "      <td>[Carlisle AT101 CHEVRON. We've had good result...</td>\n",
              "      <td>[heather lawn sp]</td>\n",
              "    </tr>\n",
              "    <tr>\n",
              "      <th>5</th>\n",
              "      <td>[I too would be interested in some feedback.  ...</td>\n",
              "      <td>[JENHEN]</td>\n",
              "    </tr>\n",
              "    <tr>\n",
              "      <th>6</th>\n",
              "      <td>[The game with slope running is that you use t...</td>\n",
              "      <td>[heather lawn sp]</td>\n",
              "    </tr>\n",
              "    <tr>\n",
              "      <th>7</th>\n",
              "      <td>[Thank you Heather for the quick reply.  I hav...</td>\n",
              "      <td>[JENHEN]</td>\n",
              "    </tr>\n",
              "    <tr>\n",
              "      <th>8</th>\n",
              "      <td>[I like the design of the AT101 and know they ...</td>\n",
              "      <td>[ribertgropius]</td>\n",
              "    </tr>\n",
              "    <tr>\n",
              "      <th>9</th>\n",
              "      <td>[23 x 10.5 -12 Carlisle ALL TRAIL]</td>\n",
              "      <td>[heather lawn sp]</td>\n",
              "    </tr>\n",
              "  </tbody>\n",
              "</table>\n",
              "</div>"
            ],
            "text/plain": [
              "                                              Review           Username\n",
              "0  [I have an older (1994)  Bunton 60\" ZTR that I...    [ribertgropius]\n",
              "1                          [get a walkbehind mower.]              [bam]\n",
              "2  [\"sliding down the hill\" is probably a bit of ...    [ribertgropius]\n",
              "3  [Bad Boy offers a \"Field Trax\" tire option I w...        [Jaybo700R]\n",
              "4  [Carlisle AT101 CHEVRON. We've had good result...  [heather lawn sp]\n",
              "5  [I too would be interested in some feedback.  ...           [JENHEN]\n",
              "6  [The game with slope running is that you use t...  [heather lawn sp]\n",
              "7  [Thank you Heather for the quick reply.  I hav...           [JENHEN]\n",
              "8  [I like the design of the AT101 and know they ...    [ribertgropius]\n",
              "9                 [23 x 10.5 -12 Carlisle ALL TRAIL]  [heather lawn sp]"
            ]
          },
          "metadata": {
            "tags": []
          },
          "execution_count": 50
        }
      ]
    },
    {
      "cell_type": "code",
      "metadata": {
        "id": "KFjAuay8s565",
        "outputId": "d21c9a00-083b-4a3e-b7b8-871059cdab72",
        "colab": {
          "base_uri": "https://localhost:8080/",
          "height": 347
        }
      },
      "source": [
        "#Dataframe from list to dictionary to df\n",
        "turtle = {'username': All_UN_PG1, 'review': All_Reviews_PG1}\n",
        "df_dict = pd.DataFrame(data =turtle)\n",
        "df_dict"
      ],
      "execution_count": 60,
      "outputs": [
        {
          "output_type": "execute_result",
          "data": {
            "text/html": [
              "<div>\n",
              "<style scoped>\n",
              "    .dataframe tbody tr th:only-of-type {\n",
              "        vertical-align: middle;\n",
              "    }\n",
              "\n",
              "    .dataframe tbody tr th {\n",
              "        vertical-align: top;\n",
              "    }\n",
              "\n",
              "    .dataframe thead th {\n",
              "        text-align: right;\n",
              "    }\n",
              "</style>\n",
              "<table border=\"1\" class=\"dataframe\">\n",
              "  <thead>\n",
              "    <tr style=\"text-align: right;\">\n",
              "      <th></th>\n",
              "      <th>username</th>\n",
              "      <th>review</th>\n",
              "    </tr>\n",
              "  </thead>\n",
              "  <tbody>\n",
              "    <tr>\n",
              "      <th>0</th>\n",
              "      <td>[ribertgropius]</td>\n",
              "      <td>[I have an older (1994)  Bunton 60\" ZTR that I...</td>\n",
              "    </tr>\n",
              "    <tr>\n",
              "      <th>1</th>\n",
              "      <td>[bam]</td>\n",
              "      <td>[get a walkbehind mower.]</td>\n",
              "    </tr>\n",
              "    <tr>\n",
              "      <th>2</th>\n",
              "      <td>[ribertgropius]</td>\n",
              "      <td>[\"sliding down the hill\" is probably a bit of ...</td>\n",
              "    </tr>\n",
              "    <tr>\n",
              "      <th>3</th>\n",
              "      <td>[Jaybo700R]</td>\n",
              "      <td>[Bad Boy offers a \"Field Trax\" tire option I w...</td>\n",
              "    </tr>\n",
              "    <tr>\n",
              "      <th>4</th>\n",
              "      <td>[heather lawn sp]</td>\n",
              "      <td>[Carlisle AT101 CHEVRON. We've had good result...</td>\n",
              "    </tr>\n",
              "    <tr>\n",
              "      <th>5</th>\n",
              "      <td>[JENHEN]</td>\n",
              "      <td>[I too would be interested in some feedback.  ...</td>\n",
              "    </tr>\n",
              "    <tr>\n",
              "      <th>6</th>\n",
              "      <td>[heather lawn sp]</td>\n",
              "      <td>[The game with slope running is that you use t...</td>\n",
              "    </tr>\n",
              "    <tr>\n",
              "      <th>7</th>\n",
              "      <td>[JENHEN]</td>\n",
              "      <td>[Thank you Heather for the quick reply.  I hav...</td>\n",
              "    </tr>\n",
              "    <tr>\n",
              "      <th>8</th>\n",
              "      <td>[ribertgropius]</td>\n",
              "      <td>[I like the design of the AT101 and know they ...</td>\n",
              "    </tr>\n",
              "    <tr>\n",
              "      <th>9</th>\n",
              "      <td>[heather lawn sp]</td>\n",
              "      <td>[23 x 10.5 -12 Carlisle ALL TRAIL]</td>\n",
              "    </tr>\n",
              "  </tbody>\n",
              "</table>\n",
              "</div>"
            ],
            "text/plain": [
              "            username                                             review\n",
              "0    [ribertgropius]  [I have an older (1994)  Bunton 60\" ZTR that I...\n",
              "1              [bam]                          [get a walkbehind mower.]\n",
              "2    [ribertgropius]  [\"sliding down the hill\" is probably a bit of ...\n",
              "3        [Jaybo700R]  [Bad Boy offers a \"Field Trax\" tire option I w...\n",
              "4  [heather lawn sp]  [Carlisle AT101 CHEVRON. We've had good result...\n",
              "5           [JENHEN]  [I too would be interested in some feedback.  ...\n",
              "6  [heather lawn sp]  [The game with slope running is that you use t...\n",
              "7           [JENHEN]  [Thank you Heather for the quick reply.  I hav...\n",
              "8    [ribertgropius]  [I like the design of the AT101 and know they ...\n",
              "9  [heather lawn sp]                 [23 x 10.5 -12 Carlisle ALL TRAIL]"
            ]
          },
          "metadata": {
            "tags": []
          },
          "execution_count": 60
        }
      ]
    },
    {
      "cell_type": "markdown",
      "metadata": {
        "id": "NgToGLqZ5nNc"
      },
      "source": [
        "Workbook"
      ]
    },
    {
      "cell_type": "code",
      "metadata": {
        "id": "uXUZdoLqjFhi",
        "outputId": "1a9343ba-a581-41b4-bbb7-82bac56156c5",
        "colab": {
          "base_uri": "https://localhost:8080/",
          "height": 34
        }
      },
      "source": [
        "#string array example\n",
        "import numpy as np\n",
        "z=np.array(['Foo', 'Bar', 'Baz', 'Woo'])\n",
        "print(z)\n"
      ],
      "execution_count": 72,
      "outputs": [
        {
          "output_type": "stream",
          "text": [
            "['Foo' 'Bar' 'Baz' 'Woo']\n"
          ],
          "name": "stdout"
        }
      ]
    },
    {
      "cell_type": "code",
      "metadata": {
        "id": "X-BOilEHpYF8",
        "outputId": "bef094b2-6677-4466-f98d-253f2848af04",
        "colab": {
          "base_uri": "https://localhost:8080/",
          "height": 34
        }
      },
      "source": [
        "catch=[]\n",
        "for i in str_list:\n",
        "  b = \"hmmm\"\n",
        "  x = i+b\n",
        "  catch.append(x)\n",
        "print(catch)"
      ],
      "execution_count": 102,
      "outputs": [
        {
          "output_type": "stream",
          "text": [
            "['foohmmm', 'barhmmm', 'mehhmmm', 'plinkhmmm']\n"
          ],
          "name": "stdout"
        }
      ]
    }
  ]
}